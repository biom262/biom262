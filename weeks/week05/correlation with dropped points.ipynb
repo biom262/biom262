{
 "cells": [
  {
   "cell_type": "markdown",
   "metadata": {},
   "source": [
    "# Install the cogent maths package for python\n",
    "\n",
    "* Download the requirements file\n",
    "* Install cogent-1.5.3 (Knight lab)"
   ]
  },
  {
   "cell_type": "code",
   "execution_count": null,
   "metadata": {
    "collapsed": false
   },
   "outputs": [],
   "source": [
    "%%bash\n",
    "wget \"http://pycogent.org/_downloads/cogent-requirements.txt\"\n",
    "sudo pip install -r ./cogent-requirements.txt"
   ]
  },
  {
   "cell_type": "markdown",
   "metadata": {
    "collapsed": true
   },
   "source": [
    "* * *\n",
    "\n",
    "# Run correlations:"
   ]
  },
  {
   "cell_type": "code",
   "execution_count": null,
   "metadata": {
    "collapsed": false
   },
   "outputs": [],
   "source": [
    "from numpy import argsort, abs, take"
   ]
  },
  {
   "cell_type": "code",
   "execution_count": null,
   "metadata": {
    "collapsed": false
   },
   "outputs": [],
   "source": [
    "from numpy.random import normal, permutation"
   ]
  },
  {
   "cell_type": "code",
   "execution_count": null,
   "metadata": {
    "collapsed": false
   },
   "outputs": [],
   "source": [
    "from cogent.maths.stats.test import regress, correlation"
   ]
  },
  {
   "cell_type": "code",
   "execution_count": null,
   "metadata": {
    "collapsed": false
   },
   "outputs": [],
   "source": [
    "import matplotlib.pyplot as plt"
   ]
  },
  {
   "cell_type": "code",
   "execution_count": null,
   "metadata": {
    "collapsed": false
   },
   "outputs": [],
   "source": [
    "def correlations(num_points, num_dropped, num_iters):\n",
    "    #make up completely random x and y and calculate the correlation\n",
    "    x = normal(0,1,num_points)\n",
    "    y = normal(0,1,num_points)\n",
    "    corr = correlation(x,y)\n",
    "    print 'Original correlation:', corr\n",
    "    \n",
    "    #randomly choose some points to drop, and see if the correlation\n",
    "    #is better. stop after num_iters trials.\n",
    "    best_r2 = corr[0]**2\n",
    "    best_corr = corr\n",
    "    best_x = x\n",
    "    best_y = y\n",
    "    for i in range(num_iters):\n",
    "        p = permutation(num_points)\n",
    "        new_x = x[p[:-num_dropped]]\n",
    "        new_y = y[p[:-num_dropped]]\n",
    "        new_corr = correlation(new_x, new_y)\n",
    "        new_r2 = new_corr[0]**2\n",
    "        if new_r2 > best_r2:\n",
    "            best_r2 = new_r2\n",
    "            best_corr = new_corr\n",
    "            best_x = new_x\n",
    "            best_y = new_y\n",
    "\n",
    "    #figure out the slopes and intercepts with and without the dropped\n",
    "    #points, and plot both the points and the regression lines.\n",
    "    print 'New correlation:', best_corr\n",
    "\n",
    "    slope, intercept = regress(x,y)\n",
    "    pred_y = (x*slope)+intercept\n",
    "    plt.plot(x,pred_y, c='r')\n",
    "\n",
    "    best_slope, best_intercept = regress(best_x,best_y)\n",
    "    pred_best_y = (best_x*best_slope)+best_intercept\n",
    "    plt.plot(best_x,pred_best_y, c='b')\n",
    "\n",
    "    plt.scatter(x,y, c='r')\n",
    "    plt.scatter(best_x, best_y, c='b')\n",
    "    plt.show()"
   ]
  },
  {
   "cell_type": "code",
   "execution_count": null,
   "metadata": {
    "collapsed": false
   },
   "outputs": [],
   "source": [
    "correlations(10, 2, 1000)"
   ]
  },
  {
   "cell_type": "markdown",
   "metadata": {
    "collapsed": false
   },
   "source": [
    "**If the code above runs successfully, you should see a pop-up window with a 2-d plot.**\n",
    "\n",
    "_NOTE: The pop-up will only appear once per-execution.  Do not run the code block multiple times or you will see many new pop-ups when you close the first!_"
   ]
  }
 ],
 "metadata": {
  "kernelspec": {
   "display_name": "Python 3",
   "language": "python",
   "name": "python3"
  },
  "language_info": {
   "codemirror_mode": {
    "name": "ipython",
    "version": 3
   },
   "file_extension": ".py",
   "mimetype": "text/x-python",
   "name": "python",
   "nbconvert_exporter": "python",
   "pygments_lexer": "ipython3",
   "version": "3.5.1"
  }
 },
 "nbformat": 4,
 "nbformat_minor": 0
}
