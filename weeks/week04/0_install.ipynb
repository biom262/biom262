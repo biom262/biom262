{
 "cells": [
  {
   "cell_type": "markdown",
   "metadata": {},
   "source": [
    "# Gene expression\n",
    "\n",
    "\n",
    "## 1. Log on to TSCC\n",
    "\n",
    "## 2. Install the programs we'll need\n",
    "\n",
    "Some very nice people have made [bioconda](https://bioconda.github.io/), so you can install bioinformatics programs using the Anaconda installer we already installed! The programs are:\n",
    "\n",
    "- `star` - Aligning\n",
    "- `samtools` - we'll need to use this to sort, binarize, and index the alignment file after aligning\n",
    "- `subread` - contains `featureCounts` which we'll use to quanitfy gene expression after sorting and binarizing\n",
    "- `kallisto` - alternative method to both map and quanitfy gene expression at once\n",
    "\n",
    "This won't take long. The `--yes` is so `conda` won't bother you by asking \"are you SURE you want to install this?\"\n",
    "\n",
    "```\n",
    "$ conda install --yes --channel bioconda star samtools subread kallisto \n",
    "```\n",
    "    \n",
    "## 3. Link to your scratch directory if you haven't already\n",
    "\n",
    "The \"scratch\" directory can be thought of [\"scratch paper\"](http://www.nytimes.com/2010/12/05/magazine/05FOB-onlanguage-t.html?_r=0) for data you want to store \"just for now.\" These folders have VERY fast read/write (10-100x faster) than the `/home` directory but things that are 60+ days old get purged every so often.\n",
    "\n",
    "Your scratch directory is located in `/oasis/tscc/scratch/$USER/` but that's annoying to type out and inconvenient to remember. So, let's make a soft link from `$HOME/scratch` to this directory. Since we're using the dollar-sign variable notation, you can directly copy the command below.\n",
    "\n",
    "```\n",
    "ln -s /oasis/tscc/scratch/$USER $HOME/scratch\n",
    "```\n",
    "\n",
    "Now you should see something like this in your home directory:\n",
    "\n",
    "```\n",
    "[ucsd-train01@tscc-login2 ~]$ ls -lh\n",
    "total 271M\n",
    "drwxr-xr-x 16 ucsd-train01 biom262-group   17 Jan 24 21:17 anaconda3\n",
    "-rw-r--r--  1 ucsd-train01 biom262-group 271M Dec  8 11:24 Anaconda3-2.4.1-Linux-x86_64.sh\n",
    "-rw-r--r--  1 ucsd-train01 biom262-group   49 Jan 20 20:35 asdf\n",
    "drwxr-xr-x  2 ucsd-train01 biom262-group    3 Jan 10 22:14 bin\n",
    "drwxr-xr-x  3 ucsd-train01 biom262-group    3 Jan  7 07:39 code\n",
    "-rw-r--r--  1 ucsd-train01 biom262-group  155 Jan 20 20:28 ls1.txt\n",
    "-rw-r--r--  1 ucsd-train01 biom262-group   64 Jan 20 20:31 ls_nonexistent_folder.txt\n",
    "-rw-r--r--  1 ucsd-train01 biom262-group  121 Jan 20 20:12 ls.txt\n",
    "drwxr-xr-x  2 ucsd-train01 biom262-group    2 Jan  7 06:05 notebooks\n",
    "lrwxrwxrwx  1 ucsd-train01 biom262-group   32 Jan 24 23:09 scratch -> /oasis/tscc/scratch/ucsd-train01\n",
    "-rw-------  1 ucsd-train01 biom262-group   48 Jan 22 08:15 stderrtest.e4194600\n",
    "-rw-------  1 ucsd-train01 biom262-group   70 Jan 22 08:15 stderrtest.o4194600\n",
    "-rw-r--r--  1 ucsd-train01 biom262-group  112 Jan 20 22:07 stderrtest.sh\n",
    "-rw-r--r--  1 ucsd-train01 biom262-group   25 Jan  7 19:32 test_script.sh\n",
    "-rw-------  1 ucsd-train01 biom262-group    0 Jan  7 19:32 test_script.sh.e3962194\n",
    "-rw-------  1 ucsd-train01 biom262-group   42 Jan  7 19:32 test_script.sh.o3962194\n",
    "```\n",
    "\n",
    "## 4. Start an interactive compute job\n",
    "\n",
    "We've worked with submitting jobs to TSCC"
   ]
  }
 ],
 "metadata": {
  "kernelspec": {
   "display_name": "Python 3",
   "language": "python",
   "name": "python3"
  },
  "language_info": {
   "codemirror_mode": {
    "name": "ipython",
    "version": 3
   },
   "file_extension": ".py",
   "mimetype": "text/x-python",
   "name": "python",
   "nbconvert_exporter": "python",
   "pygments_lexer": "ipython3",
   "version": "3.5.1"
  }
 },
 "nbformat": 4,
 "nbformat_minor": 0
}
