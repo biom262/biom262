{
 "cells": [
  {
   "cell_type": "markdown",
   "metadata": {
    "deletable": false,
    "nbgrader": {
     "checksum": "6e55efa018f50c660ca6e71069a9cf8f",
     "grade": false,
     "grade_id": "intro",
     "locked": true,
     "solution": false
    }
   },
   "source": [
    "# Comparing gene expression quantification strategies\n",
    "\n",
    "## Introduction\n",
    "\n",
    "You've run STAR to align and create a Sequence Alignment Map (SAM) file, `samtools` to sort and index the SAM file and turn it into a binary SAM file (BAM), `featureCounts` to count the number of reads of features, and `kallisto` to perform all of the above using quasi-alignment and quantification.\n",
    "\n",
    "The purpose of this homework is to compare the gene expression quantification strategies (we'll call them *\"Align-Count\"* and *\"Quasialign-Count\"*)\n",
    "\n",
    "## Reading list\n",
    "\n",
    "- [What the FPKM](https://haroldpimentel.wordpress.com/2014/05/08/what-the-fpkm-a-review-rna-seq-expression-units/) - Explain difference between TPM/FPKM/FPKM units\n",
    "- [Pearson correlation](https://en.wikipedia.org/wiki/Pearson_product-moment_correlation_coefficient) - linear correlation unit\n",
    "- [Spearman correlation](https://en.wikipedia.org/wiki/Spearman%27s_rank_correlation_coefficient) - rank-based non-linear correlation unit\n",
    "\n",
    "\n",
    "### Description of libraries in Python\n",
    "\n",
    "We'll be using five additional libraries in Python:\n",
    "\n",
    "1. [`numpy`](http://www.numpy.org/) - (pronounced \"num-pie\") which is basis for most scientific packages. It's basically a nice-looking Python interface to C code. It's very fast.\n",
    "2. [`pandas`](http://pandas.pydata.org) - This is the \"DataFrames in Python.\" (like R's nice dataframes) They're a super convenient form that's based on `numpy` so they're fast. And you can do convenient things like calculate mea n and variance very easily.\n",
    "3. [`matplotlib`](http://matplotlib.org/) - This is the base plotting library in Python.\n",
    "4. [`scipy`](http://www.scipy.org/) - (pronounced \"sigh-pie\") Contains \n",
    "5. [`seaborn`](http://web.stanford.edu/~mwaskom/software/seaborn/index.html) - Statistical plotting library. To be completely honest, R's plotting and graphics capabilities are much better than Python's. However, Python is a really nice langauge to learn and use, it's very memory efficient, can be parallized well, and has a very robust machine learning library, `scikit-learn`, which has a very nice and consistent interface. So this is Python's answer to `ggplot2` (very popular R library for plotting) to try and make plotting in Python nicer looking and to make statistical plots easier to do."
   ]
  },
  {
   "cell_type": "code",
   "execution_count": 1,
   "metadata": {
    "collapsed": false,
    "deletable": false,
    "nbgrader": {
     "checksum": "252efae14572343e7dc3a72abb9ed5ae",
     "grade": false,
     "grade_id": "imports",
     "locked": true,
     "solution": false
    }
   },
   "outputs": [],
   "source": [
    "# We're doing \"import superlongname as abbrev\" for our laziness - this way we don't have to type out the whole thing each time.\n",
    "\n",
    "# Numerical python library (pronounced \"num-pie\")\n",
    "import numpy as np\n",
    "\n",
    "# Dataframes in Python\n",
    "import pandas as pd\n",
    "\n",
    "# Python plotting library\n",
    "import matplotlib.pyplot as plt\n",
    "\n",
    "# Statistical plotting library we'll use\n",
    "import seaborn as snsy\n",
    "snsy.set(style='ticks', context='notebook')\n",
    "\n",
    "# This is necessary to show the plotted figures inside the notebook -- \"inline\" with the notebook cells\n",
    "%matplotlib inline"
   ]
  },
  {
   "cell_type": "markdown",
   "metadata": {
    "deletable": false,
    "nbgrader": {
     "checksum": "3f376d263d2e510c18c8807a558ac3cd",
     "grade": false,
     "grade_id": "chdir_explain",
     "locked": true,
     "solution": false
    }
   },
   "source": [
    "Change directories to where we have our processed data"
   ]
  },
  {
   "cell_type": "code",
   "execution_count": 2,
   "metadata": {
    "collapsed": false,
    "deletable": false,
    "nbgrader": {
     "checksum": "9425e5bb51fc398050624abf1e7cf7da",
     "grade": false,
     "grade_id": "chdir",
     "locked": true,
     "solution": false
    }
   },
   "outputs": [
    {
     "name": "stdout",
     "output_type": "stream",
     "text": [
      "/oasis/tscc/scratch/e1luo/shalek2013/processed_data\n"
     ]
    }
   ],
   "source": [
    "cd ~/projects/shalek2013/processed_data"
   ]
  },
  {
   "cell_type": "markdown",
   "metadata": {
    "deletable": false,
    "nbgrader": {
     "checksum": "5e8f5cf0d53392e037a468cd99c62176",
     "grade": false,
     "grade_id": "explain_read_kallisto",
     "locked": true,
     "solution": false
    }
   },
   "source": [
    "Read the S10 sample kallisto file. The `index_col=\"target_id\"` tells us that column named \"target_id\" should be used as the \"index\" aka the row names. The `head()` command helps us look at the top of the dataframe and shows the first 5 rows by default."
   ]
  },
  {
   "cell_type": "code",
   "execution_count": 3,
   "metadata": {
    "collapsed": false,
    "deletable": false,
    "nbgrader": {
     "checksum": "d13e2e48ffb3bd9f89fbf26ca4e9dff4",
     "grade": false,
     "grade_id": "read_kallisto",
     "locked": true,
     "solution": false
    }
   },
   "outputs": [
    {
     "data": {
      "text/html": [
       "<div>\n",
       "<table border=\"1\" class=\"dataframe\">\n",
       "  <thead>\n",
       "    <tr style=\"text-align: right;\">\n",
       "      <th></th>\n",
       "      <th>length</th>\n",
       "      <th>eff_length</th>\n",
       "      <th>est_counts</th>\n",
       "      <th>tpm</th>\n",
       "    </tr>\n",
       "    <tr>\n",
       "      <th>target_id</th>\n",
       "      <th></th>\n",
       "      <th></th>\n",
       "      <th></th>\n",
       "      <th></th>\n",
       "    </tr>\n",
       "  </thead>\n",
       "  <tbody>\n",
       "    <tr>\n",
       "      <th>ENSMUST00000070533.4|ENSMUSG00000051951.5|OTTMUSG00000026353.2|OTTMUST00000065166.1|Xkr4-001|Xkr4|3634|UTR5:1-150|CDS:151-2094|UTR3:2095-3634|</th>\n",
       "      <td>3634</td>\n",
       "      <td>3389.58</td>\n",
       "      <td>0</td>\n",
       "      <td>0</td>\n",
       "    </tr>\n",
       "    <tr>\n",
       "      <th>ENSMUST00000194992.5|ENSMUSG00000025900.10|OTTMUSG00000049985.2|OTTMUST00000127194.1|Rp1-002|Rp1|3047|UTR5:1-54|CDS:55-912|UTR3:913-3047|</th>\n",
       "      <td>3047</td>\n",
       "      <td>2802.58</td>\n",
       "      <td>0</td>\n",
       "      <td>0</td>\n",
       "    </tr>\n",
       "    <tr>\n",
       "      <th>ENSMUST00000027032.5|ENSMUSG00000025900.10|OTTMUSG00000049985.2|OTTMUST00000127195.2|Rp1-001|Rp1|6869|UTR5:1-127|CDS:128-6415|UTR3:6416-6869|</th>\n",
       "      <td>6869</td>\n",
       "      <td>6624.58</td>\n",
       "      <td>0</td>\n",
       "      <td>0</td>\n",
       "    </tr>\n",
       "    <tr>\n",
       "      <th>ENSMUST00000027035.9|ENSMUSG00000025902.13|OTTMUSG00000050014.7|OTTMUST00000127245.2|Sox17-001|Sox17|3127|UTR5:1-1082|CDS:1083-2342|UTR3:2343-3127|</th>\n",
       "      <td>3127</td>\n",
       "      <td>2882.58</td>\n",
       "      <td>0</td>\n",
       "      <td>0</td>\n",
       "    </tr>\n",
       "    <tr>\n",
       "      <th>ENSMUST00000195555.1|ENSMUSG00000025902.13|OTTMUSG00000050014.7|OTTMUST00000127249.1|Sox17-005|Sox17|1977|UTR5:1-635|CDS:636-1511|UTR3:1512-1977|</th>\n",
       "      <td>1977</td>\n",
       "      <td>1732.58</td>\n",
       "      <td>0</td>\n",
       "      <td>0</td>\n",
       "    </tr>\n",
       "  </tbody>\n",
       "</table>\n",
       "</div>"
      ],
      "text/plain": [
       "                                                    length  eff_length  \\\n",
       "target_id                                                                \n",
       "ENSMUST00000070533.4|ENSMUSG00000051951.5|OTTMU...    3634     3389.58   \n",
       "ENSMUST00000194992.5|ENSMUSG00000025900.10|OTTM...    3047     2802.58   \n",
       "ENSMUST00000027032.5|ENSMUSG00000025900.10|OTTM...    6869     6624.58   \n",
       "ENSMUST00000027035.9|ENSMUSG00000025902.13|OTTM...    3127     2882.58   \n",
       "ENSMUST00000195555.1|ENSMUSG00000025902.13|OTTM...    1977     1732.58   \n",
       "\n",
       "                                                    est_counts  tpm  \n",
       "target_id                                                            \n",
       "ENSMUST00000070533.4|ENSMUSG00000051951.5|OTTMU...           0    0  \n",
       "ENSMUST00000194992.5|ENSMUSG00000025900.10|OTTM...           0    0  \n",
       "ENSMUST00000027032.5|ENSMUSG00000025900.10|OTTM...           0    0  \n",
       "ENSMUST00000027035.9|ENSMUSG00000025902.13|OTTM...           0    0  \n",
       "ENSMUST00000195555.1|ENSMUSG00000025902.13|OTTM...           0    0  "
      ]
     },
     "execution_count": 3,
     "metadata": {},
     "output_type": "execute_result"
    }
   ],
   "source": [
    "s10_kallisto = pd.read_table('S10_kallisto/abundance.tsv', index_col='target_id')\n",
    "s10_kallisto.head()"
   ]
  },
  {
   "cell_type": "markdown",
   "metadata": {
    "deletable": false,
    "nbgrader": {
     "checksum": "8189f6a545a6c7db99a84f28153fcf8f",
     "grade": false,
     "grade_id": "explain_tail",
     "locked": true,
     "solution": false
    }
   },
   "source": [
    "You can also use \"`tail`\" to show the last few rows: (also 5 by default)"
   ]
  },
  {
   "cell_type": "code",
   "execution_count": 4,
   "metadata": {
    "collapsed": false,
    "deletable": false,
    "nbgrader": {
     "checksum": "3b7b83660af1934ba8171b893bc78b03",
     "grade": false,
     "grade_id": "show_tail",
     "locked": true,
     "solution": false
    }
   },
   "outputs": [
    {
     "data": {
      "text/html": [
       "<div>\n",
       "<table border=\"1\" class=\"dataframe\">\n",
       "  <thead>\n",
       "    <tr style=\"text-align: right;\">\n",
       "      <th></th>\n",
       "      <th>length</th>\n",
       "      <th>eff_length</th>\n",
       "      <th>est_counts</th>\n",
       "      <th>tpm</th>\n",
       "    </tr>\n",
       "    <tr>\n",
       "      <th>target_id</th>\n",
       "      <th></th>\n",
       "      <th></th>\n",
       "      <th></th>\n",
       "      <th></th>\n",
       "    </tr>\n",
       "  </thead>\n",
       "  <tbody>\n",
       "    <tr>\n",
       "      <th>ENSMUST00000084013.1|ENSMUSG00000065947.3|-|-|mt-Nd4l-201|mt-Nd4l|297|CDS:1-297|</th>\n",
       "      <td>297</td>\n",
       "      <td>70.8467</td>\n",
       "      <td>2438</td>\n",
       "      <td>1204.930</td>\n",
       "    </tr>\n",
       "    <tr>\n",
       "      <th>ENSMUST00000082414.1|ENSMUSG00000064363.1|-|-|mt-Nd4-201|mt-Nd4|1378|CDS:1-1378|</th>\n",
       "      <td>1378</td>\n",
       "      <td>1133.5800</td>\n",
       "      <td>43114</td>\n",
       "      <td>1331.720</td>\n",
       "    </tr>\n",
       "    <tr>\n",
       "      <th>ENSMUST00000082418.1|ENSMUSG00000064367.1|-|-|mt-Nd5-201|mt-Nd5|1824|CDS:1-1824|</th>\n",
       "      <td>1824</td>\n",
       "      <td>1579.5800</td>\n",
       "      <td>44220</td>\n",
       "      <td>980.222</td>\n",
       "    </tr>\n",
       "    <tr>\n",
       "      <th>ENSMUST00000082419.1|ENSMUSG00000064368.1|-|-|mt-Nd6-201|mt-Nd6|519|CDS:1-519|</th>\n",
       "      <td>519</td>\n",
       "      <td>274.6980</td>\n",
       "      <td>4520</td>\n",
       "      <td>576.142</td>\n",
       "    </tr>\n",
       "    <tr>\n",
       "      <th>ENSMUST00000082421.1|ENSMUSG00000064370.1|-|-|mt-Cytb-201|mt-Cytb|1144|CDS:1-1144|</th>\n",
       "      <td>1144</td>\n",
       "      <td>899.5790</td>\n",
       "      <td>120234</td>\n",
       "      <td>4679.880</td>\n",
       "    </tr>\n",
       "  </tbody>\n",
       "</table>\n",
       "</div>"
      ],
      "text/plain": [
       "                                                    length  eff_length  \\\n",
       "target_id                                                                \n",
       "ENSMUST00000084013.1|ENSMUSG00000065947.3|-|-|m...     297     70.8467   \n",
       "ENSMUST00000082414.1|ENSMUSG00000064363.1|-|-|m...    1378   1133.5800   \n",
       "ENSMUST00000082418.1|ENSMUSG00000064367.1|-|-|m...    1824   1579.5800   \n",
       "ENSMUST00000082419.1|ENSMUSG00000064368.1|-|-|m...     519    274.6980   \n",
       "ENSMUST00000082421.1|ENSMUSG00000064370.1|-|-|m...    1144    899.5790   \n",
       "\n",
       "                                                    est_counts       tpm  \n",
       "target_id                                                                 \n",
       "ENSMUST00000084013.1|ENSMUSG00000065947.3|-|-|m...        2438  1204.930  \n",
       "ENSMUST00000082414.1|ENSMUSG00000064363.1|-|-|m...       43114  1331.720  \n",
       "ENSMUST00000082418.1|ENSMUSG00000064367.1|-|-|m...       44220   980.222  \n",
       "ENSMUST00000082419.1|ENSMUSG00000064368.1|-|-|m...        4520   576.142  \n",
       "ENSMUST00000082421.1|ENSMUSG00000064370.1|-|-|m...      120234  4679.880  "
      ]
     },
     "execution_count": 4,
     "metadata": {},
     "output_type": "execute_result"
    }
   ],
   "source": [
    "s10_kallisto.tail()"
   ]
  },
  {
   "cell_type": "markdown",
   "metadata": {
    "deletable": false,
    "nbgrader": {
     "checksum": "a41bf1d89eca1d568cb2dba8856761c9",
     "grade": false,
     "grade_id": "ex1_question",
     "locked": true,
     "solution": false
    }
   },
   "source": [
    "### Exercise 1: using `.head()`\n",
    "\n",
    "Show the first 17 rows of `s10_kallisto`."
   ]
  },
  {
   "cell_type": "code",
   "execution_count": 5,
   "metadata": {
    "collapsed": false,
    "deletable": false,
    "nbgrader": {
     "checksum": "3179664bec5d488ad1ff367f73c8abe7",
     "grade": false,
     "grade_id": "ex1_answer",
     "locked": false,
     "solution": true
    }
   },
   "outputs": [
    {
     "data": {
      "text/html": [
       "<div>\n",
       "<table border=\"1\" class=\"dataframe\">\n",
       "  <thead>\n",
       "    <tr style=\"text-align: right;\">\n",
       "      <th></th>\n",
       "      <th>length</th>\n",
       "      <th>eff_length</th>\n",
       "      <th>est_counts</th>\n",
       "      <th>tpm</th>\n",
       "    </tr>\n",
       "    <tr>\n",
       "      <th>target_id</th>\n",
       "      <th></th>\n",
       "      <th></th>\n",
       "      <th></th>\n",
       "      <th></th>\n",
       "    </tr>\n",
       "  </thead>\n",
       "  <tbody>\n",
       "    <tr>\n",
       "      <th>ENSMUST00000070533.4|ENSMUSG00000051951.5|OTTMUSG00000026353.2|OTTMUST00000065166.1|Xkr4-001|Xkr4|3634|UTR5:1-150|CDS:151-2094|UTR3:2095-3634|</th>\n",
       "      <td>3634</td>\n",
       "      <td>3389.580</td>\n",
       "      <td>0.00000</td>\n",
       "      <td>0.000000</td>\n",
       "    </tr>\n",
       "    <tr>\n",
       "      <th>ENSMUST00000194992.5|ENSMUSG00000025900.10|OTTMUSG00000049985.2|OTTMUST00000127194.1|Rp1-002|Rp1|3047|UTR5:1-54|CDS:55-912|UTR3:913-3047|</th>\n",
       "      <td>3047</td>\n",
       "      <td>2802.580</td>\n",
       "      <td>0.00000</td>\n",
       "      <td>0.000000</td>\n",
       "    </tr>\n",
       "    <tr>\n",
       "      <th>ENSMUST00000027032.5|ENSMUSG00000025900.10|OTTMUSG00000049985.2|OTTMUST00000127195.2|Rp1-001|Rp1|6869|UTR5:1-127|CDS:128-6415|UTR3:6416-6869|</th>\n",
       "      <td>6869</td>\n",
       "      <td>6624.580</td>\n",
       "      <td>0.00000</td>\n",
       "      <td>0.000000</td>\n",
       "    </tr>\n",
       "    <tr>\n",
       "      <th>ENSMUST00000027035.9|ENSMUSG00000025902.13|OTTMUSG00000050014.7|OTTMUST00000127245.2|Sox17-001|Sox17|3127|UTR5:1-1082|CDS:1083-2342|UTR3:2343-3127|</th>\n",
       "      <td>3127</td>\n",
       "      <td>2882.580</td>\n",
       "      <td>0.00000</td>\n",
       "      <td>0.000000</td>\n",
       "    </tr>\n",
       "    <tr>\n",
       "      <th>ENSMUST00000195555.1|ENSMUSG00000025902.13|OTTMUSG00000050014.7|OTTMUST00000127249.1|Sox17-005|Sox17|1977|UTR5:1-635|CDS:636-1511|UTR3:1512-1977|</th>\n",
       "      <td>1977</td>\n",
       "      <td>1732.580</td>\n",
       "      <td>0.00000</td>\n",
       "      <td>0.000000</td>\n",
       "    </tr>\n",
       "    <tr>\n",
       "      <th>ENSMUST00000192650.5|ENSMUSG00000025902.13|OTTMUSG00000050014.7|OTTMUST00000127247.2|Sox17-004|Sox17|3242|UTR5:1-1851|CDS:1852-2916|UTR3:2917-3242|</th>\n",
       "      <td>3242</td>\n",
       "      <td>2997.580</td>\n",
       "      <td>0.00000</td>\n",
       "      <td>0.000000</td>\n",
       "    </tr>\n",
       "    <tr>\n",
       "      <th>ENSMUST00000116652.7|ENSMUSG00000025902.13|OTTMUSG00000050014.7|OTTMUST00000127246.1|Sox17-002|Sox17|1512|UTR5:1-249|CDS:250-1509|UTR3:1510-1512|</th>\n",
       "      <td>1512</td>\n",
       "      <td>1267.580</td>\n",
       "      <td>0.00000</td>\n",
       "      <td>0.000000</td>\n",
       "    </tr>\n",
       "    <tr>\n",
       "      <th>ENSMUST00000191647.1|ENSMUSG00000025902.13|OTTMUSG00000050014.7|OTTMUST00000127267.2|Sox17-007|Sox17|406|UTR5:1-83|CDS:84-406|</th>\n",
       "      <td>406</td>\n",
       "      <td>163.270</td>\n",
       "      <td>0.00000</td>\n",
       "      <td>0.000000</td>\n",
       "    </tr>\n",
       "    <tr>\n",
       "      <th>ENSMUST00000191939.1|ENSMUSG00000025902.13|OTTMUSG00000050014.7|OTTMUST00000127266.2|Sox17-006|Sox17|840|UTR5:1-329|CDS:330-840|</th>\n",
       "      <td>840</td>\n",
       "      <td>595.579</td>\n",
       "      <td>0.00000</td>\n",
       "      <td>0.000000</td>\n",
       "    </tr>\n",
       "    <tr>\n",
       "      <th>ENSMUST00000192913.1|ENSMUSG00000025902.13|OTTMUSG00000050014.7|OTTMUST00000127248.2|Sox17-003|Sox17|1506|UTR5:1-997|CDS:998-1506|</th>\n",
       "      <td>1506</td>\n",
       "      <td>1261.580</td>\n",
       "      <td>0.00000</td>\n",
       "      <td>0.000000</td>\n",
       "    </tr>\n",
       "    <tr>\n",
       "      <th>ENSMUST00000130201.7|ENSMUSG00000033845.13|OTTMUSG00000029329.3|OTTMUST00000072660.1|Mrpl15-002|Mrpl15|1894|UTR5:1-33|CDS:34-648|UTR3:649-1894|</th>\n",
       "      <td>1894</td>\n",
       "      <td>1649.580</td>\n",
       "      <td>10.00000</td>\n",
       "      <td>0.212263</td>\n",
       "    </tr>\n",
       "    <tr>\n",
       "      <th>ENSMUST00000156816.6|ENSMUSG00000033845.13|OTTMUSG00000029329.3|OTTMUST00000072659.1|Mrpl15-001|Mrpl15|4203|UTR5:1-62|CDS:63-950|UTR3:951-4203|</th>\n",
       "      <td>4203</td>\n",
       "      <td>3958.580</td>\n",
       "      <td>0.00000</td>\n",
       "      <td>0.000000</td>\n",
       "    </tr>\n",
       "    <tr>\n",
       "      <th>ENSMUST00000045689.13|ENSMUSG00000033845.13|OTTMUSG00000029329.3|OTTMUST00000072661.1|Mrpl15-003|Mrpl15|497|UTR5:1-21|CDS:22-180|UTR3:181-497|</th>\n",
       "      <td>497</td>\n",
       "      <td>252.804</td>\n",
       "      <td>0.00000</td>\n",
       "      <td>0.000000</td>\n",
       "    </tr>\n",
       "    <tr>\n",
       "      <th>ENSMUST00000146665.2|ENSMUSG00000033845.13|OTTMUSG00000029329.3|OTTMUST00000072662.2|Mrpl15-004|Mrpl15|1569|UTR5:1-62|CDS:63-569|UTR3:570-1569|</th>\n",
       "      <td>1569</td>\n",
       "      <td>1324.580</td>\n",
       "      <td>0.00000</td>\n",
       "      <td>0.000000</td>\n",
       "    </tr>\n",
       "    <tr>\n",
       "      <th>ENSMUST00000134384.7|ENSMUSG00000025903.14|OTTMUSG00000021562.4|OTTMUST00000051163.2|Lypla1-002|Lypla1|1136|UTR5:1-126|CDS:127-801|UTR3:802-1136|</th>\n",
       "      <td>1136</td>\n",
       "      <td>891.579</td>\n",
       "      <td>5.42556</td>\n",
       "      <td>0.213075</td>\n",
       "    </tr>\n",
       "    <tr>\n",
       "      <th>ENSMUST00000027036.10|ENSMUSG00000025903.14|OTTMUSG00000021562.4|OTTMUST00000051162.1|Lypla1-001|Lypla1|2507|UTR5:1-91|CDS:92-784|UTR3:785-2507|</th>\n",
       "      <td>2507</td>\n",
       "      <td>2262.580</td>\n",
       "      <td>518.90900</td>\n",
       "      <td>8.030360</td>\n",
       "    </tr>\n",
       "    <tr>\n",
       "      <th>ENSMUST00000150971.7|ENSMUSG00000025903.14|OTTMUSG00000021562.4|OTTMUST00000051164.3|Lypla1-003|Lypla1|877|UTR5:1-84|CDS:85-750|UTR3:751-877|</th>\n",
       "      <td>877</td>\n",
       "      <td>632.579</td>\n",
       "      <td>0.00000</td>\n",
       "      <td>0.000000</td>\n",
       "    </tr>\n",
       "  </tbody>\n",
       "</table>\n",
       "</div>"
      ],
      "text/plain": [
       "                                                    length  eff_length  \\\n",
       "target_id                                                                \n",
       "ENSMUST00000070533.4|ENSMUSG00000051951.5|OTTMU...    3634    3389.580   \n",
       "ENSMUST00000194992.5|ENSMUSG00000025900.10|OTTM...    3047    2802.580   \n",
       "ENSMUST00000027032.5|ENSMUSG00000025900.10|OTTM...    6869    6624.580   \n",
       "ENSMUST00000027035.9|ENSMUSG00000025902.13|OTTM...    3127    2882.580   \n",
       "ENSMUST00000195555.1|ENSMUSG00000025902.13|OTTM...    1977    1732.580   \n",
       "ENSMUST00000192650.5|ENSMUSG00000025902.13|OTTM...    3242    2997.580   \n",
       "ENSMUST00000116652.7|ENSMUSG00000025902.13|OTTM...    1512    1267.580   \n",
       "ENSMUST00000191647.1|ENSMUSG00000025902.13|OTTM...     406     163.270   \n",
       "ENSMUST00000191939.1|ENSMUSG00000025902.13|OTTM...     840     595.579   \n",
       "ENSMUST00000192913.1|ENSMUSG00000025902.13|OTTM...    1506    1261.580   \n",
       "ENSMUST00000130201.7|ENSMUSG00000033845.13|OTTM...    1894    1649.580   \n",
       "ENSMUST00000156816.6|ENSMUSG00000033845.13|OTTM...    4203    3958.580   \n",
       "ENSMUST00000045689.13|ENSMUSG00000033845.13|OTT...     497     252.804   \n",
       "ENSMUST00000146665.2|ENSMUSG00000033845.13|OTTM...    1569    1324.580   \n",
       "ENSMUST00000134384.7|ENSMUSG00000025903.14|OTTM...    1136     891.579   \n",
       "ENSMUST00000027036.10|ENSMUSG00000025903.14|OTT...    2507    2262.580   \n",
       "ENSMUST00000150971.7|ENSMUSG00000025903.14|OTTM...     877     632.579   \n",
       "\n",
       "                                                    est_counts       tpm  \n",
       "target_id                                                                 \n",
       "ENSMUST00000070533.4|ENSMUSG00000051951.5|OTTMU...     0.00000  0.000000  \n",
       "ENSMUST00000194992.5|ENSMUSG00000025900.10|OTTM...     0.00000  0.000000  \n",
       "ENSMUST00000027032.5|ENSMUSG00000025900.10|OTTM...     0.00000  0.000000  \n",
       "ENSMUST00000027035.9|ENSMUSG00000025902.13|OTTM...     0.00000  0.000000  \n",
       "ENSMUST00000195555.1|ENSMUSG00000025902.13|OTTM...     0.00000  0.000000  \n",
       "ENSMUST00000192650.5|ENSMUSG00000025902.13|OTTM...     0.00000  0.000000  \n",
       "ENSMUST00000116652.7|ENSMUSG00000025902.13|OTTM...     0.00000  0.000000  \n",
       "ENSMUST00000191647.1|ENSMUSG00000025902.13|OTTM...     0.00000  0.000000  \n",
       "ENSMUST00000191939.1|ENSMUSG00000025902.13|OTTM...     0.00000  0.000000  \n",
       "ENSMUST00000192913.1|ENSMUSG00000025902.13|OTTM...     0.00000  0.000000  \n",
       "ENSMUST00000130201.7|ENSMUSG00000033845.13|OTTM...    10.00000  0.212263  \n",
       "ENSMUST00000156816.6|ENSMUSG00000033845.13|OTTM...     0.00000  0.000000  \n",
       "ENSMUST00000045689.13|ENSMUSG00000033845.13|OTT...     0.00000  0.000000  \n",
       "ENSMUST00000146665.2|ENSMUSG00000033845.13|OTTM...     0.00000  0.000000  \n",
       "ENSMUST00000134384.7|ENSMUSG00000025903.14|OTTM...     5.42556  0.213075  \n",
       "ENSMUST00000027036.10|ENSMUSG00000025903.14|OTT...   518.90900  8.030360  \n",
       "ENSMUST00000150971.7|ENSMUSG00000025903.14|OTTM...     0.00000  0.000000  "
      ]
     },
     "execution_count": 5,
     "metadata": {},
     "output_type": "execute_result"
    }
   ],
   "source": [
    "s10_kallisto.head(17)"
   ]
  },
  {
   "cell_type": "code",
   "execution_count": 6,
   "metadata": {
    "collapsed": false,
    "deletable": false,
    "nbgrader": {
     "checksum": "f70985f8faba7e9ad75806db37552983",
     "grade": true,
     "grade_id": "ex1_test",
     "locked": true,
     "points": 2,
     "solution": false
    }
   },
   "outputs": [],
   "source": [
    "# \"_\" is the previous output\n",
    "\n",
    "assert _.index.shape == (17,)"
   ]
  },
  {
   "cell_type": "markdown",
   "metadata": {
    "deletable": false,
    "nbgrader": {
     "checksum": "3317fe8293c6a4d89b7f875621fc66a2",
     "grade": false,
     "grade_id": "explain_shape",
     "locked": true,
     "solution": false
    }
   },
   "source": [
    "We can see the number of rows and columns using `.shape`, which shows (nrows, ncols):"
   ]
  },
  {
   "cell_type": "code",
   "execution_count": 7,
   "metadata": {
    "collapsed": false,
    "deletable": false,
    "nbgrader": {
     "checksum": "cab80f1fdbfb8698cd4cbb983c0c969f",
     "grade": false,
     "grade_id": "show_shape",
     "locked": true,
     "solution": false
    }
   },
   "outputs": [
    {
     "data": {
      "text/plain": [
       "(56504, 4)"
      ]
     },
     "execution_count": 7,
     "metadata": {},
     "output_type": "execute_result"
    }
   ],
   "source": [
    "s10_kallisto.shape"
   ]
  },
  {
   "cell_type": "markdown",
   "metadata": {
    "deletable": false,
    "nbgrader": {
     "checksum": "a7b4e78a60c4da08b752fe374dc3afb0",
     "grade": false,
     "grade_id": "read_s13_explain",
     "locked": true,
     "solution": false
    }
   },
   "source": [
    "This seems like a ton of genes, but don't worry, we'll filter on this.\n",
    "\n",
    "Read the S13 sample kallisto file."
   ]
  },
  {
   "cell_type": "code",
   "execution_count": 8,
   "metadata": {
    "collapsed": false,
    "deletable": false,
    "nbgrader": {
     "checksum": "1ef78b0e5646381607ef04b8821369eb",
     "grade": false,
     "grade_id": "read_s13",
     "locked": true,
     "solution": false
    }
   },
   "outputs": [
    {
     "data": {
      "text/html": [
       "<div>\n",
       "<table border=\"1\" class=\"dataframe\">\n",
       "  <thead>\n",
       "    <tr style=\"text-align: right;\">\n",
       "      <th></th>\n",
       "      <th>length</th>\n",
       "      <th>eff_length</th>\n",
       "      <th>est_counts</th>\n",
       "      <th>tpm</th>\n",
       "    </tr>\n",
       "    <tr>\n",
       "      <th>target_id</th>\n",
       "      <th></th>\n",
       "      <th></th>\n",
       "      <th></th>\n",
       "      <th></th>\n",
       "    </tr>\n",
       "  </thead>\n",
       "  <tbody>\n",
       "    <tr>\n",
       "      <th>ENSMUST00000070533.4|ENSMUSG00000051951.5|OTTMUSG00000026353.2|OTTMUST00000065166.1|Xkr4-001|Xkr4|3634|UTR5:1-150|CDS:151-2094|UTR3:2095-3634|</th>\n",
       "      <td>3634</td>\n",
       "      <td>3395.24</td>\n",
       "      <td>2</td>\n",
       "      <td>0.03967</td>\n",
       "    </tr>\n",
       "    <tr>\n",
       "      <th>ENSMUST00000194992.5|ENSMUSG00000025900.10|OTTMUSG00000049985.2|OTTMUST00000127194.1|Rp1-002|Rp1|3047|UTR5:1-54|CDS:55-912|UTR3:913-3047|</th>\n",
       "      <td>3047</td>\n",
       "      <td>2808.24</td>\n",
       "      <td>0</td>\n",
       "      <td>0.00000</td>\n",
       "    </tr>\n",
       "    <tr>\n",
       "      <th>ENSMUST00000027032.5|ENSMUSG00000025900.10|OTTMUSG00000049985.2|OTTMUST00000127195.2|Rp1-001|Rp1|6869|UTR5:1-127|CDS:128-6415|UTR3:6416-6869|</th>\n",
       "      <td>6869</td>\n",
       "      <td>6630.24</td>\n",
       "      <td>0</td>\n",
       "      <td>0.00000</td>\n",
       "    </tr>\n",
       "    <tr>\n",
       "      <th>ENSMUST00000027035.9|ENSMUSG00000025902.13|OTTMUSG00000050014.7|OTTMUST00000127245.2|Sox17-001|Sox17|3127|UTR5:1-1082|CDS:1083-2342|UTR3:2343-3127|</th>\n",
       "      <td>3127</td>\n",
       "      <td>2888.24</td>\n",
       "      <td>0</td>\n",
       "      <td>0.00000</td>\n",
       "    </tr>\n",
       "    <tr>\n",
       "      <th>ENSMUST00000195555.1|ENSMUSG00000025902.13|OTTMUSG00000050014.7|OTTMUST00000127249.1|Sox17-005|Sox17|1977|UTR5:1-635|CDS:636-1511|UTR3:1512-1977|</th>\n",
       "      <td>1977</td>\n",
       "      <td>1738.24</td>\n",
       "      <td>0</td>\n",
       "      <td>0.00000</td>\n",
       "    </tr>\n",
       "  </tbody>\n",
       "</table>\n",
       "</div>"
      ],
      "text/plain": [
       "                                                    length  eff_length  \\\n",
       "target_id                                                                \n",
       "ENSMUST00000070533.4|ENSMUSG00000051951.5|OTTMU...    3634     3395.24   \n",
       "ENSMUST00000194992.5|ENSMUSG00000025900.10|OTTM...    3047     2808.24   \n",
       "ENSMUST00000027032.5|ENSMUSG00000025900.10|OTTM...    6869     6630.24   \n",
       "ENSMUST00000027035.9|ENSMUSG00000025902.13|OTTM...    3127     2888.24   \n",
       "ENSMUST00000195555.1|ENSMUSG00000025902.13|OTTM...    1977     1738.24   \n",
       "\n",
       "                                                    est_counts      tpm  \n",
       "target_id                                                                \n",
       "ENSMUST00000070533.4|ENSMUSG00000051951.5|OTTMU...           2  0.03967  \n",
       "ENSMUST00000194992.5|ENSMUSG00000025900.10|OTTM...           0  0.00000  \n",
       "ENSMUST00000027032.5|ENSMUSG00000025900.10|OTTM...           0  0.00000  \n",
       "ENSMUST00000027035.9|ENSMUSG00000025902.13|OTTM...           0  0.00000  \n",
       "ENSMUST00000195555.1|ENSMUSG00000025902.13|OTTM...           0  0.00000  "
      ]
     },
     "execution_count": 8,
     "metadata": {},
     "output_type": "execute_result"
    }
   ],
   "source": [
    "s13_kallisto = pd.read_table('S13_kallisto/abundance.tsv', index_col='target_id')\n",
    "s13_kallisto.head()"
   ]
  },
  {
   "cell_type": "markdown",
   "metadata": {
    "deletable": false,
    "nbgrader": {
     "checksum": "7f1907eda8f51b4324d283c3c424729c",
     "grade": false,
     "grade_id": "ex2_question",
     "locked": true,
     "solution": false
    }
   },
   "source": [
    "### Exercise 2: How many rows and columns are in s13_kallisto?\n",
    "\n",
    "Use `shape` to show how many rows and columns are in `s13_kallisto`"
   ]
  },
  {
   "cell_type": "code",
   "execution_count": 9,
   "metadata": {
    "collapsed": false,
    "deletable": false,
    "nbgrader": {
     "checksum": "fb84f1b6a670dd3fac5438d804f299b1",
     "grade": false,
     "grade_id": "ex2_answer",
     "locked": false,
     "solution": true
    }
   },
   "outputs": [
    {
     "data": {
      "text/plain": [
       "(56504, 4)"
      ]
     },
     "execution_count": 9,
     "metadata": {},
     "output_type": "execute_result"
    }
   ],
   "source": [
    "s13_kallisto.shape"
   ]
  },
  {
   "cell_type": "code",
   "execution_count": 10,
   "metadata": {
    "collapsed": false,
    "deletable": false,
    "nbgrader": {
     "checksum": "4aeca8165db8658cc43b4065551c5df4",
     "grade": true,
     "grade_id": "ex2_tests",
     "locked": true,
     "points": 2,
     "solution": false
    }
   },
   "outputs": [],
   "source": [
    "# \"_\" is the previous output\n",
    "\n",
    "assert _ == (56504, 4)"
   ]
  },
  {
   "cell_type": "markdown",
   "metadata": {
    "deletable": false,
    "nbgrader": {
     "checksum": "febfb77df3964ec00db1aa7c7a451b27",
     "grade": false,
     "grade_id": "explain_jointplot",
     "locked": true,
     "solution": false
    }
   },
   "source": [
    "Let's plot their correlation to each other using `jointplot` in seaborn:"
   ]
  },
  {
   "cell_type": "code",
   "execution_count": 11,
   "metadata": {
    "collapsed": false,
    "deletable": false,
    "nbgrader": {
     "checksum": "56b7228dd541a72bdcfb87df2f65aa8f",
     "grade": false,
     "grade_id": "show_jointplot_s10_s13_kallisto",
     "locked": true,
     "solution": false
    },
    "scrolled": false
   },
   "outputs": [
    {
     "data": {
      "text/plain": [
       "<seaborn.axisgrid.JointGrid at 0x2b0724f979e8>"
      ]
     },
     "execution_count": 11,
     "metadata": {},
     "output_type": "execute_result"
    },
    {
     "data": {
      "image/png": "[encoded data removed]",
      "text/plain": [
       "<matplotlib.figure.Figure at 0x2b0724f97668>"
      ]
     },
     "metadata": {},
     "output_type": "display_data"
    }
   ],
   "source": [
    "snsy.jointplot(s10_kallisto['tpm'], s13_kallisto['tpm'])"
   ]
  },
  {
   "cell_type": "markdown",
   "metadata": {
    "deletable": false,
    "nbgrader": {
     "checksum": "168f9cdd3fbf039073ff4a1126047b04",
     "grade": false,
     "grade_id": "whoa_huge_scale",
     "locked": true,
     "solution": false
    }
   },
   "source": [
    "Oh right -- we have expression data and the scales are enormous... Notice the 200,000 maximum on the y-scale.  \n",
    "  \n",
    "Let's add 1 to all values and take the log2 of the data. We add one because log(0) is undefined and then all our logged values start from zero too. This  \n",
    "\"$\\log_2(TPM + 1)$\"  \n",
    "is a very common transformation of expression data so it's easier to analyze.  \n",
    "  \n",
    "To do that, we'll create a new column in each of the `s10_kallisto` and `s13_kallisto` dataframes using the existing data. Here's an example of doing something similar but adding 1000."
   ]
  },
  {
   "cell_type": "code",
   "execution_count": 12,
   "metadata": {
    "collapsed": false,
    "deletable": false,
    "nbgrader": {
     "checksum": "a4d27bb674ec2702f71b6e661d6d0faa",
     "grade": false,
     "grade_id": "show_make_log2tpm",
     "locked": true,
     "solution": false
    }
   },
   "outputs": [
    {
     "data": {
      "text/html": [
       "<div>\n",
       "<table border=\"1\" class=\"dataframe\">\n",
       "  <thead>\n",
       "    <tr style=\"text-align: right;\">\n",
       "      <th></th>\n",
       "      <th>length</th>\n",
       "      <th>eff_length</th>\n",
       "      <th>est_counts</th>\n",
       "      <th>tpm</th>\n",
       "      <th>log2_tpm1</th>\n",
       "    </tr>\n",
       "    <tr>\n",
       "      <th>target_id</th>\n",
       "      <th></th>\n",
       "      <th></th>\n",
       "      <th></th>\n",
       "      <th></th>\n",
       "      <th></th>\n",
       "    </tr>\n",
       "  </thead>\n",
       "  <tbody>\n",
       "    <tr>\n",
       "      <th>ENSMUST00000070533.4|ENSMUSG00000051951.5|OTTMUSG00000026353.2|OTTMUST00000065166.1|Xkr4-001|Xkr4|3634|UTR5:1-150|CDS:151-2094|UTR3:2095-3634|</th>\n",
       "      <td>3634</td>\n",
       "      <td>3389.58</td>\n",
       "      <td>0</td>\n",
       "      <td>0</td>\n",
       "      <td>0</td>\n",
       "    </tr>\n",
       "    <tr>\n",
       "      <th>ENSMUST00000194992.5|ENSMUSG00000025900.10|OTTMUSG00000049985.2|OTTMUST00000127194.1|Rp1-002|Rp1|3047|UTR5:1-54|CDS:55-912|UTR3:913-3047|</th>\n",
       "      <td>3047</td>\n",
       "      <td>2802.58</td>\n",
       "      <td>0</td>\n",
       "      <td>0</td>\n",
       "      <td>0</td>\n",
       "    </tr>\n",
       "    <tr>\n",
       "      <th>ENSMUST00000027032.5|ENSMUSG00000025900.10|OTTMUSG00000049985.2|OTTMUST00000127195.2|Rp1-001|Rp1|6869|UTR5:1-127|CDS:128-6415|UTR3:6416-6869|</th>\n",
       "      <td>6869</td>\n",
       "      <td>6624.58</td>\n",
       "      <td>0</td>\n",
       "      <td>0</td>\n",
       "      <td>0</td>\n",
       "    </tr>\n",
       "    <tr>\n",
       "      <th>ENSMUST00000027035.9|ENSMUSG00000025902.13|OTTMUSG00000050014.7|OTTMUST00000127245.2|Sox17-001|Sox17|3127|UTR5:1-1082|CDS:1083-2342|UTR3:2343-3127|</th>\n",
       "      <td>3127</td>\n",
       "      <td>2882.58</td>\n",
       "      <td>0</td>\n",
       "      <td>0</td>\n",
       "      <td>0</td>\n",
       "    </tr>\n",
       "    <tr>\n",
       "      <th>ENSMUST00000195555.1|ENSMUSG00000025902.13|OTTMUSG00000050014.7|OTTMUST00000127249.1|Sox17-005|Sox17|1977|UTR5:1-635|CDS:636-1511|UTR3:1512-1977|</th>\n",
       "      <td>1977</td>\n",
       "      <td>1732.58</td>\n",
       "      <td>0</td>\n",
       "      <td>0</td>\n",
       "      <td>0</td>\n",
       "    </tr>\n",
       "  </tbody>\n",
       "</table>\n",
       "</div>"
      ],
      "text/plain": [
       "                                                    length  eff_length  \\\n",
       "target_id                                                                \n",
       "ENSMUST00000070533.4|ENSMUSG00000051951.5|OTTMU...    3634     3389.58   \n",
       "ENSMUST00000194992.5|ENSMUSG00000025900.10|OTTM...    3047     2802.58   \n",
       "ENSMUST00000027032.5|ENSMUSG00000025900.10|OTTM...    6869     6624.58   \n",
       "ENSMUST00000027035.9|ENSMUSG00000025902.13|OTTM...    3127     2882.58   \n",
       "ENSMUST00000195555.1|ENSMUSG00000025902.13|OTTM...    1977     1732.58   \n",
       "\n",
       "                                                    est_counts  tpm  log2_tpm1  \n",
       "target_id                                                                       \n",
       "ENSMUST00000070533.4|ENSMUSG00000051951.5|OTTMU...           0    0          0  \n",
       "ENSMUST00000194992.5|ENSMUSG00000025900.10|OTTM...           0    0          0  \n",
       "ENSMUST00000027032.5|ENSMUSG00000025900.10|OTTM...           0    0          0  \n",
       "ENSMUST00000027035.9|ENSMUSG00000025902.13|OTTM...           0    0          0  \n",
       "ENSMUST00000195555.1|ENSMUSG00000025902.13|OTTM...           0    0          0  "
      ]
     },
     "execution_count": 12,
     "metadata": {},
     "output_type": "execute_result"
    }
   ],
   "source": [
    "s10_kallisto['log2_tpm1'] = np.log2(s10_kallisto['tpm']+1)\n",
    "s10_kallisto.head()"
   ]
  },
  {
   "cell_type": "markdown",
   "metadata": {
    "deletable": false,
    "nbgrader": {
     "checksum": "8e4eefc9635d820e63f551a222775e3a",
     "grade": false,
     "grade_id": "ex3_question",
     "locked": true,
     "solution": false
    }
   },
   "source": [
    "### Exercise 3: Add a log2_tpm column to `s13_kallisto`"
   ]
  },
  {
   "cell_type": "code",
   "execution_count": 13,
   "metadata": {
    "collapsed": false,
    "deletable": false,
    "nbgrader": {
     "checksum": "2ba878a03dfca9ee9ae4c2c6e419bfc6",
     "grade": false,
     "grade_id": "ex3_answer",
     "locked": false,
     "solution": true
    },
    "scrolled": true
   },
   "outputs": [
    {
     "data": {
      "text/html": [
       "<div>\n",
       "<table border=\"1\" class=\"dataframe\">\n",
       "  <thead>\n",
       "    <tr style=\"text-align: right;\">\n",
       "      <th></th>\n",
       "      <th>length</th>\n",
       "      <th>eff_length</th>\n",
       "      <th>est_counts</th>\n",
       "      <th>tpm</th>\n",
       "      <th>log2_tpm1</th>\n",
       "    </tr>\n",
       "    <tr>\n",
       "      <th>target_id</th>\n",
       "      <th></th>\n",
       "      <th></th>\n",
       "      <th></th>\n",
       "      <th></th>\n",
       "      <th></th>\n",
       "    </tr>\n",
       "  </thead>\n",
       "  <tbody>\n",
       "    <tr>\n",
       "      <th>ENSMUST00000070533.4|ENSMUSG00000051951.5|OTTMUSG00000026353.2|OTTMUST00000065166.1|Xkr4-001|Xkr4|3634|UTR5:1-150|CDS:151-2094|UTR3:2095-3634|</th>\n",
       "      <td>3634</td>\n",
       "      <td>3395.24</td>\n",
       "      <td>2</td>\n",
       "      <td>0.03967</td>\n",
       "      <td>0.056126</td>\n",
       "    </tr>\n",
       "    <tr>\n",
       "      <th>ENSMUST00000194992.5|ENSMUSG00000025900.10|OTTMUSG00000049985.2|OTTMUST00000127194.1|Rp1-002|Rp1|3047|UTR5:1-54|CDS:55-912|UTR3:913-3047|</th>\n",
       "      <td>3047</td>\n",
       "      <td>2808.24</td>\n",
       "      <td>0</td>\n",
       "      <td>0.00000</td>\n",
       "      <td>0.000000</td>\n",
       "    </tr>\n",
       "    <tr>\n",
       "      <th>ENSMUST00000027032.5|ENSMUSG00000025900.10|OTTMUSG00000049985.2|OTTMUST00000127195.2|Rp1-001|Rp1|6869|UTR5:1-127|CDS:128-6415|UTR3:6416-6869|</th>\n",
       "      <td>6869</td>\n",
       "      <td>6630.24</td>\n",
       "      <td>0</td>\n",
       "      <td>0.00000</td>\n",
       "      <td>0.000000</td>\n",
       "    </tr>\n",
       "    <tr>\n",
       "      <th>ENSMUST00000027035.9|ENSMUSG00000025902.13|OTTMUSG00000050014.7|OTTMUST00000127245.2|Sox17-001|Sox17|3127|UTR5:1-1082|CDS:1083-2342|UTR3:2343-3127|</th>\n",
       "      <td>3127</td>\n",
       "      <td>2888.24</td>\n",
       "      <td>0</td>\n",
       "      <td>0.00000</td>\n",
       "      <td>0.000000</td>\n",
       "    </tr>\n",
       "    <tr>\n",
       "      <th>ENSMUST00000195555.1|ENSMUSG00000025902.13|OTTMUSG00000050014.7|OTTMUST00000127249.1|Sox17-005|Sox17|1977|UTR5:1-635|CDS:636-1511|UTR3:1512-1977|</th>\n",
       "      <td>1977</td>\n",
       "      <td>1738.24</td>\n",
       "      <td>0</td>\n",
       "      <td>0.00000</td>\n",
       "      <td>0.000000</td>\n",
       "    </tr>\n",
       "  </tbody>\n",
       "</table>\n",
       "</div>"
      ],
      "text/plain": [
       "                                                    length  eff_length  \\\n",
       "target_id                                                                \n",
       "ENSMUST00000070533.4|ENSMUSG00000051951.5|OTTMU...    3634     3395.24   \n",
       "ENSMUST00000194992.5|ENSMUSG00000025900.10|OTTM...    3047     2808.24   \n",
       "ENSMUST00000027032.5|ENSMUSG00000025900.10|OTTM...    6869     6630.24   \n",
       "ENSMUST00000027035.9|ENSMUSG00000025902.13|OTTM...    3127     2888.24   \n",
       "ENSMUST00000195555.1|ENSMUSG00000025902.13|OTTM...    1977     1738.24   \n",
       "\n",
       "                                                    est_counts      tpm  \\\n",
       "target_id                                                                 \n",
       "ENSMUST00000070533.4|ENSMUSG00000051951.5|OTTMU...           2  0.03967   \n",
       "ENSMUST00000194992.5|ENSMUSG00000025900.10|OTTM...           0  0.00000   \n",
       "ENSMUST00000027032.5|ENSMUSG00000025900.10|OTTM...           0  0.00000   \n",
       "ENSMUST00000027035.9|ENSMUSG00000025902.13|OTTM...           0  0.00000   \n",
       "ENSMUST00000195555.1|ENSMUSG00000025902.13|OTTM...           0  0.00000   \n",
       "\n",
       "                                                    log2_tpm1  \n",
       "target_id                                                      \n",
       "ENSMUST00000070533.4|ENSMUSG00000051951.5|OTTMU...   0.056126  \n",
       "ENSMUST00000194992.5|ENSMUSG00000025900.10|OTTM...   0.000000  \n",
       "ENSMUST00000027032.5|ENSMUSG00000025900.10|OTTM...   0.000000  \n",
       "ENSMUST00000027035.9|ENSMUSG00000025902.13|OTTM...   0.000000  \n",
       "ENSMUST00000195555.1|ENSMUSG00000025902.13|OTTM...   0.000000  "
      ]
     },
     "execution_count": 13,
     "metadata": {},
     "output_type": "execute_result"
    }
   ],
   "source": [
    "# YOUR CODE HERE\n",
    "s13_kallisto['log2_tpm1'] = np.log2(s13_kallisto['tpm']+1)\n",
    "\n",
    "s13_kallisto.head()"
   ]
  },
  {
   "cell_type": "code",
   "execution_count": 14,
   "metadata": {
    "collapsed": false,
    "deletable": false,
    "nbgrader": {
     "checksum": "3b205978782f5784b083174daeade045",
     "grade": false,
     "grade_id": "ex3_test",
     "locked": true,
     "solution": false
    }
   },
   "outputs": [],
   "source": [
    "gene_id = 'ENSMUST00000070533.4|ENSMUSG00000051951.5|OTTMUSG00000026353.2|OTTMUST00000065166.1|Xkr4-001|Xkr4|3634|UTR5:1-150|CDS:151-2094|UTR3:2095-3634|'\n",
    "assert s13_kallisto.loc[gene_id, 'log2_tpm1'] == 0.056126371311968043"
   ]
  },
  {
   "cell_type": "markdown",
   "metadata": {
    "deletable": false,
    "nbgrader": {
     "checksum": "4b390a1ceb9dd4ee08d198d2bd64d627",
     "grade": false,
     "grade_id": "ex4_question",
     "locked": true,
     "solution": false
    }
   },
   "source": [
    "### Exercise 4: Plot the logged TPM correlation\n",
    "\n",
    "Use `sns.jointplot` to plot the correlation between the logged TPMs we just made."
   ]
  },
  {
   "cell_type": "code",
   "execution_count": 15,
   "metadata": {
    "collapsed": false,
    "deletable": false,
    "nbgrader": {
     "checksum": "e1173a45b86219e3b87e782537fbe0ef",
     "grade": false,
     "grade_id": "ex4_answer",
     "locked": false,
     "solution": true
    }
   },
   "outputs": [
    {
     "data": {
      "text/plain": [
       "<seaborn.axisgrid.JointGrid at 0x2b0724f97be0>"
      ]
     },
     "execution_count": 15,
     "metadata": {},
     "output_type": "execute_result"
    },
    {
     "data": {
      "image/png": "[encoded data removed]",
      "text/plain": [
       "<matplotlib.figure.Figure at 0x2b0724f975c0>"
      ]
     },
     "metadata": {},
     "output_type": "display_data"
    }
   ],
   "source": [
    "snsy.jointplot(s10_kallisto['log2_tpm1'], s13_kallisto['log2_tpm1'])"
   ]
  },
  {
   "cell_type": "code",
   "execution_count": 16,
   "metadata": {
    "collapsed": false,
    "deletable": false,
    "nbgrader": {
     "checksum": "5e96f2e5cb4899f7fef9d47e5b1b0e27",
     "grade": true,
     "grade_id": "ex4_test",
     "locked": true,
     "points": 2,
     "solution": false
    }
   },
   "outputs": [],
   "source": [
    "assert isinstance(_, snsy.axisgrid.JointGrid)"
   ]
  },
  {
   "cell_type": "markdown",
   "metadata": {
    "deletable": false,
    "nbgrader": {
     "checksum": "8f5fd911dc63c795d038eb937a80a6cf",
     "grade": false,
     "grade_id": "what_if_spearman",
     "locked": true,
     "solution": false
    }
   },
   "source": [
    "Interesting, we have quite a bit of correlation! What if we used rank-based, non-linear correlation such as spearman? We can specify a different statistical function with `stat_func=` and specifying `spearmanr` from `scipy.stats`."
   ]
  },
  {
   "cell_type": "code",
   "execution_count": 17,
   "metadata": {
    "collapsed": false,
    "deletable": false,
    "nbgrader": {
     "checksum": "05a73e4e148e00efb9f2bec36a058d68",
     "grade": false,
     "grade_id": "plot_spearman",
     "locked": true,
     "solution": false
    }
   },
   "outputs": [
    {
     "data": {
      "text/plain": [
       "<seaborn.axisgrid.JointGrid at 0x2b072792d828>"
      ]
     },
     "execution_count": 17,
     "metadata": {},
     "output_type": "execute_result"
    },
    {
     "data": {
      "image/png": "[encoded data removed]",
      "text/plain": [
       "<matplotlib.figure.Figure at 0x2b072792d160>"
      ]
     },
     "metadata": {},
     "output_type": "display_data"
    }
   ],
   "source": [
    "from scipy.stats import spearmanr\n",
    "\n",
    "snsy.jointplot(s10_kallisto['log2_tpm1'], s13_kallisto['log2_tpm1'], stat_func=spearmanr)"
   ]
  },
  {
   "cell_type": "markdown",
   "metadata": {
    "deletable": false,
    "nbgrader": {
     "checksum": "c327acfcd89dcfe78200447c0826b028",
     "grade": false,
     "grade_id": "explain_pd_concat",
     "locked": true,
     "solution": false
    }
   },
   "source": [
    "We'll now create a dataframe containing the two columns (\"Series\") of the separate `s10_kallisto` and `s13_kallisto` columns, using `pd.concat` to concatenate the two series, and rename them so the names are `s13` and `s10`, using the `keys=['s10', 's13']`. The `axis=1` means to glue along the columns (axis=0 is rows, axis=1 is columns), so that we stack horizontally, versus vertically. Otherwise we'd get a really tall series that can't tell the difference between s10 and s13."
   ]
  },
  {
   "cell_type": "code",
   "execution_count": 18,
   "metadata": {
    "collapsed": false,
    "deletable": false,
    "nbgrader": {
     "checksum": "4f347dccd8272afd9e6b585345551b97",
     "grade": false,
     "grade_id": "show_pd_concat",
     "locked": true,
     "solution": false
    }
   },
   "outputs": [
    {
     "data": {
      "text/html": [
       "<div>\n",
       "<table border=\"1\" class=\"dataframe\">\n",
       "  <thead>\n",
       "    <tr style=\"text-align: right;\">\n",
       "      <th></th>\n",
       "      <th>s10</th>\n",
       "      <th>s13</th>\n",
       "    </tr>\n",
       "    <tr>\n",
       "      <th>target_id</th>\n",
       "      <th></th>\n",
       "      <th></th>\n",
       "    </tr>\n",
       "  </thead>\n",
       "  <tbody>\n",
       "    <tr>\n",
       "      <th>ENSMUST00000070533.4|ENSMUSG00000051951.5|OTTMUSG00000026353.2|OTTMUST00000065166.1|Xkr4-001|Xkr4|3634|UTR5:1-150|CDS:151-2094|UTR3:2095-3634|</th>\n",
       "      <td>0</td>\n",
       "      <td>0.056126</td>\n",
       "    </tr>\n",
       "    <tr>\n",
       "      <th>ENSMUST00000194992.5|ENSMUSG00000025900.10|OTTMUSG00000049985.2|OTTMUST00000127194.1|Rp1-002|Rp1|3047|UTR5:1-54|CDS:55-912|UTR3:913-3047|</th>\n",
       "      <td>0</td>\n",
       "      <td>0.000000</td>\n",
       "    </tr>\n",
       "    <tr>\n",
       "      <th>ENSMUST00000027032.5|ENSMUSG00000025900.10|OTTMUSG00000049985.2|OTTMUST00000127195.2|Rp1-001|Rp1|6869|UTR5:1-127|CDS:128-6415|UTR3:6416-6869|</th>\n",
       "      <td>0</td>\n",
       "      <td>0.000000</td>\n",
       "    </tr>\n",
       "    <tr>\n",
       "      <th>ENSMUST00000027035.9|ENSMUSG00000025902.13|OTTMUSG00000050014.7|OTTMUST00000127245.2|Sox17-001|Sox17|3127|UTR5:1-1082|CDS:1083-2342|UTR3:2343-3127|</th>\n",
       "      <td>0</td>\n",
       "      <td>0.000000</td>\n",
       "    </tr>\n",
       "    <tr>\n",
       "      <th>ENSMUST00000195555.1|ENSMUSG00000025902.13|OTTMUSG00000050014.7|OTTMUST00000127249.1|Sox17-005|Sox17|1977|UTR5:1-635|CDS:636-1511|UTR3:1512-1977|</th>\n",
       "      <td>0</td>\n",
       "      <td>0.000000</td>\n",
       "    </tr>\n",
       "  </tbody>\n",
       "</table>\n",
       "</div>"
      ],
      "text/plain": [
       "                                                    s10       s13\n",
       "target_id                                                        \n",
       "ENSMUST00000070533.4|ENSMUSG00000051951.5|OTTMU...    0  0.056126\n",
       "ENSMUST00000194992.5|ENSMUSG00000025900.10|OTTM...    0  0.000000\n",
       "ENSMUST00000027032.5|ENSMUSG00000025900.10|OTTM...    0  0.000000\n",
       "ENSMUST00000027035.9|ENSMUSG00000025902.13|OTTM...    0  0.000000\n",
       "ENSMUST00000195555.1|ENSMUSG00000025902.13|OTTM...    0  0.000000"
      ]
     },
     "execution_count": 18,
     "metadata": {},
     "output_type": "execute_result"
    }
   ],
   "source": [
    "kallisto_log2_tpm = pd.concat([s10_kallisto['log2_tpm1'], s13_kallisto['log2_tpm1']], axis=1, keys=['s10', 's13'])\n",
    "kallisto_log2_tpm.head()"
   ]
  },
  {
   "cell_type": "markdown",
   "metadata": {
    "deletable": false,
    "nbgrader": {
     "checksum": "f6378cdda455576d0157655bb28b962e",
     "grade": false,
     "grade_id": "explain_boolean",
     "locked": true,
     "solution": false
    }
   },
   "source": [
    "So we have a ton of genes where the expression is near zero. This is not that helpful so let's only use genes with expression greater than one in at least one sample. We'll do this using the [boolean](https://en.wikipedia.org/wiki/Boolean) (True/False) matrix we get from asking \"`kallisto_log2_tpm > 1`\":"
   ]
  },
  {
   "cell_type": "code",
   "execution_count": 19,
   "metadata": {
    "collapsed": false,
    "deletable": false,
    "nbgrader": {
     "checksum": "bd570ae64cd5fe5f67a8efc152837407",
     "grade": false,
     "grade_id": "show_boolean",
     "locked": true,
     "solution": false
    }
   },
   "outputs": [
    {
     "data": {
      "text/html": [
       "<div>\n",
       "<table border=\"1\" class=\"dataframe\">\n",
       "  <thead>\n",
       "    <tr style=\"text-align: right;\">\n",
       "      <th></th>\n",
       "      <th>s10</th>\n",
       "      <th>s13</th>\n",
       "    </tr>\n",
       "    <tr>\n",
       "      <th>target_id</th>\n",
       "      <th></th>\n",
       "      <th></th>\n",
       "    </tr>\n",
       "  </thead>\n",
       "  <tbody>\n",
       "    <tr>\n",
       "      <th>ENSMUST00000070533.4|ENSMUSG00000051951.5|OTTMUSG00000026353.2|OTTMUST00000065166.1|Xkr4-001|Xkr4|3634|UTR5:1-150|CDS:151-2094|UTR3:2095-3634|</th>\n",
       "      <td>False</td>\n",
       "      <td>False</td>\n",
       "    </tr>\n",
       "    <tr>\n",
       "      <th>ENSMUST00000194992.5|ENSMUSG00000025900.10|OTTMUSG00000049985.2|OTTMUST00000127194.1|Rp1-002|Rp1|3047|UTR5:1-54|CDS:55-912|UTR3:913-3047|</th>\n",
       "      <td>False</td>\n",
       "      <td>False</td>\n",
       "    </tr>\n",
       "    <tr>\n",
       "      <th>ENSMUST00000027032.5|ENSMUSG00000025900.10|OTTMUSG00000049985.2|OTTMUST00000127195.2|Rp1-001|Rp1|6869|UTR5:1-127|CDS:128-6415|UTR3:6416-6869|</th>\n",
       "      <td>False</td>\n",
       "      <td>False</td>\n",
       "    </tr>\n",
       "    <tr>\n",
       "      <th>ENSMUST00000027035.9|ENSMUSG00000025902.13|OTTMUSG00000050014.7|OTTMUST00000127245.2|Sox17-001|Sox17|3127|UTR5:1-1082|CDS:1083-2342|UTR3:2343-3127|</th>\n",
       "      <td>False</td>\n",
       "      <td>False</td>\n",
       "    </tr>\n",
       "    <tr>\n",
       "      <th>ENSMUST00000195555.1|ENSMUSG00000025902.13|OTTMUSG00000050014.7|OTTMUST00000127249.1|Sox17-005|Sox17|1977|UTR5:1-635|CDS:636-1511|UTR3:1512-1977|</th>\n",
       "      <td>False</td>\n",
       "      <td>False</td>\n",
       "    </tr>\n",
       "    <tr>\n",
       "      <th>ENSMUST00000192650.5|ENSMUSG00000025902.13|OTTMUSG00000050014.7|OTTMUST00000127247.2|Sox17-004|Sox17|3242|UTR5:1-1851|CDS:1852-2916|UTR3:2917-3242|</th>\n",
       "      <td>False</td>\n",
       "      <td>False</td>\n",
       "    </tr>\n",
       "    <tr>\n",
       "      <th>ENSMUST00000116652.7|ENSMUSG00000025902.13|OTTMUSG00000050014.7|OTTMUST00000127246.1|Sox17-002|Sox17|1512|UTR5:1-249|CDS:250-1509|UTR3:1510-1512|</th>\n",
       "      <td>False</td>\n",
       "      <td>False</td>\n",
       "    </tr>\n",
       "    <tr>\n",
       "      <th>ENSMUST00000191647.1|ENSMUSG00000025902.13|OTTMUSG00000050014.7|OTTMUST00000127267.2|Sox17-007|Sox17|406|UTR5:1-83|CDS:84-406|</th>\n",
       "      <td>False</td>\n",
       "      <td>False</td>\n",
       "    </tr>\n",
       "    <tr>\n",
       "      <th>ENSMUST00000191939.1|ENSMUSG00000025902.13|OTTMUSG00000050014.7|OTTMUST00000127266.2|Sox17-006|Sox17|840|UTR5:1-329|CDS:330-840|</th>\n",
       "      <td>False</td>\n",
       "      <td>False</td>\n",
       "    </tr>\n",
       "    <tr>\n",
       "      <th>ENSMUST00000192913.1|ENSMUSG00000025902.13|OTTMUSG00000050014.7|OTTMUST00000127248.2|Sox17-003|Sox17|1506|UTR5:1-997|CDS:998-1506|</th>\n",
       "      <td>False</td>\n",
       "      <td>False</td>\n",
       "    </tr>\n",
       "    <tr>\n",
       "      <th>ENSMUST00000130201.7|ENSMUSG00000033845.13|OTTMUSG00000029329.3|OTTMUST00000072660.1|Mrpl15-002|Mrpl15|1894|UTR5:1-33|CDS:34-648|UTR3:649-1894|</th>\n",
       "      <td>False</td>\n",
       "      <td>False</td>\n",
       "    </tr>\n",
       "    <tr>\n",
       "      <th>ENSMUST00000156816.6|ENSMUSG00000033845.13|OTTMUSG00000029329.3|OTTMUST00000072659.1|Mrpl15-001|Mrpl15|4203|UTR5:1-62|CDS:63-950|UTR3:951-4203|</th>\n",
       "      <td>False</td>\n",
       "      <td>False</td>\n",
       "    </tr>\n",
       "    <tr>\n",
       "      <th>ENSMUST00000045689.13|ENSMUSG00000033845.13|OTTMUSG00000029329.3|OTTMUST00000072661.1|Mrpl15-003|Mrpl15|497|UTR5:1-21|CDS:22-180|UTR3:181-497|</th>\n",
       "      <td>False</td>\n",
       "      <td>False</td>\n",
       "    </tr>\n",
       "    <tr>\n",
       "      <th>ENSMUST00000146665.2|ENSMUSG00000033845.13|OTTMUSG00000029329.3|OTTMUST00000072662.2|Mrpl15-004|Mrpl15|1569|UTR5:1-62|CDS:63-569|UTR3:570-1569|</th>\n",
       "      <td>False</td>\n",
       "      <td>True</td>\n",
       "    </tr>\n",
       "    <tr>\n",
       "      <th>ENSMUST00000134384.7|ENSMUSG00000025903.14|OTTMUSG00000021562.4|OTTMUST00000051163.2|Lypla1-002|Lypla1|1136|UTR5:1-126|CDS:127-801|UTR3:802-1136|</th>\n",
       "      <td>False</td>\n",
       "      <td>True</td>\n",
       "    </tr>\n",
       "    <tr>\n",
       "      <th>ENSMUST00000027036.10|ENSMUSG00000025903.14|OTTMUSG00000021562.4|OTTMUST00000051162.1|Lypla1-001|Lypla1|2507|UTR5:1-91|CDS:92-784|UTR3:785-2507|</th>\n",
       "      <td>True</td>\n",
       "      <td>True</td>\n",
       "    </tr>\n",
       "    <tr>\n",
       "      <th>ENSMUST00000150971.7|ENSMUSG00000025903.14|OTTMUSG00000021562.4|OTTMUST00000051164.3|Lypla1-003|Lypla1|877|UTR5:1-84|CDS:85-750|UTR3:751-877|</th>\n",
       "      <td>False</td>\n",
       "      <td>False</td>\n",
       "    </tr>\n",
       "    <tr>\n",
       "      <th>ENSMUST00000119612.8|ENSMUSG00000025903.14|OTTMUSG00000021562.4|OTTMUST00000051170.2|Lypla1-009|Lypla1|529|UTR5:1-18|CDS:19-297|UTR3:298-529|</th>\n",
       "      <td>False</td>\n",
       "      <td>False</td>\n",
       "    </tr>\n",
       "    <tr>\n",
       "      <th>ENSMUST00000137887.7|ENSMUSG00000025903.14|OTTMUSG00000021562.4|OTTMUST00000051168.2|Lypla1-007|Lypla1|444|UTR5:1-16|CDS:17-444|</th>\n",
       "      <td>False</td>\n",
       "      <td>False</td>\n",
       "    </tr>\n",
       "    <tr>\n",
       "      <th>ENSMUST00000115529.7|ENSMUSG00000025903.14|OTTMUSG00000021562.4|OTTMUST00000051169.1|Lypla1-008|Lypla1|930|UTR5:1-3|CDS:4-594|UTR3:595-930|</th>\n",
       "      <td>False</td>\n",
       "      <td>False</td>\n",
       "    </tr>\n",
       "    <tr>\n",
       "      <th>ENSMUST00000131119.1|ENSMUSG00000025903.14|OTTMUSG00000021562.4|OTTMUST00000051167.3|Lypla1-006|Lypla1|660|UTR5:1-234|CDS:235-660|</th>\n",
       "      <td>False</td>\n",
       "      <td>False</td>\n",
       "    </tr>\n",
       "    <tr>\n",
       "      <th>ENSMUST00000155020.1|ENSMUSG00000104217.1|OTTMUSG00000050100.1|OTTMUST00000127419.1|Gm37988-001|Gm37988|825|UTR5:1-22|CDS:23-211|UTR3:212-825|</th>\n",
       "      <td>False</td>\n",
       "      <td>False</td>\n",
       "    </tr>\n",
       "    <tr>\n",
       "      <th>ENSMUST00000081551.13|ENSMUSG00000033813.15|OTTMUSG00000042348.1|OTTMUST00000111602.1|Tcea1-001|Tcea1|2547|UTR5:1-100|CDS:101-1006|UTR3:1007-2547|</th>\n",
       "      <td>True</td>\n",
       "      <td>True</td>\n",
       "    </tr>\n",
       "    <tr>\n",
       "      <th>ENSMUST00000165720.2|ENSMUSG00000033813.15|OTTMUSG00000042348.1|OTTMUST00000111603.1|Tcea1-002|Tcea1|2854|UTR5:1-370|CDS:371-1309|UTR3:1310-2854|</th>\n",
       "      <td>False</td>\n",
       "      <td>False</td>\n",
       "    </tr>\n",
       "    <tr>\n",
       "      <th>ENSMUST00000002533.14|ENSMUSG00000002459.17|OTTMUSG00000029338.4|OTTMUST00000072687.1|Rgs20-002|Rgs20|1778|UTR5:1-160|CDS:161-880|UTR3:881-1778|</th>\n",
       "      <td>True</td>\n",
       "      <td>True</td>\n",
       "    </tr>\n",
       "    <tr>\n",
       "      <th>ENSMUST00000118000.7|ENSMUSG00000002459.17|OTTMUSG00000029338.4|OTTMUST00000072688.2|Rgs20-001|Rgs20|2125|UTR5:1-108|CDS:109-1227|UTR3:1228-2125|</th>\n",
       "      <td>False</td>\n",
       "      <td>False</td>\n",
       "    </tr>\n",
       "    <tr>\n",
       "      <th>ENSMUST00000119256.7|ENSMUSG00000002459.17|OTTMUSG00000029338.4|OTTMUST00000072706.2|Rgs20-005|Rgs20|883|UTR5:1-184|CDS:185-811|UTR3:812-883|</th>\n",
       "      <td>False</td>\n",
       "      <td>False</td>\n",
       "    </tr>\n",
       "    <tr>\n",
       "      <th>ENSMUST00000170566.1|ENSMUSG00000002459.17|OTTMUSG00000029338.4|OTTMUST00000092053.1|Rgs20-007|Rgs20|577|CDS:1-120|UTR3:121-577|</th>\n",
       "      <td>False</td>\n",
       "      <td>False</td>\n",
       "    </tr>\n",
       "    <tr>\n",
       "      <th>ENSMUST00000147158.1|ENSMUSG00000002459.17|OTTMUSG00000029338.4|OTTMUST00000072705.2|Rgs20-004|Rgs20|707|UTR5:1-105|CDS:106-707|</th>\n",
       "      <td>False</td>\n",
       "      <td>False</td>\n",
       "    </tr>\n",
       "    <tr>\n",
       "      <th>ENSMUST00000192847.5|ENSMUSG00000033793.12|OTTMUSG00000050145.9|OTTMUST00000127492.1|Atp6v1h-003|Atp6v1h|1662|UTR5:1-161|CDS:162-1487|UTR3:1488-1662|</th>\n",
       "      <td>True</td>\n",
       "      <td>False</td>\n",
       "    </tr>\n",
       "    <tr>\n",
       "      <th>...</th>\n",
       "      <td>...</td>\n",
       "      <td>...</td>\n",
       "    </tr>\n",
       "    <tr>\n",
       "      <th>ENSMUST00000178889.1|ENSMUSG00000095650.2|OTTMUSG00000042966.1|-|Gm20854-201|Gm20854|1002|UTR5:1-175|CDS:176-859|UTR3:860-1002|</th>\n",
       "      <td>False</td>\n",
       "      <td>False</td>\n",
       "    </tr>\n",
       "    <tr>\n",
       "      <th>ENSMUST00000181549.1|ENSMUSG00000095650.2|OTTMUSG00000042966.1|OTTMUST00000112802.1|Gm20854-001|Gm20854|1156|UTR5:1-335|CDS:336-1019|UTR3:1020-1156|</th>\n",
       "      <td>False</td>\n",
       "      <td>False</td>\n",
       "    </tr>\n",
       "    <tr>\n",
       "      <th>ENSMUST00000188754.1|ENSMUSG00000100240.1|OTTMUSG00000047031.1|OTTMUST00000121805.1|Gm20820-001|Gm20820|921|UTR5:1-58|CDS:59-727|UTR3:728-921|</th>\n",
       "      <td>False</td>\n",
       "      <td>False</td>\n",
       "    </tr>\n",
       "    <tr>\n",
       "      <th>ENSMUST00000189543.6|ENSMUSG00000094399.7|OTTMUSG00000047083.1|OTTMUST00000121876.1|Gm21477-001|Gm21477|924|UTR5:1-58|CDS:59-727|UTR3:728-924|</th>\n",
       "      <td>False</td>\n",
       "      <td>False</td>\n",
       "    </tr>\n",
       "    <tr>\n",
       "      <th>ENSMUST00000179970.1|ENSMUSG00000094399.7|OTTMUSG00000047083.1|-|Gm21477-201|Gm21477|498|CDS:1-498|</th>\n",
       "      <td>False</td>\n",
       "      <td>False</td>\n",
       "    </tr>\n",
       "    <tr>\n",
       "      <th>ENSMUST00000186493.1|ENSMUSG00000099856.1|OTTMUSG00000047138.1|OTTMUST00000121968.1|Gm20906-001|Gm20906|923|UTR5:1-58|CDS:59-727|UTR3:728-923|</th>\n",
       "      <td>False</td>\n",
       "      <td>False</td>\n",
       "    </tr>\n",
       "    <tr>\n",
       "      <th>ENSMUST00000187146.1|ENSMUSG00000101915.1|OTTMUSG00000047149.1|OTTMUST00000121980.1|Gm28102-001|Gm28102|924|UTR5:1-58|CDS:59-727|UTR3:728-924|</th>\n",
       "      <td>False</td>\n",
       "      <td>False</td>\n",
       "    </tr>\n",
       "    <tr>\n",
       "      <th>ENSMUST00000186443.1|ENSMUSG00000102045.1|OTTMUSG00000047309.1|OTTMUST00000122306.1|Gm21294-001|Gm21294|934|UTR5:1-73|CDS:74-742|UTR3:743-934|</th>\n",
       "      <td>False</td>\n",
       "      <td>False</td>\n",
       "    </tr>\n",
       "    <tr>\n",
       "      <th>ENSMUST00000188269.1|ENSMUSG00000100608.1|OTTMUSG00000047316.1|OTTMUST00000122318.1|Gm21996-001|Gm21996|931|UTR5:1-58|CDS:59-727|UTR3:728-931|</th>\n",
       "      <td>False</td>\n",
       "      <td>False</td>\n",
       "    </tr>\n",
       "    <tr>\n",
       "      <th>ENSMUST00000190558.6|ENSMUSG00000096178.7|OTTMUSG00000047352.1|OTTMUST00000122361.1|Gm20837-001|Gm20837|844|UTR5:1-73|CDS:74-640|UTR3:641-844|</th>\n",
       "      <td>False</td>\n",
       "      <td>False</td>\n",
       "    </tr>\n",
       "    <tr>\n",
       "      <th>ENSMUST00000178446.1|ENSMUSG00000096178.7|OTTMUSG00000047352.1|-|Gm20837-201|Gm20837|498|CDS:1-498|</th>\n",
       "      <td>False</td>\n",
       "      <td>False</td>\n",
       "    </tr>\n",
       "    <tr>\n",
       "      <th>ENSMUST00000177893.1|ENSMUSG00000095366.1|-|-|Gm21860-201|Gm21860|309|CDS:1-309|</th>\n",
       "      <td>False</td>\n",
       "      <td>False</td>\n",
       "    </tr>\n",
       "    <tr>\n",
       "      <th>ENSMUST00000179483.7|ENSMUSG00000096768.7|-|-|Erdr1-204|Erdr1|688|UTR5:1-70|CDS:71-688|</th>\n",
       "      <td>False</td>\n",
       "      <td>False</td>\n",
       "    </tr>\n",
       "    <tr>\n",
       "      <th>ENSMUST00000177591.1|ENSMUSG00000096768.7|-|-|Erdr1-201|Erdr1|774|UTR5:1-229|CDS:230-757|UTR3:758-774|</th>\n",
       "      <td>False</td>\n",
       "      <td>False</td>\n",
       "    </tr>\n",
       "    <tr>\n",
       "      <th>ENSMUST00000177671.7|ENSMUSG00000096768.7|-|-|Erdr1-202|Erdr1|708|UTR5:1-159|CDS:160-528|UTR3:529-708|</th>\n",
       "      <td>False</td>\n",
       "      <td>False</td>\n",
       "    </tr>\n",
       "    <tr>\n",
       "      <th>ENSMUST00000179077.1|ENSMUSG00000096768.7|-|-|Erdr1-203|Erdr1|887|UTR5:1-74|CDS:75-512|UTR3:513-887|</th>\n",
       "      <td>False</td>\n",
       "      <td>False</td>\n",
       "    </tr>\n",
       "    <tr>\n",
       "      <th>ENSMUST00000179623.1|ENSMUSG00000096850.1|-|-|Gm21748-201|Gm21748|309|CDS:1-309|</th>\n",
       "      <td>False</td>\n",
       "      <td>False</td>\n",
       "    </tr>\n",
       "    <tr>\n",
       "      <th>ENSMUST00000082392.1|ENSMUSG00000064341.1|-|-|mt-Nd1-201|mt-Nd1|957|CDS:1-957|</th>\n",
       "      <td>True</td>\n",
       "      <td>True</td>\n",
       "    </tr>\n",
       "    <tr>\n",
       "      <th>ENSMUST00000082396.1|ENSMUSG00000064345.1|-|-|mt-Nd2-201|mt-Nd2|1038|CDS:1-1038|</th>\n",
       "      <td>True</td>\n",
       "      <td>True</td>\n",
       "    </tr>\n",
       "    <tr>\n",
       "      <th>ENSMUST00000082402.1|ENSMUSG00000064351.1|-|-|mt-Co1-201|mt-Co1|1545|CDS:1-1545|</th>\n",
       "      <td>True</td>\n",
       "      <td>True</td>\n",
       "    </tr>\n",
       "    <tr>\n",
       "      <th>ENSMUST00000082405.1|ENSMUSG00000064354.1|-|-|mt-Co2-201|mt-Co2|684|CDS:1-684|</th>\n",
       "      <td>True</td>\n",
       "      <td>True</td>\n",
       "    </tr>\n",
       "    <tr>\n",
       "      <th>ENSMUST00000082407.1|ENSMUSG00000064356.3|-|-|mt-Atp8-201|mt-Atp8|204|CDS:1-204|</th>\n",
       "      <td>True</td>\n",
       "      <td>True</td>\n",
       "    </tr>\n",
       "    <tr>\n",
       "      <th>ENSMUST00000082408.1|ENSMUSG00000064357.1|-|-|mt-Atp6-201|mt-Atp6|681|CDS:1-681|</th>\n",
       "      <td>True</td>\n",
       "      <td>True</td>\n",
       "    </tr>\n",
       "    <tr>\n",
       "      <th>ENSMUST00000082409.1|ENSMUSG00000064358.1|-|-|mt-Co3-201|mt-Co3|784|CDS:1-784|</th>\n",
       "      <td>True</td>\n",
       "      <td>True</td>\n",
       "    </tr>\n",
       "    <tr>\n",
       "      <th>ENSMUST00000082411.1|ENSMUSG00000064360.1|-|-|mt-Nd3-201|mt-Nd3|348|CDS:1-348|</th>\n",
       "      <td>True</td>\n",
       "      <td>True</td>\n",
       "    </tr>\n",
       "    <tr>\n",
       "      <th>ENSMUST00000084013.1|ENSMUSG00000065947.3|-|-|mt-Nd4l-201|mt-Nd4l|297|CDS:1-297|</th>\n",
       "      <td>True</td>\n",
       "      <td>True</td>\n",
       "    </tr>\n",
       "    <tr>\n",
       "      <th>ENSMUST00000082414.1|ENSMUSG00000064363.1|-|-|mt-Nd4-201|mt-Nd4|1378|CDS:1-1378|</th>\n",
       "      <td>True</td>\n",
       "      <td>True</td>\n",
       "    </tr>\n",
       "    <tr>\n",
       "      <th>ENSMUST00000082418.1|ENSMUSG00000064367.1|-|-|mt-Nd5-201|mt-Nd5|1824|CDS:1-1824|</th>\n",
       "      <td>True</td>\n",
       "      <td>True</td>\n",
       "    </tr>\n",
       "    <tr>\n",
       "      <th>ENSMUST00000082419.1|ENSMUSG00000064368.1|-|-|mt-Nd6-201|mt-Nd6|519|CDS:1-519|</th>\n",
       "      <td>True</td>\n",
       "      <td>True</td>\n",
       "    </tr>\n",
       "    <tr>\n",
       "      <th>ENSMUST00000082421.1|ENSMUSG00000064370.1|-|-|mt-Cytb-201|mt-Cytb|1144|CDS:1-1144|</th>\n",
       "      <td>True</td>\n",
       "      <td>True</td>\n",
       "    </tr>\n",
       "  </tbody>\n",
       "</table>\n",
       "<p>56504 rows × 2 columns</p>\n",
       "</div>"
      ],
      "text/plain": [
       "                                                      s10    s13\n",
       "target_id                                                       \n",
       "ENSMUST00000070533.4|ENSMUSG00000051951.5|OTTMU...  False  False\n",
       "ENSMUST00000194992.5|ENSMUSG00000025900.10|OTTM...  False  False\n",
       "ENSMUST00000027032.5|ENSMUSG00000025900.10|OTTM...  False  False\n",
       "ENSMUST00000027035.9|ENSMUSG00000025902.13|OTTM...  False  False\n",
       "ENSMUST00000195555.1|ENSMUSG00000025902.13|OTTM...  False  False\n",
       "ENSMUST00000192650.5|ENSMUSG00000025902.13|OTTM...  False  False\n",
       "ENSMUST00000116652.7|ENSMUSG00000025902.13|OTTM...  False  False\n",
       "ENSMUST00000191647.1|ENSMUSG00000025902.13|OTTM...  False  False\n",
       "ENSMUST00000191939.1|ENSMUSG00000025902.13|OTTM...  False  False\n",
       "ENSMUST00000192913.1|ENSMUSG00000025902.13|OTTM...  False  False\n",
       "ENSMUST00000130201.7|ENSMUSG00000033845.13|OTTM...  False  False\n",
       "ENSMUST00000156816.6|ENSMUSG00000033845.13|OTTM...  False  False\n",
       "ENSMUST00000045689.13|ENSMUSG00000033845.13|OTT...  False  False\n",
       "ENSMUST00000146665.2|ENSMUSG00000033845.13|OTTM...  False   True\n",
       "ENSMUST00000134384.7|ENSMUSG00000025903.14|OTTM...  False   True\n",
       "ENSMUST00000027036.10|ENSMUSG00000025903.14|OTT...   True   True\n",
       "ENSMUST00000150971.7|ENSMUSG00000025903.14|OTTM...  False  False\n",
       "ENSMUST00000119612.8|ENSMUSG00000025903.14|OTTM...  False  False\n",
       "ENSMUST00000137887.7|ENSMUSG00000025903.14|OTTM...  False  False\n",
       "ENSMUST00000115529.7|ENSMUSG00000025903.14|OTTM...  False  False\n",
       "ENSMUST00000131119.1|ENSMUSG00000025903.14|OTTM...  False  False\n",
       "ENSMUST00000155020.1|ENSMUSG00000104217.1|OTTMU...  False  False\n",
       "ENSMUST00000081551.13|ENSMUSG00000033813.15|OTT...   True   True\n",
       "ENSMUST00000165720.2|ENSMUSG00000033813.15|OTTM...  False  False\n",
       "ENSMUST00000002533.14|ENSMUSG00000002459.17|OTT...   True   True\n",
       "ENSMUST00000118000.7|ENSMUSG00000002459.17|OTTM...  False  False\n",
       "ENSMUST00000119256.7|ENSMUSG00000002459.17|OTTM...  False  False\n",
       "ENSMUST00000170566.1|ENSMUSG00000002459.17|OTTM...  False  False\n",
       "ENSMUST00000147158.1|ENSMUSG00000002459.17|OTTM...  False  False\n",
       "ENSMUST00000192847.5|ENSMUSG00000033793.12|OTTM...   True  False\n",
       "...                                                   ...    ...\n",
       "ENSMUST00000178889.1|ENSMUSG00000095650.2|OTTMU...  False  False\n",
       "ENSMUST00000181549.1|ENSMUSG00000095650.2|OTTMU...  False  False\n",
       "ENSMUST00000188754.1|ENSMUSG00000100240.1|OTTMU...  False  False\n",
       "ENSMUST00000189543.6|ENSMUSG00000094399.7|OTTMU...  False  False\n",
       "ENSMUST00000179970.1|ENSMUSG00000094399.7|OTTMU...  False  False\n",
       "ENSMUST00000186493.1|ENSMUSG00000099856.1|OTTMU...  False  False\n",
       "ENSMUST00000187146.1|ENSMUSG00000101915.1|OTTMU...  False  False\n",
       "ENSMUST00000186443.1|ENSMUSG00000102045.1|OTTMU...  False  False\n",
       "ENSMUST00000188269.1|ENSMUSG00000100608.1|OTTMU...  False  False\n",
       "ENSMUST00000190558.6|ENSMUSG00000096178.7|OTTMU...  False  False\n",
       "ENSMUST00000178446.1|ENSMUSG00000096178.7|OTTMU...  False  False\n",
       "ENSMUST00000177893.1|ENSMUSG00000095366.1|-|-|G...  False  False\n",
       "ENSMUST00000179483.7|ENSMUSG00000096768.7|-|-|E...  False  False\n",
       "ENSMUST00000177591.1|ENSMUSG00000096768.7|-|-|E...  False  False\n",
       "ENSMUST00000177671.7|ENSMUSG00000096768.7|-|-|E...  False  False\n",
       "ENSMUST00000179077.1|ENSMUSG00000096768.7|-|-|E...  False  False\n",
       "ENSMUST00000179623.1|ENSMUSG00000096850.1|-|-|G...  False  False\n",
       "ENSMUST00000082392.1|ENSMUSG00000064341.1|-|-|m...   True   True\n",
       "ENSMUST00000082396.1|ENSMUSG00000064345.1|-|-|m...   True   True\n",
       "ENSMUST00000082402.1|ENSMUSG00000064351.1|-|-|m...   True   True\n",
       "ENSMUST00000082405.1|ENSMUSG00000064354.1|-|-|m...   True   True\n",
       "ENSMUST00000082407.1|ENSMUSG00000064356.3|-|-|m...   True   True\n",
       "ENSMUST00000082408.1|ENSMUSG00000064357.1|-|-|m...   True   True\n",
       "ENSMUST00000082409.1|ENSMUSG00000064358.1|-|-|m...   True   True\n",
       "ENSMUST00000082411.1|ENSMUSG00000064360.1|-|-|m...   True   True\n",
       "ENSMUST00000084013.1|ENSMUSG00000065947.3|-|-|m...   True   True\n",
       "ENSMUST00000082414.1|ENSMUSG00000064363.1|-|-|m...   True   True\n",
       "ENSMUST00000082418.1|ENSMUSG00000064367.1|-|-|m...   True   True\n",
       "ENSMUST00000082419.1|ENSMUSG00000064368.1|-|-|m...   True   True\n",
       "ENSMUST00000082421.1|ENSMUSG00000064370.1|-|-|m...   True   True\n",
       "\n",
       "[56504 rows x 2 columns]"
      ]
     },
     "execution_count": 19,
     "metadata": {},
     "output_type": "execute_result"
    }
   ],
   "source": [
    "kallisto_log2_tpm > 1"
   ]
  },
  {
   "cell_type": "markdown",
   "metadata": {
    "deletable": false,
    "nbgrader": {
     "checksum": "f0aad5fe715f27b099ce4af462dab5ad",
     "grade": false,
     "grade_id": "explain_sum",
     "locked": true,
     "solution": false
    }
   },
   "source": [
    "If we use the convenient `.sum()` function on the dataframe, we'll get the number of \"expressed genes\" (defining \"Expressed genes\" as genes with log2(TPM+1) greater than 1) per sample:"
   ]
  },
  {
   "cell_type": "code",
   "execution_count": 20,
   "metadata": {
    "collapsed": false,
    "deletable": false,
    "nbgrader": {
     "checksum": "1f7cc9b7617f3834266d00e9315680a2",
     "grade": false,
     "grade_id": "show_sum",
     "locked": true,
     "solution": false
    }
   },
   "outputs": [
    {
     "data": {
      "text/plain": [
       "s10    6121\n",
       "s13    6380\n",
       "dtype: int64"
      ]
     },
     "execution_count": 20,
     "metadata": {},
     "output_type": "execute_result"
    }
   ],
   "source": [
    "(kallisto_log2_tpm > 1).sum()"
   ]
  },
  {
   "cell_type": "markdown",
   "metadata": {
    "deletable": false,
    "nbgrader": {
     "checksum": "518ddd7a46c795a647716d5c771aadaa",
     "grade": false,
     "grade_id": "explain_sum_axis1",
     "locked": true,
     "solution": false
    }
   },
   "source": [
    "If we sum with `axis=1`, then we get the number of samples with expression greater than one for each gene."
   ]
  },
  {
   "cell_type": "code",
   "execution_count": 21,
   "metadata": {
    "collapsed": false,
    "deletable": false,
    "nbgrader": {
     "checksum": "f4a413b012c424d162769bbd0c0aa1c4",
     "grade": false,
     "grade_id": "show_sum_axis1",
     "locked": true,
     "solution": false
    }
   },
   "outputs": [
    {
     "data": {
      "text/plain": [
       "target_id\n",
       "ENSMUST00000070533.4|ENSMUSG00000051951.5|OTTMUSG00000026353.2|OTTMUST00000065166.1|Xkr4-001|Xkr4|3634|UTR5:1-150|CDS:151-2094|UTR3:2095-3634|           0\n",
       "ENSMUST00000194992.5|ENSMUSG00000025900.10|OTTMUSG00000049985.2|OTTMUST00000127194.1|Rp1-002|Rp1|3047|UTR5:1-54|CDS:55-912|UTR3:913-3047|                0\n",
       "ENSMUST00000027032.5|ENSMUSG00000025900.10|OTTMUSG00000049985.2|OTTMUST00000127195.2|Rp1-001|Rp1|6869|UTR5:1-127|CDS:128-6415|UTR3:6416-6869|            0\n",
       "ENSMUST00000027035.9|ENSMUSG00000025902.13|OTTMUSG00000050014.7|OTTMUST00000127245.2|Sox17-001|Sox17|3127|UTR5:1-1082|CDS:1083-2342|UTR3:2343-3127|      0\n",
       "ENSMUST00000195555.1|ENSMUSG00000025902.13|OTTMUSG00000050014.7|OTTMUST00000127249.1|Sox17-005|Sox17|1977|UTR5:1-635|CDS:636-1511|UTR3:1512-1977|        0\n",
       "ENSMUST00000192650.5|ENSMUSG00000025902.13|OTTMUSG00000050014.7|OTTMUST00000127247.2|Sox17-004|Sox17|3242|UTR5:1-1851|CDS:1852-2916|UTR3:2917-3242|      0\n",
       "ENSMUST00000116652.7|ENSMUSG00000025902.13|OTTMUSG00000050014.7|OTTMUST00000127246.1|Sox17-002|Sox17|1512|UTR5:1-249|CDS:250-1509|UTR3:1510-1512|        0\n",
       "ENSMUST00000191647.1|ENSMUSG00000025902.13|OTTMUSG00000050014.7|OTTMUST00000127267.2|Sox17-007|Sox17|406|UTR5:1-83|CDS:84-406|                           0\n",
       "ENSMUST00000191939.1|ENSMUSG00000025902.13|OTTMUSG00000050014.7|OTTMUST00000127266.2|Sox17-006|Sox17|840|UTR5:1-329|CDS:330-840|                         0\n",
       "ENSMUST00000192913.1|ENSMUSG00000025902.13|OTTMUSG00000050014.7|OTTMUST00000127248.2|Sox17-003|Sox17|1506|UTR5:1-997|CDS:998-1506|                       0\n",
       "ENSMUST00000130201.7|ENSMUSG00000033845.13|OTTMUSG00000029329.3|OTTMUST00000072660.1|Mrpl15-002|Mrpl15|1894|UTR5:1-33|CDS:34-648|UTR3:649-1894|          0\n",
       "ENSMUST00000156816.6|ENSMUSG00000033845.13|OTTMUSG00000029329.3|OTTMUST00000072659.1|Mrpl15-001|Mrpl15|4203|UTR5:1-62|CDS:63-950|UTR3:951-4203|          0\n",
       "ENSMUST00000045689.13|ENSMUSG00000033845.13|OTTMUSG00000029329.3|OTTMUST00000072661.1|Mrpl15-003|Mrpl15|497|UTR5:1-21|CDS:22-180|UTR3:181-497|           0\n",
       "ENSMUST00000146665.2|ENSMUSG00000033845.13|OTTMUSG00000029329.3|OTTMUST00000072662.2|Mrpl15-004|Mrpl15|1569|UTR5:1-62|CDS:63-569|UTR3:570-1569|          1\n",
       "ENSMUST00000134384.7|ENSMUSG00000025903.14|OTTMUSG00000021562.4|OTTMUST00000051163.2|Lypla1-002|Lypla1|1136|UTR5:1-126|CDS:127-801|UTR3:802-1136|        1\n",
       "ENSMUST00000027036.10|ENSMUSG00000025903.14|OTTMUSG00000021562.4|OTTMUST00000051162.1|Lypla1-001|Lypla1|2507|UTR5:1-91|CDS:92-784|UTR3:785-2507|         2\n",
       "ENSMUST00000150971.7|ENSMUSG00000025903.14|OTTMUSG00000021562.4|OTTMUST00000051164.3|Lypla1-003|Lypla1|877|UTR5:1-84|CDS:85-750|UTR3:751-877|            0\n",
       "ENSMUST00000119612.8|ENSMUSG00000025903.14|OTTMUSG00000021562.4|OTTMUST00000051170.2|Lypla1-009|Lypla1|529|UTR5:1-18|CDS:19-297|UTR3:298-529|            0\n",
       "ENSMUST00000137887.7|ENSMUSG00000025903.14|OTTMUSG00000021562.4|OTTMUST00000051168.2|Lypla1-007|Lypla1|444|UTR5:1-16|CDS:17-444|                         0\n",
       "ENSMUST00000115529.7|ENSMUSG00000025903.14|OTTMUSG00000021562.4|OTTMUST00000051169.1|Lypla1-008|Lypla1|930|UTR5:1-3|CDS:4-594|UTR3:595-930|              0\n",
       "ENSMUST00000131119.1|ENSMUSG00000025903.14|OTTMUSG00000021562.4|OTTMUST00000051167.3|Lypla1-006|Lypla1|660|UTR5:1-234|CDS:235-660|                       0\n",
       "ENSMUST00000155020.1|ENSMUSG00000104217.1|OTTMUSG00000050100.1|OTTMUST00000127419.1|Gm37988-001|Gm37988|825|UTR5:1-22|CDS:23-211|UTR3:212-825|           0\n",
       "ENSMUST00000081551.13|ENSMUSG00000033813.15|OTTMUSG00000042348.1|OTTMUST00000111602.1|Tcea1-001|Tcea1|2547|UTR5:1-100|CDS:101-1006|UTR3:1007-2547|       2\n",
       "ENSMUST00000165720.2|ENSMUSG00000033813.15|OTTMUSG00000042348.1|OTTMUST00000111603.1|Tcea1-002|Tcea1|2854|UTR5:1-370|CDS:371-1309|UTR3:1310-2854|        0\n",
       "ENSMUST00000002533.14|ENSMUSG00000002459.17|OTTMUSG00000029338.4|OTTMUST00000072687.1|Rgs20-002|Rgs20|1778|UTR5:1-160|CDS:161-880|UTR3:881-1778|         2\n",
       "ENSMUST00000118000.7|ENSMUSG00000002459.17|OTTMUSG00000029338.4|OTTMUST00000072688.2|Rgs20-001|Rgs20|2125|UTR5:1-108|CDS:109-1227|UTR3:1228-2125|        0\n",
       "ENSMUST00000119256.7|ENSMUSG00000002459.17|OTTMUSG00000029338.4|OTTMUST00000072706.2|Rgs20-005|Rgs20|883|UTR5:1-184|CDS:185-811|UTR3:812-883|            0\n",
       "ENSMUST00000170566.1|ENSMUSG00000002459.17|OTTMUSG00000029338.4|OTTMUST00000092053.1|Rgs20-007|Rgs20|577|CDS:1-120|UTR3:121-577|                         0\n",
       "ENSMUST00000147158.1|ENSMUSG00000002459.17|OTTMUSG00000029338.4|OTTMUST00000072705.2|Rgs20-004|Rgs20|707|UTR5:1-105|CDS:106-707|                         0\n",
       "ENSMUST00000192847.5|ENSMUSG00000033793.12|OTTMUSG00000050145.9|OTTMUST00000127492.1|Atp6v1h-003|Atp6v1h|1662|UTR5:1-161|CDS:162-1487|UTR3:1488-1662|    1\n",
       "                                                                                                                                                        ..\n",
       "ENSMUST00000178889.1|ENSMUSG00000095650.2|OTTMUSG00000042966.1|-|Gm20854-201|Gm20854|1002|UTR5:1-175|CDS:176-859|UTR3:860-1002|                          0\n",
       "ENSMUST00000181549.1|ENSMUSG00000095650.2|OTTMUSG00000042966.1|OTTMUST00000112802.1|Gm20854-001|Gm20854|1156|UTR5:1-335|CDS:336-1019|UTR3:1020-1156|     0\n",
       "ENSMUST00000188754.1|ENSMUSG00000100240.1|OTTMUSG00000047031.1|OTTMUST00000121805.1|Gm20820-001|Gm20820|921|UTR5:1-58|CDS:59-727|UTR3:728-921|           0\n",
       "ENSMUST00000189543.6|ENSMUSG00000094399.7|OTTMUSG00000047083.1|OTTMUST00000121876.1|Gm21477-001|Gm21477|924|UTR5:1-58|CDS:59-727|UTR3:728-924|           0\n",
       "ENSMUST00000179970.1|ENSMUSG00000094399.7|OTTMUSG00000047083.1|-|Gm21477-201|Gm21477|498|CDS:1-498|                                                      0\n",
       "ENSMUST00000186493.1|ENSMUSG00000099856.1|OTTMUSG00000047138.1|OTTMUST00000121968.1|Gm20906-001|Gm20906|923|UTR5:1-58|CDS:59-727|UTR3:728-923|           0\n",
       "ENSMUST00000187146.1|ENSMUSG00000101915.1|OTTMUSG00000047149.1|OTTMUST00000121980.1|Gm28102-001|Gm28102|924|UTR5:1-58|CDS:59-727|UTR3:728-924|           0\n",
       "ENSMUST00000186443.1|ENSMUSG00000102045.1|OTTMUSG00000047309.1|OTTMUST00000122306.1|Gm21294-001|Gm21294|934|UTR5:1-73|CDS:74-742|UTR3:743-934|           0\n",
       "ENSMUST00000188269.1|ENSMUSG00000100608.1|OTTMUSG00000047316.1|OTTMUST00000122318.1|Gm21996-001|Gm21996|931|UTR5:1-58|CDS:59-727|UTR3:728-931|           0\n",
       "ENSMUST00000190558.6|ENSMUSG00000096178.7|OTTMUSG00000047352.1|OTTMUST00000122361.1|Gm20837-001|Gm20837|844|UTR5:1-73|CDS:74-640|UTR3:641-844|           0\n",
       "ENSMUST00000178446.1|ENSMUSG00000096178.7|OTTMUSG00000047352.1|-|Gm20837-201|Gm20837|498|CDS:1-498|                                                      0\n",
       "ENSMUST00000177893.1|ENSMUSG00000095366.1|-|-|Gm21860-201|Gm21860|309|CDS:1-309|                                                                         0\n",
       "ENSMUST00000179483.7|ENSMUSG00000096768.7|-|-|Erdr1-204|Erdr1|688|UTR5:1-70|CDS:71-688|                                                                  0\n",
       "ENSMUST00000177591.1|ENSMUSG00000096768.7|-|-|Erdr1-201|Erdr1|774|UTR5:1-229|CDS:230-757|UTR3:758-774|                                                   0\n",
       "ENSMUST00000177671.7|ENSMUSG00000096768.7|-|-|Erdr1-202|Erdr1|708|UTR5:1-159|CDS:160-528|UTR3:529-708|                                                   0\n",
       "ENSMUST00000179077.1|ENSMUSG00000096768.7|-|-|Erdr1-203|Erdr1|887|UTR5:1-74|CDS:75-512|UTR3:513-887|                                                     0\n",
       "ENSMUST00000179623.1|ENSMUSG00000096850.1|-|-|Gm21748-201|Gm21748|309|CDS:1-309|                                                                         0\n",
       "ENSMUST00000082392.1|ENSMUSG00000064341.1|-|-|mt-Nd1-201|mt-Nd1|957|CDS:1-957|                                                                           2\n",
       "ENSMUST00000082396.1|ENSMUSG00000064345.1|-|-|mt-Nd2-201|mt-Nd2|1038|CDS:1-1038|                                                                         2\n",
       "ENSMUST00000082402.1|ENSMUSG00000064351.1|-|-|mt-Co1-201|mt-Co1|1545|CDS:1-1545|                                                                         2\n",
       "ENSMUST00000082405.1|ENSMUSG00000064354.1|-|-|mt-Co2-201|mt-Co2|684|CDS:1-684|                                                                           2\n",
       "ENSMUST00000082407.1|ENSMUSG00000064356.3|-|-|mt-Atp8-201|mt-Atp8|204|CDS:1-204|                                                                         2\n",
       "ENSMUST00000082408.1|ENSMUSG00000064357.1|-|-|mt-Atp6-201|mt-Atp6|681|CDS:1-681|                                                                         2\n",
       "ENSMUST00000082409.1|ENSMUSG00000064358.1|-|-|mt-Co3-201|mt-Co3|784|CDS:1-784|                                                                           2\n",
       "ENSMUST00000082411.1|ENSMUSG00000064360.1|-|-|mt-Nd3-201|mt-Nd3|348|CDS:1-348|                                                                           2\n",
       "ENSMUST00000084013.1|ENSMUSG00000065947.3|-|-|mt-Nd4l-201|mt-Nd4l|297|CDS:1-297|                                                                         2\n",
       "ENSMUST00000082414.1|ENSMUSG00000064363.1|-|-|mt-Nd4-201|mt-Nd4|1378|CDS:1-1378|                                                                         2\n",
       "ENSMUST00000082418.1|ENSMUSG00000064367.1|-|-|mt-Nd5-201|mt-Nd5|1824|CDS:1-1824|                                                                         2\n",
       "ENSMUST00000082419.1|ENSMUSG00000064368.1|-|-|mt-Nd6-201|mt-Nd6|519|CDS:1-519|                                                                           2\n",
       "ENSMUST00000082421.1|ENSMUSG00000064370.1|-|-|mt-Cytb-201|mt-Cytb|1144|CDS:1-1144|                                                                       2\n",
       "dtype: int64"
      ]
     },
     "execution_count": 21,
     "metadata": {},
     "output_type": "execute_result"
    }
   ],
   "source": [
    "(kallisto_log2_tpm > 1).sum(axis=1)"
   ]
  },
  {
   "cell_type": "markdown",
   "metadata": {
    "deletable": false,
    "nbgrader": {
     "checksum": "9b696673ae5d56fc8637501559389992",
     "grade": false,
     "grade_id": "explain_at_least_one_sample",
     "locked": true,
     "solution": false
    }
   },
   "source": [
    "We can now use this to get all genes expressed in *at least one* sample with \"`>= 1`\""
   ]
  },
  {
   "cell_type": "code",
   "execution_count": 22,
   "metadata": {
    "collapsed": false,
    "deletable": false,
    "nbgrader": {
     "checksum": "8cc6115aab6f5fc22a35d4bec7e936e2",
     "grade": false,
     "grade_id": "show_at_least_one_sample",
     "locked": true,
     "solution": false
    }
   },
   "outputs": [
    {
     "data": {
      "text/plain": [
       "target_id\n",
       "ENSMUST00000070533.4|ENSMUSG00000051951.5|OTTMUSG00000026353.2|OTTMUST00000065166.1|Xkr4-001|Xkr4|3634|UTR5:1-150|CDS:151-2094|UTR3:2095-3634|           False\n",
       "ENSMUST00000194992.5|ENSMUSG00000025900.10|OTTMUSG00000049985.2|OTTMUST00000127194.1|Rp1-002|Rp1|3047|UTR5:1-54|CDS:55-912|UTR3:913-3047|                False\n",
       "ENSMUST00000027032.5|ENSMUSG00000025900.10|OTTMUSG00000049985.2|OTTMUST00000127195.2|Rp1-001|Rp1|6869|UTR5:1-127|CDS:128-6415|UTR3:6416-6869|            False\n",
       "ENSMUST00000027035.9|ENSMUSG00000025902.13|OTTMUSG00000050014.7|OTTMUST00000127245.2|Sox17-001|Sox17|3127|UTR5:1-1082|CDS:1083-2342|UTR3:2343-3127|      False\n",
       "ENSMUST00000195555.1|ENSMUSG00000025902.13|OTTMUSG00000050014.7|OTTMUST00000127249.1|Sox17-005|Sox17|1977|UTR5:1-635|CDS:636-1511|UTR3:1512-1977|        False\n",
       "ENSMUST00000192650.5|ENSMUSG00000025902.13|OTTMUSG00000050014.7|OTTMUST00000127247.2|Sox17-004|Sox17|3242|UTR5:1-1851|CDS:1852-2916|UTR3:2917-3242|      False\n",
       "ENSMUST00000116652.7|ENSMUSG00000025902.13|OTTMUSG00000050014.7|OTTMUST00000127246.1|Sox17-002|Sox17|1512|UTR5:1-249|CDS:250-1509|UTR3:1510-1512|        False\n",
       "ENSMUST00000191647.1|ENSMUSG00000025902.13|OTTMUSG00000050014.7|OTTMUST00000127267.2|Sox17-007|Sox17|406|UTR5:1-83|CDS:84-406|                           False\n",
       "ENSMUST00000191939.1|ENSMUSG00000025902.13|OTTMUSG00000050014.7|OTTMUST00000127266.2|Sox17-006|Sox17|840|UTR5:1-329|CDS:330-840|                         False\n",
       "ENSMUST00000192913.1|ENSMUSG00000025902.13|OTTMUSG00000050014.7|OTTMUST00000127248.2|Sox17-003|Sox17|1506|UTR5:1-997|CDS:998-1506|                       False\n",
       "ENSMUST00000130201.7|ENSMUSG00000033845.13|OTTMUSG00000029329.3|OTTMUST00000072660.1|Mrpl15-002|Mrpl15|1894|UTR5:1-33|CDS:34-648|UTR3:649-1894|          False\n",
       "ENSMUST00000156816.6|ENSMUSG00000033845.13|OTTMUSG00000029329.3|OTTMUST00000072659.1|Mrpl15-001|Mrpl15|4203|UTR5:1-62|CDS:63-950|UTR3:951-4203|          False\n",
       "ENSMUST00000045689.13|ENSMUSG00000033845.13|OTTMUSG00000029329.3|OTTMUST00000072661.1|Mrpl15-003|Mrpl15|497|UTR5:1-21|CDS:22-180|UTR3:181-497|           False\n",
       "ENSMUST00000146665.2|ENSMUSG00000033845.13|OTTMUSG00000029329.3|OTTMUST00000072662.2|Mrpl15-004|Mrpl15|1569|UTR5:1-62|CDS:63-569|UTR3:570-1569|           True\n",
       "ENSMUST00000134384.7|ENSMUSG00000025903.14|OTTMUSG00000021562.4|OTTMUST00000051163.2|Lypla1-002|Lypla1|1136|UTR5:1-126|CDS:127-801|UTR3:802-1136|         True\n",
       "ENSMUST00000027036.10|ENSMUSG00000025903.14|OTTMUSG00000021562.4|OTTMUST00000051162.1|Lypla1-001|Lypla1|2507|UTR5:1-91|CDS:92-784|UTR3:785-2507|          True\n",
       "ENSMUST00000150971.7|ENSMUSG00000025903.14|OTTMUSG00000021562.4|OTTMUST00000051164.3|Lypla1-003|Lypla1|877|UTR5:1-84|CDS:85-750|UTR3:751-877|            False\n",
       "ENSMUST00000119612.8|ENSMUSG00000025903.14|OTTMUSG00000021562.4|OTTMUST00000051170.2|Lypla1-009|Lypla1|529|UTR5:1-18|CDS:19-297|UTR3:298-529|            False\n",
       "ENSMUST00000137887.7|ENSMUSG00000025903.14|OTTMUSG00000021562.4|OTTMUST00000051168.2|Lypla1-007|Lypla1|444|UTR5:1-16|CDS:17-444|                         False\n",
       "ENSMUST00000115529.7|ENSMUSG00000025903.14|OTTMUSG00000021562.4|OTTMUST00000051169.1|Lypla1-008|Lypla1|930|UTR5:1-3|CDS:4-594|UTR3:595-930|              False\n",
       "ENSMUST00000131119.1|ENSMUSG00000025903.14|OTTMUSG00000021562.4|OTTMUST00000051167.3|Lypla1-006|Lypla1|660|UTR5:1-234|CDS:235-660|                       False\n",
       "ENSMUST00000155020.1|ENSMUSG00000104217.1|OTTMUSG00000050100.1|OTTMUST00000127419.1|Gm37988-001|Gm37988|825|UTR5:1-22|CDS:23-211|UTR3:212-825|           False\n",
       "ENSMUST00000081551.13|ENSMUSG00000033813.15|OTTMUSG00000042348.1|OTTMUST00000111602.1|Tcea1-001|Tcea1|2547|UTR5:1-100|CDS:101-1006|UTR3:1007-2547|        True\n",
       "ENSMUST00000165720.2|ENSMUSG00000033813.15|OTTMUSG00000042348.1|OTTMUST00000111603.1|Tcea1-002|Tcea1|2854|UTR5:1-370|CDS:371-1309|UTR3:1310-2854|        False\n",
       "ENSMUST00000002533.14|ENSMUSG00000002459.17|OTTMUSG00000029338.4|OTTMUST00000072687.1|Rgs20-002|Rgs20|1778|UTR5:1-160|CDS:161-880|UTR3:881-1778|          True\n",
       "ENSMUST00000118000.7|ENSMUSG00000002459.17|OTTMUSG00000029338.4|OTTMUST00000072688.2|Rgs20-001|Rgs20|2125|UTR5:1-108|CDS:109-1227|UTR3:1228-2125|        False\n",
       "ENSMUST00000119256.7|ENSMUSG00000002459.17|OTTMUSG00000029338.4|OTTMUST00000072706.2|Rgs20-005|Rgs20|883|UTR5:1-184|CDS:185-811|UTR3:812-883|            False\n",
       "ENSMUST00000170566.1|ENSMUSG00000002459.17|OTTMUSG00000029338.4|OTTMUST00000092053.1|Rgs20-007|Rgs20|577|CDS:1-120|UTR3:121-577|                         False\n",
       "ENSMUST00000147158.1|ENSMUSG00000002459.17|OTTMUSG00000029338.4|OTTMUST00000072705.2|Rgs20-004|Rgs20|707|UTR5:1-105|CDS:106-707|                         False\n",
       "ENSMUST00000192847.5|ENSMUSG00000033793.12|OTTMUSG00000050145.9|OTTMUST00000127492.1|Atp6v1h-003|Atp6v1h|1662|UTR5:1-161|CDS:162-1487|UTR3:1488-1662|     True\n",
       "                                                                                                                                                         ...  \n",
       "ENSMUST00000178889.1|ENSMUSG00000095650.2|OTTMUSG00000042966.1|-|Gm20854-201|Gm20854|1002|UTR5:1-175|CDS:176-859|UTR3:860-1002|                          False\n",
       "ENSMUST00000181549.1|ENSMUSG00000095650.2|OTTMUSG00000042966.1|OTTMUST00000112802.1|Gm20854-001|Gm20854|1156|UTR5:1-335|CDS:336-1019|UTR3:1020-1156|     False\n",
       "ENSMUST00000188754.1|ENSMUSG00000100240.1|OTTMUSG00000047031.1|OTTMUST00000121805.1|Gm20820-001|Gm20820|921|UTR5:1-58|CDS:59-727|UTR3:728-921|           False\n",
       "ENSMUST00000189543.6|ENSMUSG00000094399.7|OTTMUSG00000047083.1|OTTMUST00000121876.1|Gm21477-001|Gm21477|924|UTR5:1-58|CDS:59-727|UTR3:728-924|           False\n",
       "ENSMUST00000179970.1|ENSMUSG00000094399.7|OTTMUSG00000047083.1|-|Gm21477-201|Gm21477|498|CDS:1-498|                                                      False\n",
       "ENSMUST00000186493.1|ENSMUSG00000099856.1|OTTMUSG00000047138.1|OTTMUST00000121968.1|Gm20906-001|Gm20906|923|UTR5:1-58|CDS:59-727|UTR3:728-923|           False\n",
       "ENSMUST00000187146.1|ENSMUSG00000101915.1|OTTMUSG00000047149.1|OTTMUST00000121980.1|Gm28102-001|Gm28102|924|UTR5:1-58|CDS:59-727|UTR3:728-924|           False\n",
       "ENSMUST00000186443.1|ENSMUSG00000102045.1|OTTMUSG00000047309.1|OTTMUST00000122306.1|Gm21294-001|Gm21294|934|UTR5:1-73|CDS:74-742|UTR3:743-934|           False\n",
       "ENSMUST00000188269.1|ENSMUSG00000100608.1|OTTMUSG00000047316.1|OTTMUST00000122318.1|Gm21996-001|Gm21996|931|UTR5:1-58|CDS:59-727|UTR3:728-931|           False\n",
       "ENSMUST00000190558.6|ENSMUSG00000096178.7|OTTMUSG00000047352.1|OTTMUST00000122361.1|Gm20837-001|Gm20837|844|UTR5:1-73|CDS:74-640|UTR3:641-844|           False\n",
       "ENSMUST00000178446.1|ENSMUSG00000096178.7|OTTMUSG00000047352.1|-|Gm20837-201|Gm20837|498|CDS:1-498|                                                      False\n",
       "ENSMUST00000177893.1|ENSMUSG00000095366.1|-|-|Gm21860-201|Gm21860|309|CDS:1-309|                                                                         False\n",
       "ENSMUST00000179483.7|ENSMUSG00000096768.7|-|-|Erdr1-204|Erdr1|688|UTR5:1-70|CDS:71-688|                                                                  False\n",
       "ENSMUST00000177591.1|ENSMUSG00000096768.7|-|-|Erdr1-201|Erdr1|774|UTR5:1-229|CDS:230-757|UTR3:758-774|                                                   False\n",
       "ENSMUST00000177671.7|ENSMUSG00000096768.7|-|-|Erdr1-202|Erdr1|708|UTR5:1-159|CDS:160-528|UTR3:529-708|                                                   False\n",
       "ENSMUST00000179077.1|ENSMUSG00000096768.7|-|-|Erdr1-203|Erdr1|887|UTR5:1-74|CDS:75-512|UTR3:513-887|                                                     False\n",
       "ENSMUST00000179623.1|ENSMUSG00000096850.1|-|-|Gm21748-201|Gm21748|309|CDS:1-309|                                                                         False\n",
       "ENSMUST00000082392.1|ENSMUSG00000064341.1|-|-|mt-Nd1-201|mt-Nd1|957|CDS:1-957|                                                                            True\n",
       "ENSMUST00000082396.1|ENSMUSG00000064345.1|-|-|mt-Nd2-201|mt-Nd2|1038|CDS:1-1038|                                                                          True\n",
       "ENSMUST00000082402.1|ENSMUSG00000064351.1|-|-|mt-Co1-201|mt-Co1|1545|CDS:1-1545|                                                                          True\n",
       "ENSMUST00000082405.1|ENSMUSG00000064354.1|-|-|mt-Co2-201|mt-Co2|684|CDS:1-684|                                                                            True\n",
       "ENSMUST00000082407.1|ENSMUSG00000064356.3|-|-|mt-Atp8-201|mt-Atp8|204|CDS:1-204|                                                                          True\n",
       "ENSMUST00000082408.1|ENSMUSG00000064357.1|-|-|mt-Atp6-201|mt-Atp6|681|CDS:1-681|                                                                          True\n",
       "ENSMUST00000082409.1|ENSMUSG00000064358.1|-|-|mt-Co3-201|mt-Co3|784|CDS:1-784|                                                                            True\n",
       "ENSMUST00000082411.1|ENSMUSG00000064360.1|-|-|mt-Nd3-201|mt-Nd3|348|CDS:1-348|                                                                            True\n",
       "ENSMUST00000084013.1|ENSMUSG00000065947.3|-|-|mt-Nd4l-201|mt-Nd4l|297|CDS:1-297|                                                                          True\n",
       "ENSMUST00000082414.1|ENSMUSG00000064363.1|-|-|mt-Nd4-201|mt-Nd4|1378|CDS:1-1378|                                                                          True\n",
       "ENSMUST00000082418.1|ENSMUSG00000064367.1|-|-|mt-Nd5-201|mt-Nd5|1824|CDS:1-1824|                                                                          True\n",
       "ENSMUST00000082419.1|ENSMUSG00000064368.1|-|-|mt-Nd6-201|mt-Nd6|519|CDS:1-519|                                                                            True\n",
       "ENSMUST00000082421.1|ENSMUSG00000064370.1|-|-|mt-Cytb-201|mt-Cytb|1144|CDS:1-1144|                                                                        True\n",
       "dtype: bool"
      ]
     },
     "execution_count": 22,
     "metadata": {},
     "output_type": "execute_result"
    }
   ],
   "source": [
    "(kallisto_log2_tpm > 1).sum(axis=1) >= 1"
   ]
  },
  {
   "cell_type": "markdown",
   "metadata": {
    "deletable": false,
    "nbgrader": {
     "checksum": "85c9d3372fd35c83ac354fc07d24f83d",
     "grade": false,
     "grade_id": "explain_subset",
     "locked": true,
     "solution": false
    }
   },
   "source": [
    "Now we can use  the `.loc[]` notation to get the rows we want as a subset. Notice that this outputs the dataframe itself - we haven't assigned it to anything. This is equivalent to extracting your RNA and throwing it on the ground. You can look at it but you didn't put it anywhere useful so you can't do anything with it."
   ]
  },
  {
   "cell_type": "code",
   "execution_count": 23,
   "metadata": {
    "collapsed": false,
    "deletable": false,
    "nbgrader": {
     "checksum": "5261dbe28025d9a54d73ae5bb21af371",
     "grade": false,
     "grade_id": "show_Subset",
     "locked": true,
     "solution": false
    },
    "scrolled": false
   },
   "outputs": [
    {
     "data": {
      "text/html": [
       "<div>\n",
       "<table border=\"1\" class=\"dataframe\">\n",
       "  <thead>\n",
       "    <tr style=\"text-align: right;\">\n",
       "      <th></th>\n",
       "      <th>s10</th>\n",
       "      <th>s13</th>\n",
       "    </tr>\n",
       "    <tr>\n",
       "      <th>target_id</th>\n",
       "      <th></th>\n",
       "      <th></th>\n",
       "    </tr>\n",
       "  </thead>\n",
       "  <tbody>\n",
       "    <tr>\n",
       "      <th>ENSMUST00000146665.2|ENSMUSG00000033845.13|OTTMUSG00000029329.3|OTTMUST00000072662.2|Mrpl15-004|Mrpl15|1569|UTR5:1-62|CDS:63-569|UTR3:570-1569|</th>\n",
       "      <td>0.000000</td>\n",
       "      <td>3.952259</td>\n",
       "    </tr>\n",
       "    <tr>\n",
       "      <th>ENSMUST00000134384.7|ENSMUSG00000025903.14|OTTMUSG00000021562.4|OTTMUST00000051163.2|Lypla1-002|Lypla1|1136|UTR5:1-126|CDS:127-801|UTR3:802-1136|</th>\n",
       "      <td>0.278669</td>\n",
       "      <td>2.769812</td>\n",
       "    </tr>\n",
       "    <tr>\n",
       "      <th>ENSMUST00000027036.10|ENSMUSG00000025903.14|OTTMUSG00000021562.4|OTTMUST00000051162.1|Lypla1-001|Lypla1|2507|UTR5:1-91|CDS:92-784|UTR3:785-2507|</th>\n",
       "      <td>3.174784</td>\n",
       "      <td>2.992448</td>\n",
       "    </tr>\n",
       "    <tr>\n",
       "      <th>ENSMUST00000081551.13|ENSMUSG00000033813.15|OTTMUSG00000042348.1|OTTMUST00000111602.1|Tcea1-001|Tcea1|2547|UTR5:1-100|CDS:101-1006|UTR3:1007-2547|</th>\n",
       "      <td>6.947351</td>\n",
       "      <td>1.058026</td>\n",
       "    </tr>\n",
       "    <tr>\n",
       "      <th>ENSMUST00000002533.14|ENSMUSG00000002459.17|OTTMUSG00000029338.4|OTTMUST00000072687.1|Rgs20-002|Rgs20|1778|UTR5:1-160|CDS:161-880|UTR3:881-1778|</th>\n",
       "      <td>2.795065</td>\n",
       "      <td>4.141637</td>\n",
       "    </tr>\n",
       "    <tr>\n",
       "      <th>ENSMUST00000192847.5|ENSMUSG00000033793.12|OTTMUSG00000050145.9|OTTMUST00000127492.1|Atp6v1h-003|Atp6v1h|1662|UTR5:1-161|CDS:162-1487|UTR3:1488-1662|</th>\n",
       "      <td>1.774490</td>\n",
       "      <td>0.000000</td>\n",
       "    </tr>\n",
       "    <tr>\n",
       "      <th>ENSMUST00000159906.7|ENSMUSG00000025907.14|OTTMUSG00000033467.12|OTTMUST00000084214.2|Rb1cc1-009|Rb1cc1|656|UTR5:1-375|CDS:376-656|</th>\n",
       "      <td>0.000000</td>\n",
       "      <td>7.568701</td>\n",
       "    </tr>\n",
       "    <tr>\n",
       "      <th>ENSMUST00000088658.10|ENSMUSG00000025912.16|OTTMUSG00000034736.3|OTTMUST00000088260.1|Mybl1-001|Mybl1|4980|UTR5:1-255|CDS:256-2511|UTR3:2512-4980|</th>\n",
       "      <td>0.775518</td>\n",
       "      <td>1.389170</td>\n",
       "    </tr>\n",
       "    <tr>\n",
       "      <th>ENSMUST00000052843.11|ENSMUSG00000046101.16|OTTMUSG00000021854.3|OTTMUST00000051859.1|Mcmdc2-001|Mcmdc2|2826|UTR5:1-97|CDS:98-1141|UTR3:1142-2826|</th>\n",
       "      <td>2.036728</td>\n",
       "      <td>0.237117</td>\n",
       "    </tr>\n",
       "    <tr>\n",
       "      <th>ENSMUST00000118098.2|ENSMUSG00000046101.16|OTTMUSG00000021854.3|OTTMUST00000078010.2|Mcmdc2-003|Mcmdc2|2072|UTR5:1-405|CDS:406-1482|UTR3:1483-2072|</th>\n",
       "      <td>0.234414</td>\n",
       "      <td>2.070753</td>\n",
       "    </tr>\n",
       "    <tr>\n",
       "      <th>ENSMUST00000183059.1|ENSMUSG00000046101.16|OTTMUSG00000021854.3|OTTMUST00000113822.1|Mcmdc2-005|Mcmdc2|749|CDS:1-77|UTR3:78-749|</th>\n",
       "      <td>7.079271</td>\n",
       "      <td>8.468359</td>\n",
       "    </tr>\n",
       "    <tr>\n",
       "      <th>ENSMUST00000027050.9|ENSMUSG00000025917.9|OTTMUSG00000029459.3|OTTMUST00000072996.2|Cops5-001|Cops5|1698|UTR5:1-315|CDS:316-1320|UTR3:1321-1698|</th>\n",
       "      <td>6.723326</td>\n",
       "      <td>0.000000</td>\n",
       "    </tr>\n",
       "    <tr>\n",
       "      <th>ENSMUST00000186528.6|ENSMUSG00000025917.9|OTTMUSG00000029459.3|OTTMUST00000118982.1|Cops5-006|Cops5|962|UTR5:1-129|CDS:130-276|UTR3:277-962|</th>\n",
       "      <td>4.856129</td>\n",
       "      <td>0.246389</td>\n",
       "    </tr>\n",
       "    <tr>\n",
       "      <th>ENSMUST00000191012.6|ENSMUSG00000056763.16|OTTMUSG00000027401.8|OTTMUST00000118986.2|Cspp1-019|Cspp1|345|UTR5:1-135|CDS:136-345|</th>\n",
       "      <td>4.375331</td>\n",
       "      <td>0.000000</td>\n",
       "    </tr>\n",
       "    <tr>\n",
       "      <th>ENSMUST00000122156.7|ENSMUSG00000056763.16|OTTMUSG00000027401.8|OTTMUST00000067947.1|Cspp1-006|Cspp1|2535|UTR5:1-117|CDS:118-1077|UTR3:1078-2535|</th>\n",
       "      <td>3.466614</td>\n",
       "      <td>0.000000</td>\n",
       "    </tr>\n",
       "    <tr>\n",
       "      <th>ENSMUST00000155974.7|ENSMUSG00000056763.16|OTTMUSG00000027401.8|OTTMUST00000067949.4|Cspp1-008|Cspp1|445|UTR5:1-139|CDS:140-445|</th>\n",
       "      <td>3.035826</td>\n",
       "      <td>0.000000</td>\n",
       "    </tr>\n",
       "    <tr>\n",
       "      <th>ENSMUST00000188449.6|ENSMUSG00000056763.16|OTTMUSG00000027401.8|OTTMUST00000118993.1|Cspp1-024|Cspp1|538|CDS:1-317|UTR3:318-538|</th>\n",
       "      <td>6.619077</td>\n",
       "      <td>0.000000</td>\n",
       "    </tr>\n",
       "    <tr>\n",
       "      <th>ENSMUST00000088615.10|ENSMUSG00000067851.11|OTTMUSG00000033923.2|OTTMUST00000085577.1|Arfgef1-002|Arfgef1|6978|UTR5:1-176|CDS:177-5717|UTR3:5718-6978|</th>\n",
       "      <td>6.223523</td>\n",
       "      <td>2.219540</td>\n",
       "    </tr>\n",
       "    <tr>\n",
       "      <th>ENSMUST00000027056.11|ENSMUSG00000048960.13|OTTMUSG00000047927.1|OTTMUST00000123246.1|Prex2-001|Prex2|11053|UTR5:1-328|CDS:329-5125|UTR3:5126-11053|</th>\n",
       "      <td>1.736847</td>\n",
       "      <td>0.056283</td>\n",
       "    </tr>\n",
       "    <tr>\n",
       "      <th>ENSMUST00000188154.1|ENSMUSG00000048960.13|OTTMUSG00000047927.1|OTTMUST00000123253.1|Prex2-006|Prex2|843|CDS:1-122|UTR3:123-843|</th>\n",
       "      <td>1.547519</td>\n",
       "      <td>5.895499</td>\n",
       "    </tr>\n",
       "    <tr>\n",
       "      <th>ENSMUST00000171690.8|ENSMUSG00000057715.13|OTTMUSG00000033915.2|-|A830018L16Rik-201|A830018L16Rik|6158|UTR5:1-464|CDS:465-1331|UTR3:1332-6158|</th>\n",
       "      <td>1.597393</td>\n",
       "      <td>2.705801</td>\n",
       "    </tr>\n",
       "    <tr>\n",
       "      <th>ENSMUST00000188454.6|ENSMUSG00000025938.16|OTTMUSG00000022327.2|OTTMUST00000053228.2|Slco5a1-001|Slco5a1|8463|UTR5:1-591|CDS:592-3144|UTR3:3145-8463|</th>\n",
       "      <td>0.056284</td>\n",
       "      <td>3.506221</td>\n",
       "    </tr>\n",
       "    <tr>\n",
       "      <th>ENSMUST00000136197.7|ENSMUSG00000025938.16|OTTMUSG00000022327.2|OTTMUST00000053230.2|Slco5a1-003|Slco5a1|5123|UTR5:1-640|CDS:641-2617|UTR3:2618-5123|</th>\n",
       "      <td>0.027134</td>\n",
       "      <td>6.674800</td>\n",
       "    </tr>\n",
       "    <tr>\n",
       "      <th>ENSMUST00000027068.10|ENSMUSG00000025935.10|OTTMUSG00000049113.1|OTTMUST00000125384.1|Tram1-001|Tram1|2938|UTR5:1-188|CDS:189-1313|UTR3:1314-2938|</th>\n",
       "      <td>5.431071</td>\n",
       "      <td>0.201256</td>\n",
       "    </tr>\n",
       "    <tr>\n",
       "      <th>ENSMUST00000027071.6|ENSMUSG00000025937.6|OTTMUSG00000021599.3|OTTMUST00000051280.2|Lactb2-001|Lactb2|4494|UTR5:1-96|CDS:97-963|UTR3:964-4494|</th>\n",
       "      <td>3.940599</td>\n",
       "      <td>4.778224</td>\n",
       "    </tr>\n",
       "    <tr>\n",
       "      <th>ENSMUST00000041447.4|ENSMUSG00000032769.4|OTTMUSG00000049207.1|OTTMUST00000125545.1|Trpa1-001|Trpa1|4263|UTR5:1-27|CDS:28-3405|UTR3:3406-4263|</th>\n",
       "      <td>0.000000</td>\n",
       "      <td>2.086301</td>\n",
       "    </tr>\n",
       "    <tr>\n",
       "      <th>ENSMUST00000188371.6|ENSMUSG00000025925.14|OTTMUSG00000047984.2|OTTMUST00000123359.2|Terf1-001|Terf1|2268|UTR5:1-32|CDS:33-1298|UTR3:1299-2268|</th>\n",
       "      <td>0.535847</td>\n",
       "      <td>5.333087</td>\n",
       "    </tr>\n",
       "    <tr>\n",
       "      <th>ENSMUST00000115367.7|ENSMUSG00000067795.13|OTTMUSG00000022165.2|OTTMUST00000052635.1|4930444P10Rik-003|4930444P10Rik|868|UTR5:1-163|CDS:164-721|UTR3:722-868|</th>\n",
       "      <td>3.591404</td>\n",
       "      <td>4.592032</td>\n",
       "    </tr>\n",
       "    <tr>\n",
       "      <th>ENSMUST00000058437.13|ENSMUSG00000043716.13|OTTMUSG00000016936.3|OTTMUST00000041073.2|Rpl7-001|Rpl7|1163|UTR5:1-284|CDS:285-1097|UTR3:1098-1163|</th>\n",
       "      <td>9.557749</td>\n",
       "      <td>9.656554</td>\n",
       "    </tr>\n",
       "    <tr>\n",
       "      <th>ENSMUST00000149566.1|ENSMUSG00000043716.13|OTTMUSG00000016936.3|OTTMUST00000041075.2|Rpl7-003|Rpl7|838|CDS:1-838|</th>\n",
       "      <td>8.027635</td>\n",
       "      <td>7.302383</td>\n",
       "    </tr>\n",
       "    <tr>\n",
       "      <th>...</th>\n",
       "      <td>...</td>\n",
       "      <td>...</td>\n",
       "    </tr>\n",
       "    <tr>\n",
       "      <th>ENSMUST00000112172.3|ENSMUSG00000049775.16|OTTMUSG00000019572.3|OTTMUST00000046738.1|Tmsb4x-001|Tmsb4x|768|UTR5:1-225|CDS:226-360|UTR3:361-768|</th>\n",
       "      <td>13.768288</td>\n",
       "      <td>14.830347</td>\n",
       "    </tr>\n",
       "    <tr>\n",
       "      <th>ENSMUST00000112176.7|ENSMUSG00000049775.16|OTTMUSG00000019572.3|OTTMUST00000046739.2|Tmsb4x-002|Tmsb4x|698|UTR5:1-139|CDS:140-292|UTR3:293-698|</th>\n",
       "      <td>4.358734</td>\n",
       "      <td>6.675759</td>\n",
       "    </tr>\n",
       "    <tr>\n",
       "      <th>ENSMUST00000112175.1|ENSMUSG00000049775.16|OTTMUSG00000019572.3|OTTMUST00000046740.1|Tmsb4x-003|Tmsb4x|864|UTR5:1-502|CDS:503-655|UTR3:656-864|</th>\n",
       "      <td>0.653129</td>\n",
       "      <td>8.543295</td>\n",
       "    </tr>\n",
       "    <tr>\n",
       "      <th>ENSMUST00000112137.1|ENSMUSG00000031358.17|OTTMUSG00000019558.2|OTTMUST00000046702.2|Msl3-002|Msl3|2316|UTR5:1-163|CDS:164-1564|UTR3:1565-2316|</th>\n",
       "      <td>0.094384</td>\n",
       "      <td>1.071969</td>\n",
       "    </tr>\n",
       "    <tr>\n",
       "      <th>ENSMUST00000112129.7|ENSMUSG00000031355.16|OTTMUSG00000019560.4|OTTMUST00000046950.1|Arhgap6-006|Arhgap6|2487|UTR5:1-211|CDS:212-1369|UTR3:1370-2487|</th>\n",
       "      <td>2.217563</td>\n",
       "      <td>2.394953</td>\n",
       "    </tr>\n",
       "    <tr>\n",
       "      <th>ENSMUST00000154638.8|ENSMUSG00000031352.10|OTTMUSG00000019596.2|OTTMUST00000046816.2|Hccs-003|Hccs|3310|UTR5:1-239|CDS:240-521|UTR3:522-3310|</th>\n",
       "      <td>0.693446</td>\n",
       "      <td>1.291150</td>\n",
       "    </tr>\n",
       "    <tr>\n",
       "      <th>ENSMUST00000033717.8|ENSMUSG00000031352.10|OTTMUSG00000019596.2|OTTMUST00000046815.1|Hccs-002|Hccs|2320|UTR5:1-207|CDS:208-1026|UTR3:1027-2320|</th>\n",
       "      <td>5.285036</td>\n",
       "      <td>0.090573</td>\n",
       "    </tr>\n",
       "    <tr>\n",
       "      <th>ENSMUST00000115894.2|ENSMUSG00000069053.11|OTTMUSG00000045273.1|-|Uba1y-201|Uba1y|3981|UTR5:1-102|CDS:103-3279|UTR3:3280-3981|</th>\n",
       "      <td>2.265662</td>\n",
       "      <td>3.909082</td>\n",
       "    </tr>\n",
       "    <tr>\n",
       "      <th>ENSMUST00000189069.6|ENSMUSG00000056673.14|OTTMUSG00000045277.1|OTTMUST00000118912.1|Kdm5d-004|Kdm5d|2177|UTR5:1-178|CDS:179-1609|UTR3:1610-2177|</th>\n",
       "      <td>0.000000</td>\n",
       "      <td>1.415645</td>\n",
       "    </tr>\n",
       "    <tr>\n",
       "      <th>ENSMUST00000055032.13|ENSMUSG00000056673.14|OTTMUSG00000045277.1|OTTMUST00000118913.1|Kdm5d-001|Kdm5d|7974|UTR5:1-176|CDS:177-4823|UTR3:4824-7974|</th>\n",
       "      <td>3.009652</td>\n",
       "      <td>3.433922</td>\n",
       "    </tr>\n",
       "    <tr>\n",
       "      <th>ENSMUST00000186726.6|ENSMUSG00000056673.14|OTTMUSG00000045277.1|OTTMUST00000118916.1|Kdm5d-002|Kdm5d|5916|UTR5:1-128|CDS:129-944|UTR3:945-5916|</th>\n",
       "      <td>1.715568</td>\n",
       "      <td>2.865436</td>\n",
       "    </tr>\n",
       "    <tr>\n",
       "      <th>ENSMUST00000143958.7|ENSMUSG00000068457.14|OTTMUSG00000032814.5|OTTMUST00000081730.2|Uty-002|Uty|2903|UTR5:1-126|CDS:127-363|UTR3:364-2903|</th>\n",
       "      <td>1.169130</td>\n",
       "      <td>0.000000</td>\n",
       "    </tr>\n",
       "    <tr>\n",
       "      <th>ENSMUST00000091190.11|ENSMUSG00000069045.11|OTTMUSG00000045279.1|OTTMUST00000118924.1|Ddx3y-001|Ddx3y|4600|UTR5:1-106|CDS:107-2083|UTR3:2084-4600|</th>\n",
       "      <td>0.420181</td>\n",
       "      <td>1.121188</td>\n",
       "    </tr>\n",
       "    <tr>\n",
       "      <th>ENSMUST00000091178.1|ENSMUSG00000069036.3|OTTMUSG00000045384.2|OTTMUST00000119113.2|Sry-001|Sry|1188|CDS:1-1188|</th>\n",
       "      <td>2.305509</td>\n",
       "      <td>1.958223</td>\n",
       "    </tr>\n",
       "    <tr>\n",
       "      <th>ENSMUST00000190391.1|ENSMUSG00000096706.2|OTTMUSG00000045647.2|OTTMUST00000119534.2|Gm21854-001|Gm21854|1480|UTR5:1-662|CDS:663-1361|UTR3:1362-1480|</th>\n",
       "      <td>1.386447</td>\n",
       "      <td>0.904086</td>\n",
       "    </tr>\n",
       "    <tr>\n",
       "      <th>ENSMUST00000185926.1|ENSMUSG00000096036.2|OTTMUSG00000045661.2|OTTMUST00000119556.2|Gm21778-001|Gm21778|1482|UTR5:1-660|CDS:661-1359|UTR3:1360-1482|</th>\n",
       "      <td>3.411056</td>\n",
       "      <td>0.000000</td>\n",
       "    </tr>\n",
       "    <tr>\n",
       "      <th>ENSMUST00000189201.1|ENSMUSG00000094484.2|OTTMUSG00000045867.2|OTTMUST00000119866.2|Gm21244-001|Gm21244|3115|UTR5:1-405|CDS:406-1089|UTR3:1090-3115|</th>\n",
       "      <td>6.108443</td>\n",
       "      <td>7.190151</td>\n",
       "    </tr>\n",
       "    <tr>\n",
       "      <th>ENSMUST00000082392.1|ENSMUSG00000064341.1|-|-|mt-Nd1-201|mt-Nd1|957|CDS:1-957|</th>\n",
       "      <td>10.386110</td>\n",
       "      <td>12.218548</td>\n",
       "    </tr>\n",
       "    <tr>\n",
       "      <th>ENSMUST00000082396.1|ENSMUSG00000064345.1|-|-|mt-Nd2-201|mt-Nd2|1038|CDS:1-1038|</th>\n",
       "      <td>9.128672</td>\n",
       "      <td>11.083306</td>\n",
       "    </tr>\n",
       "    <tr>\n",
       "      <th>ENSMUST00000082402.1|ENSMUSG00000064351.1|-|-|mt-Co1-201|mt-Co1|1545|CDS:1-1545|</th>\n",
       "      <td>14.110687</td>\n",
       "      <td>13.061822</td>\n",
       "    </tr>\n",
       "    <tr>\n",
       "      <th>ENSMUST00000082405.1|ENSMUSG00000064354.1|-|-|mt-Co2-201|mt-Co2|684|CDS:1-684|</th>\n",
       "      <td>13.673254</td>\n",
       "      <td>13.407600</td>\n",
       "    </tr>\n",
       "    <tr>\n",
       "      <th>ENSMUST00000082407.1|ENSMUSG00000064356.3|-|-|mt-Atp8-201|mt-Atp8|204|CDS:1-204|</th>\n",
       "      <td>13.960626</td>\n",
       "      <td>14.381415</td>\n",
       "    </tr>\n",
       "    <tr>\n",
       "      <th>ENSMUST00000082408.1|ENSMUSG00000064357.1|-|-|mt-Atp6-201|mt-Atp6|681|CDS:1-681|</th>\n",
       "      <td>13.435566</td>\n",
       "      <td>13.835251</td>\n",
       "    </tr>\n",
       "    <tr>\n",
       "      <th>ENSMUST00000082409.1|ENSMUSG00000064358.1|-|-|mt-Co3-201|mt-Co3|784|CDS:1-784|</th>\n",
       "      <td>13.366910</td>\n",
       "      <td>13.871424</td>\n",
       "    </tr>\n",
       "    <tr>\n",
       "      <th>ENSMUST00000082411.1|ENSMUSG00000064360.1|-|-|mt-Nd3-201|mt-Nd3|348|CDS:1-348|</th>\n",
       "      <td>10.291689</td>\n",
       "      <td>10.614544</td>\n",
       "    </tr>\n",
       "    <tr>\n",
       "      <th>ENSMUST00000084013.1|ENSMUSG00000065947.3|-|-|mt-Nd4l-201|mt-Nd4l|297|CDS:1-297|</th>\n",
       "      <td>10.235930</td>\n",
       "      <td>11.969117</td>\n",
       "    </tr>\n",
       "    <tr>\n",
       "      <th>ENSMUST00000082414.1|ENSMUSG00000064363.1|-|-|mt-Nd4-201|mt-Nd4|1378|CDS:1-1378|</th>\n",
       "      <td>10.380158</td>\n",
       "      <td>11.326160</td>\n",
       "    </tr>\n",
       "    <tr>\n",
       "      <th>ENSMUST00000082418.1|ENSMUSG00000064367.1|-|-|mt-Nd5-201|mt-Nd5|1824|CDS:1-1824|</th>\n",
       "      <td>9.938436</td>\n",
       "      <td>10.430975</td>\n",
       "    </tr>\n",
       "    <tr>\n",
       "      <th>ENSMUST00000082419.1|ENSMUSG00000064368.1|-|-|mt-Nd6-201|mt-Nd6|519|CDS:1-519|</th>\n",
       "      <td>9.172783</td>\n",
       "      <td>10.414791</td>\n",
       "    </tr>\n",
       "    <tr>\n",
       "      <th>ENSMUST00000082421.1|ENSMUSG00000064370.1|-|-|mt-Cytb-201|mt-Cytb|1144|CDS:1-1144|</th>\n",
       "      <td>12.192564</td>\n",
       "      <td>12.669727</td>\n",
       "    </tr>\n",
       "  </tbody>\n",
       "</table>\n",
       "<p>9383 rows × 2 columns</p>\n",
       "</div>"
      ],
      "text/plain": [
       "                                                          s10        s13\n",
       "target_id                                                               \n",
       "ENSMUST00000146665.2|ENSMUSG00000033845.13|OTTM...   0.000000   3.952259\n",
       "ENSMUST00000134384.7|ENSMUSG00000025903.14|OTTM...   0.278669   2.769812\n",
       "ENSMUST00000027036.10|ENSMUSG00000025903.14|OTT...   3.174784   2.992448\n",
       "ENSMUST00000081551.13|ENSMUSG00000033813.15|OTT...   6.947351   1.058026\n",
       "ENSMUST00000002533.14|ENSMUSG00000002459.17|OTT...   2.795065   4.141637\n",
       "ENSMUST00000192847.5|ENSMUSG00000033793.12|OTTM...   1.774490   0.000000\n",
       "ENSMUST00000159906.7|ENSMUSG00000025907.14|OTTM...   0.000000   7.568701\n",
       "ENSMUST00000088658.10|ENSMUSG00000025912.16|OTT...   0.775518   1.389170\n",
       "ENSMUST00000052843.11|ENSMUSG00000046101.16|OTT...   2.036728   0.237117\n",
       "ENSMUST00000118098.2|ENSMUSG00000046101.16|OTTM...   0.234414   2.070753\n",
       "ENSMUST00000183059.1|ENSMUSG00000046101.16|OTTM...   7.079271   8.468359\n",
       "ENSMUST00000027050.9|ENSMUSG00000025917.9|OTTMU...   6.723326   0.000000\n",
       "ENSMUST00000186528.6|ENSMUSG00000025917.9|OTTMU...   4.856129   0.246389\n",
       "ENSMUST00000191012.6|ENSMUSG00000056763.16|OTTM...   4.375331   0.000000\n",
       "ENSMUST00000122156.7|ENSMUSG00000056763.16|OTTM...   3.466614   0.000000\n",
       "ENSMUST00000155974.7|ENSMUSG00000056763.16|OTTM...   3.035826   0.000000\n",
       "ENSMUST00000188449.6|ENSMUSG00000056763.16|OTTM...   6.619077   0.000000\n",
       "ENSMUST00000088615.10|ENSMUSG00000067851.11|OTT...   6.223523   2.219540\n",
       "ENSMUST00000027056.11|ENSMUSG00000048960.13|OTT...   1.736847   0.056283\n",
       "ENSMUST00000188154.1|ENSMUSG00000048960.13|OTTM...   1.547519   5.895499\n",
       "ENSMUST00000171690.8|ENSMUSG00000057715.13|OTTM...   1.597393   2.705801\n",
       "ENSMUST00000188454.6|ENSMUSG00000025938.16|OTTM...   0.056284   3.506221\n",
       "ENSMUST00000136197.7|ENSMUSG00000025938.16|OTTM...   0.027134   6.674800\n",
       "ENSMUST00000027068.10|ENSMUSG00000025935.10|OTT...   5.431071   0.201256\n",
       "ENSMUST00000027071.6|ENSMUSG00000025937.6|OTTMU...   3.940599   4.778224\n",
       "ENSMUST00000041447.4|ENSMUSG00000032769.4|OTTMU...   0.000000   2.086301\n",
       "ENSMUST00000188371.6|ENSMUSG00000025925.14|OTTM...   0.535847   5.333087\n",
       "ENSMUST00000115367.7|ENSMUSG00000067795.13|OTTM...   3.591404   4.592032\n",
       "ENSMUST00000058437.13|ENSMUSG00000043716.13|OTT...   9.557749   9.656554\n",
       "ENSMUST00000149566.1|ENSMUSG00000043716.13|OTTM...   8.027635   7.302383\n",
       "...                                                       ...        ...\n",
       "ENSMUST00000112172.3|ENSMUSG00000049775.16|OTTM...  13.768288  14.830347\n",
       "ENSMUST00000112176.7|ENSMUSG00000049775.16|OTTM...   4.358734   6.675759\n",
       "ENSMUST00000112175.1|ENSMUSG00000049775.16|OTTM...   0.653129   8.543295\n",
       "ENSMUST00000112137.1|ENSMUSG00000031358.17|OTTM...   0.094384   1.071969\n",
       "ENSMUST00000112129.7|ENSMUSG00000031355.16|OTTM...   2.217563   2.394953\n",
       "ENSMUST00000154638.8|ENSMUSG00000031352.10|OTTM...   0.693446   1.291150\n",
       "ENSMUST00000033717.8|ENSMUSG00000031352.10|OTTM...   5.285036   0.090573\n",
       "ENSMUST00000115894.2|ENSMUSG00000069053.11|OTTM...   2.265662   3.909082\n",
       "ENSMUST00000189069.6|ENSMUSG00000056673.14|OTTM...   0.000000   1.415645\n",
       "ENSMUST00000055032.13|ENSMUSG00000056673.14|OTT...   3.009652   3.433922\n",
       "ENSMUST00000186726.6|ENSMUSG00000056673.14|OTTM...   1.715568   2.865436\n",
       "ENSMUST00000143958.7|ENSMUSG00000068457.14|OTTM...   1.169130   0.000000\n",
       "ENSMUST00000091190.11|ENSMUSG00000069045.11|OTT...   0.420181   1.121188\n",
       "ENSMUST00000091178.1|ENSMUSG00000069036.3|OTTMU...   2.305509   1.958223\n",
       "ENSMUST00000190391.1|ENSMUSG00000096706.2|OTTMU...   1.386447   0.904086\n",
       "ENSMUST00000185926.1|ENSMUSG00000096036.2|OTTMU...   3.411056   0.000000\n",
       "ENSMUST00000189201.1|ENSMUSG00000094484.2|OTTMU...   6.108443   7.190151\n",
       "ENSMUST00000082392.1|ENSMUSG00000064341.1|-|-|m...  10.386110  12.218548\n",
       "ENSMUST00000082396.1|ENSMUSG00000064345.1|-|-|m...   9.128672  11.083306\n",
       "ENSMUST00000082402.1|ENSMUSG00000064351.1|-|-|m...  14.110687  13.061822\n",
       "ENSMUST00000082405.1|ENSMUSG00000064354.1|-|-|m...  13.673254  13.407600\n",
       "ENSMUST00000082407.1|ENSMUSG00000064356.3|-|-|m...  13.960626  14.381415\n",
       "ENSMUST00000082408.1|ENSMUSG00000064357.1|-|-|m...  13.435566  13.835251\n",
       "ENSMUST00000082409.1|ENSMUSG00000064358.1|-|-|m...  13.366910  13.871424\n",
       "ENSMUST00000082411.1|ENSMUSG00000064360.1|-|-|m...  10.291689  10.614544\n",
       "ENSMUST00000084013.1|ENSMUSG00000065947.3|-|-|m...  10.235930  11.969117\n",
       "ENSMUST00000082414.1|ENSMUSG00000064363.1|-|-|m...  10.380158  11.326160\n",
       "ENSMUST00000082418.1|ENSMUSG00000064367.1|-|-|m...   9.938436  10.430975\n",
       "ENSMUST00000082419.1|ENSMUSG00000064368.1|-|-|m...   9.172783  10.414791\n",
       "ENSMUST00000082421.1|ENSMUSG00000064370.1|-|-|m...  12.192564  12.669727\n",
       "\n",
       "[9383 rows x 2 columns]"
      ]
     },
     "execution_count": 23,
     "metadata": {},
     "output_type": "execute_result"
    }
   ],
   "source": [
    "expressed_genes = (kallisto_log2_tpm > 1).sum(axis=1) >= 1\n",
    "kallisto_log2_tpm.loc[expressed_genes]"
   ]
  },
  {
   "cell_type": "markdown",
   "metadata": {
    "deletable": false,
    "nbgrader": {
     "checksum": "c44c34346aa33ce0e33946866f605944",
     "grade": false,
     "grade_id": "explain_make_other_df",
     "locked": true,
     "solution": false
    }
   },
   "source": [
    "Now let's actually make another dataframe with only the expressed genes."
   ]
  },
  {
   "cell_type": "code",
   "execution_count": 24,
   "metadata": {
    "collapsed": false,
    "deletable": false,
    "nbgrader": {
     "checksum": "e68b4ca12d5c216320e2d9c971b06f27",
     "grade": false,
     "grade_id": "show_make_other_df",
     "locked": true,
     "solution": false
    }
   },
   "outputs": [
    {
     "name": "stdout",
     "output_type": "stream",
     "text": [
      "(9383, 2)\n"
     ]
    },
    {
     "data": {
      "text/html": [
       "<div>\n",
       "<table border=\"1\" class=\"dataframe\">\n",
       "  <thead>\n",
       "    <tr style=\"text-align: right;\">\n",
       "      <th></th>\n",
       "      <th>s10</th>\n",
       "      <th>s13</th>\n",
       "    </tr>\n",
       "    <tr>\n",
       "      <th>target_id</th>\n",
       "      <th></th>\n",
       "      <th></th>\n",
       "    </tr>\n",
       "  </thead>\n",
       "  <tbody>\n",
       "    <tr>\n",
       "      <th>ENSMUST00000146665.2|ENSMUSG00000033845.13|OTTMUSG00000029329.3|OTTMUST00000072662.2|Mrpl15-004|Mrpl15|1569|UTR5:1-62|CDS:63-569|UTR3:570-1569|</th>\n",
       "      <td>0.000000</td>\n",
       "      <td>3.952259</td>\n",
       "    </tr>\n",
       "    <tr>\n",
       "      <th>ENSMUST00000134384.7|ENSMUSG00000025903.14|OTTMUSG00000021562.4|OTTMUST00000051163.2|Lypla1-002|Lypla1|1136|UTR5:1-126|CDS:127-801|UTR3:802-1136|</th>\n",
       "      <td>0.278669</td>\n",
       "      <td>2.769812</td>\n",
       "    </tr>\n",
       "    <tr>\n",
       "      <th>ENSMUST00000027036.10|ENSMUSG00000025903.14|OTTMUSG00000021562.4|OTTMUST00000051162.1|Lypla1-001|Lypla1|2507|UTR5:1-91|CDS:92-784|UTR3:785-2507|</th>\n",
       "      <td>3.174784</td>\n",
       "      <td>2.992448</td>\n",
       "    </tr>\n",
       "    <tr>\n",
       "      <th>ENSMUST00000081551.13|ENSMUSG00000033813.15|OTTMUSG00000042348.1|OTTMUST00000111602.1|Tcea1-001|Tcea1|2547|UTR5:1-100|CDS:101-1006|UTR3:1007-2547|</th>\n",
       "      <td>6.947351</td>\n",
       "      <td>1.058026</td>\n",
       "    </tr>\n",
       "    <tr>\n",
       "      <th>ENSMUST00000002533.14|ENSMUSG00000002459.17|OTTMUSG00000029338.4|OTTMUST00000072687.1|Rgs20-002|Rgs20|1778|UTR5:1-160|CDS:161-880|UTR3:881-1778|</th>\n",
       "      <td>2.795065</td>\n",
       "      <td>4.141637</td>\n",
       "    </tr>\n",
       "  </tbody>\n",
       "</table>\n",
       "</div>"
      ],
      "text/plain": [
       "                                                         s10       s13\n",
       "target_id                                                             \n",
       "ENSMUST00000146665.2|ENSMUSG00000033845.13|OTTM...  0.000000  3.952259\n",
       "ENSMUST00000134384.7|ENSMUSG00000025903.14|OTTM...  0.278669  2.769812\n",
       "ENSMUST00000027036.10|ENSMUSG00000025903.14|OTT...  3.174784  2.992448\n",
       "ENSMUST00000081551.13|ENSMUSG00000033813.15|OTT...  6.947351  1.058026\n",
       "ENSMUST00000002533.14|ENSMUSG00000002459.17|OTT...  2.795065  4.141637"
      ]
     },
     "execution_count": 24,
     "metadata": {},
     "output_type": "execute_result"
    }
   ],
   "source": [
    "kallisto_log2_tpm_expressed = kallisto_log2_tpm.loc[expressed_genes]\n",
    "print(kallisto_log2_tpm_expressed.shape)\n",
    "kallisto_log2_tpm_expressed.head()"
   ]
  },
  {
   "cell_type": "markdown",
   "metadata": {
    "deletable": false,
    "nbgrader": {
     "checksum": "d4ba29b9587fa0055f4b67e498648d14",
     "grade": false,
     "grade_id": "explain_plot_jointplot_different_syntax",
     "locked": true,
     "solution": false
    }
   },
   "source": [
    "We'll plot the `jointplot` again, using a little different syntax. Since the data we want are two columns in the same dataframe, we can specify the names of the columns as \"x\" (first position) and \"y\" (second position) and then the dataframe in the third position."
   ]
  },
  {
   "cell_type": "code",
   "execution_count": 25,
   "metadata": {
    "collapsed": false,
    "deletable": false,
    "nbgrader": {
     "checksum": "ba89150f34eac2ea1a2e48d7a82097f1",
     "grade": false,
     "grade_id": "show_plot_jointplot_different_syntax",
     "locked": true,
     "solution": false
    }
   },
   "outputs": [
    {
     "data": {
      "text/plain": [
       "<seaborn.axisgrid.JointGrid at 0x2b0727d2fb70>"
      ]
     },
     "execution_count": 25,
     "metadata": {},
     "output_type": "execute_result"
    },
    {
     "data": {
      "image/png": "[encoded data removed]",
      "text/plain": [
       "<matplotlib.figure.Figure at 0x2b0727c76860>"
      ]
     },
     "metadata": {},
     "output_type": "display_data"
    }
   ],
   "source": [
    "snsy.jointplot('s10', 's13', kallisto_log2_tpm_expressed)"
   ]
  },
  {
   "cell_type": "markdown",
   "metadata": {
    "deletable": false,
    "nbgrader": {
     "checksum": "45f625bec0ad71b01b128e038fd7dfc0",
     "grade": false,
     "grade_id": "ex5_question",
     "locked": true,
     "solution": false
    }
   },
   "source": [
    "### Exercise 5: Plot logged TPM of expressed genes using `spearmanr` as the statistical function"
   ]
  },
  {
   "cell_type": "code",
   "execution_count": 26,
   "metadata": {
    "collapsed": false,
    "deletable": false,
    "nbgrader": {
     "checksum": "4899e23cbd0e42441984eb2d68a51087",
     "grade": false,
     "grade_id": "ex5_answer",
     "locked": false,
     "solution": true
    }
   },
   "outputs": [
    {
     "data": {
      "text/plain": [
       "<seaborn.axisgrid.JointGrid at 0x2b0727ebcfd0>"
      ]
     },
     "execution_count": 26,
     "metadata": {},
     "output_type": "execute_result"
    },
    {
     "data": {
      "image/png": "[encoded data removed]",
      "text/plain": [
       "<matplotlib.figure.Figure at 0x2b0727ebc7b8>"
      ]
     },
     "metadata": {},
     "output_type": "display_data"
    }
   ],
   "source": [
    "snsy.jointplot(kallisto_log2_tpm_expressed['s10'], kallisto_log2_tpm_expressed['s13'], stat_func=spearmanr)"
   ]
  },
  {
   "cell_type": "code",
   "execution_count": 27,
   "metadata": {
    "collapsed": false,
    "deletable": false,
    "nbgrader": {
     "checksum": "22c84c39b190e81dd15c4a2f84e34dbe",
     "grade": true,
     "grade_id": "ex5_test",
     "locked": true,
     "points": 2,
     "solution": false
    }
   },
   "outputs": [],
   "source": [
    "assert _.ax_joint.legend_.texts[0].get_text() == 'spearmanr = -0.23; p = 7e-113'"
   ]
  },
  {
   "cell_type": "markdown",
   "metadata": {
    "deletable": false,
    "nbgrader": {
     "checksum": "7a4e061f6c6a47d90487c249f15b9e9b",
     "grade": false,
     "grade_id": "read_featurecounts",
     "locked": true,
     "solution": false
    }
   },
   "source": [
    "## Reading `featureCounts`"
   ]
  },
  {
   "cell_type": "code",
   "execution_count": 28,
   "metadata": {
    "collapsed": false,
    "deletable": false,
    "nbgrader": {
     "checksum": "53547d73d01e37c65038b30365ec6135",
     "grade": false,
     "grade_id": "show_read_featurecounts",
     "locked": true,
     "solution": false
    }
   },
   "outputs": [
    {
     "name": "stdout",
     "output_type": "stream",
     "text": [
      "(46984, 1)\n"
     ]
    },
    {
     "data": {
      "text/html": [
       "<div>\n",
       "<table border=\"1\" class=\"dataframe\">\n",
       "  <thead>\n",
       "    <tr style=\"text-align: right;\">\n",
       "      <th></th>\n",
       "      <th></th>\n",
       "      <th></th>\n",
       "      <th></th>\n",
       "      <th></th>\n",
       "      <th></th>\n",
       "      <th># Program:featureCounts v1.5.0; Command:\"featureCounts\" \"-T\" \"8\" \"-s\" \"-B\" \"--primary\" \"-a\" \"/projects/ps-yeolab/biom262-2016/genomes/mm10/gencode/m8/gencode.vM8.basic.annotation.gtf\" \"-o\" \"/home/e1luo/projects/shalek2013/processed_data/s10_featureCounts.txt\" \"/home/e1luo/projects/shalek2013/processed_data/S10.Aligned.out.sorted.bam\"</th>\n",
       "    </tr>\n",
       "  </thead>\n",
       "  <tbody>\n",
       "    <tr>\n",
       "      <th>Geneid</th>\n",
       "      <th>Chr</th>\n",
       "      <th>Start</th>\n",
       "      <th>End</th>\n",
       "      <th>Strand</th>\n",
       "      <th>Length</th>\n",
       "      <td>/home/e1luo/projects/shalek2013/processed_data...</td>\n",
       "    </tr>\n",
       "    <tr>\n",
       "      <th>ENSMUSG00000102693.1</th>\n",
       "      <th>chr1</th>\n",
       "      <th>3073253</th>\n",
       "      <th>3074322</th>\n",
       "      <th>+</th>\n",
       "      <th>1070</th>\n",
       "      <td>0</td>\n",
       "    </tr>\n",
       "    <tr>\n",
       "      <th>ENSMUSG00000064842.1</th>\n",
       "      <th>chr1</th>\n",
       "      <th>3102016</th>\n",
       "      <th>3102125</th>\n",
       "      <th>+</th>\n",
       "      <th>110</th>\n",
       "      <td>980</td>\n",
       "    </tr>\n",
       "    <tr>\n",
       "      <th>ENSMUSG00000051951.5</th>\n",
       "      <th>chr1;chr1;chr1</th>\n",
       "      <th>3214482;3421702;3670552</th>\n",
       "      <th>3216968;3421901;3671498</th>\n",
       "      <th>-;-;-</th>\n",
       "      <th>3634</th>\n",
       "      <td>0</td>\n",
       "    </tr>\n",
       "    <tr>\n",
       "      <th>ENSMUSG00000102851.1</th>\n",
       "      <th>chr1</th>\n",
       "      <th>3252757</th>\n",
       "      <th>3253236</th>\n",
       "      <th>+</th>\n",
       "      <th>480</th>\n",
       "      <td>0</td>\n",
       "    </tr>\n",
       "  </tbody>\n",
       "</table>\n",
       "</div>"
      ],
      "text/plain": [
       "                                                                                                  # Program:featureCounts v1.5.0; Command:\"featureCounts\" \"-T\" \"8\" \"-s\" \"-B\" \"--primary\" \"-a\" \"/projects/ps-yeolab/biom262-2016/genomes/mm10/gencode/m8/gencode.vM8.basic.annotation.gtf\" \"-o\" \"/home/e1luo/projects/shalek2013/processed_data/s10_featureCounts.txt\" \"/home/e1luo/projects/shalek2013/processed_data/S10.Aligned.out.sorted.bam\" \n",
       "Geneid               Chr            Start                   End                     Strand Length  /home/e1luo/projects/shalek2013/processed_data...                                                                                                                                                                                                                                                                                              \n",
       "ENSMUSG00000102693.1 chr1           3073253                 3074322                 +      1070                                                    0                                                                                                                                                                                                                                                                                              \n",
       "ENSMUSG00000064842.1 chr1           3102016                 3102125                 +      110                                                   980                                                                                                                                                                                                                                                                                              \n",
       "ENSMUSG00000051951.5 chr1;chr1;chr1 3214482;3421702;3670552 3216968;3421901;3671498 -;-;-  3634                                                    0                                                                                                                                                                                                                                                                                              \n",
       "ENSMUSG00000102851.1 chr1           3252757                 3253236                 +      480                                                     0                                                                                                                                                                                                                                                                                              "
      ]
     },
     "execution_count": 28,
     "metadata": {},
     "output_type": "execute_result"
    }
   ],
   "source": [
    "s10_featurecounts = pd.read_table('s10_featureCounts.txt')\n",
    "print(s10_featurecounts.shape)\n",
    "s10_featurecounts.head()"
   ]
  },
  {
   "cell_type": "markdown",
   "metadata": {
    "deletable": false,
    "nbgrader": {
     "checksum": "093c1b2e7afa44fb9141fa2e104b1982",
     "grade": false,
     "grade_id": "ex6_question",
     "locked": true,
     "solution": false
    }
   },
   "source": [
    "### Exercise 6: Read `s10_featurecounts` table\n",
    "\n",
    "1. Skip the first row\n",
    "2. Set the first column (0th column) as the index"
   ]
  },
  {
   "cell_type": "code",
   "execution_count": 29,
   "metadata": {
    "collapsed": false
   },
   "outputs": [
    {
     "data": {
      "text/html": [
       "<div>\n",
       "<table border=\"1\" class=\"dataframe\">\n",
       "  <thead>\n",
       "    <tr style=\"text-align: right;\">\n",
       "      <th></th>\n",
       "      <th>Chr</th>\n",
       "      <th>Start</th>\n",
       "      <th>End</th>\n",
       "      <th>Strand</th>\n",
       "      <th>Length</th>\n",
       "      <th>/home/e1luo/projects/shalek2013/processed_data/S10.Aligned.out.sorted.bam</th>\n",
       "    </tr>\n",
       "    <tr>\n",
       "      <th>Geneid</th>\n",
       "      <th></th>\n",
       "      <th></th>\n",
       "      <th></th>\n",
       "      <th></th>\n",
       "      <th></th>\n",
       "      <th></th>\n",
       "    </tr>\n",
       "  </thead>\n",
       "  <tbody>\n",
       "    <tr>\n",
       "      <th>ENSMUSG00000102693.1</th>\n",
       "      <td>chr1</td>\n",
       "      <td>3073253</td>\n",
       "      <td>3074322</td>\n",
       "      <td>+</td>\n",
       "      <td>1070</td>\n",
       "      <td>0</td>\n",
       "    </tr>\n",
       "    <tr>\n",
       "      <th>ENSMUSG00000064842.1</th>\n",
       "      <td>chr1</td>\n",
       "      <td>3102016</td>\n",
       "      <td>3102125</td>\n",
       "      <td>+</td>\n",
       "      <td>110</td>\n",
       "      <td>980</td>\n",
       "    </tr>\n",
       "    <tr>\n",
       "      <th>ENSMUSG00000051951.5</th>\n",
       "      <td>chr1;chr1;chr1</td>\n",
       "      <td>3214482;3421702;3670552</td>\n",
       "      <td>3216968;3421901;3671498</td>\n",
       "      <td>-;-;-</td>\n",
       "      <td>3634</td>\n",
       "      <td>0</td>\n",
       "    </tr>\n",
       "    <tr>\n",
       "      <th>ENSMUSG00000102851.1</th>\n",
       "      <td>chr1</td>\n",
       "      <td>3252757</td>\n",
       "      <td>3253236</td>\n",
       "      <td>+</td>\n",
       "      <td>480</td>\n",
       "      <td>0</td>\n",
       "    </tr>\n",
       "    <tr>\n",
       "      <th>ENSMUSG00000103377.1</th>\n",
       "      <td>chr1</td>\n",
       "      <td>3365731</td>\n",
       "      <td>3368549</td>\n",
       "      <td>-</td>\n",
       "      <td>2819</td>\n",
       "      <td>0</td>\n",
       "    </tr>\n",
       "  </tbody>\n",
       "</table>\n",
       "</div>"
      ],
      "text/plain": [
       "                                 Chr                    Start  \\\n",
       "Geneid                                                          \n",
       "ENSMUSG00000102693.1            chr1                  3073253   \n",
       "ENSMUSG00000064842.1            chr1                  3102016   \n",
       "ENSMUSG00000051951.5  chr1;chr1;chr1  3214482;3421702;3670552   \n",
       "ENSMUSG00000102851.1            chr1                  3252757   \n",
       "ENSMUSG00000103377.1            chr1                  3365731   \n",
       "\n",
       "                                          End Strand  Length  \\\n",
       "Geneid                                                         \n",
       "ENSMUSG00000102693.1                  3074322      +    1070   \n",
       "ENSMUSG00000064842.1                  3102125      +     110   \n",
       "ENSMUSG00000051951.5  3216968;3421901;3671498  -;-;-    3634   \n",
       "ENSMUSG00000102851.1                  3253236      +     480   \n",
       "ENSMUSG00000103377.1                  3368549      -    2819   \n",
       "\n",
       "                      /home/e1luo/projects/shalek2013/processed_data/S10.Aligned.out.sorted.bam  \n",
       "Geneid                                                                                           \n",
       "ENSMUSG00000102693.1                                                  0                          \n",
       "ENSMUSG00000064842.1                                                980                          \n",
       "ENSMUSG00000051951.5                                                  0                          \n",
       "ENSMUSG00000102851.1                                                  0                          \n",
       "ENSMUSG00000103377.1                                                  0                          "
      ]
     },
     "execution_count": 29,
     "metadata": {},
     "output_type": "execute_result"
    }
   ],
   "source": [
    "s10_featurecounts = pd.read_table('s10_featureCounts.txt',header=1,skiprows=0,index_col=0)\n",
    "s10_featurecounts.head()"
   ]
  },
  {
   "cell_type": "markdown",
   "metadata": {
    "collapsed": false,
    "deletable": false,
    "nbgrader": {
     "checksum": "c352e68345e297fdfa43294faf719f45",
     "grade": false,
     "grade_id": "ex6_answer",
     "locked": false,
     "solution": true
    }
   },
   "source": []
  },
  {
   "cell_type": "code",
   "execution_count": 30,
   "metadata": {
    "collapsed": false,
    "deletable": false,
    "nbgrader": {
     "checksum": "4e811b4c448163a0fa2f1cbec48b46cd",
     "grade": true,
     "grade_id": "ex6_test",
     "locked": true,
     "points": 2,
     "solution": false
    }
   },
   "outputs": [],
   "source": [
    "assert s10_featurecounts.shape == (46983, 6)\n",
    "assert (s10_featurecounts.columns[:-1] == pd.Index(['Chr', 'Start', 'End', 'Strand', 'Length'],\n",
    "      dtype='object')).all()"
   ]
  },
  {
   "cell_type": "markdown",
   "metadata": {
    "deletable": false,
    "nbgrader": {
     "checksum": "ed8cc06acb3f20b808fc95204d5ee9cb",
     "grade": false,
     "grade_id": "explain_why_tpm",
     "locked": true,
     "solution": false
    }
   },
   "source": [
    "### Calculate TPM from the reads counted by `featureCounts`\n",
    "\n",
    "Now, `featureCounts` outputs the actual number of reads mapped to each gene. You can tell because the datatype is integer, which would only be true if it was raw read counts, and not a transformed value like TPM, which has decimals (i.e. is a \"floating-point\" type)\n",
    "\n",
    "\n",
    "To get the transcripts per kilobase mapped (TPM) so we can compare to the `kallisto` output, we'll have to do some extra steps."
   ]
  },
  {
   "cell_type": "code",
   "execution_count": 31,
   "metadata": {
    "collapsed": false,
    "deletable": false,
    "nbgrader": {
     "checksum": "89990f736d1c40d545394ab658671264",
     "grade": false,
     "grade_id": "show_datatypes",
     "locked": true,
     "solution": false
    }
   },
   "outputs": [
    {
     "data": {
      "text/plain": [
       "Chr                                                                          object\n",
       "Start                                                                        object\n",
       "End                                                                          object\n",
       "Strand                                                                       object\n",
       "Length                                                                        int64\n",
       "/home/e1luo/projects/shalek2013/processed_data/S10.Aligned.out.sorted.bam     int64\n",
       "dtype: object"
      ]
     },
     "execution_count": 31,
     "metadata": {},
     "output_type": "execute_result"
    }
   ],
   "source": [
    "s10_featurecounts.dtypes"
   ]
  },
  {
   "cell_type": "markdown",
   "metadata": {
    "deletable": false,
    "nbgrader": {
     "checksum": "8cd7725847f506cac9c63d42cf3e082b",
     "grade": false,
     "grade_id": "explain_distribution",
     "locked": true,
     "solution": false
    }
   },
   "source": [
    "Let's look at the distribution of the number of reads per feature using `sns.distplot`."
   ]
  },
  {
   "cell_type": "code",
   "execution_count": 32,
   "metadata": {
    "collapsed": false,
    "deletable": false,
    "nbgrader": {
     "checksum": "5a2618dbce096bd2d5d363b91cadf3f9",
     "grade": false,
     "grade_id": "show_distplot_featurecounts",
     "locked": true,
     "solution": false
    },
    "scrolled": true
   },
   "outputs": [
    {
     "data": {
      "text/plain": [
       "<matplotlib.axes._subplots.AxesSubplot at 0x2b072aa08780>"
      ]
     },
     "execution_count": 32,
     "metadata": {},
     "output_type": "execute_result"
    },
    {
     "data": {
      "image/png": "[encoded data removed]",
      "text/plain": [
       "<matplotlib.figure.Figure at 0x2b07229fbda0>"
      ]
     },
     "metadata": {},
     "output_type": "display_data"
    }
   ],
   "source": [
    "snsy.distplot(s10_featurecounts['/home/e1luo/projects/shalek2013/processed_data/S10.Aligned.out.sorted.bam'])"
   ]
  },
  {
   "cell_type": "markdown",
   "metadata": {
    "deletable": false,
    "nbgrader": {
     "checksum": "c095081c6a913b4aa6bca434e15ebef3",
     "grade": false,
     "grade_id": "remind_sum_columns",
     "locked": true,
     "solution": false
    }
   },
   "source": [
    "##For the next exercise ... remember that you can use convenient methods of \".sum()\" to get the sum of a column. This sums all the gene lengths in the data."
   ]
  },
  {
   "cell_type": "code",
   "execution_count": 33,
   "metadata": {
    "collapsed": false,
    "deletable": false,
    "nbgrader": {
     "checksum": "5a01190909fec2a6032ed4adff089baa",
     "grade": false,
     "grade_id": "show_remind_sum_columns",
     "locked": true,
     "solution": false
    }
   },
   "outputs": [
    {
     "data": {
      "text/plain": [
       "90730267"
      ]
     },
     "execution_count": 33,
     "metadata": {},
     "output_type": "execute_result"
    }
   ],
   "source": [
    "s10_featurecounts['Length'].sum()"
   ]
  },
  {
   "cell_type": "markdown",
   "metadata": {
    "deletable": false,
    "nbgrader": {
     "checksum": "2092241a2dec672c5c1f035f00600471",
     "grade": false,
     "grade_id": "explain_make_other_columns",
     "locked": true,
     "solution": false
    }
   },
   "source": [
    "Like with the log2 TPM, we'll create a new column based on the existing columns. This example assigns the big ole column name to a single variable so it's easier to work with, and creates a new column that's the sum of all lengths times the number of reads, divided by 2000 (2e3 = $2\\times 10^3$).\n",
    "\n",
    "Notice that you can use regular multiplication with \"`*`\" and division with \"`/`\" (addition with \"`+`\" and \"`-`\" also work)"
   ]
  },
  {
   "cell_type": "code",
   "execution_count": 34,
   "metadata": {
    "collapsed": false,
    "deletable": false,
    "nbgrader": {
     "checksum": "8cc92b69d823c8b75c1bfb400025d6d6",
     "grade": false,
     "grade_id": "show_make_other_columns",
     "locked": true,
     "solution": false
    }
   },
   "outputs": [
    {
     "data": {
      "text/html": [
       "<div>\n",
       "<table border=\"1\" class=\"dataframe\">\n",
       "  <thead>\n",
       "    <tr style=\"text-align: right;\">\n",
       "      <th></th>\n",
       "      <th>Chr</th>\n",
       "      <th>Start</th>\n",
       "      <th>End</th>\n",
       "      <th>Strand</th>\n",
       "      <th>Length</th>\n",
       "      <th>/home/e1luo/projects/shalek2013/processed_data/S10.Aligned.out.sorted.bam</th>\n",
       "      <th>new_column</th>\n",
       "    </tr>\n",
       "    <tr>\n",
       "      <th>Geneid</th>\n",
       "      <th></th>\n",
       "      <th></th>\n",
       "      <th></th>\n",
       "      <th></th>\n",
       "      <th></th>\n",
       "      <th></th>\n",
       "      <th></th>\n",
       "    </tr>\n",
       "  </thead>\n",
       "  <tbody>\n",
       "    <tr>\n",
       "      <th>ENSMUSG00000102693.1</th>\n",
       "      <td>chr1</td>\n",
       "      <td>3073253</td>\n",
       "      <td>3074322</td>\n",
       "      <td>+</td>\n",
       "      <td>1070</td>\n",
       "      <td>0</td>\n",
       "      <td>0.00</td>\n",
       "    </tr>\n",
       "    <tr>\n",
       "      <th>ENSMUSG00000064842.1</th>\n",
       "      <td>chr1</td>\n",
       "      <td>3102016</td>\n",
       "      <td>3102125</td>\n",
       "      <td>+</td>\n",
       "      <td>110</td>\n",
       "      <td>980</td>\n",
       "      <td>44457830.83</td>\n",
       "    </tr>\n",
       "    <tr>\n",
       "      <th>ENSMUSG00000051951.5</th>\n",
       "      <td>chr1;chr1;chr1</td>\n",
       "      <td>3214482;3421702;3670552</td>\n",
       "      <td>3216968;3421901;3671498</td>\n",
       "      <td>-;-;-</td>\n",
       "      <td>3634</td>\n",
       "      <td>0</td>\n",
       "      <td>0.00</td>\n",
       "    </tr>\n",
       "    <tr>\n",
       "      <th>ENSMUSG00000102851.1</th>\n",
       "      <td>chr1</td>\n",
       "      <td>3252757</td>\n",
       "      <td>3253236</td>\n",
       "      <td>+</td>\n",
       "      <td>480</td>\n",
       "      <td>0</td>\n",
       "      <td>0.00</td>\n",
       "    </tr>\n",
       "    <tr>\n",
       "      <th>ENSMUSG00000103377.1</th>\n",
       "      <td>chr1</td>\n",
       "      <td>3365731</td>\n",
       "      <td>3368549</td>\n",
       "      <td>-</td>\n",
       "      <td>2819</td>\n",
       "      <td>0</td>\n",
       "      <td>0.00</td>\n",
       "    </tr>\n",
       "  </tbody>\n",
       "</table>\n",
       "</div>"
      ],
      "text/plain": [
       "                                 Chr                    Start  \\\n",
       "Geneid                                                          \n",
       "ENSMUSG00000102693.1            chr1                  3073253   \n",
       "ENSMUSG00000064842.1            chr1                  3102016   \n",
       "ENSMUSG00000051951.5  chr1;chr1;chr1  3214482;3421702;3670552   \n",
       "ENSMUSG00000102851.1            chr1                  3252757   \n",
       "ENSMUSG00000103377.1            chr1                  3365731   \n",
       "\n",
       "                                          End Strand  Length  \\\n",
       "Geneid                                                         \n",
       "ENSMUSG00000102693.1                  3074322      +    1070   \n",
       "ENSMUSG00000064842.1                  3102125      +     110   \n",
       "ENSMUSG00000051951.5  3216968;3421901;3671498  -;-;-    3634   \n",
       "ENSMUSG00000102851.1                  3253236      +     480   \n",
       "ENSMUSG00000103377.1                  3368549      -    2819   \n",
       "\n",
       "                      /home/e1luo/projects/shalek2013/processed_data/S10.Aligned.out.sorted.bam  \\\n",
       "Geneid                                                                                            \n",
       "ENSMUSG00000102693.1                                                  0                           \n",
       "ENSMUSG00000064842.1                                                980                           \n",
       "ENSMUSG00000051951.5                                                  0                           \n",
       "ENSMUSG00000102851.1                                                  0                           \n",
       "ENSMUSG00000103377.1                                                  0                           \n",
       "\n",
       "                       new_column  \n",
       "Geneid                             \n",
       "ENSMUSG00000102693.1         0.00  \n",
       "ENSMUSG00000064842.1  44457830.83  \n",
       "ENSMUSG00000051951.5         0.00  \n",
       "ENSMUSG00000102851.1         0.00  \n",
       "ENSMUSG00000103377.1         0.00  "
      ]
     },
     "execution_count": 34,
     "metadata": {},
     "output_type": "execute_result"
    }
   ],
   "source": [
    "reads = s10_featurecounts['/home/e1luo/projects/shalek2013/processed_data/S10.Aligned.out.sorted.bam']\n",
    "\n",
    "s10_featurecounts['new_column'] = (s10_featurecounts['Length'].sum() * reads)/2e3\n",
    "s10_featurecounts.head()"
   ]
  },
  {
   "cell_type": "markdown",
   "metadata": {
    "deletable": false,
    "nbgrader": {
     "checksum": "b2839e934d53f41243f0852fc59a08de",
     "grade": false,
     "grade_id": "ex7_question",
     "locked": true,
     "solution": false
    }
   },
   "source": [
    "# Exercise 7: Calculate FPKM\n",
    "\n",
    "Using your knowledge about [FPKM](https://haroldpimentel.wordpress.com/2014/05/08/what-the-fpkm-a-review-rna-seq-expression-units/), add a column called `'fpkm'` to `s10_featurecounts` that's the fragments per kilobase mapped. We're doing FPKM first because you can calculate the TPM from the FPKM easily.\n",
    "\n",
    "(Use the \"Length\" column provided rather than the \"effective length\" which is the length minus the read lengths. otherwise we'll get negative FPKMs!)"
   ]
  },
  {
   "cell_type": "code",
   "execution_count": 35,
   "metadata": {
    "collapsed": false,
    "deletable": false,
    "nbgrader": {
     "checksum": "004cf512d3851824114e41d6200b1ede",
     "grade": false,
     "grade_id": "ex7_answer",
     "locked": false,
     "solution": true
    }
   },
   "outputs": [
    {
     "data": {
      "text/html": [
       "<div>\n",
       "<table border=\"1\" class=\"dataframe\">\n",
       "  <thead>\n",
       "    <tr style=\"text-align: right;\">\n",
       "      <th></th>\n",
       "      <th>Chr</th>\n",
       "      <th>Start</th>\n",
       "      <th>End</th>\n",
       "      <th>Strand</th>\n",
       "      <th>Length</th>\n",
       "      <th>/home/e1luo/projects/shalek2013/processed_data/S10.Aligned.out.sorted.bam</th>\n",
       "      <th>new_column</th>\n",
       "      <th>fpkm</th>\n",
       "    </tr>\n",
       "    <tr>\n",
       "      <th>Geneid</th>\n",
       "      <th></th>\n",
       "      <th></th>\n",
       "      <th></th>\n",
       "      <th></th>\n",
       "      <th></th>\n",
       "      <th></th>\n",
       "      <th></th>\n",
       "      <th></th>\n",
       "    </tr>\n",
       "  </thead>\n",
       "  <tbody>\n",
       "    <tr>\n",
       "      <th>ENSMUSG00000102693.1</th>\n",
       "      <td>chr1</td>\n",
       "      <td>3073253</td>\n",
       "      <td>3074322</td>\n",
       "      <td>+</td>\n",
       "      <td>1070</td>\n",
       "      <td>0</td>\n",
       "      <td>0.00</td>\n",
       "      <td>0.000000</td>\n",
       "    </tr>\n",
       "    <tr>\n",
       "      <th>ENSMUSG00000064842.1</th>\n",
       "      <td>chr1</td>\n",
       "      <td>3102016</td>\n",
       "      <td>3102125</td>\n",
       "      <td>+</td>\n",
       "      <td>110</td>\n",
       "      <td>980</td>\n",
       "      <td>44457830.83</td>\n",
       "      <td>151.953838</td>\n",
       "    </tr>\n",
       "    <tr>\n",
       "      <th>ENSMUSG00000051951.5</th>\n",
       "      <td>chr1;chr1;chr1</td>\n",
       "      <td>3214482;3421702;3670552</td>\n",
       "      <td>3216968;3421901;3671498</td>\n",
       "      <td>-;-;-</td>\n",
       "      <td>3634</td>\n",
       "      <td>0</td>\n",
       "      <td>0.00</td>\n",
       "      <td>0.000000</td>\n",
       "    </tr>\n",
       "    <tr>\n",
       "      <th>ENSMUSG00000102851.1</th>\n",
       "      <td>chr1</td>\n",
       "      <td>3252757</td>\n",
       "      <td>3253236</td>\n",
       "      <td>+</td>\n",
       "      <td>480</td>\n",
       "      <td>0</td>\n",
       "      <td>0.00</td>\n",
       "      <td>0.000000</td>\n",
       "    </tr>\n",
       "    <tr>\n",
       "      <th>ENSMUSG00000103377.1</th>\n",
       "      <td>chr1</td>\n",
       "      <td>3365731</td>\n",
       "      <td>3368549</td>\n",
       "      <td>-</td>\n",
       "      <td>2819</td>\n",
       "      <td>0</td>\n",
       "      <td>0.00</td>\n",
       "      <td>0.000000</td>\n",
       "    </tr>\n",
       "  </tbody>\n",
       "</table>\n",
       "</div>"
      ],
      "text/plain": [
       "                                 Chr                    Start  \\\n",
       "Geneid                                                          \n",
       "ENSMUSG00000102693.1            chr1                  3073253   \n",
       "ENSMUSG00000064842.1            chr1                  3102016   \n",
       "ENSMUSG00000051951.5  chr1;chr1;chr1  3214482;3421702;3670552   \n",
       "ENSMUSG00000102851.1            chr1                  3252757   \n",
       "ENSMUSG00000103377.1            chr1                  3365731   \n",
       "\n",
       "                                          End Strand  Length  \\\n",
       "Geneid                                                         \n",
       "ENSMUSG00000102693.1                  3074322      +    1070   \n",
       "ENSMUSG00000064842.1                  3102125      +     110   \n",
       "ENSMUSG00000051951.5  3216968;3421901;3671498  -;-;-    3634   \n",
       "ENSMUSG00000102851.1                  3253236      +     480   \n",
       "ENSMUSG00000103377.1                  3368549      -    2819   \n",
       "\n",
       "                      /home/e1luo/projects/shalek2013/processed_data/S10.Aligned.out.sorted.bam  \\\n",
       "Geneid                                                                                            \n",
       "ENSMUSG00000102693.1                                                  0                           \n",
       "ENSMUSG00000064842.1                                                980                           \n",
       "ENSMUSG00000051951.5                                                  0                           \n",
       "ENSMUSG00000102851.1                                                  0                           \n",
       "ENSMUSG00000103377.1                                                  0                           \n",
       "\n",
       "                       new_column        fpkm  \n",
       "Geneid                                         \n",
       "ENSMUSG00000102693.1         0.00    0.000000  \n",
       "ENSMUSG00000064842.1  44457830.83  151.953838  \n",
       "ENSMUSG00000051951.5         0.00    0.000000  \n",
       "ENSMUSG00000102851.1         0.00    0.000000  \n",
       "ENSMUSG00000103377.1         0.00    0.000000  "
      ]
     },
     "execution_count": 35,
     "metadata": {},
     "output_type": "execute_result"
    }
   ],
   "source": [
    "reads = s10_featurecounts['/home/e1luo/projects/shalek2013/processed_data/S10.Aligned.out.sorted.bam']\n",
    "\n",
    "\n",
    "# YOUR CODE HERE\n",
    "reads_total = reads.sum()\n",
    "s10_featurecounts['fpkm'] = reads* 1e9 /(s10_featurecounts['Length'] * reads_total)\n",
    "s10_featurecounts.head()"
   ]
  },
  {
   "cell_type": "code",
   "execution_count": 36,
   "metadata": {
    "collapsed": false,
    "deletable": false,
    "nbgrader": {
     "checksum": "15faf074d2e5d3e976737cace66aa8e8",
     "grade": true,
     "grade_id": "ex7_test",
     "locked": true,
     "points": 5,
     "solution": false
    }
   },
   "outputs": [],
   "source": [
    "assert s10_featurecounts.loc['ENSMUSG00000064842.1', 'fpkm'] == 151.9538381109796"
   ]
  },
  {
   "cell_type": "code",
   "execution_count": 37,
   "metadata": {
    "collapsed": false
   },
   "outputs": [],
   "source": [
    "#s10_featurecounts.loc['ENSMUSG00000064842.1', 'fpkm']"
   ]
  },
  {
   "cell_type": "markdown",
   "metadata": {
    "deletable": false,
    "nbgrader": {
     "checksum": "cf6df8bb05938a2236e1cb847baf849d",
     "grade": false,
     "grade_id": "explain_fpkm_distribution",
     "locked": true,
     "solution": false
    }
   },
   "source": [
    "Let's look at the new distribution of the FPKMs. Notice that the range is much smaller than the reads."
   ]
  },
  {
   "cell_type": "code",
   "execution_count": 38,
   "metadata": {
    "collapsed": false,
    "deletable": false,
    "nbgrader": {
     "checksum": "fc77d6872c8ba400e0d2214acbfd14d3",
     "grade": false,
     "grade_id": "show_fpkm_distribution",
     "locked": true,
     "solution": false
    }
   },
   "outputs": [
    {
     "data": {
      "text/plain": [
       "<matplotlib.axes._subplots.AxesSubplot at 0x2b0728a4dc50>"
      ]
     },
     "execution_count": 38,
     "metadata": {},
     "output_type": "execute_result"
    },
    {
     "data": {
      "image/png": "[encoded data removed]",
      "text/plain": [
       "<matplotlib.figure.Figure at 0x2b0728a71cc0>"
      ]
     },
     "metadata": {},
     "output_type": "display_data"
    }
   ],
   "source": [
    "snsy.distplot(s10_featurecounts['fpkm'])"
   ]
  },
  {
   "cell_type": "markdown",
   "metadata": {
    "deletable": false,
    "nbgrader": {
     "checksum": "0e5413de3d48d22b54162df6e1e755df",
     "grade": false,
     "grade_id": "ex8_question",
     "locked": true,
     "solution": false
    }
   },
   "source": [
    "### Exercise 8: Calculate TPM\n",
    "\n",
    "Now add a column called `'tpm'` which uses FPKM to calculate the transcripts per million. You'll need to read the [\"What the FPKM\"](https://haroldpimentel.wordpress.com/2014/05/08/what-the-fpkm-a-review-rna-seq-expression-units/) blog post in detail to get the equation for TPM.\n",
    "\n",
    "Hint: How would you sum all the FPKMs in the data?"
   ]
  },
  {
   "cell_type": "code",
   "execution_count": 39,
   "metadata": {
    "collapsed": false,
    "deletable": false,
    "nbgrader": {
     "checksum": "957b5f68c98fd412ed6d27fa6ae92fd3",
     "grade": false,
     "grade_id": "ex8_answer",
     "locked": false,
     "solution": true
    }
   },
   "outputs": [
    {
     "data": {
      "text/html": [
       "<div>\n",
       "<table border=\"1\" class=\"dataframe\">\n",
       "  <thead>\n",
       "    <tr style=\"text-align: right;\">\n",
       "      <th></th>\n",
       "      <th>Chr</th>\n",
       "      <th>Start</th>\n",
       "      <th>End</th>\n",
       "      <th>Strand</th>\n",
       "      <th>Length</th>\n",
       "      <th>/home/e1luo/projects/shalek2013/processed_data/S10.Aligned.out.sorted.bam</th>\n",
       "      <th>new_column</th>\n",
       "      <th>fpkm</th>\n",
       "      <th>tpm</th>\n",
       "    </tr>\n",
       "    <tr>\n",
       "      <th>Geneid</th>\n",
       "      <th></th>\n",
       "      <th></th>\n",
       "      <th></th>\n",
       "      <th></th>\n",
       "      <th></th>\n",
       "      <th></th>\n",
       "      <th></th>\n",
       "      <th></th>\n",
       "      <th></th>\n",
       "    </tr>\n",
       "  </thead>\n",
       "  <tbody>\n",
       "    <tr>\n",
       "      <th>ENSMUSG00000102693.1</th>\n",
       "      <td>chr1</td>\n",
       "      <td>3073253</td>\n",
       "      <td>3074322</td>\n",
       "      <td>+</td>\n",
       "      <td>1070</td>\n",
       "      <td>0</td>\n",
       "      <td>0.00</td>\n",
       "      <td>0.000000</td>\n",
       "      <td>0.000000</td>\n",
       "    </tr>\n",
       "    <tr>\n",
       "      <th>ENSMUSG00000064842.1</th>\n",
       "      <td>chr1</td>\n",
       "      <td>3102016</td>\n",
       "      <td>3102125</td>\n",
       "      <td>+</td>\n",
       "      <td>110</td>\n",
       "      <td>980</td>\n",
       "      <td>44457830.83</td>\n",
       "      <td>151.953838</td>\n",
       "      <td>260.827361</td>\n",
       "    </tr>\n",
       "    <tr>\n",
       "      <th>ENSMUSG00000051951.5</th>\n",
       "      <td>chr1;chr1;chr1</td>\n",
       "      <td>3214482;3421702;3670552</td>\n",
       "      <td>3216968;3421901;3671498</td>\n",
       "      <td>-;-;-</td>\n",
       "      <td>3634</td>\n",
       "      <td>0</td>\n",
       "      <td>0.00</td>\n",
       "      <td>0.000000</td>\n",
       "      <td>0.000000</td>\n",
       "    </tr>\n",
       "    <tr>\n",
       "      <th>ENSMUSG00000102851.1</th>\n",
       "      <td>chr1</td>\n",
       "      <td>3252757</td>\n",
       "      <td>3253236</td>\n",
       "      <td>+</td>\n",
       "      <td>480</td>\n",
       "      <td>0</td>\n",
       "      <td>0.00</td>\n",
       "      <td>0.000000</td>\n",
       "      <td>0.000000</td>\n",
       "    </tr>\n",
       "    <tr>\n",
       "      <th>ENSMUSG00000103377.1</th>\n",
       "      <td>chr1</td>\n",
       "      <td>3365731</td>\n",
       "      <td>3368549</td>\n",
       "      <td>-</td>\n",
       "      <td>2819</td>\n",
       "      <td>0</td>\n",
       "      <td>0.00</td>\n",
       "      <td>0.000000</td>\n",
       "      <td>0.000000</td>\n",
       "    </tr>\n",
       "  </tbody>\n",
       "</table>\n",
       "</div>"
      ],
      "text/plain": [
       "                                 Chr                    Start  \\\n",
       "Geneid                                                          \n",
       "ENSMUSG00000102693.1            chr1                  3073253   \n",
       "ENSMUSG00000064842.1            chr1                  3102016   \n",
       "ENSMUSG00000051951.5  chr1;chr1;chr1  3214482;3421702;3670552   \n",
       "ENSMUSG00000102851.1            chr1                  3252757   \n",
       "ENSMUSG00000103377.1            chr1                  3365731   \n",
       "\n",
       "                                          End Strand  Length  \\\n",
       "Geneid                                                         \n",
       "ENSMUSG00000102693.1                  3074322      +    1070   \n",
       "ENSMUSG00000064842.1                  3102125      +     110   \n",
       "ENSMUSG00000051951.5  3216968;3421901;3671498  -;-;-    3634   \n",
       "ENSMUSG00000102851.1                  3253236      +     480   \n",
       "ENSMUSG00000103377.1                  3368549      -    2819   \n",
       "\n",
       "                      /home/e1luo/projects/shalek2013/processed_data/S10.Aligned.out.sorted.bam  \\\n",
       "Geneid                                                                                            \n",
       "ENSMUSG00000102693.1                                                  0                           \n",
       "ENSMUSG00000064842.1                                                980                           \n",
       "ENSMUSG00000051951.5                                                  0                           \n",
       "ENSMUSG00000102851.1                                                  0                           \n",
       "ENSMUSG00000103377.1                                                  0                           \n",
       "\n",
       "                       new_column        fpkm         tpm  \n",
       "Geneid                                                     \n",
       "ENSMUSG00000102693.1         0.00    0.000000    0.000000  \n",
       "ENSMUSG00000064842.1  44457830.83  151.953838  260.827361  \n",
       "ENSMUSG00000051951.5         0.00    0.000000    0.000000  \n",
       "ENSMUSG00000102851.1         0.00    0.000000    0.000000  \n",
       "ENSMUSG00000103377.1         0.00    0.000000    0.000000  "
      ]
     },
     "execution_count": 39,
     "metadata": {},
     "output_type": "execute_result"
    }
   ],
   "source": [
    "# YOUR CODE HERE\n",
    "rate = reads /s10_featurecounts['Length'] \n",
    "s10_featurecounts['tpm'] = reads/ s10_featurecounts['Length'] * 1e6 /rate.sum()\n",
    "\n",
    "\n",
    "s10_featurecounts.head()"
   ]
  },
  {
   "cell_type": "code",
   "execution_count": 40,
   "metadata": {
    "collapsed": false,
    "deletable": false,
    "nbgrader": {
     "checksum": "9d221959855e6ba65a4d98eda8935ebb",
     "grade": true,
     "grade_id": "ex8_tests",
     "locked": true,
     "points": 5,
     "solution": false
    }
   },
   "outputs": [],
   "source": [
    "assert s10_featurecounts.loc['ENSMUSG00000064842.1', 'tpm'] == 260.82736102245417"
   ]
  },
  {
   "cell_type": "code",
   "execution_count": 41,
   "metadata": {
    "collapsed": false
   },
   "outputs": [],
   "source": [
    "#s10_featurecounts.loc['ENSMUSG00000064842.1', 'tpm']"
   ]
  },
  {
   "cell_type": "markdown",
   "metadata": {
    "deletable": false,
    "nbgrader": {
     "checksum": "e221d4eeeda24da82af29427759424ca",
     "grade": false,
     "grade_id": "explain_Tpm_distribution",
     "locked": true,
     "solution": false
    }
   },
   "source": [
    "Let's look at this new distribution of TPM. Notice its range is also smaller than the FPKMs."
   ]
  },
  {
   "cell_type": "code",
   "execution_count": 42,
   "metadata": {
    "collapsed": false,
    "deletable": false,
    "nbgrader": {
     "checksum": "d566cf6833aa80815f74b4cea5c8034f",
     "grade": false,
     "grade_id": "show_tpm_distrubtion",
     "locked": true,
     "solution": false
    }
   },
   "outputs": [
    {
     "data": {
      "text/plain": [
       "<matplotlib.axes._subplots.AxesSubplot at 0x2b0768085668>"
      ]
     },
     "execution_count": 42,
     "metadata": {},
     "output_type": "execute_result"
    },
    {
     "data": {
      "image/png": "[encoded data removed]",
      "text/plain": [
       "<matplotlib.figure.Figure at 0x2b0768048e80>"
      ]
     },
     "metadata": {},
     "output_type": "display_data"
    }
   ],
   "source": [
    "snsy.distplot(s10_featurecounts['tpm'])"
   ]
  },
  {
   "cell_type": "markdown",
   "metadata": {
    "deletable": false,
    "nbgrader": {
     "checksum": "00a1d4289bd5e0f5a202c30087380ed8",
     "grade": false,
     "grade_id": "explain_fpkm_vs_tpm",
     "locked": true,
     "solution": false
    }
   },
   "source": [
    "If you plot FPKM vs TPM, you'll see that they're linearly related, just like the equation told us :)"
   ]
  },
  {
   "cell_type": "code",
   "execution_count": 43,
   "metadata": {
    "collapsed": false,
    "deletable": false,
    "nbgrader": {
     "checksum": "9d669d1c374ad62e0965ddb50af2aafd",
     "grade": false,
     "grade_id": "plot_fpkm_vs_tpm",
     "locked": true,
     "solution": false
    }
   },
   "outputs": [
    {
     "data": {
      "text/plain": [
       "<seaborn.axisgrid.JointGrid at 0x2b0768030128>"
      ]
     },
     "execution_count": 43,
     "metadata": {},
     "output_type": "execute_result"
    },
    {
     "data": {
      "image/png": "[encoded data removed]",
      "text/plain": [
       "<matplotlib.figure.Figure at 0x2b076804d860>"
      ]
     },
     "metadata": {},
     "output_type": "display_data"
    }
   ],
   "source": [
    "snsy.jointplot('fpkm', 'tpm', s10_featurecounts)"
   ]
  },
  {
   "cell_type": "markdown",
   "metadata": {
    "deletable": false,
    "nbgrader": {
     "checksum": "951d385887ceb465e1807b40ca2b55d5",
     "grade": false,
     "grade_id": "ex9_question",
     "locked": true,
     "solution": false
    }
   },
   "source": [
    "### Exercise 9: Add a log2_tpm column\n",
    "\n",
    "Add a column called `'log2_tpm'` where you do the log2(TPM+1) transformation that we did before."
   ]
  },
  {
   "cell_type": "code",
   "execution_count": 44,
   "metadata": {
    "collapsed": false,
    "deletable": false,
    "nbgrader": {
     "checksum": "fc88aea48562abca16c4bad8b1500765",
     "grade": false,
     "grade_id": "ex9_answer",
     "locked": false,
     "solution": true
    }
   },
   "outputs": [
    {
     "data": {
      "text/html": [
       "<div>\n",
       "<table border=\"1\" class=\"dataframe\">\n",
       "  <thead>\n",
       "    <tr style=\"text-align: right;\">\n",
       "      <th></th>\n",
       "      <th>Chr</th>\n",
       "      <th>Start</th>\n",
       "      <th>End</th>\n",
       "      <th>Strand</th>\n",
       "      <th>Length</th>\n",
       "      <th>/home/e1luo/projects/shalek2013/processed_data/S10.Aligned.out.sorted.bam</th>\n",
       "      <th>new_column</th>\n",
       "      <th>fpkm</th>\n",
       "      <th>tpm</th>\n",
       "      <th>log2_tpm</th>\n",
       "    </tr>\n",
       "    <tr>\n",
       "      <th>Geneid</th>\n",
       "      <th></th>\n",
       "      <th></th>\n",
       "      <th></th>\n",
       "      <th></th>\n",
       "      <th></th>\n",
       "      <th></th>\n",
       "      <th></th>\n",
       "      <th></th>\n",
       "      <th></th>\n",
       "      <th></th>\n",
       "    </tr>\n",
       "  </thead>\n",
       "  <tbody>\n",
       "    <tr>\n",
       "      <th>ENSMUSG00000102693.1</th>\n",
       "      <td>chr1</td>\n",
       "      <td>3073253</td>\n",
       "      <td>3074322</td>\n",
       "      <td>+</td>\n",
       "      <td>1070</td>\n",
       "      <td>0</td>\n",
       "      <td>0.00</td>\n",
       "      <td>0.000000</td>\n",
       "      <td>0.000000</td>\n",
       "      <td>0.000000</td>\n",
       "    </tr>\n",
       "    <tr>\n",
       "      <th>ENSMUSG00000064842.1</th>\n",
       "      <td>chr1</td>\n",
       "      <td>3102016</td>\n",
       "      <td>3102125</td>\n",
       "      <td>+</td>\n",
       "      <td>110</td>\n",
       "      <td>980</td>\n",
       "      <td>44457830.83</td>\n",
       "      <td>151.953838</td>\n",
       "      <td>260.827361</td>\n",
       "      <td>8.032472</td>\n",
       "    </tr>\n",
       "    <tr>\n",
       "      <th>ENSMUSG00000051951.5</th>\n",
       "      <td>chr1;chr1;chr1</td>\n",
       "      <td>3214482;3421702;3670552</td>\n",
       "      <td>3216968;3421901;3671498</td>\n",
       "      <td>-;-;-</td>\n",
       "      <td>3634</td>\n",
       "      <td>0</td>\n",
       "      <td>0.00</td>\n",
       "      <td>0.000000</td>\n",
       "      <td>0.000000</td>\n",
       "      <td>0.000000</td>\n",
       "    </tr>\n",
       "    <tr>\n",
       "      <th>ENSMUSG00000102851.1</th>\n",
       "      <td>chr1</td>\n",
       "      <td>3252757</td>\n",
       "      <td>3253236</td>\n",
       "      <td>+</td>\n",
       "      <td>480</td>\n",
       "      <td>0</td>\n",
       "      <td>0.00</td>\n",
       "      <td>0.000000</td>\n",
       "      <td>0.000000</td>\n",
       "      <td>0.000000</td>\n",
       "    </tr>\n",
       "    <tr>\n",
       "      <th>ENSMUSG00000103377.1</th>\n",
       "      <td>chr1</td>\n",
       "      <td>3365731</td>\n",
       "      <td>3368549</td>\n",
       "      <td>-</td>\n",
       "      <td>2819</td>\n",
       "      <td>0</td>\n",
       "      <td>0.00</td>\n",
       "      <td>0.000000</td>\n",
       "      <td>0.000000</td>\n",
       "      <td>0.000000</td>\n",
       "    </tr>\n",
       "  </tbody>\n",
       "</table>\n",
       "</div>"
      ],
      "text/plain": [
       "                                 Chr                    Start  \\\n",
       "Geneid                                                          \n",
       "ENSMUSG00000102693.1            chr1                  3073253   \n",
       "ENSMUSG00000064842.1            chr1                  3102016   \n",
       "ENSMUSG00000051951.5  chr1;chr1;chr1  3214482;3421702;3670552   \n",
       "ENSMUSG00000102851.1            chr1                  3252757   \n",
       "ENSMUSG00000103377.1            chr1                  3365731   \n",
       "\n",
       "                                          End Strand  Length  \\\n",
       "Geneid                                                         \n",
       "ENSMUSG00000102693.1                  3074322      +    1070   \n",
       "ENSMUSG00000064842.1                  3102125      +     110   \n",
       "ENSMUSG00000051951.5  3216968;3421901;3671498  -;-;-    3634   \n",
       "ENSMUSG00000102851.1                  3253236      +     480   \n",
       "ENSMUSG00000103377.1                  3368549      -    2819   \n",
       "\n",
       "                      /home/e1luo/projects/shalek2013/processed_data/S10.Aligned.out.sorted.bam  \\\n",
       "Geneid                                                                                            \n",
       "ENSMUSG00000102693.1                                                  0                           \n",
       "ENSMUSG00000064842.1                                                980                           \n",
       "ENSMUSG00000051951.5                                                  0                           \n",
       "ENSMUSG00000102851.1                                                  0                           \n",
       "ENSMUSG00000103377.1                                                  0                           \n",
       "\n",
       "                       new_column        fpkm         tpm  log2_tpm  \n",
       "Geneid                                                               \n",
       "ENSMUSG00000102693.1         0.00    0.000000    0.000000  0.000000  \n",
       "ENSMUSG00000064842.1  44457830.83  151.953838  260.827361  8.032472  \n",
       "ENSMUSG00000051951.5         0.00    0.000000    0.000000  0.000000  \n",
       "ENSMUSG00000102851.1         0.00    0.000000    0.000000  0.000000  \n",
       "ENSMUSG00000103377.1         0.00    0.000000    0.000000  0.000000  "
      ]
     },
     "execution_count": 44,
     "metadata": {},
     "output_type": "execute_result"
    }
   ],
   "source": [
    "# YOUR CODE HERE\n",
    "s10_featurecounts['log2_tpm'] =np.log2(s10_featurecounts['tpm']+1)\n",
    "s10_featurecounts.head()"
   ]
  },
  {
   "cell_type": "code",
   "execution_count": 45,
   "metadata": {
    "collapsed": false,
    "deletable": false,
    "nbgrader": {
     "checksum": "d9f982916ccf3ac02f933e7778f02a35",
     "grade": true,
     "grade_id": "ex9_test",
     "locked": true,
     "points": 2,
     "solution": false
    }
   },
   "outputs": [],
   "source": [
    "assert s10_featurecounts.loc['ENSMUSG00000064842.1', 'log2_tpm'] == 8.0324720569159211"
   ]
  },
  {
   "cell_type": "code",
   "execution_count": 46,
   "metadata": {
    "collapsed": false
   },
   "outputs": [],
   "source": [
    "#s10_featurecounts.loc['ENSMUSG00000064842.1', 'log2_tpm']"
   ]
  },
  {
   "cell_type": "markdown",
   "metadata": {
    "deletable": false,
    "nbgrader": {
     "checksum": "d632b564c5c983c06f82de58450128c7",
     "grade": false,
     "grade_id": "compare_kalliso_featurecounts",
     "locked": true,
     "solution": false
    }
   },
   "source": [
    "## Compare kallisto and featureCounts\n",
    "\n",
    "Remember this kallisto dataframe we made? Let's take a look at it again."
   ]
  },
  {
   "cell_type": "code",
   "execution_count": 47,
   "metadata": {
    "collapsed": false,
    "deletable": false,
    "nbgrader": {
     "checksum": "54b0c6a5976b2b10be79a97928862551",
     "grade": false,
     "grade_id": "show_kallisto_df_agin",
     "locked": true,
     "solution": false
    }
   },
   "outputs": [
    {
     "data": {
      "text/html": [
       "<div>\n",
       "<table border=\"1\" class=\"dataframe\">\n",
       "  <thead>\n",
       "    <tr style=\"text-align: right;\">\n",
       "      <th></th>\n",
       "      <th>s10</th>\n",
       "      <th>s13</th>\n",
       "    </tr>\n",
       "    <tr>\n",
       "      <th>target_id</th>\n",
       "      <th></th>\n",
       "      <th></th>\n",
       "    </tr>\n",
       "  </thead>\n",
       "  <tbody>\n",
       "    <tr>\n",
       "      <th>ENSMUST00000146665.2|ENSMUSG00000033845.13|OTTMUSG00000029329.3|OTTMUST00000072662.2|Mrpl15-004|Mrpl15|1569|UTR5:1-62|CDS:63-569|UTR3:570-1569|</th>\n",
       "      <td>0.000000</td>\n",
       "      <td>3.952259</td>\n",
       "    </tr>\n",
       "    <tr>\n",
       "      <th>ENSMUST00000134384.7|ENSMUSG00000025903.14|OTTMUSG00000021562.4|OTTMUST00000051163.2|Lypla1-002|Lypla1|1136|UTR5:1-126|CDS:127-801|UTR3:802-1136|</th>\n",
       "      <td>0.278669</td>\n",
       "      <td>2.769812</td>\n",
       "    </tr>\n",
       "    <tr>\n",
       "      <th>ENSMUST00000027036.10|ENSMUSG00000025903.14|OTTMUSG00000021562.4|OTTMUST00000051162.1|Lypla1-001|Lypla1|2507|UTR5:1-91|CDS:92-784|UTR3:785-2507|</th>\n",
       "      <td>3.174784</td>\n",
       "      <td>2.992448</td>\n",
       "    </tr>\n",
       "    <tr>\n",
       "      <th>ENSMUST00000081551.13|ENSMUSG00000033813.15|OTTMUSG00000042348.1|OTTMUST00000111602.1|Tcea1-001|Tcea1|2547|UTR5:1-100|CDS:101-1006|UTR3:1007-2547|</th>\n",
       "      <td>6.947351</td>\n",
       "      <td>1.058026</td>\n",
       "    </tr>\n",
       "    <tr>\n",
       "      <th>ENSMUST00000002533.14|ENSMUSG00000002459.17|OTTMUSG00000029338.4|OTTMUST00000072687.1|Rgs20-002|Rgs20|1778|UTR5:1-160|CDS:161-880|UTR3:881-1778|</th>\n",
       "      <td>2.795065</td>\n",
       "      <td>4.141637</td>\n",
       "    </tr>\n",
       "  </tbody>\n",
       "</table>\n",
       "</div>"
      ],
      "text/plain": [
       "                                                         s10       s13\n",
       "target_id                                                             \n",
       "ENSMUST00000146665.2|ENSMUSG00000033845.13|OTTM...  0.000000  3.952259\n",
       "ENSMUST00000134384.7|ENSMUSG00000025903.14|OTTM...  0.278669  2.769812\n",
       "ENSMUST00000027036.10|ENSMUSG00000025903.14|OTT...  3.174784  2.992448\n",
       "ENSMUST00000081551.13|ENSMUSG00000033813.15|OTT...  6.947351  1.058026\n",
       "ENSMUST00000002533.14|ENSMUSG00000002459.17|OTT...  2.795065  4.141637"
      ]
     },
     "execution_count": 47,
     "metadata": {},
     "output_type": "execute_result"
    }
   ],
   "source": [
    "kallisto_log2_tpm_expressed.head()"
   ]
  },
  {
   "cell_type": "markdown",
   "metadata": {
    "deletable": false,
    "nbgrader": {
     "checksum": "173e97825667e4daa6a349c2bf77017e",
     "grade": false,
     "grade_id": "explain_str_split",
     "locked": true,
     "solution": false
    }
   },
   "source": [
    "Notice that its row names (\"`index`\") have all this stuff in them. We really only need the gene ids - everything else is an annotation of the transcript (the length, where the UTR is in the sequence, where the coding region is in the sequence, etc). \n",
    "\n",
    "Here's an example of using `split()` on this string which is one of the IDs."
   ]
  },
  {
   "cell_type": "code",
   "execution_count": 48,
   "metadata": {
    "collapsed": false,
    "deletable": false,
    "nbgrader": {
     "checksum": "a0daea5d9383904c5559e50fefb0f4f7",
     "grade": false,
     "grade_id": "str_split_example",
     "locked": true,
     "solution": false
    }
   },
   "outputs": [
    {
     "data": {
      "text/plain": [
       "['ENSMUST00000146665.2',\n",
       " 'ENSMUSG00000033845.13',\n",
       " 'OTTMUSG00000029329.3',\n",
       " 'OTTMUST00000072662.2',\n",
       " 'Mrpl15-004',\n",
       " 'Mrpl15',\n",
       " '1569',\n",
       " 'UTR5:1-62',\n",
       " 'CDS:63-569',\n",
       " 'UTR3:570-1569',\n",
       " '']"
      ]
     },
     "execution_count": 48,
     "metadata": {},
     "output_type": "execute_result"
    }
   ],
   "source": [
    "s = 'ENSMUST00000146665.2|ENSMUSG00000033845.13|OTTMUSG00000029329.3|OTTMUST00000072662.2|Mrpl15-004|Mrpl15|1569|UTR5:1-62|CDS:63-569|UTR3:570-1569|'\n",
    "s.split('|')"
   ]
  },
  {
   "cell_type": "markdown",
   "metadata": {
    "deletable": false,
    "nbgrader": {
     "checksum": "546de8673255bdd1f304c37cf460b234",
     "grade": false,
     "grade_id": "str_split_show_dataframe",
     "locked": true,
     "solution": false
    }
   },
   "source": [
    "Now since we're using DataFrames we can use this really convenient function `map` which applies the same function to each element of the vector. We'll only get the gene names by \"mapping\" a small function (\"lambda\") that splits each item in the row name on the pipe (\"|\") and takes the 1th item (remember we start counting from 0)."
   ]
  },
  {
   "cell_type": "code",
   "execution_count": 49,
   "metadata": {
    "collapsed": false,
    "deletable": false,
    "nbgrader": {
     "checksum": "ccacaf422966afa26e938e38cc283583",
     "grade": false,
     "grade_id": "show_str_split_index",
     "locked": true,
     "solution": false
    }
   },
   "outputs": [
    {
     "data": {
      "text/plain": [
       "array(['ENSMUSG00000033845.13', 'ENSMUSG00000025903.14',\n",
       "       'ENSMUSG00000025903.14', ..., 'ENSMUSG00000064367.1',\n",
       "       'ENSMUSG00000064368.1', 'ENSMUSG00000064370.1'], dtype=object)"
      ]
     },
     "execution_count": 49,
     "metadata": {},
     "output_type": "execute_result"
    }
   ],
   "source": [
    "kallisto_log2_tpm_expressed.index.map(lambda x: x.split('|')[1])"
   ]
  },
  {
   "cell_type": "markdown",
   "metadata": {
    "deletable": false,
    "nbgrader": {
     "checksum": "565749dfe5f1b3a51f8c1c876e3252e6",
     "grade": false,
     "grade_id": "explan_set_index",
     "locked": true,
     "solution": false
    }
   },
   "source": [
    "We'll now copy the original dataframe and replace the \"`index`\" with this new one, so we can compare to `featureCounts`."
   ]
  },
  {
   "cell_type": "code",
   "execution_count": 50,
   "metadata": {
    "collapsed": false,
    "deletable": false,
    "nbgrader": {
     "checksum": "f5aced27e0535fa747e9b775515edb61",
     "grade": false,
     "grade_id": "show_set_index_str_split",
     "locked": true,
     "solution": false
    }
   },
   "outputs": [
    {
     "name": "stdout",
     "output_type": "stream",
     "text": [
      "(9383, 2)\n"
     ]
    },
    {
     "data": {
      "text/html": [
       "<div>\n",
       "<table border=\"1\" class=\"dataframe\">\n",
       "  <thead>\n",
       "    <tr style=\"text-align: right;\">\n",
       "      <th></th>\n",
       "      <th>s10</th>\n",
       "      <th>s13</th>\n",
       "    </tr>\n",
       "  </thead>\n",
       "  <tbody>\n",
       "    <tr>\n",
       "      <th>ENSMUSG00000033845.13</th>\n",
       "      <td>0.000000</td>\n",
       "      <td>3.952259</td>\n",
       "    </tr>\n",
       "    <tr>\n",
       "      <th>ENSMUSG00000025903.14</th>\n",
       "      <td>0.278669</td>\n",
       "      <td>2.769812</td>\n",
       "    </tr>\n",
       "    <tr>\n",
       "      <th>ENSMUSG00000025903.14</th>\n",
       "      <td>3.174784</td>\n",
       "      <td>2.992448</td>\n",
       "    </tr>\n",
       "    <tr>\n",
       "      <th>ENSMUSG00000033813.15</th>\n",
       "      <td>6.947351</td>\n",
       "      <td>1.058026</td>\n",
       "    </tr>\n",
       "    <tr>\n",
       "      <th>ENSMUSG00000002459.17</th>\n",
       "      <td>2.795065</td>\n",
       "      <td>4.141637</td>\n",
       "    </tr>\n",
       "  </tbody>\n",
       "</table>\n",
       "</div>"
      ],
      "text/plain": [
       "                            s10       s13\n",
       "ENSMUSG00000033845.13  0.000000  3.952259\n",
       "ENSMUSG00000025903.14  0.278669  2.769812\n",
       "ENSMUSG00000025903.14  3.174784  2.992448\n",
       "ENSMUSG00000033813.15  6.947351  1.058026\n",
       "ENSMUSG00000002459.17  2.795065  4.141637"
      ]
     },
     "execution_count": 50,
     "metadata": {},
     "output_type": "execute_result"
    }
   ],
   "source": [
    "kallisto_log2_tpm_expressed_genes = kallisto_log2_tpm_expressed.copy()\n",
    "kallisto_log2_tpm_expressed_genes.index = kallisto_log2_tpm_expressed.index.map(lambda x: x.split('|')[1])\n",
    "print(kallisto_log2_tpm_expressed_genes.shape)\n",
    "kallisto_log2_tpm_expressed_genes.head()"
   ]
  },
  {
   "cell_type": "markdown",
   "metadata": {
    "deletable": false,
    "nbgrader": {
     "checksum": "d49389b5818f065d4b562f1e66f2bc68",
     "grade": false,
     "grade_id": "explain_whyy_groupby",
     "locked": true,
     "solution": false
    }
   },
   "source": [
    "Notice that we have some duplicate gene ids. This is because there were multiple transcripts per gene id.\n",
    "\n",
    "This next bit of code takes each gene ID, and for the ones that match, it'll sum the TPMs. This is legal to do because the total number of transcripts has not changed, we're merely summing per gene.\n",
    "\n",
    "The [`.groupby`](http://pandas.pydata.org/pandas-docs/stable/groupby.html) function is ***very*** useful every time you have one or more tables that have some common key (in this case gene ids) that you want to use. We won't go into it here but it may come in handy to you later."
   ]
  },
  {
   "cell_type": "code",
   "execution_count": 51,
   "metadata": {
    "collapsed": false,
    "deletable": false,
    "nbgrader": {
     "checksum": "82b49e30d3f913706b47dc5ade4adf62",
     "grade": false,
     "grade_id": "sum_gene_expression_groupby",
     "locked": true,
     "solution": false
    }
   },
   "outputs": [
    {
     "name": "stdout",
     "output_type": "stream",
     "text": [
      "(6733, 2)\n"
     ]
    },
    {
     "data": {
      "text/html": [
       "<div>\n",
       "<table border=\"1\" class=\"dataframe\">\n",
       "  <thead>\n",
       "    <tr style=\"text-align: right;\">\n",
       "      <th></th>\n",
       "      <th>s10</th>\n",
       "      <th>s13</th>\n",
       "    </tr>\n",
       "  </thead>\n",
       "  <tbody>\n",
       "    <tr>\n",
       "      <th>ENSMUSG00000000001.4</th>\n",
       "      <td>0.273651</td>\n",
       "      <td>6.259357</td>\n",
       "    </tr>\n",
       "    <tr>\n",
       "      <th>ENSMUSG00000000056.7</th>\n",
       "      <td>5.218173</td>\n",
       "      <td>0.000000</td>\n",
       "    </tr>\n",
       "    <tr>\n",
       "      <th>ENSMUSG00000000058.6</th>\n",
       "      <td>11.609494</td>\n",
       "      <td>0.344833</td>\n",
       "    </tr>\n",
       "    <tr>\n",
       "      <th>ENSMUSG00000000078.6</th>\n",
       "      <td>2.723716</td>\n",
       "      <td>4.196505</td>\n",
       "    </tr>\n",
       "    <tr>\n",
       "      <th>ENSMUSG00000000085.16</th>\n",
       "      <td>0.000000</td>\n",
       "      <td>5.360020</td>\n",
       "    </tr>\n",
       "  </tbody>\n",
       "</table>\n",
       "</div>"
      ],
      "text/plain": [
       "                             s10       s13\n",
       "ENSMUSG00000000001.4    0.273651  6.259357\n",
       "ENSMUSG00000000056.7    5.218173  0.000000\n",
       "ENSMUSG00000000058.6   11.609494  0.344833\n",
       "ENSMUSG00000000078.6    2.723716  4.196505\n",
       "ENSMUSG00000000085.16   0.000000  5.360020"
      ]
     },
     "execution_count": 51,
     "metadata": {},
     "output_type": "execute_result"
    }
   ],
   "source": [
    "kallisto_log2_tpm_expressed_genes_summed = kallisto_log2_tpm_expressed_genes.groupby(level=0, axis=0).sum()\n",
    "print(kallisto_log2_tpm_expressed_genes_summed.shape)\n",
    "kallisto_log2_tpm_expressed_genes_summed.head()"
   ]
  },
  {
   "cell_type": "markdown",
   "metadata": {
    "deletable": false,
    "nbgrader": {
     "checksum": "c0fc01ea418b023c2234de495c777759",
     "grade": false,
     "grade_id": "explain_align",
     "locked": true,
     "solution": false
    }
   },
   "source": [
    "Now we'll use a convenient function called `align` which will unify the row names of the two columns (Series) we have: the kallisto log2 TPMs and the featurecounts log2 TPMs. We'll assign them to \"`x`\" and \"`y`\" for short (for now)"
   ]
  },
  {
   "cell_type": "code",
   "execution_count": 52,
   "metadata": {
    "collapsed": false,
    "deletable": false,
    "nbgrader": {
     "checksum": "f8278d20edd49c7c8e2c0b33aea64c71",
     "grade": false,
     "grade_id": "show_align",
     "locked": true,
     "solution": false
    }
   },
   "outputs": [
    {
     "name": "stdout",
     "output_type": "stream",
     "text": [
      "before aligning: (6733,) (46983,)\n",
      "after aligning: (46983,) (46983,)\n"
     ]
    },
    {
     "data": {
      "text/plain": [
       "ENSMUSG00000000001.4     0.273651\n",
       "ENSMUSG00000000003.15         NaN\n",
       "ENSMUSG00000000028.14         NaN\n",
       "ENSMUSG00000000031.15         NaN\n",
       "ENSMUSG00000000037.16         NaN\n",
       "Name: s10, dtype: float64"
      ]
     },
     "execution_count": 52,
     "metadata": {},
     "output_type": "execute_result"
    }
   ],
   "source": [
    "x = kallisto_log2_tpm_expressed_genes_summed['s10']\n",
    "y = s10_featurecounts['log2_tpm']\n",
    "print('before aligning:', x.shape, y.shape)\n",
    "\n",
    "x, y = x.align(y)\n",
    "print('after aligning:', x.shape, y.shape)\n",
    "x.head()"
   ]
  },
  {
   "cell_type": "markdown",
   "metadata": {
    "deletable": false,
    "nbgrader": {
     "checksum": "cf9cf29dcfac19900b89b9c0ae85dcfe",
     "grade": false,
     "grade_id": "explain_change_name_series",
     "locked": true,
     "solution": false
    }
   },
   "source": [
    "So that the plot shows the name of the sample and the algorithm, we'll change the `.name` attribute of the series."
   ]
  },
  {
   "cell_type": "code",
   "execution_count": 53,
   "metadata": {
    "collapsed": true,
    "deletable": false,
    "nbgrader": {
     "checksum": "f135fabdecf7cb206cbd6800ef13efdc",
     "grade": false,
     "grade_id": "show change_name_series",
     "locked": true,
     "solution": false
    }
   },
   "outputs": [],
   "source": [
    "x.name = 'S10 kallisto'\n",
    "y.name = 'S10 featureCounts'"
   ]
  },
  {
   "cell_type": "code",
   "execution_count": 54,
   "metadata": {
    "collapsed": false,
    "deletable": false,
    "nbgrader": {
     "checksum": "b5481f46008ad084bd786895ec0a0323",
     "grade": false,
     "grade_id": "show_kallisto_featurecounts_jointplot",
     "locked": true,
     "solution": false
    }
   },
   "outputs": [
    {
     "data": {
      "text/plain": [
       "<seaborn.axisgrid.JointGrid at 0x2b0768240780>"
      ]
     },
     "execution_count": 54,
     "metadata": {},
     "output_type": "execute_result"
    },
    {
     "data": {
      "image/png": "[encoded data removed]",
      "text/plain": [
       "<matplotlib.figure.Figure at 0x2b076837b860>"
      ]
     },
     "metadata": {},
     "output_type": "display_data"
    }
   ],
   "source": [
    "snsy.jointplot(x, y)"
   ]
  },
  {
   "cell_type": "markdown",
   "metadata": {
    "deletable": false,
    "nbgrader": {
     "checksum": "f390e53b412c323b38c90839cc870587",
     "grade": false,
     "grade_id": "explain_spearman_correlation_jointplot",
     "locked": true,
     "solution": false
    }
   },
   "source": [
    "What about using spearman correlation?"
   ]
  },
  {
   "cell_type": "code",
   "execution_count": 55,
   "metadata": {
    "collapsed": false,
    "deletable": false,
    "nbgrader": {
     "checksum": "f4978e2271b295b9d1b5ff2ca86fbf6a",
     "grade": false,
     "grade_id": "show_spearman_correlation_jointplot",
     "locked": true,
     "solution": false
    }
   },
   "outputs": [
    {
     "data": {
      "text/plain": [
       "<seaborn.axisgrid.JointGrid at 0x2b07687d2f28>"
      ]
     },
     "execution_count": 55,
     "metadata": {},
     "output_type": "execute_result"
    },
    {
     "data": {
      "image/png": "[encoded data removed]",
      "text/plain": [
       "<matplotlib.figure.Figure at 0x2b07687d2ef0>"
      ]
     },
     "metadata": {},
     "output_type": "display_data"
    }
   ],
   "source": [
    "snsy.jointplot(x, y, stat_func=spearmanr)"
   ]
  },
  {
   "cell_type": "markdown",
   "metadata": {
    "deletable": false,
    "nbgrader": {
     "checksum": "4668fc68d8fda7d015bac592a6ff8449",
     "grade": false,
     "grade_id": "ex10_question",
     "locked": true,
     "solution": false
    }
   },
   "source": [
    "### Exercise 10: Why did kallisto and featureCounts give different results?\n",
    "\n",
    "Write 3-5 sentences describing why you think kallisto and FeatureCounts have similar, but different results, based on the algorithms used for mapping and (quasi-)alignment. Recall that with kallisto we mapped to protein-coding transcripts, and for FeatureCounts we first had to map with STAR (which has its own biases - like what?) and only after that we used the basic annotation, both from [GENCODE Mouse V8](http://www.gencodegenes.org/mouse_releases/8.html)."
   ]
  },
  {
   "cell_type": "raw",
   "metadata": {
    "collapsed": true,
    "deletable": false,
    "nbgrader": {
     "checksum": "503d8c45e06a467b226e593c26d4e775",
     "grade": true,
     "grade_id": "ex10_answer",
     "locked": false,
     "points": 5,
     "solution": true
    }
   },
   "source": [
    "The strategy of STAR is the search for the \"maximum mappable length of a read\". This mapping method is more accurate but slower. To compare with STAR, Kallisto used a k-mer based fast quantitation method to lookup the kmers from the \"read\" in to k-mers from the \"transcriptome\". Althoug kallisto can run faster than STAR, the k-mer based approach throws away the information in the reads, thereby leading to loss of useful information affecting the accuracy of expression abundance. "
   ]
  },
  {
   "cell_type": "markdown",
   "metadata": {
    "deletable": false,
    "nbgrader": {
     "checksum": "a8a76c64158855347edcee14284390fe",
     "grade": false,
     "grade_id": "simple_differential_expression",
     "locked": true,
     "solution": false
    }
   },
   "source": [
    "## Differential expression\n",
    "\n",
    "We'll now do some differential expression analyses to get a sense of how these different algorithms affect the results."
   ]
  },
  {
   "cell_type": "code",
   "execution_count": 56,
   "metadata": {
    "collapsed": false,
    "deletable": false,
    "nbgrader": {
     "checksum": "f9a607898f711a515f94bfad39c04864",
     "grade": false,
     "grade_id": "show_diff_kallisto",
     "locked": true,
     "solution": false
    }
   },
   "outputs": [
    {
     "data": {
      "text/plain": [
       "ENSMUSG00000000001.4     -5.985706\n",
       "ENSMUSG00000000056.7      5.218173\n",
       "ENSMUSG00000000058.6     11.264661\n",
       "ENSMUSG00000000078.6     -1.472789\n",
       "ENSMUSG00000000085.16    -5.360020\n",
       "dtype: float64"
      ]
     },
     "execution_count": 56,
     "metadata": {},
     "output_type": "execute_result"
    }
   ],
   "source": [
    "kallisto_diff = kallisto_log2_tpm_expressed_genes_summed['s10'] - kallisto_log2_tpm_expressed_genes_summed['s13']\n",
    "kallisto_diff.head()"
   ]
  },
  {
   "cell_type": "code",
   "execution_count": 57,
   "metadata": {
    "collapsed": false,
    "deletable": false,
    "nbgrader": {
     "checksum": "c6e2e5e1383e35c0a097e1fda6789acd",
     "grade": false,
     "grade_id": "kallisto_diff_distplot",
     "locked": true,
     "solution": false
    }
   },
   "outputs": [
    {
     "data": {
      "text/plain": [
       "<matplotlib.axes._subplots.AxesSubplot at 0x2b0768919828>"
      ]
     },
     "execution_count": 57,
     "metadata": {},
     "output_type": "execute_result"
    },
    {
     "data": {
      "image/png": "[encoded data removed]",
      "text/plain": [
       "<matplotlib.figure.Figure at 0x2b0768442208>"
      ]
     },
     "metadata": {},
     "output_type": "display_data"
    }
   ],
   "source": [
    "snsy.distplot(kallisto_diff)"
   ]
  },
  {
   "cell_type": "markdown",
   "metadata": {
    "deletable": false,
    "nbgrader": {
     "checksum": "253dc940392effcc8cebc7f30907ef39",
     "grade": false,
     "grade_id": "explain_getting_s10_specific_genes",
     "locked": true,
     "solution": false
    }
   },
   "source": [
    "Since the differences between genes is approximately normal, we can find the genes that are overexpressed in S10 (i.e. speceific to S10) by getting the ones that are 2 standard deviations greater than the mean.\n",
    "\n",
    "We need this line:\n",
    "\n",
    "    kallisto_s10_specific_genes = pd.Series(kallisto_s10_specific.index[kallisto_s10_specific])\n",
    "    \n",
    "Becaus we want to create a new series where the values are the gene ids, rather than the index is the gene ids. This makes writing to a file easier."
   ]
  },
  {
   "cell_type": "code",
   "execution_count": 58,
   "metadata": {
    "collapsed": false,
    "deletable": false,
    "nbgrader": {
     "checksum": "f73a29377829def0584f79035836b512",
     "grade": false,
     "grade_id": "explain_getting_s13_specific_genes",
     "locked": true,
     "solution": false
    }
   },
   "outputs": [
    {
     "name": "stdout",
     "output_type": "stream",
     "text": [
      "(218,)\n"
     ]
    },
    {
     "data": {
      "text/plain": [
       "0    ENSMUSG00000000827.18\n",
       "1    ENSMUSG00000001418.13\n",
       "2    ENSMUSG00000002699.12\n",
       "3    ENSMUSG00000002885.14\n",
       "4    ENSMUSG00000002996.17\n",
       "dtype: object"
      ]
     },
     "execution_count": 58,
     "metadata": {},
     "output_type": "execute_result"
    }
   ],
   "source": [
    "kallisto_s10_specific = kallisto_diff > (kallisto_diff.mean() + 2*kallisto_diff.std())\n",
    "kallisto_s10_specific_genes = pd.Series(kallisto_s10_specific.index[kallisto_s10_specific])\n",
    "print(kallisto_s10_specific_genes.shape)\n",
    "kallisto_s10_specific_genes.head()"
   ]
  },
  {
   "cell_type": "markdown",
   "metadata": {
    "deletable": false,
    "nbgrader": {
     "checksum": "92516e8360585b9c3e106daffd2f155d",
     "grade": false,
     "grade_id": "ex11_question",
     "locked": true,
     "solution": false
    }
   },
   "source": [
    "### Exercise 11: Get S13-specific genes in kallisto\n",
    "\n",
    "Make a series called `kallisto_s13_specific_genes` which contains the genes that are specifically expressed in the sample S13.\n",
    "\n",
    "(Hint: specific to S13 means underexpressed in S10 - so similar to above, but 2 standard deviations *less than* the mean)"
   ]
  },
  {
   "cell_type": "code",
   "execution_count": 59,
   "metadata": {
    "collapsed": false,
    "deletable": false,
    "nbgrader": {
     "checksum": "baaebdbc539087cc30ca82c98b35403f",
     "grade": false,
     "grade_id": "ex11_answer",
     "locked": false,
     "solution": true
    }
   },
   "outputs": [
    {
     "name": "stdout",
     "output_type": "stream",
     "text": [
      "(162,)\n"
     ]
    },
    {
     "data": {
      "text/plain": [
       "0    ENSMUSG00000000386.14\n",
       "1    ENSMUSG00000000399.10\n",
       "2     ENSMUSG00000000581.8\n",
       "3    ENSMUSG00000000753.15\n",
       "4    ENSMUSG00000001127.12\n",
       "dtype: object"
      ]
     },
     "execution_count": 59,
     "metadata": {},
     "output_type": "execute_result"
    }
   ],
   "source": [
    "# YOUR CODE HERE\n",
    "kallisto_diff = kallisto_log2_tpm_expressed_genes_summed['s13'] - kallisto_log2_tpm_expressed_genes_summed['s10']\n",
    "kallisto_diff.head()\n",
    "kallisto_s13_specific = kallisto_diff > (kallisto_diff.mean() + 2*kallisto_diff.std())\n",
    "kallisto_s13_specific_genes = pd.Series(kallisto_s13_specific.index[kallisto_s13_specific])\n",
    "\n",
    "print(kallisto_s13_specific_genes.shape)\n",
    "kallisto_s13_specific_genes.head()\n"
   ]
  },
  {
   "cell_type": "code",
   "execution_count": 60,
   "metadata": {
    "collapsed": false,
    "deletable": false,
    "nbgrader": {
     "checksum": "23353ecb34dd90a2c06220ae14bb9f66",
     "grade": true,
     "grade_id": "ex11_test",
     "locked": true,
     "points": 3,
     "solution": false
    }
   },
   "outputs": [],
   "source": [
    "assert kallisto_s13_specific_genes.shape == (162,)"
   ]
  },
  {
   "cell_type": "markdown",
   "metadata": {
    "deletable": false,
    "nbgrader": {
     "checksum": "d710427e9043ec5f9d22a06aca52d702",
     "grade": false,
     "grade_id": "section_save_data",
     "locked": true,
     "solution": false
    }
   },
   "source": [
    "## Save the data and perform an enrichment analysis\n",
    "\n",
    "We'll do a quick Gene Ontology to get a sense of the kind of genes which are over- or under-enriched. To do this, we'll need to save our genes to a file and then copy that to our computer.\n",
    "\n",
    "The gene ids we have are the GENCODE ids which are the ENSEMBL ids + '.version', e.g. \"ENSMUSG00000000386.14\" is ensembl ID ENSMUSG00000000386, version 14. Most of the gene ontology programs recognize the ENSEMBL ids but not GENCODE ids, so we'll remove the stuff after the period using `.split('.')[0]`, which splits the string up every time it sees a period, and then takes the first (0th - counting from zero) item."
   ]
  },
  {
   "cell_type": "code",
   "execution_count": 61,
   "metadata": {
    "collapsed": false,
    "deletable": false,
    "nbgrader": {
     "checksum": "aad2186a34a7fac9d33a2291aa93428b",
     "grade": false,
     "grade_id": "split_strings_to_get_ensembl_id",
     "locked": true,
     "solution": false
    }
   },
   "outputs": [
    {
     "data": {
      "text/plain": [
       "0    ENSMUSG00000000386\n",
       "1    ENSMUSG00000000399\n",
       "2    ENSMUSG00000000581\n",
       "3    ENSMUSG00000000753\n",
       "4    ENSMUSG00000001127\n",
       "dtype: object"
      ]
     },
     "execution_count": 61,
     "metadata": {},
     "output_type": "execute_result"
    }
   ],
   "source": [
    "kallisto_s10_specific_genes_ensembl = kallisto_s10_specific_genes.map(lambda x: x.split('.')[0])\n",
    "kallisto_s13_specific_genes_ensembl = kallisto_s13_specific_genes.map(lambda x: x.split('.')[0])\n",
    "kallisto_s13_specific_genes_ensembl.head()"
   ]
  },
  {
   "cell_type": "markdown",
   "metadata": {
    "deletable": false,
    "nbgrader": {
     "checksum": "5c5aad53918f0be521b5286bbc77b61e",
     "grade": false,
     "grade_id": "explain_save_data",
     "locked": true,
     "solution": false
    }
   },
   "source": [
    "We'll save the gene ids, but not the index/row names (which are integers starting from 0 and are boring)"
   ]
  },
  {
   "cell_type": "code",
   "execution_count": 62,
   "metadata": {
    "collapsed": true,
    "deletable": false,
    "nbgrader": {
     "checksum": "88da6f79033741f9a570165130a6c65a",
     "grade": false,
     "grade_id": "show_save_data",
     "locked": true,
     "solution": false
    }
   },
   "outputs": [],
   "source": [
    "kallisto_s10_specific_genes_ensembl.to_csv('kallisto_s10_specific_genes.csv', index=False)\n",
    "kallisto_s13_specific_genes_ensembl.to_csv('kallisto_s13_specific_genes.csv', index=False)"
   ]
  },
  {
   "cell_type": "markdown",
   "metadata": {
    "deletable": false,
    "nbgrader": {
     "checksum": "b5a6b4a85acbb1d8c7e15909e96c357a",
     "grade": false,
     "grade_id": "explain_head_saved_data",
     "locked": true,
     "solution": false
    }
   },
   "source": [
    "We can look at the data we created with `head`:"
   ]
  },
  {
   "cell_type": "code",
   "execution_count": 63,
   "metadata": {
    "collapsed": false,
    "deletable": false,
    "nbgrader": {
     "checksum": "0068ff9eefa511f3d000ff507ec2e953",
     "grade": false,
     "grade_id": "show_head_saved_data",
     "locked": true,
     "solution": false
    }
   },
   "outputs": [
    {
     "name": "stdout",
     "output_type": "stream",
     "text": [
      "==> kallisto_s10_specific_genes.csv <==\r\n",
      "ENSMUSG00000000827\r\n",
      "ENSMUSG00000001418\r\n",
      "ENSMUSG00000002699\r\n",
      "ENSMUSG00000002885\r\n",
      "ENSMUSG00000002996\r\n",
      "ENSMUSG00000003662\r\n",
      "ENSMUSG00000003721\r\n",
      "ENSMUSG00000004266\r\n",
      "ENSMUSG00000004609\r\n",
      "ENSMUSG00000004610\r\n",
      "\r\n",
      "==> kallisto_s13_specific_genes.csv <==\r\n",
      "ENSMUSG00000000386\r\n",
      "ENSMUSG00000000399\r\n",
      "ENSMUSG00000000581\r\n",
      "ENSMUSG00000000753\r\n",
      "ENSMUSG00000001127\r\n",
      "ENSMUSG00000001289\r\n",
      "ENSMUSG00000001794\r\n",
      "ENSMUSG00000002845\r\n",
      "ENSMUSG00000004296\r\n",
      "ENSMUSG00000004530\r\n"
     ]
    }
   ],
   "source": [
    "! head kallisto*specific_genes.csv"
   ]
  },
  {
   "cell_type": "markdown",
   "metadata": {
    "deletable": false,
    "nbgrader": {
     "checksum": "82023a3118a90b62979d63e887bb4923",
     "grade": false,
     "grade_id": "ex12_question",
     "locked": true,
     "solution": false
    }
   },
   "source": [
    "### Exercise 12: Perform Gene Ontology (GO) enrichment\n",
    "\n",
    "Use `scp`(Mac/Linus)/`pscp` (Windows) to secure copy these files to your computer.\n",
    "\n",
    "Go to the [gene ontology website](http://geneontology.org/page/go-enrichment-analysis) (or your other favorite gene ontology enrichment resource) and get the ontology enrichment of the s10-specific and s13-specific genes. What are the two samples enriched for?\n",
    "\n",
    "Hint: Which organism are we using?"
   ]
  },
  {
   "cell_type": "raw",
   "metadata": {},
   "source": [
    "I used Mouse to search the enrichment on gene ontology website. If we compare the \"GO biological process complete\" data set, only S13-specific genes can find three biological processes, whiche are below p-value <0.05. These three processes are (1)negative regulation of cellular metabolic process (GO:0031324) (2)regulation of macromolecule metabolic process (GO:0060255) (3)regulation of metabolic process (GO:0019222). There was not siginigicant process could be found from S10-specific genes. However, if we search for \"Molecular function\", we can find the list below"
   ]
  },
  {
   "cell_type": "code",
   "execution_count": 86,
   "metadata": {
    "collapsed": false
   },
   "outputs": [
    {
     "data": {
      "text/html": [
       "<div>\n",
       "<table border=\"1\" class=\"dataframe\">\n",
       "  <thead>\n",
       "    <tr style=\"text-align: right;\">\n",
       "      <th></th>\n",
       "      <th>1</th>\n",
       "      <th>transporter activity (GO:0005215)</th>\n",
       "      <th>7</th>\n",
       "      <th>4.9%</th>\n",
       "      <th>5.0%</th>\n",
       "    </tr>\n",
       "  </thead>\n",
       "  <tbody>\n",
       "    <tr>\n",
       "      <th>0</th>\n",
       "      <td>2</td>\n",
       "      <td>translation regulator activity (GO:0045182)</td>\n",
       "      <td>3</td>\n",
       "      <td>2.1%</td>\n",
       "      <td>2.2%</td>\n",
       "    </tr>\n",
       "    <tr>\n",
       "      <th>1</th>\n",
       "      <td>3</td>\n",
       "      <td>protein binding transcription factor activity ...</td>\n",
       "      <td>1</td>\n",
       "      <td>0.7%</td>\n",
       "      <td>0.7%</td>\n",
       "    </tr>\n",
       "    <tr>\n",
       "      <th>2</th>\n",
       "      <td>4</td>\n",
       "      <td>enzyme regulator activity (GO:0030234)</td>\n",
       "      <td>6</td>\n",
       "      <td>4.2%</td>\n",
       "      <td>4.3%</td>\n",
       "    </tr>\n",
       "    <tr>\n",
       "      <th>3</th>\n",
       "      <td>5</td>\n",
       "      <td>catalytic activity (GO:0003824)</td>\n",
       "      <td>47</td>\n",
       "      <td>33.1%</td>\n",
       "      <td>33.8%</td>\n",
       "    </tr>\n",
       "    <tr>\n",
       "      <th>4</th>\n",
       "      <td>6</td>\n",
       "      <td>channel regulator activity (GO:0016247)</td>\n",
       "      <td>1</td>\n",
       "      <td>0.7%</td>\n",
       "      <td>0.7%</td>\n",
       "    </tr>\n",
       "    <tr>\n",
       "      <th>5</th>\n",
       "      <td>7</td>\n",
       "      <td>receptor activity (GO:0004872)</td>\n",
       "      <td>11</td>\n",
       "      <td>7.7%</td>\n",
       "      <td>7.9%</td>\n",
       "    </tr>\n",
       "    <tr>\n",
       "      <th>6</th>\n",
       "      <td>8</td>\n",
       "      <td>nucleic acid binding transcription factor acti...</td>\n",
       "      <td>9</td>\n",
       "      <td>6.3%</td>\n",
       "      <td>6.5%</td>\n",
       "    </tr>\n",
       "    <tr>\n",
       "      <th>7</th>\n",
       "      <td>9</td>\n",
       "      <td>antioxidant activity (GO:0016209)</td>\n",
       "      <td>1</td>\n",
       "      <td>0.7%</td>\n",
       "      <td>0.7%</td>\n",
       "    </tr>\n",
       "    <tr>\n",
       "      <th>8</th>\n",
       "      <td>10</td>\n",
       "      <td>structural molecule activity (GO:0005198)</td>\n",
       "      <td>8</td>\n",
       "      <td>5.6%</td>\n",
       "      <td>5.8%</td>\n",
       "    </tr>\n",
       "    <tr>\n",
       "      <th>9</th>\n",
       "      <td>11</td>\n",
       "      <td>binding (GO:0005488)</td>\n",
       "      <td>45</td>\n",
       "      <td>31.7%</td>\n",
       "      <td>32.4%</td>\n",
       "    </tr>\n",
       "  </tbody>\n",
       "</table>\n",
       "</div>"
      ],
      "text/plain": [
       "    1                  transporter activity (GO:0005215)   7   4.9%   5.0%\n",
       "0   2        translation regulator activity (GO:0045182)   3   2.1%   2.2%\n",
       "1   3  protein binding transcription factor activity ...   1   0.7%   0.7%\n",
       "2   4             enzyme regulator activity (GO:0030234)   6   4.2%   4.3%\n",
       "3   5                    catalytic activity (GO:0003824)  47  33.1%  33.8%\n",
       "4   6            channel regulator activity (GO:0016247)   1   0.7%   0.7%\n",
       "5   7                     receptor activity (GO:0004872)  11   7.7%   7.9%\n",
       "6   8  nucleic acid binding transcription factor acti...   9   6.3%   6.5%\n",
       "7   9                  antioxidant activity (GO:0016209)   1   0.7%   0.7%\n",
       "8  10          structural molecule activity (GO:0005198)   8   5.6%   5.8%\n",
       "9  11                               binding (GO:0005488)  45  31.7%  32.4%"
      ]
     },
     "execution_count": 86,
     "metadata": {},
     "output_type": "execute_result"
    }
   ],
   "source": [
    "#S10 specific genes - Molecular function\n",
    "go_s10 = pd.read_table('pantherChart.txt')\n",
    "go_s10"
   ]
  },
  {
   "cell_type": "code",
   "execution_count": 85,
   "metadata": {
    "collapsed": false,
    "deletable": false,
    "nbgrader": {
     "checksum": "2bbd7ae0192d0c5b4e83790b66e4a732",
     "grade": true,
     "grade_id": "ex12_answer",
     "locked": false,
     "points": 4,
     "solution": true
    }
   },
   "outputs": [
    {
     "data": {
      "text/html": [
       "<div>\n",
       "<table border=\"1\" class=\"dataframe\">\n",
       "  <thead>\n",
       "    <tr style=\"text-align: right;\">\n",
       "      <th></th>\n",
       "      <th>1</th>\n",
       "      <th>translation regulator activity (GO:0045182)</th>\n",
       "      <th>1.1</th>\n",
       "      <th>1.2%</th>\n",
       "      <th>1.1%</th>\n",
       "    </tr>\n",
       "  </thead>\n",
       "  <tbody>\n",
       "    <tr>\n",
       "      <th>0</th>\n",
       "      <td>2</td>\n",
       "      <td>nucleic acid binding transcription factor acti...</td>\n",
       "      <td>8</td>\n",
       "      <td>9.6%</td>\n",
       "      <td>9.0%</td>\n",
       "    </tr>\n",
       "    <tr>\n",
       "      <th>1</th>\n",
       "      <td>3</td>\n",
       "      <td>binding (GO:0005488)</td>\n",
       "      <td>30</td>\n",
       "      <td>36.1%</td>\n",
       "      <td>33.7%</td>\n",
       "    </tr>\n",
       "    <tr>\n",
       "      <th>2</th>\n",
       "      <td>4</td>\n",
       "      <td>receptor activity (GO:0004872)</td>\n",
       "      <td>3</td>\n",
       "      <td>3.6%</td>\n",
       "      <td>3.4%</td>\n",
       "    </tr>\n",
       "    <tr>\n",
       "      <th>3</th>\n",
       "      <td>5</td>\n",
       "      <td>enzyme regulator activity (GO:0030234)</td>\n",
       "      <td>12</td>\n",
       "      <td>14.5%</td>\n",
       "      <td>13.5%</td>\n",
       "    </tr>\n",
       "    <tr>\n",
       "      <th>4</th>\n",
       "      <td>6</td>\n",
       "      <td>structural molecule activity (GO:0005198)</td>\n",
       "      <td>3</td>\n",
       "      <td>3.6%</td>\n",
       "      <td>3.4%</td>\n",
       "    </tr>\n",
       "    <tr>\n",
       "      <th>5</th>\n",
       "      <td>7</td>\n",
       "      <td>catalytic activity (GO:0003824)</td>\n",
       "      <td>29</td>\n",
       "      <td>34.9%</td>\n",
       "      <td>32.6%</td>\n",
       "    </tr>\n",
       "    <tr>\n",
       "      <th>6</th>\n",
       "      <td>8</td>\n",
       "      <td>protein binding transcription factor activity ...</td>\n",
       "      <td>3</td>\n",
       "      <td>3.6%</td>\n",
       "      <td>3.4%</td>\n",
       "    </tr>\n",
       "  </tbody>\n",
       "</table>\n",
       "</div>"
      ],
      "text/plain": [
       "   1        translation regulator activity (GO:0045182)  1.1   1.2%   1.1%\n",
       "0  2  nucleic acid binding transcription factor acti...    8   9.6%   9.0%\n",
       "1  3                               binding (GO:0005488)   30  36.1%  33.7%\n",
       "2  4                     receptor activity (GO:0004872)    3   3.6%   3.4%\n",
       "3  5             enzyme regulator activity (GO:0030234)   12  14.5%  13.5%\n",
       "4  6          structural molecule activity (GO:0005198)    3   3.6%   3.4%\n",
       "5  7                    catalytic activity (GO:0003824)   29  34.9%  32.6%\n",
       "6  8  protein binding transcription factor activity ...    3   3.6%   3.4%"
      ]
     },
     "execution_count": 85,
     "metadata": {},
     "output_type": "execute_result"
    }
   ],
   "source": [
    "# S13 specific genes - Molecular function\n",
    "go_s13 = pd.read_table('s13.txt')\n",
    "go_s13\n"
   ]
  },
  {
   "cell_type": "markdown",
   "metadata": {
    "deletable": false,
    "nbgrader": {
     "checksum": "4431436c2fe638908b1c855865c874b3",
     "grade": false,
     "grade_id": "ex13_question",
     "locked": true,
     "solution": false
    }
   },
   "source": [
    "### Exercise 13: Read S13 featureCounts and do all the transformations we've done\n",
    "\n",
    "\n",
    "1. Read in the `s13_featureCounts.txt` file\n",
    "2. Calculate ... (\"columnname\")\n",
    "    1. FPKM (\"fpkm\")\n",
    "    2. TPM (\"tpm\")\n",
    "    3. log2(TPM+1) (\"log2_tpm\")\n"
   ]
  },
  {
   "cell_type": "code",
   "execution_count": 66,
   "metadata": {
    "collapsed": false,
    "deletable": false,
    "nbgrader": {
     "checksum": "10446f340fbae90946e3f6460515f896",
     "grade": false,
     "grade_id": "ex13_answer",
     "locked": false,
     "solution": true
    }
   },
   "outputs": [
    {
     "name": "stdout",
     "output_type": "stream",
     "text": [
      "(46983, 9)\n"
     ]
    },
    {
     "data": {
      "text/html": [
       "<div>\n",
       "<table border=\"1\" class=\"dataframe\">\n",
       "  <thead>\n",
       "    <tr style=\"text-align: right;\">\n",
       "      <th></th>\n",
       "      <th>Chr</th>\n",
       "      <th>Start</th>\n",
       "      <th>End</th>\n",
       "      <th>Strand</th>\n",
       "      <th>Length</th>\n",
       "      <th>/home/ucsd-train01/projects/shalek2013/processed_data/S13.Aligned.out.sorted.bam</th>\n",
       "      <th>fpkm</th>\n",
       "      <th>tpm</th>\n",
       "      <th>log2_tpm</th>\n",
       "    </tr>\n",
       "    <tr>\n",
       "      <th>Geneid</th>\n",
       "      <th></th>\n",
       "      <th></th>\n",
       "      <th></th>\n",
       "      <th></th>\n",
       "      <th></th>\n",
       "      <th></th>\n",
       "      <th></th>\n",
       "      <th></th>\n",
       "      <th></th>\n",
       "    </tr>\n",
       "  </thead>\n",
       "  <tbody>\n",
       "    <tr>\n",
       "      <th>ENSMUSG00000102693.1</th>\n",
       "      <td>chr1</td>\n",
       "      <td>3073253</td>\n",
       "      <td>3074322</td>\n",
       "      <td>+</td>\n",
       "      <td>1070</td>\n",
       "      <td>0</td>\n",
       "      <td>0</td>\n",
       "      <td>0</td>\n",
       "      <td>0</td>\n",
       "    </tr>\n",
       "    <tr>\n",
       "      <th>ENSMUSG00000064842.1</th>\n",
       "      <td>chr1</td>\n",
       "      <td>3102016</td>\n",
       "      <td>3102125</td>\n",
       "      <td>+</td>\n",
       "      <td>110</td>\n",
       "      <td>0</td>\n",
       "      <td>0</td>\n",
       "      <td>0</td>\n",
       "      <td>0</td>\n",
       "    </tr>\n",
       "    <tr>\n",
       "      <th>ENSMUSG00000051951.5</th>\n",
       "      <td>chr1;chr1;chr1</td>\n",
       "      <td>3214482;3421702;3670552</td>\n",
       "      <td>3216968;3421901;3671498</td>\n",
       "      <td>-;-;-</td>\n",
       "      <td>3634</td>\n",
       "      <td>0</td>\n",
       "      <td>0</td>\n",
       "      <td>0</td>\n",
       "      <td>0</td>\n",
       "    </tr>\n",
       "    <tr>\n",
       "      <th>ENSMUSG00000102851.1</th>\n",
       "      <td>chr1</td>\n",
       "      <td>3252757</td>\n",
       "      <td>3253236</td>\n",
       "      <td>+</td>\n",
       "      <td>480</td>\n",
       "      <td>0</td>\n",
       "      <td>0</td>\n",
       "      <td>0</td>\n",
       "      <td>0</td>\n",
       "    </tr>\n",
       "    <tr>\n",
       "      <th>ENSMUSG00000103377.1</th>\n",
       "      <td>chr1</td>\n",
       "      <td>3365731</td>\n",
       "      <td>3368549</td>\n",
       "      <td>-</td>\n",
       "      <td>2819</td>\n",
       "      <td>0</td>\n",
       "      <td>0</td>\n",
       "      <td>0</td>\n",
       "      <td>0</td>\n",
       "    </tr>\n",
       "  </tbody>\n",
       "</table>\n",
       "</div>"
      ],
      "text/plain": [
       "                                 Chr                    Start  \\\n",
       "Geneid                                                          \n",
       "ENSMUSG00000102693.1            chr1                  3073253   \n",
       "ENSMUSG00000064842.1            chr1                  3102016   \n",
       "ENSMUSG00000051951.5  chr1;chr1;chr1  3214482;3421702;3670552   \n",
       "ENSMUSG00000102851.1            chr1                  3252757   \n",
       "ENSMUSG00000103377.1            chr1                  3365731   \n",
       "\n",
       "                                          End Strand  Length  \\\n",
       "Geneid                                                         \n",
       "ENSMUSG00000102693.1                  3074322      +    1070   \n",
       "ENSMUSG00000064842.1                  3102125      +     110   \n",
       "ENSMUSG00000051951.5  3216968;3421901;3671498  -;-;-    3634   \n",
       "ENSMUSG00000102851.1                  3253236      +     480   \n",
       "ENSMUSG00000103377.1                  3368549      -    2819   \n",
       "\n",
       "                      /home/ucsd-train01/projects/shalek2013/processed_data/S13.Aligned.out.sorted.bam  \\\n",
       "Geneid                                                                                                   \n",
       "ENSMUSG00000102693.1                                                  0                                  \n",
       "ENSMUSG00000064842.1                                                  0                                  \n",
       "ENSMUSG00000051951.5                                                  0                                  \n",
       "ENSMUSG00000102851.1                                                  0                                  \n",
       "ENSMUSG00000103377.1                                                  0                                  \n",
       "\n",
       "                      fpkm  tpm  log2_tpm  \n",
       "Geneid                                     \n",
       "ENSMUSG00000102693.1     0    0         0  \n",
       "ENSMUSG00000064842.1     0    0         0  \n",
       "ENSMUSG00000051951.5     0    0         0  \n",
       "ENSMUSG00000102851.1     0    0         0  \n",
       "ENSMUSG00000103377.1     0    0         0  "
      ]
     },
     "execution_count": 66,
     "metadata": {},
     "output_type": "execute_result"
    }
   ],
   "source": [
    "# YOUR CODE HERE\n",
    "s13_featurecounts = pd.read_table('s13_featureCounts.txt',header=1,skiprows=0,index_col=0)\n",
    "s13_featurecounts.head()\n",
    "reads13 = s13_featurecounts['/home/ucsd-train01/projects/shalek2013/processed_data/S13.Aligned.out.sorted.bam']\n",
    "reads_total13 = reads.sum()\n",
    "s13_featurecounts['fpkm'] = reads13* 1e9 /(s13_featurecounts['Length'] * reads_total13)\n",
    "rate = reads13 /s13_featurecounts['Length'] \n",
    "s13_featurecounts['tpm'] = reads13/ s13_featurecounts['Length'] * 1e6 /rate.sum()\n",
    "s13_featurecounts['log2_tpm'] =np.log2(s13_featurecounts['tpm']+1)\n",
    "\n",
    "\n",
    "print(s13_featurecounts.shape)\n",
    "s13_featurecounts.head()"
   ]
  },
  {
   "cell_type": "code",
   "execution_count": 67,
   "metadata": {
    "collapsed": false
   },
   "outputs": [
    {
     "name": "stdout",
     "output_type": "stream",
     "text": [
      "(46983, 9)\n"
     ]
    },
    {
     "data": {
      "text/html": [
       "<div>\n",
       "<table border=\"1\" class=\"dataframe\">\n",
       "  <thead>\n",
       "    <tr style=\"text-align: right;\">\n",
       "      <th></th>\n",
       "      <th>Chr</th>\n",
       "      <th>Start</th>\n",
       "      <th>End</th>\n",
       "      <th>Strand</th>\n",
       "      <th>Length</th>\n",
       "      <th>/home/ucsd-train01/projects/shalek2013/processed_data/S13.Aligned.out.sorted.bam</th>\n",
       "      <th>fpkm</th>\n",
       "      <th>tpm</th>\n",
       "      <th>log2_tpm</th>\n",
       "    </tr>\n",
       "    <tr>\n",
       "      <th>Geneid</th>\n",
       "      <th></th>\n",
       "      <th></th>\n",
       "      <th></th>\n",
       "      <th></th>\n",
       "      <th></th>\n",
       "      <th></th>\n",
       "      <th></th>\n",
       "      <th></th>\n",
       "      <th></th>\n",
       "    </tr>\n",
       "  </thead>\n",
       "  <tbody>\n",
       "    <tr>\n",
       "      <th>ENSMUSG00000102693.1</th>\n",
       "      <td>chr1</td>\n",
       "      <td>3073253</td>\n",
       "      <td>3074322</td>\n",
       "      <td>+</td>\n",
       "      <td>1070</td>\n",
       "      <td>0</td>\n",
       "      <td>0</td>\n",
       "      <td>0</td>\n",
       "      <td>0</td>\n",
       "    </tr>\n",
       "    <tr>\n",
       "      <th>ENSMUSG00000064842.1</th>\n",
       "      <td>chr1</td>\n",
       "      <td>3102016</td>\n",
       "      <td>3102125</td>\n",
       "      <td>+</td>\n",
       "      <td>110</td>\n",
       "      <td>0</td>\n",
       "      <td>0</td>\n",
       "      <td>0</td>\n",
       "      <td>0</td>\n",
       "    </tr>\n",
       "    <tr>\n",
       "      <th>ENSMUSG00000051951.5</th>\n",
       "      <td>chr1;chr1;chr1</td>\n",
       "      <td>3214482;3421702;3670552</td>\n",
       "      <td>3216968;3421901;3671498</td>\n",
       "      <td>-;-;-</td>\n",
       "      <td>3634</td>\n",
       "      <td>0</td>\n",
       "      <td>0</td>\n",
       "      <td>0</td>\n",
       "      <td>0</td>\n",
       "    </tr>\n",
       "    <tr>\n",
       "      <th>ENSMUSG00000102851.1</th>\n",
       "      <td>chr1</td>\n",
       "      <td>3252757</td>\n",
       "      <td>3253236</td>\n",
       "      <td>+</td>\n",
       "      <td>480</td>\n",
       "      <td>0</td>\n",
       "      <td>0</td>\n",
       "      <td>0</td>\n",
       "      <td>0</td>\n",
       "    </tr>\n",
       "    <tr>\n",
       "      <th>ENSMUSG00000103377.1</th>\n",
       "      <td>chr1</td>\n",
       "      <td>3365731</td>\n",
       "      <td>3368549</td>\n",
       "      <td>-</td>\n",
       "      <td>2819</td>\n",
       "      <td>0</td>\n",
       "      <td>0</td>\n",
       "      <td>0</td>\n",
       "      <td>0</td>\n",
       "    </tr>\n",
       "  </tbody>\n",
       "</table>\n",
       "</div>"
      ],
      "text/plain": [
       "                                 Chr                    Start  \\\n",
       "Geneid                                                          \n",
       "ENSMUSG00000102693.1            chr1                  3073253   \n",
       "ENSMUSG00000064842.1            chr1                  3102016   \n",
       "ENSMUSG00000051951.5  chr1;chr1;chr1  3214482;3421702;3670552   \n",
       "ENSMUSG00000102851.1            chr1                  3252757   \n",
       "ENSMUSG00000103377.1            chr1                  3365731   \n",
       "\n",
       "                                          End Strand  Length  \\\n",
       "Geneid                                                         \n",
       "ENSMUSG00000102693.1                  3074322      +    1070   \n",
       "ENSMUSG00000064842.1                  3102125      +     110   \n",
       "ENSMUSG00000051951.5  3216968;3421901;3671498  -;-;-    3634   \n",
       "ENSMUSG00000102851.1                  3253236      +     480   \n",
       "ENSMUSG00000103377.1                  3368549      -    2819   \n",
       "\n",
       "                      /home/ucsd-train01/projects/shalek2013/processed_data/S13.Aligned.out.sorted.bam  \\\n",
       "Geneid                                                                                                   \n",
       "ENSMUSG00000102693.1                                                  0                                  \n",
       "ENSMUSG00000064842.1                                                  0                                  \n",
       "ENSMUSG00000051951.5                                                  0                                  \n",
       "ENSMUSG00000102851.1                                                  0                                  \n",
       "ENSMUSG00000103377.1                                                  0                                  \n",
       "\n",
       "                      fpkm  tpm  log2_tpm  \n",
       "Geneid                                     \n",
       "ENSMUSG00000102693.1     0    0         0  \n",
       "ENSMUSG00000064842.1     0    0         0  \n",
       "ENSMUSG00000051951.5     0    0         0  \n",
       "ENSMUSG00000102851.1     0    0         0  \n",
       "ENSMUSG00000103377.1     0    0         0  "
      ]
     },
     "execution_count": 67,
     "metadata": {},
     "output_type": "execute_result"
    }
   ],
   "source": [
    "s13_featurecounts = pd.read_table('s13_featureCounts.txt', skiprows=1, index_col=0)\n",
    "#FPKM\n",
    "reads = s13_featurecounts['/home/ucsd-train01/projects/shalek2013/processed_data/S13.Aligned.out.sorted.bam']\n",
    "length = s13_featurecounts['Length']\n",
    "\n",
    "# YOUR CODE HERE\n",
    "total_reads = reads.sum()\n",
    "\n",
    "#number of mapped reads in genes exons x10^9/(exon length * total number of mapped reads)\n",
    "s13_featurecounts['fpkm'] = (reads*1e9)/(length*total_reads)\n",
    "\n",
    "#tpm = fpkmi/sum(fpkm)*10^6\n",
    "fpkm = s13_featurecounts['fpkm']\n",
    "total_fpkm = s13_featurecounts['fpkm'].sum()\n",
    "s13_featurecounts['tpm'] = fpkm/total_fpkm*1e6\n",
    "\n",
    "#log2 tpm\n",
    "s13_featurecounts['log2_tpm'] = np.log2(s13_featurecounts['tpm']+1)\n",
    "\n",
    "\n",
    "\n",
    "print(s13_featurecounts.shape)\n",
    "s13_featurecounts.head()\n"
   ]
  },
  {
   "cell_type": "code",
   "execution_count": 68,
   "metadata": {
    "collapsed": false,
    "deletable": false,
    "nbgrader": {
     "checksum": "bce232152e407cc70618862dcafb6501",
     "grade": true,
     "grade_id": "ex13_test",
     "locked": true,
     "points": 5,
     "solution": false
    }
   },
   "outputs": [],
   "source": [
    "assert len(s13_featurecounts.columns.intersection(['fpkm', 'tpm', 'log2_tpm'])) == 3\n",
    "assert s13_featurecounts.loc['ENSMUSG00000064370.1', 'log2_tpm'] == 13.152023286578066"
   ]
  },
  {
   "cell_type": "code",
   "execution_count": 69,
   "metadata": {
    "collapsed": false
   },
   "outputs": [],
   "source": [
    "#s13_featurecounts.loc['ENSMUSG00000064370.1', 'log2_tpm']"
   ]
  },
  {
   "cell_type": "markdown",
   "metadata": {
    "deletable": false,
    "nbgrader": {
     "checksum": "bcdaf41347e35ac9331b0c5af68f9e5c",
     "grade": false,
     "grade_id": "explain_compare_two_samples",
     "locked": true,
     "solution": false
    }
   },
   "source": [
    "Let's compare these two samples now."
   ]
  },
  {
   "cell_type": "code",
   "execution_count": 70,
   "metadata": {
    "collapsed": false,
    "deletable": false,
    "nbgrader": {
     "checksum": "825501849955f06d5631a4ee0712cbcf",
     "grade": false,
     "grade_id": "show_compare_two_samples",
     "locked": true,
     "solution": false
    }
   },
   "outputs": [
    {
     "data": {
      "text/plain": [
       "<seaborn.axisgrid.JointGrid at 0x2b0768a45160>"
      ]
     },
     "execution_count": 70,
     "metadata": {},
     "output_type": "execute_result"
    },
    {
     "data": {
      "image/png": "[encoded data removed]",
      "text/plain": [
       "<matplotlib.figure.Figure at 0x2b0768a45240>"
      ]
     },
     "metadata": {},
     "output_type": "display_data"
    }
   ],
   "source": [
    "snsy.jointplot(s10_featurecounts['log2_tpm'], s13_featurecounts['log2_tpm'])"
   ]
  },
  {
   "cell_type": "markdown",
   "metadata": {
    "deletable": false,
    "nbgrader": {
     "checksum": "d0b4cc3814eb8271523bf69ff79933af",
     "grade": false,
     "grade_id": "ex14_question",
     "locked": true,
     "solution": false
    }
   },
   "source": [
    "### Exercise 14: Get the difference in gene expression\n",
    "\n",
    "Create a series called `featurecounts_diff` that is the difference between S10 and S13 log2 TPM in featurecounts (relative to S10)."
   ]
  },
  {
   "cell_type": "code",
   "execution_count": 71,
   "metadata": {
    "collapsed": false,
    "deletable": false,
    "nbgrader": {
     "checksum": "eb81373420b2b5db066c5dd8e7974cb3",
     "grade": false,
     "grade_id": "ex14_answer",
     "locked": false,
     "solution": true
    }
   },
   "outputs": [
    {
     "name": "stdout",
     "output_type": "stream",
     "text": [
      "(46983,)\n"
     ]
    },
    {
     "data": {
      "text/plain": [
       "Geneid\n",
       "ENSMUSG00000102693.1    0.000000\n",
       "ENSMUSG00000064842.1    8.032472\n",
       "ENSMUSG00000051951.5    0.000000\n",
       "ENSMUSG00000102851.1    0.000000\n",
       "ENSMUSG00000103377.1    0.000000\n",
       "dtype: float64"
      ]
     },
     "execution_count": 71,
     "metadata": {},
     "output_type": "execute_result"
    }
   ],
   "source": [
    "# YOUR CODE HERE\n",
    "featurecounts_log_tpm = pd.concat([s10_featurecounts['log2_tpm'], s13_featurecounts['log2_tpm']], axis=1, keys=['s10', 's13'])\n",
    "featurecounts_diff = featurecounts_log_tpm['s10'] - featurecounts_log_tpm['s13']\n",
    "print(featurecounts_diff.shape)\n",
    "featurecounts_diff.head()"
   ]
  },
  {
   "cell_type": "code",
   "execution_count": 72,
   "metadata": {
    "collapsed": false,
    "deletable": false,
    "nbgrader": {
     "checksum": "e5d6d612d221da89961af730772f6707",
     "grade": true,
     "grade_id": "ex14_test",
     "locked": true,
     "points": 2,
     "solution": false
    }
   },
   "outputs": [],
   "source": [
    "assert featurecounts_diff['ENSMUSG00000064842.1'] == 8.0324720569159211"
   ]
  },
  {
   "cell_type": "code",
   "execution_count": 73,
   "metadata": {
    "collapsed": false
   },
   "outputs": [
    {
     "data": {
      "text/plain": [
       "8.0324720569159211"
      ]
     },
     "execution_count": 73,
     "metadata": {},
     "output_type": "execute_result"
    }
   ],
   "source": [
    "featurecounts_diff['ENSMUSG00000064842.1']"
   ]
  },
  {
   "cell_type": "markdown",
   "metadata": {
    "deletable": false,
    "nbgrader": {
     "checksum": "60f6953017213e6f9621a07911e9c3de",
     "grade": false,
     "grade_id": "explaiN_distribution_diffs_featurecounts",
     "locked": true,
     "solution": false
    }
   },
   "source": [
    "Let's look at the distribution of the differences."
   ]
  },
  {
   "cell_type": "code",
   "execution_count": 74,
   "metadata": {
    "collapsed": false,
    "deletable": false,
    "nbgrader": {
     "checksum": "38c37995d6ab9d5a2df4838398a44abd",
     "grade": false,
     "grade_id": "show_distribution_diffs_featurecounts",
     "locked": true,
     "solution": false
    }
   },
   "outputs": [
    {
     "data": {
      "text/plain": [
       "<matplotlib.axes._subplots.AxesSubplot at 0x2b0768cb6b70>"
      ]
     },
     "execution_count": 74,
     "metadata": {},
     "output_type": "execute_result"
    },
    {
     "data": {
      "image/png": "[encoded data removed]",
      "text/plain": [
       "<matplotlib.figure.Figure at 0x2b0768e01668>"
      ]
     },
     "metadata": {},
     "output_type": "display_data"
    }
   ],
   "source": [
    "snsy.distplot(featurecounts_diff)"
   ]
  },
  {
   "cell_type": "markdown",
   "metadata": {
    "deletable": false,
    "nbgrader": {
     "checksum": "87e512c9bf60c1bea5e5063a9b70adde",
     "grade": false,
     "grade_id": "explaiN_get_rid_of_zero_diffs",
     "locked": true,
     "solution": false
    }
   },
   "source": [
    "Yikes, there's a TON of things at zero. Let's get rid of them."
   ]
  },
  {
   "cell_type": "code",
   "execution_count": 75,
   "metadata": {
    "collapsed": false,
    "deletable": false,
    "nbgrader": {
     "checksum": "4f5cdbb9a02c7c76e8f32e28d9bbf1d4",
     "grade": false,
     "grade_id": "show_get_rid_of_zero_diffs",
     "locked": true,
     "solution": false
    }
   },
   "outputs": [
    {
     "name": "stdout",
     "output_type": "stream",
     "text": [
      "(9470,)\n"
     ]
    },
    {
     "data": {
      "text/plain": [
       "<matplotlib.axes._subplots.AxesSubplot at 0x2b0768ea7b70>"
      ]
     },
     "execution_count": 75,
     "metadata": {},
     "output_type": "execute_result"
    },
    {
     "data": {
      "image/png": "[encoded data removed]",
      "text/plain": [
       "<matplotlib.figure.Figure at 0x2b0768e6ab70>"
      ]
     },
     "metadata": {},
     "output_type": "display_data"
    }
   ],
   "source": [
    "featurecounts_diff_nonzero = featurecounts_diff[featurecounts_diff != 0]\n",
    "print(featurecounts_diff_nonzero.shape)\n",
    "snsy.distplot(featurecounts_diff_nonzero)"
   ]
  },
  {
   "cell_type": "markdown",
   "metadata": {
    "deletable": false,
    "nbgrader": {
     "checksum": "8255d2f69a5189a1b8949c1fb9fcbee4",
     "grade": false,
     "grade_id": "ex15_question",
     "locked": true,
     "solution": false
    }
   },
   "source": [
    "### Exercise 15: get the S10- and S13-specific genes from the nonzero differences\n",
    "\n",
    "Use the \"2 standard deviations greater than the mean\" and \"2 standard deviations less than the mean\" concepts from before to get the genes.\n",
    "\n",
    "Remember you'll need a line like this:\n",
    "\n",
    "```\n",
    "kallisto_s10_specific_genes = pd.Series(kallisto_s10_specific.index[kallisto_s10_specific])\n",
    "```\n",
    "\n",
    "To save the gene ids as a series with the gene ids as the values and integers as the index, which makes writing the gene ids to a file easier."
   ]
  },
  {
   "cell_type": "code",
   "execution_count": 76,
   "metadata": {
    "collapsed": false,
    "deletable": false,
    "nbgrader": {
     "checksum": "82f05d425af34d3852e6b5243accadc1",
     "grade": false,
     "grade_id": "ex15_answer",
     "locked": false,
     "solution": true
    }
   },
   "outputs": [
    {
     "name": "stdout",
     "output_type": "stream",
     "text": [
      "featurecounts_s10_specific_genes.shape (303,)\n",
      "featurecounts_s13_specific_genes.shape (369,)\n"
     ]
    },
    {
     "data": {
      "text/plain": [
       "0     ENSMUSG00000081441.3\n",
       "1     ENSMUSG00000102664.1\n",
       "2     ENSMUSG00000079658.9\n",
       "3    ENSMUSG00000062939.11\n",
       "4    ENSMUSG00000026094.14\n",
       "Name: Geneid, dtype: object"
      ]
     },
     "execution_count": 76,
     "metadata": {},
     "output_type": "execute_result"
    }
   ],
   "source": [
    "# YOUR CODE HERE\n",
    "\n",
    "featurecounts_s10_specific =featurecounts_diff_nonzero >(featurecounts_diff_nonzero.mean() + 2*featurecounts_diff_nonzero.std())\n",
    "featurecounts_s10_specific_genes = pd.Series(featurecounts_s10_specific.index[featurecounts_s10_specific])\n",
    "\n",
    "featurecounts_s13_specific = featurecounts_diff_nonzero < (featurecounts_diff_nonzero.mean() - 2*featurecounts_diff_nonzero.std())\n",
    "featurecounts_s13_specific_genes = pd.Series(featurecounts_s13_specific.index[featurecounts_s13_specific])\n",
    "\n",
    "\n",
    "\n",
    "print('featurecounts_s10_specific_genes.shape', featurecounts_s10_specific_genes.shape)\n",
    "print('featurecounts_s13_specific_genes.shape', featurecounts_s13_specific_genes.shape)\n",
    "\n",
    "featurecounts_s13_specific_genes.head()"
   ]
  },
  {
   "cell_type": "code",
   "execution_count": 77,
   "metadata": {
    "collapsed": false,
    "deletable": false,
    "nbgrader": {
     "checksum": "2f70b5582b1c71f6ec24abf297d2cc33",
     "grade": true,
     "grade_id": "ex15_test",
     "locked": true,
     "points": 4,
     "solution": false
    }
   },
   "outputs": [],
   "source": [
    "## Check S10-specific\n",
    "assert featurecounts_s10_specific_genes.shape == (303,)\n",
    "assert featurecounts_s10_specific_genes[0] == 'ENSMUSG00000064842.1'\n",
    "\n",
    "## Check S13-specific\n",
    "assert featurecounts_s13_specific_genes.shape == (369,)\n",
    "assert featurecounts_s13_specific_genes[0] == 'ENSMUSG00000081441.3'"
   ]
  },
  {
   "cell_type": "code",
   "execution_count": 78,
   "metadata": {
    "collapsed": false
   },
   "outputs": [
    {
     "name": "stdout",
     "output_type": "stream",
     "text": [
      "(303,)\n",
      "(369,)\n"
     ]
    }
   ],
   "source": [
    "featurecounts_s10_specific_genes.shape\n",
    "print (featurecounts_s10_specific_genes.shape)\n",
    "featurecounts_s13_specific_genes.shape\n",
    "print (featurecounts_s13_specific_genes.shape)\n"
   ]
  },
  {
   "cell_type": "markdown",
   "metadata": {
    "deletable": false,
    "nbgrader": {
     "checksum": "9e1463292e9096f911c0a2e2dfb7467a",
     "grade": false,
     "grade_id": "remove_gencode",
     "locked": true,
     "solution": false
    }
   },
   "source": [
    "We'll need to remove the gene ID version number again so we have the ENSEMBL version of the ID, not the gencode."
   ]
  },
  {
   "cell_type": "markdown",
   "metadata": {
    "deletable": false,
    "nbgrader": {
     "checksum": "3cd5a3ad70eba81117b4378bcb9d4b75",
     "grade": false,
     "grade_id": "ex16_question",
     "locked": true,
     "solution": false
    }
   },
   "source": [
    "### Exercise 16: Convert gencode IDs to ENSEMBL ids\n",
    "\n",
    "Use the previous code to split the GENCODE ids so you get the period- and version-less ENSEMBL ids."
   ]
  },
  {
   "cell_type": "code",
   "execution_count": 79,
   "metadata": {
    "collapsed": false,
    "deletable": false,
    "nbgrader": {
     "checksum": "27293c73ecec66febb0870d3d976041e",
     "grade": false,
     "grade_id": "ex16_answer",
     "locked": false,
     "solution": true
    }
   },
   "outputs": [
    {
     "data": {
      "text/plain": [
       "0    ENSMUSG00000081441\n",
       "1    ENSMUSG00000102664\n",
       "2    ENSMUSG00000079658\n",
       "3    ENSMUSG00000062939\n",
       "4    ENSMUSG00000026094\n",
       "Name: Geneid, dtype: object"
      ]
     },
     "execution_count": 79,
     "metadata": {},
     "output_type": "execute_result"
    }
   ],
   "source": [
    "# YOUR CODE HERE\n",
    "featurecounts_s10_specific_genes_ensembl = featurecounts_s10_specific_genes.map(lambda x: x.split('.')[0])\n",
    "featurecounts_s13_specific_genes_ensembl = featurecounts_s13_specific_genes.map(lambda x: x.split('.')[0])\n",
    "\n",
    "featurecounts_s13_specific_genes_ensembl.head()"
   ]
  },
  {
   "cell_type": "code",
   "execution_count": 80,
   "metadata": {
    "collapsed": false,
    "deletable": false,
    "nbgrader": {
     "checksum": "64f7a9e9c259188b18c95a8ee95cf468",
     "grade": true,
     "grade_id": "ex16_test",
     "locked": true,
     "points": 2,
     "solution": false
    }
   },
   "outputs": [],
   "source": [
    "assert featurecounts_s13_specific_genes_ensembl[0] == 'ENSMUSG00000081441'\n",
    "assert featurecounts_s10_specific_genes_ensembl[0] == 'ENSMUSG00000064842'"
   ]
  },
  {
   "cell_type": "markdown",
   "metadata": {
    "deletable": false,
    "nbgrader": {
     "checksum": "f36401048f2e0bfd64aa0452cbdc8f4b",
     "grade": false,
     "grade_id": "ex17_question",
     "locked": true,
     "solution": false
    }
   },
   "source": [
    "### Exercise 17: Save the genes to a file, copy to your laptop, and do GO analyses\n",
    "\n",
    "1. Save the two series we created above, \"`featurecounts_s13_specific_genes_ensembl`\" and \"`featurecounts_s10_specific_genes_ensembl`\" to files\n",
    "2. Secure copy the files to your computer\n",
    "3. [Perform GO enrichment](http://geneontology.org/page/go-enrichment-analysis) of the S10- and S13-specific genes.\n",
    "4. How is the GO enrichment of the S10- and S13-specific genes the same or different between `kallisto` and `featureCounts`? (3-5 sentences - answer below)\n",
    "5. One of S10 or S13 is a mature immune cell and one is immature. Can you tell which one is, from the GO analysis?"
   ]
  },
  {
   "cell_type": "code",
   "execution_count": 81,
   "metadata": {
    "collapsed": true,
    "deletable": false,
    "nbgrader": {
     "checksum": "34552147be94122405f5a3586344b95a",
     "grade": false,
     "grade_id": "ex17_answer1",
     "locked": false,
     "solution": true
    }
   },
   "outputs": [],
   "source": [
    "# Code to write series to file.\n",
    "# YOUR CODE HERE\n",
    "featurecounts_s10_specific_genes_ensembl.to_csv('featurecounts_s10_specific_genes.csv', index=False)\n",
    "featurecounts_s13_specific_genes_ensembl.to_csv('featurecounts_s13_specific_genes.csv', index=False)"
   ]
  },
  {
   "cell_type": "code",
   "execution_count": 82,
   "metadata": {
    "collapsed": false,
    "deletable": false,
    "nbgrader": {
     "checksum": "e660a8a5d31c9b0b75ee9a4ff93621f2",
     "grade": true,
     "grade_id": "ex17_answer2",
     "locked": false,
     "points": 5,
     "solution": true
    }
   },
   "outputs": [
    {
     "name": "stdout",
     "output_type": "stream",
     "text": [
      "==> featurecounts_s10_specific_genes.csv <==\r\n",
      "ENSMUSG00000064842\r\n",
      "ENSMUSG00000026154\r\n",
      "ENSMUSG00000026073\r\n",
      "ENSMUSG00000026097\r\n",
      "ENSMUSG00000033021\r\n",
      "ENSMUSG00000089613\r\n",
      "ENSMUSG00000062345\r\n",
      "ENSMUSG00000092572\r\n",
      "ENSMUSG00000003721\r\n",
      "ENSMUSG00000020423\r\n",
      "\r\n",
      "==> featurecounts_s13_specific_genes.csv <==\r\n",
      "ENSMUSG00000081441\r\n",
      "ENSMUSG00000102664\r\n",
      "ENSMUSG00000079658\r\n",
      "ENSMUSG00000062939\r\n",
      "ENSMUSG00000026094\r\n",
      "ENSMUSG00000026034\r\n",
      "ENSMUSG00000025967\r\n",
      "ENSMUSG00000025962\r\n",
      "ENSMUSG00000072109\r\n",
      "ENSMUSG00000070034\r\n"
     ]
    }
   ],
   "source": [
    "# YOUR CODE HERE\n",
    "! head featurecounts*specific_genes.csv"
   ]
  },
  {
   "cell_type": "raw",
   "metadata": {},
   "source": [
    "4. It is different between  kallisto and featureCounts on GO enrichments. The GO enrichments results showed that there are many biological processes may found both in S10_featureCounts and S13_featurecounts. However, we cannot find no enrichment in s10_kallisto.  \n"
   ]
  },
  {
   "cell_type": "code",
   "execution_count": 83,
   "metadata": {
    "collapsed": false
   },
   "outputs": [
    {
     "data": {
      "text/html": [
       "<div>\n",
       "<table border=\"1\" class=\"dataframe\">\n",
       "  <thead>\n",
       "    <tr style=\"text-align: right;\">\n",
       "      <th></th>\n",
       "      <th>GO biological process complete,Fold Enrichment,P-value</th>\n",
       "    </tr>\n",
       "  </thead>\n",
       "  <tbody>\n",
       "    <tr>\n",
       "      <th>0</th>\n",
       "      <td>cellular transition metal ion homeostasis (GO:...</td>\n",
       "    </tr>\n",
       "    <tr>\n",
       "      <th>1</th>\n",
       "      <td>response to hydrogen peroxide (GO:0042542), &gt; ...</td>\n",
       "    </tr>\n",
       "    <tr>\n",
       "      <th>2</th>\n",
       "      <td>transition metal ion homeostasis (GO:0055076),...</td>\n",
       "    </tr>\n",
       "    <tr>\n",
       "      <th>3</th>\n",
       "      <td>regulation of leukocyte chemotaxis (GO:0002688...</td>\n",
       "    </tr>\n",
       "    <tr>\n",
       "      <th>4</th>\n",
       "      <td>response to toxic substance (GO:0009636), &gt; 5,...</td>\n",
       "    </tr>\n",
       "    <tr>\n",
       "      <th>5</th>\n",
       "      <td>response to reactive oxygen species (GO:000030...</td>\n",
       "    </tr>\n",
       "    <tr>\n",
       "      <th>6</th>\n",
       "      <td>cellular response to oxidative stress (GO:0034...</td>\n",
       "    </tr>\n",
       "    <tr>\n",
       "      <th>7</th>\n",
       "      <td>response to lipopolysaccharide (GO:0032496), &gt;...</td>\n",
       "    </tr>\n",
       "    <tr>\n",
       "      <th>8</th>\n",
       "      <td>apoptotic signaling pathway (GO:0097190), &gt; 5,...</td>\n",
       "    </tr>\n",
       "    <tr>\n",
       "      <th>9</th>\n",
       "      <td>response to molecule of bacterial origin (GO:0...</td>\n",
       "    </tr>\n",
       "    <tr>\n",
       "      <th>10</th>\n",
       "      <td>response to oxidative stress (GO:0006979), &gt; 5...</td>\n",
       "    </tr>\n",
       "    <tr>\n",
       "      <th>11</th>\n",
       "      <td>inflammatory response (GO:0006954),4.45,1.48E-02</td>\n",
       "    </tr>\n",
       "    <tr>\n",
       "      <th>12</th>\n",
       "      <td>response to bacterium (GO:0009617),4.1,1.91E-02</td>\n",
       "    </tr>\n",
       "    <tr>\n",
       "      <th>13</th>\n",
       "      <td>response to biotic stimulus (GO:0009607),3.54,...</td>\n",
       "    </tr>\n",
       "    <tr>\n",
       "      <th>14</th>\n",
       "      <td>response to other organism (GO:0051707),3.52,1...</td>\n",
       "    </tr>\n",
       "    <tr>\n",
       "      <th>15</th>\n",
       "      <td>response to external biotic stimulus (GO:00432...</td>\n",
       "    </tr>\n",
       "    <tr>\n",
       "      <th>16</th>\n",
       "      <td>immune response (GO:0006955),3.41,8.91E-04</td>\n",
       "    </tr>\n",
       "    <tr>\n",
       "      <th>17</th>\n",
       "      <td>defense response (GO:0006952),2.99,9.43E-03</td>\n",
       "    </tr>\n",
       "    <tr>\n",
       "      <th>18</th>\n",
       "      <td>response to oxygen-containing compound (GO:190...</td>\n",
       "    </tr>\n",
       "    <tr>\n",
       "      <th>19</th>\n",
       "      <td>response to external stimulus (GO:0009605),2.6...</td>\n",
       "    </tr>\n",
       "    <tr>\n",
       "      <th>20</th>\n",
       "      <td>immune system process (GO:0002376),2.57,6.36E-04</td>\n",
       "    </tr>\n",
       "    <tr>\n",
       "      <th>21</th>\n",
       "      <td>small molecule metabolic process (GO:0044281),...</td>\n",
       "    </tr>\n",
       "    <tr>\n",
       "      <th>22</th>\n",
       "      <td>cellular response to chemical stimulus (GO:007...</td>\n",
       "    </tr>\n",
       "    <tr>\n",
       "      <th>23</th>\n",
       "      <td>cell surface receptor signaling pathway (GO:00...</td>\n",
       "    </tr>\n",
       "    <tr>\n",
       "      <th>24</th>\n",
       "      <td>response to stress (GO:0006950),2.29,1.56E-05</td>\n",
       "    </tr>\n",
       "    <tr>\n",
       "      <th>25</th>\n",
       "      <td>response to stimulus (GO:0050896),1.47,2.63E-02</td>\n",
       "    </tr>\n",
       "    <tr>\n",
       "      <th>26</th>\n",
       "      <td>metabolic process (GO:0008152),1.43,2.27E-02</td>\n",
       "    </tr>\n",
       "    <tr>\n",
       "      <th>27</th>\n",
       "      <td>cellular process (GO:0009987),1.28,1.68E-03</td>\n",
       "    </tr>\n",
       "    <tr>\n",
       "      <th>28</th>\n",
       "      <td>Unclassified (UNCLASSIFIED),0.5,0.00E+00</td>\n",
       "    </tr>\n",
       "  </tbody>\n",
       "</table>\n",
       "</div>"
      ],
      "text/plain": [
       "   GO biological process complete,Fold Enrichment,P-value\n",
       "0   cellular transition metal ion homeostasis (GO:...    \n",
       "1   response to hydrogen peroxide (GO:0042542), > ...    \n",
       "2   transition metal ion homeostasis (GO:0055076),...    \n",
       "3   regulation of leukocyte chemotaxis (GO:0002688...    \n",
       "4   response to toxic substance (GO:0009636), > 5,...    \n",
       "5   response to reactive oxygen species (GO:000030...    \n",
       "6   cellular response to oxidative stress (GO:0034...    \n",
       "7   response to lipopolysaccharide (GO:0032496), >...    \n",
       "8   apoptotic signaling pathway (GO:0097190), > 5,...    \n",
       "9   response to molecule of bacterial origin (GO:0...    \n",
       "10  response to oxidative stress (GO:0006979), > 5...    \n",
       "11   inflammatory response (GO:0006954),4.45,1.48E-02    \n",
       "12    response to bacterium (GO:0009617),4.1,1.91E-02    \n",
       "13  response to biotic stimulus (GO:0009607),3.54,...    \n",
       "14  response to other organism (GO:0051707),3.52,1...    \n",
       "15  response to external biotic stimulus (GO:00432...    \n",
       "16         immune response (GO:0006955),3.41,8.91E-04    \n",
       "17        defense response (GO:0006952),2.99,9.43E-03    \n",
       "18  response to oxygen-containing compound (GO:190...    \n",
       "19  response to external stimulus (GO:0009605),2.6...    \n",
       "20   immune system process (GO:0002376),2.57,6.36E-04    \n",
       "21  small molecule metabolic process (GO:0044281),...    \n",
       "22  cellular response to chemical stimulus (GO:007...    \n",
       "23  cell surface receptor signaling pathway (GO:00...    \n",
       "24      response to stress (GO:0006950),2.29,1.56E-05    \n",
       "25    response to stimulus (GO:0050896),1.47,2.63E-02    \n",
       "26       metabolic process (GO:0008152),1.43,2.27E-02    \n",
       "27        cellular process (GO:0009987),1.28,1.68E-03    \n",
       "28           Unclassified (UNCLASSIFIED),0.5,0.00E+00    "
      ]
     },
     "execution_count": 83,
     "metadata": {},
     "output_type": "execute_result"
    }
   ],
   "source": [
    "#S10_FeatureCount GO enrichment\n",
    "S10_FeatureCount = pd.read_table('feturecount_s10_analysis.csv')\n",
    "S10_FeatureCount"
   ]
  },
  {
   "cell_type": "code",
   "execution_count": 84,
   "metadata": {
    "collapsed": false
   },
   "outputs": [
    {
     "data": {
      "text/html": [
       "<div>\n",
       "<table border=\"1\" class=\"dataframe\">\n",
       "  <thead>\n",
       "    <tr style=\"text-align: right;\">\n",
       "      <th></th>\n",
       "      <th>GO biological process complete,Fold Enrichment,P-value</th>\n",
       "    </tr>\n",
       "  </thead>\n",
       "  <tbody>\n",
       "    <tr>\n",
       "      <th>0</th>\n",
       "      <td>response to stress (GO:0006950),2.1,7.49E-03</td>\n",
       "    </tr>\n",
       "    <tr>\n",
       "      <th>1</th>\n",
       "      <td>cellular protein metabolic process (GO:0044267...</td>\n",
       "    </tr>\n",
       "    <tr>\n",
       "      <th>2</th>\n",
       "      <td>protein metabolic process (GO:0019538),1.9,1.1...</td>\n",
       "    </tr>\n",
       "    <tr>\n",
       "      <th>3</th>\n",
       "      <td>macromolecule metabolic process (GO:0043170),1...</td>\n",
       "    </tr>\n",
       "    <tr>\n",
       "      <th>4</th>\n",
       "      <td>cellular macromolecule metabolic process (GO:0...</td>\n",
       "    </tr>\n",
       "    <tr>\n",
       "      <th>5</th>\n",
       "      <td>cellular nitrogen compound metabolic process (...</td>\n",
       "    </tr>\n",
       "    <tr>\n",
       "      <th>6</th>\n",
       "      <td>organic substance metabolic process (GO:007170...</td>\n",
       "    </tr>\n",
       "    <tr>\n",
       "      <th>7</th>\n",
       "      <td>cellular metabolic process (GO:0044237),1.62,2...</td>\n",
       "    </tr>\n",
       "    <tr>\n",
       "      <th>8</th>\n",
       "      <td>metabolic process (GO:0008152),1.62,4.81E-06</td>\n",
       "    </tr>\n",
       "    <tr>\n",
       "      <th>9</th>\n",
       "      <td>primary metabolic process (GO:0044238),1.62,1....</td>\n",
       "    </tr>\n",
       "    <tr>\n",
       "      <th>10</th>\n",
       "      <td>cellular process (GO:0009987),1.27,1.37E-02</td>\n",
       "    </tr>\n",
       "    <tr>\n",
       "      <th>11</th>\n",
       "      <td>Unclassified (UNCLASSIFIED),0.43,0.00E+00</td>\n",
       "    </tr>\n",
       "  </tbody>\n",
       "</table>\n",
       "</div>"
      ],
      "text/plain": [
       "   GO biological process complete,Fold Enrichment,P-value\n",
       "0        response to stress (GO:0006950),2.1,7.49E-03    \n",
       "1   cellular protein metabolic process (GO:0044267...    \n",
       "2   protein metabolic process (GO:0019538),1.9,1.1...    \n",
       "3   macromolecule metabolic process (GO:0043170),1...    \n",
       "4   cellular macromolecule metabolic process (GO:0...    \n",
       "5   cellular nitrogen compound metabolic process (...    \n",
       "6   organic substance metabolic process (GO:007170...    \n",
       "7   cellular metabolic process (GO:0044237),1.62,2...    \n",
       "8        metabolic process (GO:0008152),1.62,4.81E-06    \n",
       "9   primary metabolic process (GO:0044238),1.62,1....    \n",
       "10        cellular process (GO:0009987),1.27,1.37E-02    \n",
       "11          Unclassified (UNCLASSIFIED),0.43,0.00E+00    "
      ]
     },
     "execution_count": 84,
     "metadata": {},
     "output_type": "execute_result"
    }
   ],
   "source": [
    "#S13_FeatureCount GO enrichment\n",
    "S13_FeatureCount = pd.read_table('featurecount_s13_analysis.csv')\n",
    "S13_FeatureCount"
   ]
  },
  {
   "cell_type": "raw",
   "metadata": {},
   "source": [
    "5. Base on GO analysis, we can find that S10 involved in regulation of leukocyte chemotaxis, and may response to many different kind of stress reactions. However, S13 involved in many metabolic processes, which implied S13 may still differenciate, and activate. This GO enrichment results indicate taht S10 is mature immune cell, and S13 is immature immune cell. "
   ]
  }
 ],
 "metadata": {
  "kernelspec": {
   "display_name": "Python3",
   "language": "python",
   "name": "python3"
  },
  "language_info": {
   "codemirror_mode": {
    "name": "ipython",
    "version": 3
   },
   "file_extension": ".py",
   "mimetype": "text/x-python",
   "name": "python",
   "nbconvert_exporter": "python",
   "pygments_lexer": "ipython3",
   "version": "3.5.1"
  }
 },
 "nbformat": 4,
 "nbformat_minor": 0
}
