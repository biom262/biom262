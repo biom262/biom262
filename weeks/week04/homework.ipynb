{
 "cells": [
  {
   "cell_type": "markdown",
   "metadata": {},
   "source": [
    "\n",
    "# Gene expression analyses\n",
    "\n",
    "[pictures of gene in different expressions]\n",
    "\n",
    "okay not that\n",
    "\n",
    "## Reading List\n",
    "\n",
    "- Dataset: [Shalek A & Satija R, et al. \"Single-cell transcriptomics reveals bimodality in expression and splicing in immune cells.\" *Nature* (2013)](papers/)\n",
    "- Transcriptome Alignment (STAR aligner): [Dobin A et al, \"STAR: ultrafast universal RNA-seq aligner\"](papers/)\n",
    "- Gene quantification (`featureCounts` program): [Liao Y, Smyth GK, Shi W. \"featureCounts: an efficient general purpose program for assigning sequence reads to genomic features.\" *Bioinformatics* (2014)](papers/)\n",
    "- Quasi-alignment and gene quantification (`kallisto` program): [Near-optimal RNA-Seq quantification](papers/)\n",
    "\n",
    "\n",
    "## Read alignment\n",
    "\n",
    "## Quasi-alignment\n",
    "\n"
   ]
  },
  {
   "cell_type": "code",
   "execution_count": null,
   "metadata": {
    "collapsed": true
   },
   "outputs": [],
   "source": []
  }
 ],
 "metadata": {
  "kernelspec": {
   "display_name": "Python 3",
   "language": "python",
   "name": "python3"
  },
  "language_info": {
   "codemirror_mode": {
    "name": "ipython",
    "version": 3
   },
   "file_extension": ".py",
   "mimetype": "text/x-python",
   "name": "python",
   "nbconvert_exporter": "python",
   "pygments_lexer": "ipython3",
   "version": "3.5.1"
  }
 },
 "nbformat": 4,
 "nbformat_minor": 0
}
