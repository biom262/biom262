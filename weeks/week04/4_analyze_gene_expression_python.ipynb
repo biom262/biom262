{
 "cells": [
  {
   "cell_type": "code",
   "execution_count": 1,
   "metadata": {
    "collapsed": false
   },
   "outputs": [
    {
     "name": "stdout",
     "output_type": "stream",
     "text": [
      "http://[link: Unterminated IPv6 numeric address.\r\n",
      "--2016-02-01 17:19:47--  http://to/\r\n",
      "Resolving to... failed: Name or service not known.\r\n",
      "wget: unable to resolve host address “to”\r\n",
      "--2016-02-01 17:19:47--  http://allgenestpm.txt.gz/\r\n",
      "Resolving allgenestpm.txt.gz... failed: Name or service not known.\r\n",
      "wget: unable to resolve host address “allgenestpm.txt.gz”\r\n",
      "--2016-02-01 17:19:47--  http://goes/\r\n",
      "Resolving goes... failed: Name or service not known.\r\n",
      "wget: unable to resolve host address “goes”\r\n",
      "--2016-02-01 17:19:47--  http://here%5D/\r\n",
      "Resolving here]... failed: Name or service not known.\r\n",
      "wget: unable to resolve host address “here]”\r\n"
     ]
    }
   ],
   "source": [
    "! wget [link to allGenesTPM.txt.gz goes here]"
   ]
  }
 ],
 "metadata": {
  "kernelspec": {
   "display_name": "Python 3",
   "language": "python",
   "name": "python3"
  },
  "language_info": {
   "codemirror_mode": {
    "name": "ipython",
    "version": 3
   },
   "file_extension": ".py",
   "mimetype": "text/x-python",
   "name": "python",
   "nbconvert_exporter": "python",
   "pygments_lexer": "ipython3",
   "version": "3.5.1"
  }
 },
 "nbformat": 4,
 "nbformat_minor": 0
}
