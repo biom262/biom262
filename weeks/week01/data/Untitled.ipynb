{
 "cells": [
  {
   "cell_type": "code",
   "execution_count": 39,
   "metadata": {
    "collapsed": false
   },
   "outputs": [],
   "source": [
    "#import numpy as np\n",
    "#import pandas as pd\n",
    "#%matplotlib inline"
   ]
  },
  {
   "cell_type": "code",
   "execution_count": 40,
   "metadata": {
    "collapsed": false
   },
   "outputs": [
    {
     "name": "stdout",
     "output_type": "stream",
     "text": [
      "/home/e1luo/code/biom262-2016/weeks/week01/data\n"
     ]
    }
   ],
   "source": [
    "cd ~/code/biom262-2016/weeks/week01/data"
   ]
  },
  {
   "cell_type": "code",
   "execution_count": 41,
   "metadata": {
    "collapsed": true
   },
   "outputs": [],
   "source": [
    "#Exercise 1:"
   ]
  },
  {
   "cell_type": "code",
   "execution_count": 42,
   "metadata": {
    "collapsed": false
   },
   "outputs": [],
   "source": [
    "#!grep NFKB tf.bed > tf.nfkb.bed # finds NFKB in file\n",
    "#!wc -l tf.nfkb.bed"
   ]
  },
  {
   "cell_type": "code",
   "execution_count": 43,
   "metadata": {
    "collapsed": false
   },
   "outputs": [
    {
     "name": "stderr",
     "output_type": "stream",
     "text": [
      "awk: (FILENAME=tf.nfkb.bed FNR=272) fatal: print to \"standard output\" failed (Broken pipe)\n"
     ]
    }
   ],
   "source": [
    "%%bash --out exercise1\n",
    "grep NFKB tf.bed > tf.nfkb.bed\n",
    "\n",
    "wc -l tf.nfkb.bed\n",
    "echo '--- First 10 lines ---'\n",
    "head tf.nfkb.bed\n",
    "echo '--- Random 10 lines ---'\n",
    "awk -v seed=907 'BEGIN{srand(seed);}{ if (rand() < 0.5 ) {print $0}}'  tf.nfkb.bed | head\n",
    "echo '--- Last 10 lines ---'\n",
    "tail tf.nfkb.bed"
   ]
  },
  {
   "cell_type": "code",
   "execution_count": 44,
   "metadata": {
    "collapsed": false
   },
   "outputs": [
    {
     "name": "stdout",
     "output_type": "stream",
     "text": [
      "702 tf.nfkb.bed\n",
      "--- First 10 lines ---\n",
      "chr22\t17565763\t17566145\tNFKB_cds_0_0_chr22_17565764_f\t0\t.\n",
      "chr22\t17568509\t17568945\tNFKB_cds_0_0_chr22_17568510_f\t0\t.\n",
      "chr22\t17700141\t17700502\tNFKB_cds_0_0_chr22_17700142_f\t0\t.\n",
      "chr22\t17701962\t17702278\tNFKB_cds_0_0_chr22_17701963_f\t0\t.\n",
      "chr22\t17709521\t17709797\tNFKB_cds_0_0_chr22_17709522_f\t0\t.\n",
      "chr22\t17724391\t17724724\tNFKB_cds_0_0_chr22_17724392_f\t0\t.\n",
      "chr22\t17738401\t17738677\tNFKB_cds_0_0_chr22_17738402_f\t0\t.\n",
      "chr22\t17738857\t17739282\tNFKB_cds_0_0_chr22_17738858_f\t0\t.\n",
      "chr22\t17761088\t17761435\tNFKB_cds_0_0_chr22_17761089_f\t0\t.\n",
      "chr22\t17784788\t17785118\tNFKB_cds_0_0_chr22_17784789_f\t0\t.\n",
      "--- Random 10 lines ---\n",
      "chr22\t17700141\t17700502\tNFKB_cds_0_0_chr22_17700142_f\t0\t.\n",
      "chr22\t17701962\t17702278\tNFKB_cds_0_0_chr22_17701963_f\t0\t.\n",
      "chr22\t17709521\t17709797\tNFKB_cds_0_0_chr22_17709522_f\t0\t.\n",
      "chr22\t17738401\t17738677\tNFKB_cds_0_0_chr22_17738402_f\t0\t.\n",
      "chr22\t17738857\t17739282\tNFKB_cds_0_0_chr22_17738858_f\t0\t.\n",
      "chr22\t17761088\t17761435\tNFKB_cds_0_0_chr22_17761089_f\t0\t.\n",
      "chr22\t17784788\t17785118\tNFKB_cds_0_0_chr22_17784789_f\t0\t.\n",
      "chr22\t18111762\t18112038\tNFKB_cds_0_0_chr22_18111763_f\t0\t.\n",
      "chr22\t18225198\t18225524\tNFKB_cds_0_0_chr22_18225199_f\t0\t.\n",
      "chr22\t18278491\t18278848\tNFKB_cds_0_0_chr22_18278492_f\t0\t.\n",
      "--- Last 10 lines ---\n",
      "chr22\t50969418\t50969694\tNFKB_cds_0_0_chr22_50969419_f\t0\t.\n",
      "chr22\t50970799\t50971099\tNFKB_cds_0_0_chr22_50970800_f\t0\t.\n",
      "chr22\t50978032\t50978392\tNFKB_cds_0_0_chr22_50978033_f\t0\t.\n",
      "chr22\t50979332\t50979632\tNFKB_cds_0_0_chr22_50979333_f\t0\t.\n",
      "chr22\t50980831\t50981158\tNFKB_cds_0_0_chr22_50980832_f\t0\t.\n",
      "chr22\t51001317\t51001593\tNFKB_cds_0_0_chr22_51001318_f\t0\t.\n",
      "chr22\t51021040\t51021316\tNFKB_cds_0_0_chr22_51021041_f\t0\t.\n",
      "chr22\t51021478\t51021754\tNFKB_cds_0_0_chr22_51021479_f\t0\t.\n",
      "chr22\t51058900\t51059230\tNFKB_cds_0_0_chr22_51058901_f\t0\t.\n",
      "chr22\t51060107\t51060383\tNFKB_cds_0_0_chr22_51060108_f\t0\t.\n"
     ]
    }
   ],
   "source": [
    "exercise1 = exercise1.strip()\n",
    "print(exercise1)"
   ]
  },
  {
   "cell_type": "code",
   "execution_count": 45,
   "metadata": {
    "collapsed": true
   },
   "outputs": [],
   "source": [
    "#Exercise 2: Extract only the genes from the GTF file"
   ]
  },
  {
   "cell_type": "code",
   "execution_count": 41,
   "metadata": {
    "collapsed": false
   },
   "outputs": [
    {
     "name": "stderr",
     "output_type": "stream",
     "text": [
      "awk: (FILENAME=gencode.v19.annotation.chr22.transcript.gtf FNR=95) fatal: print to \"standard output\" failed (Broken pipe)\n"
     ]
    }
   ],
   "source": [
    "%%bash --out exercise2\n",
    "# YOUR CODE HERE\\n\n",
    "awk -F \"\\t\" '{if($3 == \"transcript\"){print;}}' gencode.v19.annotation.chr22.gtf > gencode.v19.annotation.chr22.transcript.gtf\n",
    "wc -l gencode.v19.annotation.chr22.transcript.gtf\n",
    "echo '--- First 10 lines ---'\n",
    "head gencode.v19.annotation.chr22.transcript.gtf\n",
    "echo '--- Random 10 lines ---'\n",
    "awk -v seed=907 'BEGIN{srand(seed);}{ if (rand() < 0.5 ) {print $0}}'  gencode.v19.annotation.chr22.transcript.gtf | head\n",
    "echo '--- Last 10 lines ---'\n",
    "tail gencode.v19.annotation.chr22.transcript.gtf"
   ]
  },
  {
   "cell_type": "code",
   "execution_count": 43,
   "metadata": {
    "collapsed": false
   },
   "outputs": [
    {
     "name": "stdout",
     "output_type": "stream",
     "text": [
      "4459 gencode.v19.annotation.chr22.transcript.gtf\n",
      "--- First 10 lines ---\n",
      "chr22\tHAVANA\ttranscript\t16062157\t16063236\t.\t+\t.\tgene_id \"ENSG00000233866.1\"; transcript_id \"ENST00000424770.1\"; gene_type \"lincRNA\"; gene_status \"KNOWN\"; gene_name \"LA16c-4G1.3\"; transcript_type \"lincRNA\"; transcript_status \"KNOWN\"; transcript_name \"LA16c-4G1.3-001\"; level 2; tag \"basic\"; havana_gene \"OTTHUMG00000140195.1\"; havana_transcript \"OTTHUMT00000276574.1\";\n",
      "chr22\tHAVANA\ttranscript\t16076052\t16076172\t.\t-\t.\tgene_id \"ENSG00000229286.1\"; transcript_id \"ENST00000448070.1\"; gene_type \"pseudogene\"; gene_status \"KNOWN\"; gene_name \"LA16c-4G1.4\"; transcript_type \"unprocessed_pseudogene\"; transcript_status \"KNOWN\"; transcript_name \"LA16c-4G1.4-001\"; level 2; ont \"PGO:0000005\"; havana_gene \"OTTHUMG00000140193.1\"; havana_transcript \"OTTHUMT00000276571.1\";\n",
      "chr22\tHAVANA\ttranscript\t16084249\t16084826\t.\t-\t.\tgene_id \"ENSG00000235265.1\"; transcript_id \"ENST00000413156.1\"; gene_type \"pseudogene\"; gene_status \"KNOWN\"; gene_name \"LA16c-4G1.5\"; transcript_type \"unprocessed_pseudogene\"; transcript_status \"KNOWN\"; transcript_name \"LA16c-4G1.5-001\"; level 2; ont \"PGO:0000005\"; havana_gene \"OTTHUMG00000140197.1\"; havana_transcript \"OTTHUMT00000276576.1\";\n",
      "chr22\tHAVANA\ttranscript\t16100517\t16124973\t.\t-\t.\tgene_id \"ENSG00000223875.1\"; transcript_id \"ENST00000420638.1\"; gene_type \"pseudogene\"; gene_status \"KNOWN\"; gene_name \"NBEAP3\"; transcript_type \"unprocessed_pseudogene\"; transcript_status \"KNOWN\"; transcript_name \"NBEAP3-001\"; level 2; ont \"PGO:0000005\"; havana_gene \"OTTHUMG00000140196.1\"; havana_transcript \"OTTHUMT00000276575.1\";\n",
      "chr22\tHAVANA\ttranscript\t16122720\t16123768\t.\t+\t.\tgene_id \"ENSG00000215270.3\"; transcript_id \"ENST00000398242.2\"; gene_type \"pseudogene\"; gene_status \"KNOWN\"; gene_name \"LA16c-60H5.7\"; transcript_type \"processed_pseudogene\"; transcript_status \"KNOWN\"; transcript_name \"LA16c-60H5.7-001\"; level 1; ont \"PGO:0000004\"; tag \"pseudo_consens\"; havana_gene \"OTTHUMG00000140200.1\"; havana_transcript \"OTTHUMT00000276581.1\";\n",
      "chr22\tHAVANA\ttranscript\t16147979\t16192971\t.\t-\t.\tgene_id \"ENSG00000206195.6\"; transcript_id \"ENST00000447898.1\"; gene_type \"processed_transcript\"; gene_status \"NOVEL\"; gene_name \"AP000525.9\"; transcript_type \"lincRNA\"; transcript_status \"KNOWN\"; transcript_name \"AP000525.9-002\"; level 2; tag \"basic\"; havana_gene \"OTTHUMG00000185288.2\"; havana_transcript \"OTTHUMT00000276780.1\";\n",
      "chr22\tHAVANA\ttranscript\t16150255\t16193000\t.\t-\t.\tgene_id \"ENSG00000206195.6\"; transcript_id \"ENST00000437781.1\"; gene_type \"processed_transcript\"; gene_status \"NOVEL\"; gene_name \"AP000525.9\"; transcript_type \"lincRNA\"; transcript_status \"KNOWN\"; transcript_name \"AP000525.9-003\"; level 2; havana_gene \"OTTHUMG00000185288.2\"; havana_transcript \"OTTHUMT00000276579.1\";\n",
      "chr22\tHAVANA\ttranscript\t16150529\t16193004\t.\t-\t.\tgene_id \"ENSG00000206195.6\"; transcript_id \"ENST00000413768.1\"; gene_type \"processed_transcript\"; gene_status \"NOVEL\"; gene_name \"AP000525.9\"; transcript_type \"lincRNA\"; transcript_status \"KNOWN\"; transcript_name \"AP000525.9-001\"; level 2; tag \"non_canonical_polymorphism\"; havana_gene \"OTTHUMG00000185288.2\"; havana_transcript \"OTTHUMT00000276578.1\";\n",
      "chr22\tHAVANA\ttranscript\t16158798\t16192995\t.\t-\t.\tgene_id \"ENSG00000206195.6\"; transcript_id \"ENST00000383038.3\"; gene_type \"processed_transcript\"; gene_status \"NOVEL\"; gene_name \"AP000525.9\"; transcript_type \"processed_transcript\"; transcript_status \"KNOWN\"; transcript_name \"AP000525.9-004\"; level 2; havana_gene \"OTTHUMG00000185288.2\"; havana_transcript \"OTTHUMT00000276577.1\";\n",
      "chr22\tHAVANA\ttranscript\t16158829\t16159470\t.\t-\t.\tgene_id \"ENSG00000206195.6\"; transcript_id \"ENST00000607933.1\"; gene_type \"processed_transcript\"; gene_status \"NOVEL\"; gene_name \"AP000525.9\"; transcript_type \"processed_transcript\"; transcript_status \"KNOWN\"; transcript_name \"AP000525.9-006\"; level 2; havana_gene \"OTTHUMG00000185288.2\"; havana_transcript \"OTTHUMT00000472240.1\";\n",
      "--- Random 10 lines ---\n",
      "chr22\tHAVANA\ttranscript\t16084249\t16084826\t.\t-\t.\tgene_id \"ENSG00000235265.1\"; transcript_id \"ENST00000413156.1\"; gene_type \"pseudogene\"; gene_status \"KNOWN\"; gene_name \"LA16c-4G1.5\"; transcript_type \"unprocessed_pseudogene\"; transcript_status \"KNOWN\"; transcript_name \"LA16c-4G1.5-001\"; level 2; ont \"PGO:0000005\"; havana_gene \"OTTHUMG00000140197.1\"; havana_transcript \"OTTHUMT00000276576.1\";\n",
      "chr22\tHAVANA\ttranscript\t16100517\t16124973\t.\t-\t.\tgene_id \"ENSG00000223875.1\"; transcript_id \"ENST00000420638.1\"; gene_type \"pseudogene\"; gene_status \"KNOWN\"; gene_name \"NBEAP3\"; transcript_type \"unprocessed_pseudogene\"; transcript_status \"KNOWN\"; transcript_name \"NBEAP3-001\"; level 2; ont \"PGO:0000005\"; havana_gene \"OTTHUMG00000140196.1\"; havana_transcript \"OTTHUMT00000276575.1\";\n",
      "chr22\tHAVANA\ttranscript\t16122720\t16123768\t.\t+\t.\tgene_id \"ENSG00000215270.3\"; transcript_id \"ENST00000398242.2\"; gene_type \"pseudogene\"; gene_status \"KNOWN\"; gene_name \"LA16c-60H5.7\"; transcript_type \"processed_pseudogene\"; transcript_status \"KNOWN\"; transcript_name \"LA16c-60H5.7-001\"; level 1; ont \"PGO:0000004\"; tag \"pseudo_consens\"; havana_gene \"OTTHUMG00000140200.1\"; havana_transcript \"OTTHUMT00000276581.1\";\n",
      "chr22\tHAVANA\ttranscript\t16150255\t16193000\t.\t-\t.\tgene_id \"ENSG00000206195.6\"; transcript_id \"ENST00000437781.1\"; gene_type \"processed_transcript\"; gene_status \"NOVEL\"; gene_name \"AP000525.9\"; transcript_type \"lincRNA\"; transcript_status \"KNOWN\"; transcript_name \"AP000525.9-003\"; level 2; havana_gene \"OTTHUMG00000185288.2\"; havana_transcript \"OTTHUMT00000276579.1\";\n",
      "chr22\tHAVANA\ttranscript\t16150529\t16193004\t.\t-\t.\tgene_id \"ENSG00000206195.6\"; transcript_id \"ENST00000413768.1\"; gene_type \"processed_transcript\"; gene_status \"NOVEL\"; gene_name \"AP000525.9\"; transcript_type \"lincRNA\"; transcript_status \"KNOWN\"; transcript_name \"AP000525.9-001\"; level 2; tag \"non_canonical_polymorphism\"; havana_gene \"OTTHUMG00000185288.2\"; havana_transcript \"OTTHUMT00000276578.1\";\n",
      "chr22\tHAVANA\ttranscript\t16158798\t16192995\t.\t-\t.\tgene_id \"ENSG00000206195.6\"; transcript_id \"ENST00000383038.3\"; gene_type \"processed_transcript\"; gene_status \"NOVEL\"; gene_name \"AP000525.9\"; transcript_type \"processed_transcript\"; transcript_status \"KNOWN\"; transcript_name \"AP000525.9-004\"; level 2; havana_gene \"OTTHUMG00000185288.2\"; havana_transcript \"OTTHUMT00000276577.1\";\n",
      "chr22\tHAVANA\ttranscript\t16158829\t16159470\t.\t-\t.\tgene_id \"ENSG00000206195.6\"; transcript_id \"ENST00000607933.1\"; gene_type \"processed_transcript\"; gene_status \"NOVEL\"; gene_name \"AP000525.9\"; transcript_type \"processed_transcript\"; transcript_status \"KNOWN\"; transcript_name \"AP000525.9-006\"; level 2; havana_gene \"OTTHUMG00000185288.2\"; havana_transcript \"OTTHUMT00000472240.1\";\n",
      "chr22\tHAVANA\ttranscript\t16150776\t16151397\t.\t-\t.\tgene_id \"ENSG00000271672.1\"; transcript_id \"ENST00000456786.2\"; gene_type \"pseudogene\"; gene_status \"KNOWN\"; gene_name \"DUXAP8\"; transcript_type \"transcribed_processed_pseudogene\"; transcript_status \"KNOWN\"; transcript_name \"DUXAP8-001\"; level 1; ont \"PGO:0000004\"; ont \"PGO:0000019\"; tag \"pseudo_consens\"; havana_gene \"OTTHUMG00000140194.3\"; havana_transcript \"OTTHUMT00000276572.3\";\n",
      "chr22\tHAVANA\ttranscript\t16162066\t16172700\t.\t+\t.\tgene_id \"ENSG00000232775.2\"; transcript_id \"ENST00000440946.1\"; gene_type \"pseudogene\"; gene_status \"KNOWN\"; gene_name \"AP000525.10\"; transcript_type \"processed_transcript\"; transcript_status \"KNOWN\"; transcript_name \"AP000525.10-002\"; level 2; tag \"basic\"; havana_gene \"OTTHUMG00000140198.3\"; havana_transcript \"OTTHUMT00000276785.1\";\n",
      "chr22\tHAVANA\ttranscript\t16255355\t16256477\t.\t-\t.\tgene_id \"ENSG00000241838.2\"; transcript_id \"ENST00000417657.1\"; gene_type \"pseudogene\"; gene_status \"KNOWN\"; gene_name \"LA16c-3G11.7\"; transcript_type \"processed_pseudogene\"; transcript_status \"KNOWN\"; transcript_name \"LA16c-3G11.7-001\"; level 1; ont \"PGO:0000004\"; tag \"pseudo_consens\"; havana_gene \"OTTHUMG00000140315.1\"; havana_transcript \"OTTHUMT00000276919.1\";\n",
      "--- Last 10 lines ---\n",
      "chr22\tHAVANA\ttranscript\t51205934\t51222090\t.\t-\t.\tgene_id \"ENSG00000079974.13\"; transcript_id \"ENST00000395591.1\"; gene_type \"protein_coding\"; gene_status \"KNOWN\"; gene_name \"RABL2B\"; transcript_type \"protein_coding\"; transcript_status \"NOVEL\"; transcript_name \"RABL2B-003\"; level 2; tag \"basic\"; havana_gene \"OTTHUMG00000150156.3\"; havana_transcript \"OTTHUMT00000316608.1\";\n",
      "chr22\tHAVANA\ttranscript\t51205934\t51222091\t.\t-\t.\tgene_id \"ENSG00000079974.13\"; transcript_id \"ENST00000395595.3\"; gene_type \"protein_coding\"; gene_status \"KNOWN\"; gene_name \"RABL2B\"; transcript_type \"protein_coding\"; transcript_status \"KNOWN\"; transcript_name \"RABL2B-006\"; level 2; tag \"basic\"; tag \"appris_candidate_longest\"; tag \"CCDS\"; ccdsid \"CCDS33683.1\"; havana_gene \"OTTHUMG00000150156.3\"; havana_transcript \"OTTHUMT00000316611.1\";\n",
      "chr22\tHAVANA\ttranscript\t51205937\t51208930\t.\t-\t.\tgene_id \"ENSG00000079974.13\"; transcript_id \"ENST00000465063.1\"; gene_type \"protein_coding\"; gene_status \"KNOWN\"; gene_name \"RABL2B\"; transcript_type \"processed_transcript\"; transcript_status \"KNOWN\"; transcript_name \"RABL2B-010\"; level 2; tag \"basic\"; havana_gene \"OTTHUMG00000150156.3\"; havana_transcript \"OTTHUMT00000316615.1\";\n",
      "chr22\tHAVANA\ttranscript\t51205958\t51222066\t.\t-\t.\tgene_id \"ENSG00000079974.13\"; transcript_id \"ENST00000436958.1\"; gene_type \"protein_coding\"; gene_status \"KNOWN\"; gene_name \"RABL2B\"; transcript_type \"nonsense_mediated_decay\"; transcript_status \"KNOWN\"; transcript_name \"RABL2B-002\"; level 2; havana_gene \"OTTHUMG00000150156.3\"; havana_transcript \"OTTHUMT00000316607.1\";\n",
      "chr22\tHAVANA\ttranscript\t51207955\t51214261\t.\t-\t.\tgene_id \"ENSG00000079974.13\"; transcript_id \"ENST00000482308.1\"; gene_type \"protein_coding\"; gene_status \"KNOWN\"; gene_name \"RABL2B\"; transcript_type \"retained_intron\"; transcript_status \"KNOWN\"; transcript_name \"RABL2B-013\"; level 2; havana_gene \"OTTHUMG00000150156.3\"; havana_transcript \"OTTHUMT00000349056.1\";\n",
      "chr22\tHAVANA\ttranscript\t51208210\t51221714\t.\t-\t.\tgene_id \"ENSG00000079974.13\"; transcript_id \"ENST00000464678.1\"; gene_type \"protein_coding\"; gene_status \"KNOWN\"; gene_name \"RABL2B\"; transcript_type \"retained_intron\"; transcript_status \"KNOWN\"; transcript_name \"RABL2B-012\"; level 2; havana_gene \"OTTHUMG00000150156.3\"; havana_transcript \"OTTHUMT00000349055.1\";\n",
      "chr22\tHAVANA\ttranscript\t51209638\t51222058\t.\t-\t.\tgene_id \"ENSG00000079974.13\"; transcript_id \"ENST00000395590.1\"; gene_type \"protein_coding\"; gene_status \"KNOWN\"; gene_name \"RABL2B\"; transcript_type \"protein_coding\"; transcript_status \"PUTATIVE\"; transcript_name \"RABL2B-004\"; level 2; tag \"basic\"; havana_gene \"OTTHUMG00000150156.3\"; havana_transcript \"OTTHUMT00000316609.1\";\n",
      "chr22\tHAVANA\ttranscript\t51214199\t51222028\t.\t-\t.\tgene_id \"ENSG00000079974.13\"; transcript_id \"ENST00000468451.1\"; gene_type \"protein_coding\"; gene_status \"KNOWN\"; gene_name \"RABL2B\"; transcript_type \"nonsense_mediated_decay\"; transcript_status \"KNOWN\"; transcript_name \"RABL2B-014\"; level 2; havana_gene \"OTTHUMG00000150156.3\"; havana_transcript \"OTTHUMT00000349057.1\";\n",
      "chr22\tHAVANA\ttranscript\t51216088\t51222058\t.\t-\t.\tgene_id \"ENSG00000079974.13\"; transcript_id \"ENST00000464740.1\"; gene_type \"protein_coding\"; gene_status \"KNOWN\"; gene_name \"RABL2B\"; transcript_type \"retained_intron\"; transcript_status \"KNOWN\"; transcript_name \"RABL2B-015\"; level 2; havana_gene \"OTTHUMG00000150156.3\"; havana_transcript \"OTTHUMT00000349058.1\";\n",
      "chr22\tHAVANA\ttranscript\t51220662\t51221473\t.\t-\t.\tgene_id \"ENSG00000079974.13\"; transcript_id \"ENST00000413505.1\"; gene_type \"protein_coding\"; gene_status \"KNOWN\"; gene_name \"RABL2B\"; transcript_type \"protein_coding\"; transcript_status \"KNOWN\"; transcript_name \"RABL2B-011\"; level 2; tag \"alternative_5_UTR\"; tag \"mRNA_end_NF\"; tag \"cds_end_NF\"; havana_gene \"OTTHUMG00000150156.3\"; havana_transcript \"OTTHUMT00000316616.2\";\n"
     ]
    }
   ],
   "source": [
    "print(exercise2)"
   ]
  },
  {
   "cell_type": "code",
   "execution_count": 48,
   "metadata": {
    "collapsed": false
   },
   "outputs": [],
   "source": [
    "#!awk -F \"\\t\" '{if($3 == \"transcript\"){print;}}' gencode.v19.annotation.chr22.gtf > gencode.v19.annotation.chr22.transcript.gtf"
   ]
  },
  {
   "cell_type": "code",
   "execution_count": 49,
   "metadata": {
    "collapsed": false
   },
   "outputs": [],
   "source": [
    "#!less -S gencode.v19.annotation.chr22.transcript.gtf"
   ]
  },
  {
   "cell_type": "code",
   "execution_count": 50,
   "metadata": {
    "collapsed": true
   },
   "outputs": [],
   "source": [
    "#Exercise 3: Use bedtools flank to get the promoters¶"
   ]
  },
  {
   "cell_type": "code",
   "execution_count": 31,
   "metadata": {
    "collapsed": false
   },
   "outputs": [
    {
     "name": "stderr",
     "output_type": "stream",
     "text": [
      "awk: (FILENAME=gencode.v19.annotation.chr22.transcript.promoter.gtf FNR=95) fatal: print to \"standard output\" failed (Broken pipe)\n"
     ]
    }
   ],
   "source": [
    "%%bash --out exercise3\n",
    "# YOUR CODE HERE\\n\n",
    "\n",
    "bedtools flank -i gencode.v19.annotation.chr22.transcript.gtf -g hg19.genome -l 2000 -r 0 -s> gencode.v19.annotation.chr22.transcript.promoter.gtf\n",
    "\n",
    "wc -l gencode.v19.annotation.chr22.transcript.promoter.gtf\n",
    "echo '--- First 10 lines ---'\n",
    "head gencode.v19.annotation.chr22.transcript.promoter.gtf\n",
    "echo '--- Random 10 lines ---'\n",
    "awk -v seed=907 'BEGIN{srand(seed);}{ if (rand() < 0.5 ) {print $0}}' gencode.v19.annotation.chr22.transcript.promoter.gtf | head\n",
    "echo '--- Last 10 lines ---'\n",
    "tail gencode.v19.annotation.chr22.transcript.promoter.gtf"
   ]
  },
  {
   "cell_type": "code",
   "execution_count": 32,
   "metadata": {
    "collapsed": false
   },
   "outputs": [
    {
     "name": "stdout",
     "output_type": "stream",
     "text": [
      "4459 gencode.v19.annotation.chr22.transcript.promoter.gtf\n",
      "--- First 10 lines ---\n",
      "chr22\tHAVANA\ttranscript\t16060157\t16062156\t.\t+\t.\tgene_id \"ENSG00000233866.1\"; transcript_id \"ENST00000424770.1\"; gene_type \"lincRNA\"; gene_status \"KNOWN\"; gene_name \"LA16c-4G1.3\"; transcript_type \"lincRNA\"; transcript_status \"KNOWN\"; transcript_name \"LA16c-4G1.3-001\"; level 2; tag \"basic\"; havana_gene \"OTTHUMG00000140195.1\"; havana_transcript \"OTTHUMT00000276574.1\";\n",
      "chr22\tHAVANA\ttranscript\t16076173\t16078172\t.\t-\t.\tgene_id \"ENSG00000229286.1\"; transcript_id \"ENST00000448070.1\"; gene_type \"pseudogene\"; gene_status \"KNOWN\"; gene_name \"LA16c-4G1.4\"; transcript_type \"unprocessed_pseudogene\"; transcript_status \"KNOWN\"; transcript_name \"LA16c-4G1.4-001\"; level 2; ont \"PGO:0000005\"; havana_gene \"OTTHUMG00000140193.1\"; havana_transcript \"OTTHUMT00000276571.1\";\n",
      "chr22\tHAVANA\ttranscript\t16084827\t16086826\t.\t-\t.\tgene_id \"ENSG00000235265.1\"; transcript_id \"ENST00000413156.1\"; gene_type \"pseudogene\"; gene_status \"KNOWN\"; gene_name \"LA16c-4G1.5\"; transcript_type \"unprocessed_pseudogene\"; transcript_status \"KNOWN\"; transcript_name \"LA16c-4G1.5-001\"; level 2; ont \"PGO:0000005\"; havana_gene \"OTTHUMG00000140197.1\"; havana_transcript \"OTTHUMT00000276576.1\";\n",
      "chr22\tHAVANA\ttranscript\t16124974\t16126973\t.\t-\t.\tgene_id \"ENSG00000223875.1\"; transcript_id \"ENST00000420638.1\"; gene_type \"pseudogene\"; gene_status \"KNOWN\"; gene_name \"NBEAP3\"; transcript_type \"unprocessed_pseudogene\"; transcript_status \"KNOWN\"; transcript_name \"NBEAP3-001\"; level 2; ont \"PGO:0000005\"; havana_gene \"OTTHUMG00000140196.1\"; havana_transcript \"OTTHUMT00000276575.1\";\n",
      "chr22\tHAVANA\ttranscript\t16120720\t16122719\t.\t+\t.\tgene_id \"ENSG00000215270.3\"; transcript_id \"ENST00000398242.2\"; gene_type \"pseudogene\"; gene_status \"KNOWN\"; gene_name \"LA16c-60H5.7\"; transcript_type \"processed_pseudogene\"; transcript_status \"KNOWN\"; transcript_name \"LA16c-60H5.7-001\"; level 1; ont \"PGO:0000004\"; tag \"pseudo_consens\"; havana_gene \"OTTHUMG00000140200.1\"; havana_transcript \"OTTHUMT00000276581.1\";\n",
      "chr22\tHAVANA\ttranscript\t16192972\t16194971\t.\t-\t.\tgene_id \"ENSG00000206195.6\"; transcript_id \"ENST00000447898.1\"; gene_type \"processed_transcript\"; gene_status \"NOVEL\"; gene_name \"AP000525.9\"; transcript_type \"lincRNA\"; transcript_status \"KNOWN\"; transcript_name \"AP000525.9-002\"; level 2; tag \"basic\"; havana_gene \"OTTHUMG00000185288.2\"; havana_transcript \"OTTHUMT00000276780.1\";\n",
      "chr22\tHAVANA\ttranscript\t16193001\t16195000\t.\t-\t.\tgene_id \"ENSG00000206195.6\"; transcript_id \"ENST00000437781.1\"; gene_type \"processed_transcript\"; gene_status \"NOVEL\"; gene_name \"AP000525.9\"; transcript_type \"lincRNA\"; transcript_status \"KNOWN\"; transcript_name \"AP000525.9-003\"; level 2; havana_gene \"OTTHUMG00000185288.2\"; havana_transcript \"OTTHUMT00000276579.1\";\n",
      "chr22\tHAVANA\ttranscript\t16193005\t16195004\t.\t-\t.\tgene_id \"ENSG00000206195.6\"; transcript_id \"ENST00000413768.1\"; gene_type \"processed_transcript\"; gene_status \"NOVEL\"; gene_name \"AP000525.9\"; transcript_type \"lincRNA\"; transcript_status \"KNOWN\"; transcript_name \"AP000525.9-001\"; level 2; tag \"non_canonical_polymorphism\"; havana_gene \"OTTHUMG00000185288.2\"; havana_transcript \"OTTHUMT00000276578.1\";\n",
      "chr22\tHAVANA\ttranscript\t16192996\t16194995\t.\t-\t.\tgene_id \"ENSG00000206195.6\"; transcript_id \"ENST00000383038.3\"; gene_type \"processed_transcript\"; gene_status \"NOVEL\"; gene_name \"AP000525.9\"; transcript_type \"processed_transcript\"; transcript_status \"KNOWN\"; transcript_name \"AP000525.9-004\"; level 2; havana_gene \"OTTHUMG00000185288.2\"; havana_transcript \"OTTHUMT00000276577.1\";\n",
      "chr22\tHAVANA\ttranscript\t16159471\t16161470\t.\t-\t.\tgene_id \"ENSG00000206195.6\"; transcript_id \"ENST00000607933.1\"; gene_type \"processed_transcript\"; gene_status \"NOVEL\"; gene_name \"AP000525.9\"; transcript_type \"processed_transcript\"; transcript_status \"KNOWN\"; transcript_name \"AP000525.9-006\"; level 2; havana_gene \"OTTHUMG00000185288.2\"; havana_transcript \"OTTHUMT00000472240.1\";\n",
      "--- Random 10 lines ---\n",
      "chr22\tHAVANA\ttranscript\t16084827\t16086826\t.\t-\t.\tgene_id \"ENSG00000235265.1\"; transcript_id \"ENST00000413156.1\"; gene_type \"pseudogene\"; gene_status \"KNOWN\"; gene_name \"LA16c-4G1.5\"; transcript_type \"unprocessed_pseudogene\"; transcript_status \"KNOWN\"; transcript_name \"LA16c-4G1.5-001\"; level 2; ont \"PGO:0000005\"; havana_gene \"OTTHUMG00000140197.1\"; havana_transcript \"OTTHUMT00000276576.1\";\n",
      "chr22\tHAVANA\ttranscript\t16124974\t16126973\t.\t-\t.\tgene_id \"ENSG00000223875.1\"; transcript_id \"ENST00000420638.1\"; gene_type \"pseudogene\"; gene_status \"KNOWN\"; gene_name \"NBEAP3\"; transcript_type \"unprocessed_pseudogene\"; transcript_status \"KNOWN\"; transcript_name \"NBEAP3-001\"; level 2; ont \"PGO:0000005\"; havana_gene \"OTTHUMG00000140196.1\"; havana_transcript \"OTTHUMT00000276575.1\";\n",
      "chr22\tHAVANA\ttranscript\t16120720\t16122719\t.\t+\t.\tgene_id \"ENSG00000215270.3\"; transcript_id \"ENST00000398242.2\"; gene_type \"pseudogene\"; gene_status \"KNOWN\"; gene_name \"LA16c-60H5.7\"; transcript_type \"processed_pseudogene\"; transcript_status \"KNOWN\"; transcript_name \"LA16c-60H5.7-001\"; level 1; ont \"PGO:0000004\"; tag \"pseudo_consens\"; havana_gene \"OTTHUMG00000140200.1\"; havana_transcript \"OTTHUMT00000276581.1\";\n",
      "chr22\tHAVANA\ttranscript\t16193001\t16195000\t.\t-\t.\tgene_id \"ENSG00000206195.6\"; transcript_id \"ENST00000437781.1\"; gene_type \"processed_transcript\"; gene_status \"NOVEL\"; gene_name \"AP000525.9\"; transcript_type \"lincRNA\"; transcript_status \"KNOWN\"; transcript_name \"AP000525.9-003\"; level 2; havana_gene \"OTTHUMG00000185288.2\"; havana_transcript \"OTTHUMT00000276579.1\";\n",
      "chr22\tHAVANA\ttranscript\t16193005\t16195004\t.\t-\t.\tgene_id \"ENSG00000206195.6\"; transcript_id \"ENST00000413768.1\"; gene_type \"processed_transcript\"; gene_status \"NOVEL\"; gene_name \"AP000525.9\"; transcript_type \"lincRNA\"; transcript_status \"KNOWN\"; transcript_name \"AP000525.9-001\"; level 2; tag \"non_canonical_polymorphism\"; havana_gene \"OTTHUMG00000185288.2\"; havana_transcript \"OTTHUMT00000276578.1\";\n",
      "chr22\tHAVANA\ttranscript\t16192996\t16194995\t.\t-\t.\tgene_id \"ENSG00000206195.6\"; transcript_id \"ENST00000383038.3\"; gene_type \"processed_transcript\"; gene_status \"NOVEL\"; gene_name \"AP000525.9\"; transcript_type \"processed_transcript\"; transcript_status \"KNOWN\"; transcript_name \"AP000525.9-004\"; level 2; havana_gene \"OTTHUMG00000185288.2\"; havana_transcript \"OTTHUMT00000276577.1\";\n",
      "chr22\tHAVANA\ttranscript\t16159471\t16161470\t.\t-\t.\tgene_id \"ENSG00000206195.6\"; transcript_id \"ENST00000607933.1\"; gene_type \"processed_transcript\"; gene_status \"NOVEL\"; gene_name \"AP000525.9\"; transcript_type \"processed_transcript\"; transcript_status \"KNOWN\"; transcript_name \"AP000525.9-006\"; level 2; havana_gene \"OTTHUMG00000185288.2\"; havana_transcript \"OTTHUMT00000472240.1\";\n",
      "chr22\tHAVANA\ttranscript\t16151398\t16153397\t.\t-\t.\tgene_id \"ENSG00000271672.1\"; transcript_id \"ENST00000456786.2\"; gene_type \"pseudogene\"; gene_status \"KNOWN\"; gene_name \"DUXAP8\"; transcript_type \"transcribed_processed_pseudogene\"; transcript_status \"KNOWN\"; transcript_name \"DUXAP8-001\"; level 1; ont \"PGO:0000004\"; ont \"PGO:0000019\"; tag \"pseudo_consens\"; havana_gene \"OTTHUMG00000140194.3\"; havana_transcript \"OTTHUMT00000276572.3\";\n",
      "chr22\tHAVANA\ttranscript\t16160066\t16162065\t.\t+\t.\tgene_id \"ENSG00000232775.2\"; transcript_id \"ENST00000440946.1\"; gene_type \"pseudogene\"; gene_status \"KNOWN\"; gene_name \"AP000525.10\"; transcript_type \"processed_transcript\"; transcript_status \"KNOWN\"; transcript_name \"AP000525.10-002\"; level 2; tag \"basic\"; havana_gene \"OTTHUMG00000140198.3\"; havana_transcript \"OTTHUMT00000276785.1\";\n",
      "chr22\tHAVANA\ttranscript\t16256478\t16258477\t.\t-\t.\tgene_id \"ENSG00000241838.2\"; transcript_id \"ENST00000417657.1\"; gene_type \"pseudogene\"; gene_status \"KNOWN\"; gene_name \"LA16c-3G11.7\"; transcript_type \"processed_pseudogene\"; transcript_status \"KNOWN\"; transcript_name \"LA16c-3G11.7-001\"; level 1; ont \"PGO:0000004\"; tag \"pseudo_consens\"; havana_gene \"OTTHUMG00000140315.1\"; havana_transcript \"OTTHUMT00000276919.1\";\n",
      "--- Last 10 lines ---\n",
      "chr22\tHAVANA\ttranscript\t51222091\t51224090\t.\t-\t.\tgene_id \"ENSG00000079974.13\"; transcript_id \"ENST00000395591.1\"; gene_type \"protein_coding\"; gene_status \"KNOWN\"; gene_name \"RABL2B\"; transcript_type \"protein_coding\"; transcript_status \"NOVEL\"; transcript_name \"RABL2B-003\"; level 2; tag \"basic\"; havana_gene \"OTTHUMG00000150156.3\"; havana_transcript \"OTTHUMT00000316608.1\";\n",
      "chr22\tHAVANA\ttranscript\t51222092\t51224091\t.\t-\t.\tgene_id \"ENSG00000079974.13\"; transcript_id \"ENST00000395595.3\"; gene_type \"protein_coding\"; gene_status \"KNOWN\"; gene_name \"RABL2B\"; transcript_type \"protein_coding\"; transcript_status \"KNOWN\"; transcript_name \"RABL2B-006\"; level 2; tag \"basic\"; tag \"appris_candidate_longest\"; tag \"CCDS\"; ccdsid \"CCDS33683.1\"; havana_gene \"OTTHUMG00000150156.3\"; havana_transcript \"OTTHUMT00000316611.1\";\n",
      "chr22\tHAVANA\ttranscript\t51208931\t51210930\t.\t-\t.\tgene_id \"ENSG00000079974.13\"; transcript_id \"ENST00000465063.1\"; gene_type \"protein_coding\"; gene_status \"KNOWN\"; gene_name \"RABL2B\"; transcript_type \"processed_transcript\"; transcript_status \"KNOWN\"; transcript_name \"RABL2B-010\"; level 2; tag \"basic\"; havana_gene \"OTTHUMG00000150156.3\"; havana_transcript \"OTTHUMT00000316615.1\";\n",
      "chr22\tHAVANA\ttranscript\t51222067\t51224066\t.\t-\t.\tgene_id \"ENSG00000079974.13\"; transcript_id \"ENST00000436958.1\"; gene_type \"protein_coding\"; gene_status \"KNOWN\"; gene_name \"RABL2B\"; transcript_type \"nonsense_mediated_decay\"; transcript_status \"KNOWN\"; transcript_name \"RABL2B-002\"; level 2; havana_gene \"OTTHUMG00000150156.3\"; havana_transcript \"OTTHUMT00000316607.1\";\n",
      "chr22\tHAVANA\ttranscript\t51214262\t51216261\t.\t-\t.\tgene_id \"ENSG00000079974.13\"; transcript_id \"ENST00000482308.1\"; gene_type \"protein_coding\"; gene_status \"KNOWN\"; gene_name \"RABL2B\"; transcript_type \"retained_intron\"; transcript_status \"KNOWN\"; transcript_name \"RABL2B-013\"; level 2; havana_gene \"OTTHUMG00000150156.3\"; havana_transcript \"OTTHUMT00000349056.1\";\n",
      "chr22\tHAVANA\ttranscript\t51221715\t51223714\t.\t-\t.\tgene_id \"ENSG00000079974.13\"; transcript_id \"ENST00000464678.1\"; gene_type \"protein_coding\"; gene_status \"KNOWN\"; gene_name \"RABL2B\"; transcript_type \"retained_intron\"; transcript_status \"KNOWN\"; transcript_name \"RABL2B-012\"; level 2; havana_gene \"OTTHUMG00000150156.3\"; havana_transcript \"OTTHUMT00000349055.1\";\n",
      "chr22\tHAVANA\ttranscript\t51222059\t51224058\t.\t-\t.\tgene_id \"ENSG00000079974.13\"; transcript_id \"ENST00000395590.1\"; gene_type \"protein_coding\"; gene_status \"KNOWN\"; gene_name \"RABL2B\"; transcript_type \"protein_coding\"; transcript_status \"PUTATIVE\"; transcript_name \"RABL2B-004\"; level 2; tag \"basic\"; havana_gene \"OTTHUMG00000150156.3\"; havana_transcript \"OTTHUMT00000316609.1\";\n",
      "chr22\tHAVANA\ttranscript\t51222029\t51224028\t.\t-\t.\tgene_id \"ENSG00000079974.13\"; transcript_id \"ENST00000468451.1\"; gene_type \"protein_coding\"; gene_status \"KNOWN\"; gene_name \"RABL2B\"; transcript_type \"nonsense_mediated_decay\"; transcript_status \"KNOWN\"; transcript_name \"RABL2B-014\"; level 2; havana_gene \"OTTHUMG00000150156.3\"; havana_transcript \"OTTHUMT00000349057.1\";\n",
      "chr22\tHAVANA\ttranscript\t51222059\t51224058\t.\t-\t.\tgene_id \"ENSG00000079974.13\"; transcript_id \"ENST00000464740.1\"; gene_type \"protein_coding\"; gene_status \"KNOWN\"; gene_name \"RABL2B\"; transcript_type \"retained_intron\"; transcript_status \"KNOWN\"; transcript_name \"RABL2B-015\"; level 2; havana_gene \"OTTHUMG00000150156.3\"; havana_transcript \"OTTHUMT00000349058.1\";\n",
      "chr22\tHAVANA\ttranscript\t51221474\t51223473\t.\t-\t.\tgene_id \"ENSG00000079974.13\"; transcript_id \"ENST00000413505.1\"; gene_type \"protein_coding\"; gene_status \"KNOWN\"; gene_name \"RABL2B\"; transcript_type \"protein_coding\"; transcript_status \"KNOWN\"; transcript_name \"RABL2B-011\"; level 2; tag \"alternative_5_UTR\"; tag \"mRNA_end_NF\"; tag \"cds_end_NF\"; havana_gene \"OTTHUMG00000150156.3\"; havana_transcript \"OTTHUMT00000316616.2\";\n",
      "\n"
     ]
    }
   ],
   "source": [
    "print(exercise3)"
   ]
  },
  {
   "cell_type": "code",
   "execution_count": 33,
   "metadata": {
    "collapsed": false
   },
   "outputs": [
    {
     "name": "stdout",
     "output_type": "stream",
     "text": [
      "chr22   HAVANA  transcript      16060157        16062156        .       +       \n",
      "chr22   HAVANA  transcript      16076173        16078172        .       -       \n",
      "chr22   HAVANA  transcript      16084827        16086826        .       -       \n",
      "chr22   HAVANA  transcript      16124974        16126973        .       -       \n",
      "chr22   HAVANA  transcript      16120720        16122719        .       +       \n",
      "chr22   HAVANA  transcript      16192972        16194971        .       -       \n",
      "chr22   HAVANA  transcript      16193001        16195000        .       -       \n",
      "chr22   HAVANA  transcript      16193005        16195004        .       -       \n",
      "chr22   HAVANA  transcript      16192996        16194995        .       -       \n",
      "chr22   HAVANA  transcript      16159471        16161470        .       -       \n",
      "chr22   HAVANA  transcript      16187255        16189254        .       -       \n",
      "chr22   HAVANA  transcript      16151398        16153397        .       -       \n",
      "chr22   HAVANA  transcript      16154767        16156766        .       -       \n",
      "chr22   HAVANA  transcript      16155079        16157078        .       +       \n",
      "chr22   HAVANA  transcript      16160066        16162065        .       +       \n",
      "chr22   HAVANA  transcript      16169460        16171459        .       +       \n",
      "chr22   HAVANA  transcript      16181005        16183004        .       -       \n",
      "chr22   HAVANA  transcript      16212277        16214276        .       -       \n",
      "chr22   HAVANA  transcript      16231334        16233333        .       -       \n",
      "chr22   HAVANA  transcript      16225138        16227137        .       +       \n",
      "chr22   HAVANA  transcript      16256478        16258477        .       -       \n",
      "chr22   ENSEMBL transcript      16256228        16258227        .       -       \n",
      "chr22   HAVANA  transcript      16287718        16289717        .       -       \n",
      "\u001b[Kchr22   HAVANA  transcript      16287938        16289937        .       -       \n",
      ":\u001b[K"
     ]
    }
   ],
   "source": [
    "#!less -S gencode.v19.annotation.chr22.transcript.promoter.gtf"
   ]
  },
  {
   "cell_type": "code",
   "execution_count": 34,
   "metadata": {
    "collapsed": false
   },
   "outputs": [],
   "source": [
    "#Exercise 4: Use bedtools intersect to overlap TFs with promoters"
   ]
  },
  {
   "cell_type": "code",
   "execution_count": 62,
   "metadata": {
    "collapsed": false
   },
   "outputs": [
    {
     "name": "stderr",
     "output_type": "stream",
     "text": [
      "awk: (FILENAME=gencode.v19.annotation.chr22.transcript.promoter.nfkb.gtf FNR=90) fatal: print to \"standard output\" failed (Broken pipe)\n"
     ]
    }
   ],
   "source": [
    "%%bash --out exercise4\n",
    "# YOUR CODE HERE\\n\n",
    "bedtools intersect -a gencode.v19.annotation.chr22.transcript.promoter.gtf -b tf.nfkb.bed > gencode.v19.annotation.chr22.transcript.promoter.nfkb.gtf\n",
    "\n",
    "wc -l gencode.v19.annotation.chr22.transcript.promoter.nfkb.gtf\n",
    "echo '--- First 10 lines ---'\n",
    "head gencode.v19.annotation.chr22.transcript.promoter.nfkb.gtf\n",
    "echo '--- Random 10 lines ---'\n",
    "awk -v seed=908 'BEGIN{srand(seed);}{ if (rand() < 0.5 ) {print $0}}' gencode.v19.annotation.chr22.transcript.promoter.nfkb.gtf | head\n",
    "echo '--- Last 10 lines ---'\n",
    "tail gencode.v19.annotation.chr22.transcript.promoter.nfkb.gtf"
   ]
  },
  {
   "cell_type": "code",
   "execution_count": 63,
   "metadata": {
    "collapsed": false
   },
   "outputs": [
    {
     "name": "stdout",
     "output_type": "stream",
     "text": [
      "1221 gencode.v19.annotation.chr22.transcript.promoter.nfkb.gtf\n",
      "--- First 10 lines ---\n",
      "chr22\tHAVANA\ttranscript\t17565763\t17565843\t.\t+\t.\tgene_id \"ENSG00000177663.9\"; transcript_id \"ENST00000477874.1\"; gene_type \"protein_coding\"; gene_status \"KNOWN\"; gene_name \"IL17RA\"; transcript_type \"processed_transcript\"; transcript_status \"PUTATIVE\"; transcript_name \"IL17RA-004\"; level 1; tag \"basic\"; tag \"exp_conf\"; havana_gene \"OTTHUMG00000150026.1\"; havana_transcript \"OTTHUMT00000315823.1\";\n",
      "chr22\tHAVANA\ttranscript\t17565763\t17565848\t.\t+\t.\tgene_id \"ENSG00000177663.9\"; transcript_id \"ENST00000319363.6\"; gene_type \"protein_coding\"; gene_status \"KNOWN\"; gene_name \"IL17RA\"; transcript_type \"protein_coding\"; transcript_status \"KNOWN\"; transcript_name \"IL17RA-001\"; level 2; tag \"basic\"; tag \"appris_principal\"; tag \"CCDS\"; ccdsid \"CCDS13739.1\"; havana_gene \"OTTHUMG00000150026.1\"; havana_transcript \"OTTHUMT00000315820.1\";\n",
      "chr22\tHAVANA\ttranscript\t17565763\t17565946\t.\t+\t.\tgene_id \"ENSG00000177663.9\"; transcript_id \"ENST00000459971.1\"; gene_type \"protein_coding\"; gene_status \"KNOWN\"; gene_name \"IL17RA\"; transcript_type \"retained_intron\"; transcript_status \"KNOWN\"; transcript_name \"IL17RA-003\"; level 2; havana_gene \"OTTHUMG00000150026.1\"; havana_transcript \"OTTHUMT00000315822.1\";\n",
      "chr22\tHAVANA\ttranscript\t17700267\t17700502\t.\t-\t.\tgene_id \"ENSG00000093072.11\"; transcript_id \"ENST00000399837.2\"; gene_type \"protein_coding\"; gene_status \"KNOWN\"; gene_name \"CECR1\"; transcript_type \"protein_coding\"; transcript_status \"KNOWN\"; transcript_name \"CECR1-201\"; level 2; tag \"basic\"; tag \"appris_principal\"; tag \"CCDS\"; ccdsid \"CCDS13742.1\"; havana_gene \"OTTHUMG00000030726.8\"; havana_transcript \"OTTHUMT00000316079.1\";\n",
      "chr22\tHAVANA\ttranscript\t17701962\t17702266\t.\t-\t.\tgene_id \"ENSG00000093072.11\"; transcript_id \"ENST00000399837.2\"; gene_type \"protein_coding\"; gene_status \"KNOWN\"; gene_name \"CECR1\"; transcript_type \"protein_coding\"; transcript_status \"KNOWN\"; transcript_name \"CECR1-201\"; level 2; tag \"basic\"; tag \"appris_principal\"; tag \"CCDS\"; ccdsid \"CCDS13742.1\"; havana_gene \"OTTHUMG00000030726.8\"; havana_transcript \"OTTHUMT00000316079.1\";\n",
      "chr22\tHAVANA\ttranscript\t17700326\t17700502\t.\t-\t.\tgene_id \"ENSG00000093072.11\"; transcript_id \"ENST00000543038.1\"; gene_type \"protein_coding\"; gene_status \"KNOWN\"; gene_name \"CECR1\"; transcript_type \"protein_coding\"; transcript_status \"KNOWN\"; transcript_name \"CECR1-001\"; level 2; tag \"alternative_5_UTR\"; tag \"mRNA_end_NF\"; tag \"cds_end_NF\"; havana_gene \"OTTHUMG00000030726.8\"; havana_transcript \"OTTHUMT00000075614.5\";\n",
      "chr22\tHAVANA\ttranscript\t17701962\t17702278\t.\t-\t.\tgene_id \"ENSG00000093072.11\"; transcript_id \"ENST00000543038.1\"; gene_type \"protein_coding\"; gene_status \"KNOWN\"; gene_name \"CECR1\"; transcript_type \"protein_coding\"; transcript_status \"KNOWN\"; transcript_name \"CECR1-001\"; level 2; tag \"alternative_5_UTR\"; tag \"mRNA_end_NF\"; tag \"cds_end_NF\"; havana_gene \"OTTHUMG00000030726.8\"; havana_transcript \"OTTHUMT00000075614.5\";\n",
      "chr22\tHAVANA\ttranscript\t18111762\t18112038\t.\t-\t.\tgene_id \"ENSG00000131100.8\"; transcript_id \"ENST00000253413.5\"; gene_type \"protein_coding\"; gene_status \"KNOWN\"; gene_name \"ATP6V1E1\"; transcript_type \"protein_coding\"; transcript_status \"KNOWN\"; transcript_name \"ATP6V1E1-001\"; level 2; tag \"basic\"; tag \"appris_principal\"; tag \"CCDS\"; ccdsid \"CCDS13745.1\"; havana_gene \"OTTHUMG00000059320.4\"; havana_transcript \"OTTHUMT00000131790.3\";\n",
      "chr22\tHAVANA\ttranscript\t18111762\t18112038\t.\t-\t.\tgene_id \"ENSG00000131100.8\"; transcript_id \"ENST00000399796.2\"; gene_type \"protein_coding\"; gene_status \"KNOWN\"; gene_name \"ATP6V1E1\"; transcript_type \"protein_coding\"; transcript_status \"KNOWN\"; transcript_name \"ATP6V1E1-006\"; level 2; tag \"basic\"; tag \"CCDS\"; ccdsid \"CCDS42978.1\"; havana_gene \"OTTHUMG00000059320.4\"; havana_transcript \"OTTHUMT00000353464.1\";\n",
      "chr22\tHAVANA\ttranscript\t18111762\t18112038\t.\t-\t.\tgene_id \"ENSG00000131100.8\"; transcript_id \"ENST00000399798.2\"; gene_type \"protein_coding\"; gene_status \"KNOWN\"; gene_name \"ATP6V1E1\"; transcript_type \"protein_coding\"; transcript_status \"KNOWN\"; transcript_name \"ATP6V1E1-005\"; level 2; tag \"basic\"; tag \"CCDS\"; ccdsid \"CCDS42977.1\"; havana_gene \"OTTHUMG00000059320.4\"; havana_transcript \"OTTHUMT00000353463.1\";\n",
      "--- Random 10 lines ---\n",
      "chr22\tHAVANA\ttranscript\t17565763\t17565848\t.\t+\t.\tgene_id \"ENSG00000177663.9\"; transcript_id \"ENST00000319363.6\"; gene_type \"protein_coding\"; gene_status \"KNOWN\"; gene_name \"IL17RA\"; transcript_type \"protein_coding\"; transcript_status \"KNOWN\"; transcript_name \"IL17RA-001\"; level 2; tag \"basic\"; tag \"appris_principal\"; tag \"CCDS\"; ccdsid \"CCDS13739.1\"; havana_gene \"OTTHUMG00000150026.1\"; havana_transcript \"OTTHUMT00000315820.1\";\n",
      "chr22\tHAVANA\ttranscript\t17565763\t17565946\t.\t+\t.\tgene_id \"ENSG00000177663.9\"; transcript_id \"ENST00000459971.1\"; gene_type \"protein_coding\"; gene_status \"KNOWN\"; gene_name \"IL17RA\"; transcript_type \"retained_intron\"; transcript_status \"KNOWN\"; transcript_name \"IL17RA-003\"; level 2; havana_gene \"OTTHUMG00000150026.1\"; havana_transcript \"OTTHUMT00000315822.1\";\n",
      "chr22\tHAVANA\ttranscript\t17700267\t17700502\t.\t-\t.\tgene_id \"ENSG00000093072.11\"; transcript_id \"ENST00000399837.2\"; gene_type \"protein_coding\"; gene_status \"KNOWN\"; gene_name \"CECR1\"; transcript_type \"protein_coding\"; transcript_status \"KNOWN\"; transcript_name \"CECR1-201\"; level 2; tag \"basic\"; tag \"appris_principal\"; tag \"CCDS\"; ccdsid \"CCDS13742.1\"; havana_gene \"OTTHUMG00000030726.8\"; havana_transcript \"OTTHUMT00000316079.1\";\n",
      "chr22\tHAVANA\ttranscript\t18111762\t18112038\t.\t-\t.\tgene_id \"ENSG00000131100.8\"; transcript_id \"ENST00000399798.2\"; gene_type \"protein_coding\"; gene_status \"KNOWN\"; gene_name \"ATP6V1E1\"; transcript_type \"protein_coding\"; transcript_status \"KNOWN\"; transcript_name \"ATP6V1E1-005\"; level 2; tag \"basic\"; tag \"CCDS\"; ccdsid \"CCDS42977.1\"; havana_gene \"OTTHUMG00000059320.4\"; havana_transcript \"OTTHUMT00000353463.1\";\n",
      "chr22\tHAVANA\ttranscript\t18121203\t18121355\t.\t+\t.\tgene_id \"ENSG00000099968.13\"; transcript_id \"ENST00000317582.5\"; gene_type \"protein_coding\"; gene_status \"KNOWN\"; gene_name \"BCL2L13\"; transcript_type \"protein_coding\"; transcript_status \"KNOWN\"; transcript_name \"BCL2L13-001\"; level 2; tag \"basic\"; tag \"appris_principal\"; tag \"CCDS\"; ccdsid \"CCDS13746.1\"; havana_gene \"OTTHUMG00000150088.3\"; havana_transcript \"OTTHUMT00000316184.1\";\n",
      "chr22\tHAVANA\ttranscript\t18121203\t18121506\t.\t+\t.\tgene_id \"ENSG00000099968.13\"; transcript_id \"ENST00000498133.1\"; gene_type \"protein_coding\"; gene_status \"KNOWN\"; gene_name \"BCL2L13\"; transcript_type \"nonsense_mediated_decay\"; transcript_status \"KNOWN\"; transcript_name \"BCL2L13-003\"; level 2; havana_gene \"OTTHUMG00000150088.3\"; havana_transcript \"OTTHUMT00000316186.2\";\n",
      "chr22\tENSEMBL\ttranscript\t18121203\t18121522\t.\t+\t.\tgene_id \"ENSG00000099968.13\"; transcript_id \"ENST00000538149.1\"; gene_type \"protein_coding\"; gene_status \"KNOWN\"; gene_name \"BCL2L13\"; transcript_type \"protein_coding\"; transcript_status \"KNOWN\"; transcript_name \"BCL2L13-203\"; level 3; tag \"basic\"; havana_gene \"OTTHUMG00000150088.3\";\n",
      "chr22\tENSEMBL\ttranscript\t18121203\t18121529\t.\t+\t.\tgene_id \"ENSG00000099968.13\"; transcript_id \"ENST00000337612.5\"; gene_type \"protein_coding\"; gene_status \"KNOWN\"; gene_name \"BCL2L13\"; transcript_type \"protein_coding\"; transcript_status \"KNOWN\"; transcript_name \"BCL2L13-201\"; level 3; tag \"basic\"; tag \"CCDS\"; ccdsid \"CCDS59448.1\"; havana_gene \"OTTHUMG00000150088.3\";\n",
      "chr22\tHAVANA\ttranscript\t18121203\t18121537\t.\t+\t.\tgene_id \"ENSG00000099968.13\"; transcript_id \"ENST00000493680.1\"; gene_type \"protein_coding\"; gene_status \"KNOWN\"; gene_name \"BCL2L13\"; transcript_type \"protein_coding\"; transcript_status \"KNOWN\"; transcript_name \"BCL2L13-004\"; level 2; tag \"alternative_5_UTR\"; tag \"basic\"; havana_gene \"OTTHUMG00000150088.3\"; havana_transcript \"OTTHUMT00000316187.2\";\n",
      "chr22\tHAVANA\ttranscript\t18225198\t18225524\t.\t-\t.\tgene_id \"ENSG00000015475.14\"; transcript_id \"ENST00000494097.1\"; gene_type \"protein_coding\"; gene_status \"KNOWN\"; gene_name \"BID\"; transcript_type \"retained_intron\"; transcript_status \"KNOWN\"; transcript_name \"BID-005\"; level 2; havana_gene \"OTTHUMG00000150087.4\"; havana_transcript \"OTTHUMT00000316182.1\";\n",
      "--- Last 10 lines ---\n",
      "chr22\tHAVANA\ttranscript\t51021250\t51021316\t.\t-\t.\tgene_id \"ENSG00000100288.15\"; transcript_id \"ENST00000479003.1\"; gene_type \"protein_coding\"; gene_status \"KNOWN\"; gene_name \"CHKB\"; transcript_type \"retained_intron\"; transcript_status \"KNOWN\"; transcript_name \"CHKB-004\"; level 2; havana_gene \"OTTHUMG00000150275.5\"; havana_transcript \"OTTHUMT00000317270.1\";\n",
      "chr22\tHAVANA\ttranscript\t51021478\t51021754\t.\t-\t.\tgene_id \"ENSG00000100288.15\"; transcript_id \"ENST00000479003.1\"; gene_type \"protein_coding\"; gene_status \"KNOWN\"; gene_name \"CHKB\"; transcript_type \"retained_intron\"; transcript_status \"KNOWN\"; transcript_name \"CHKB-004\"; level 2; havana_gene \"OTTHUMG00000150275.5\"; havana_transcript \"OTTHUMT00000317270.1\";\n",
      "chr22\tHAVANA\ttranscript\t51021040\t51021316\t.\t-\t.\tgene_id \"ENSG00000100288.15\"; transcript_id \"ENST00000468532.1\"; gene_type \"protein_coding\"; gene_status \"KNOWN\"; gene_name \"CHKB\"; transcript_type \"retained_intron\"; transcript_status \"KNOWN\"; transcript_name \"CHKB-007\"; level 2; havana_gene \"OTTHUMG00000150275.5\"; havana_transcript \"OTTHUMT00000317603.1\";\n",
      "chr22\tHAVANA\ttranscript\t51021478\t51021754\t.\t-\t.\tgene_id \"ENSG00000100288.15\"; transcript_id \"ENST00000468532.1\"; gene_type \"protein_coding\"; gene_status \"KNOWN\"; gene_name \"CHKB\"; transcript_type \"retained_intron\"; transcript_status \"KNOWN\"; transcript_name \"CHKB-007\"; level 2; havana_gene \"OTTHUMG00000150275.5\"; havana_transcript \"OTTHUMT00000317603.1\";\n",
      "chr22\tHAVANA\ttranscript\t51021040\t51021209\t.\t-\t.\tgene_id \"ENSG00000100288.15\"; transcript_id \"ENST00000489453.1\"; gene_type \"protein_coding\"; gene_status \"KNOWN\"; gene_name \"CHKB\"; transcript_type \"retained_intron\"; transcript_status \"KNOWN\"; transcript_name \"CHKB-009\"; level 2; havana_gene \"OTTHUMG00000150275.5\"; havana_transcript \"OTTHUMT00000317605.1\";\n",
      "chr22\tHAVANA\ttranscript\t51021284\t51021316\t.\t-\t.\tgene_id \"ENSG00000100288.15\"; transcript_id \"ENST00000476289.1\"; gene_type \"protein_coding\"; gene_status \"KNOWN\"; gene_name \"CHKB\"; transcript_type \"retained_intron\"; transcript_status \"KNOWN\"; transcript_name \"CHKB-006\"; level 2; havana_gene \"OTTHUMG00000150275.5\"; havana_transcript \"OTTHUMT00000317602.2\";\n",
      "chr22\tHAVANA\ttranscript\t51021478\t51021754\t.\t-\t.\tgene_id \"ENSG00000100288.15\"; transcript_id \"ENST00000476289.1\"; gene_type \"protein_coding\"; gene_status \"KNOWN\"; gene_name \"CHKB\"; transcript_type \"retained_intron\"; transcript_status \"KNOWN\"; transcript_name \"CHKB-006\"; level 2; havana_gene \"OTTHUMG00000150275.5\"; havana_transcript \"OTTHUMT00000317602.2\";\n",
      "chr22\tHAVANA\ttranscript\t51021040\t51021316\t.\t-\t.\tgene_id \"ENSG00000100288.15\"; transcript_id \"ENST00000465842.1\"; gene_type \"protein_coding\"; gene_status \"KNOWN\"; gene_name \"CHKB\"; transcript_type \"retained_intron\"; transcript_status \"KNOWN\"; transcript_name \"CHKB-008\"; level 2; havana_gene \"OTTHUMG00000150275.5\"; havana_transcript \"OTTHUMT00000317604.1\";\n",
      "chr22\tHAVANA\ttranscript\t51021478\t51021754\t.\t-\t.\tgene_id \"ENSG00000100288.15\"; transcript_id \"ENST00000465842.1\"; gene_type \"protein_coding\"; gene_status \"KNOWN\"; gene_name \"CHKB\"; transcript_type \"retained_intron\"; transcript_status \"KNOWN\"; transcript_name \"CHKB-008\"; level 2; havana_gene \"OTTHUMG00000150275.5\"; havana_transcript \"OTTHUMT00000317604.1\";\n",
      "chr22\tHAVANA\ttranscript\t51021040\t51021316\t.\t+\t.\tgene_id \"ENSG00000205559.3\"; transcript_id \"ENST00000380711.3\"; gene_type \"antisense\"; gene_status \"NOVEL\"; gene_name \"CHKB-AS1\"; transcript_type \"antisense\"; transcript_status \"KNOWN\"; transcript_name \"CHKB-AS1-001\"; level 1; tag \"basic\"; tag \"exp_conf\"; havana_gene \"OTTHUMG00000150208.1\"; havana_transcript \"OTTHUMT00000316839.1\";\n",
      "\n"
     ]
    }
   ],
   "source": [
    "print(exercise4)"
   ]
  },
  {
   "cell_type": "code",
   "execution_count": 64,
   "metadata": {
    "collapsed": false
   },
   "outputs": [
    {
     "name": "stdout",
     "output_type": "stream",
     "text": [
      "chr22   HAVANA  transcript      17565763        17565843        .       +       \n",
      "chr22   HAVANA  transcript      17565763        17565848        .       +       \n",
      "chr22   HAVANA  transcript      17565763        17565946        .       +       \n",
      "chr22   HAVANA  transcript      17700267        17700502        .       -       \n",
      "chr22   HAVANA  transcript      17701962        17702266        .       -       \n",
      "chr22   HAVANA  transcript      17700326        17700502        .       -       \n",
      "chr22   HAVANA  transcript      17701962        17702278        .       -       \n",
      "chr22   HAVANA  transcript      18111762        18112038        .       -       \n",
      "chr22   HAVANA  transcript      18111762        18112038        .       -       \n",
      "chr22   HAVANA  transcript      18111762        18112038        .       -       \n",
      "chr22   HAVANA  transcript      18111762        18112038        .       -       \n",
      "chr22   HAVANA  transcript      18111762        18112038        .       -       \n",
      "chr22   HAVANA  transcript      18111762        18112038        .       -       \n",
      "chr22   HAVANA  transcript      18121203        18121355        .       +       \n",
      "chr22   HAVANA  transcript      18121203        18121506        .       +       \n",
      "chr22   ENSEMBL transcript      18121203        18121506        .       +       \n",
      "chr22   HAVANA  transcript      18121203        18121522        .       +       \n",
      "chr22   ENSEMBL transcript      18121203        18121522        .       +       \n",
      "chr22   ENSEMBL transcript      18121203        18121529        .       +       \n",
      "chr22   HAVANA  transcript      18121203        18121537        .       +       \n",
      "chr22   HAVANA  transcript      18121203        18121576        .       +       \n",
      "chr22   HAVANA  transcript      18225198        18225524        .       -       \n",
      "chr22   HAVANA  transcript      18259889        18260087        .       +       \n",
      "\u001b[Kchr22   HAVANA  transcript      18560564        18560818        .       -       \n",
      ":\u001b[K"
     ]
    }
   ],
   "source": [
    "#! less -S gencode.v19.annotation.chr22.transcript.promoter.nfkb.gtf"
   ]
  },
  {
   "cell_type": "code",
   "execution_count": 65,
   "metadata": {
    "collapsed": true
   },
   "outputs": [],
   "source": [
    "#Exercise 5: Use bedtools getfasta to extract sequences"
   ]
  },
  {
   "cell_type": "code",
   "execution_count": 86,
   "metadata": {
    "collapsed": false
   },
   "outputs": [
    {
     "name": "stderr",
     "output_type": "stream",
     "text": [
      "awk: (FILENAME=gencode.v19.annotation.chr22.transcript.promoter.nfkb.fasta FNR=182) fatal: print to \"standard output\" failed (Broken pipe)\n"
     ]
    }
   ],
   "source": [
    "%%bash --out exercise5\n",
    "\n",
    "# YOUR CODE HERE\\n\n",
    "bedtools getfasta -fi GRCh37.p13.chr22.fa -bed gencode.v19.annotation.chr22.transcript.promoter.nfkb.gtf -s -fo gencode.v19.annotation.chr22.transcript.promoter.nfkb.fasta\n",
    "\n",
    "wc -l gencode.v19.annotation.chr22.transcript.promoter.nfkb.fasta\n",
    "echo '--- First 10 lines ---'\n",
    "head gencode.v19.annotation.chr22.transcript.promoter.nfkb.fasta\n",
    "echo '--- Random 10 lines ---'\n",
    "awk -v seed=908 'BEGIN{srand(seed);}{ if (rand() < 0.5 ) {print $0}}' gencode.v19.annotation.chr22.transcript.promoter.nfkb.fasta | head\n",
    "echo '--- Last 10 lines ---'\n",
    "tail gencode.v19.annotation.chr22.transcript.promoter.nfkb.fasta"
   ]
  },
  {
   "cell_type": "code",
   "execution_count": 87,
   "metadata": {
    "collapsed": false
   },
   "outputs": [
    {
     "name": "stdout",
     "output_type": "stream",
     "text": [
      "2442 gencode.v19.annotation.chr22.transcript.promoter.nfkb.fasta\n",
      "--- First 10 lines ---\n",
      ">chr22:17565762-17565843(+)\n",
      "GCAAGGAGGAACGGGGGGAGGGCCCTGTCTCACCCTAAACCCCTCCCCGTCCCAGACTAAACTCCTCCCCTCGGCCCGGCC\n",
      ">chr22:17565762-17565848(+)\n",
      "GCAAGGAGGAACGGGGGGAGGGCCCTGTCTCACCCTAAACCCCTCCCCGTCCCAGACTAAACTCCTCCCCTCGGCCCGGCCCGCCC\n",
      ">chr22:17565762-17565946(+)\n",
      "GCAAGGAGGAACGGGGGGAGGGCCCTGTCTCACCCTAAACCCCTCCCCGTCCCAGACTAAACTCCTCCCCTCGGCCCGGCCCGCCCCTGGGCCCGGGCTGGAAGCCGGAAGCGAGCAAAGTGGAGCCGACTCGAACTCCACCGCGGAAAAGAAAGCCTCAGAACGTTCGTTCGCTGCGTCCCCA\n",
      ">chr22:17700266-17700502(-)\n",
      "TGAACATGCGCACAAGCCCCCCACATCAAACTCAGATGCACACAGCAAGCATGCATGTAAGCCACACACTTGCCACTCTGGCTGCCTCAGCACTGCAGAGCCCCTCTCCCCGGCCTCTAGTTGGATCCCTGGTGCACACTGGAGGGAAATAAAACCTACCCCAACAGGAAGTGAAACAGTTGGTGAGCTTTTCCGGTGCTCTGCACAGATGCTGGGGCGCTGAGCAAACAGCCCTC\n",
      ">chr22:17701961-17702266(-)\n",
      "AACCAACATGGCACAGGTATACCTATGTATCAAACCTGCACATTGTGCACATGTACCCTAGAACTTAAAGTATAAAAAAAACCCACAAAAAACCCTTCACATGATTTACTTTCAGAATTGGTGGTTTCCCTTTGTGCGGCGCTGGAATCAATCTTGTTTCTCCTTATTACTTGCGGTGCATTCTGCTTCCTCTAACTTTCAAAAAATTAGTGTTAAACTCTTTTTTTTTTTTTTGAGACAAAATCTCACTCTGTCATCCAGACTGGAGTGCAATGGTGCAATCTCAGCTCACTGCAACCTCCACC\n",
      "--- Random 10 lines ---\n",
      "GCAAGGAGGAACGGGGGGAGGGCCCTGTCTCACCCTAAACCCCTCCCCGTCCCAGACTAAACTCCTCCCCTCGGCCCGGCC\n",
      ">chr22:17565762-17565848(+)\n",
      "GCAAGGAGGAACGGGGGGAGGGCCCTGTCTCACCCTAAACCCCTCCCCGTCCCAGACTAAACTCCTCCCCTCGGCCCGGCCCGCCC\n",
      "AACCAACATGGCACAGGTATACCTATGTATCAAACCTGCACATTGTGCACATGTACCCTAGAACTTAAAGTATAAAAAAAACCCACAAAAAACCCTTCACATGATTTACTTTCAGAATTGGTGGTTTCCCTTTGTGCGGCGCTGGAATCAATCTTGTTTCTCCTTATTACTTGCGGTGCATTCTGCTTCCTCTAACTTTCAAAAAATTAGTGTTAAACTCTTTTTTTTTTTTTTGAGACAAAATCTCACTCTGTCATCCAGACTGGAGTGCAATGGTGCAATCTCAGCTCACTGCAACCTCCACC\n",
      "ATGGGTGCAGCAAACCAACATGGCACAGGTATACCTATGTATCAAACCTGCACATTGTGCACATGTACCCTAGAACTTAAAGTATAAAAAAAACCCACAAAAAACCCTTCACATGATTTACTTTCAGAATTGGTGGTTTCCCTTTGTGCGGCGCTGGAATCAATCTTGTTTCTCCTTATTACTTGCGGTGCATTCTGCTTCCTCTAACTTTCAAAAAATTAGTGTTAAACTCTTTTTTTTTTTTTTGAGACAAAATCTCACTCTGTCATCCAGACTGGAGTGCAATGGTGCAATCTCAGCTCACTGCAACCTCCACC\n",
      ">chr22:18111761-18112038(-)\n",
      "ACACTTTATTCAGGTAATCAAGGTTGACATGAATAGTCAGAAATCATGTATCCCCCTTTTTTTTTTCTTTTGGTAGAGACGGGGTTCCTCTATGTTGTCCAGCCTGGTCTCGAACTTGAGGTCAAGCGATACACCCGCCTTGGTCTCCCAAAGTCTCCGGATTGCAGGCGTGAGCCACCACGCCCGGCCAACAATCATGTACCCCTAAGCCCATAACCCTGTGTAATTATGCGAAAAATTCCAATAAAGGCACATTCTCCAATATACCTAACCAGTA\n",
      ">chr22:18111761-18112038(-)\n",
      "ACACTTTATTCAGGTAATCAAGGTTGACATGAATAGTCAGAAATCATGTATCCCCCTTTTTTTTTTCTTTTGGTAGAGACGGGGTTCCTCTATGTTGTCCAGCCTGGTCTCGAACTTGAGGTCAAGCGATACACCCGCCTTGGTCTCCCAAAGTCTCCGGATTGCAGGCGTGAGCCACCACGCCCGGCCAACAATCATGTACCCCTAAGCCCATAACCCTGTGTAATTATGCGAAAAATTCCAATAAAGGCACATTCTCCAATATACCTAACCAGTA\n",
      "ACACTTTATTCAGGTAATCAAGGTTGACATGAATAGTCAGAAATCATGTATCCCCCTTTTTTTTTTCTTTTGGTAGAGACGGGGTTCCTCTATGTTGTCCAGCCTGGTCTCGAACTTGAGGTCAAGCGATACACCCGCCTTGGTCTCCCAAAGTCTCCGGATTGCAGGCGTGAGCCACCACGCCCGGCCAACAATCATGTACCCCTAAGCCCATAACCCTGTGTAATTATGCGAAAAATTCCAATAAAGGCACATTCTCCAATATACCTAACCAGTA\n",
      "--- Last 10 lines ---\n",
      ">chr22:51021283-51021316(-)\n",
      "GAAGCCCAGGCCGGCCGGAAGAGGAGCCGAGCG\n",
      ">chr22:51021477-51021754(-)\n",
      "ACCCACGCTCAGGACGGACGCGCGCTGGACGGCTCTTCCTTGTCGGAGCGCCCCAGGGGTCGGGGAAGAGGGCCCGGCAAGGGAGCCCTCGCGCCGGAGCTGCAGCTGCAGCCGCCGCCCCGCCGCCCCGCCGGCTCCCACGGGGCAGAGACGCAGCTCCTCTCCGGTCTTCCCGTACGCTACCGCGCCCGGGCAGTTCCTCGCCCGCGCACGCGCCGCTCCGCCAACTGATTGGCCTCCGGCGCCTCGGATTGGCCCAGGCCGTCCAACAGCAGCC\n",
      ">chr22:51021039-51021316(-)\n",
      "GAAGCCCAGGCCGGCCGGAAGAGGAGCCGAGCGCGGCCGGAAGGAACCGAGCCCGTCCGAAGGGAGCGGAGCGCAGCCTGGCCTGGGGCCCGGTCGAGCCCGCGCCATGGCGGCCGAGGCGACAGCTGTGGCCGGAAGCGGGGCTGTTGGCGGCTGCCTGGCCAAAGACGGCTTGCAGCAGTCTAAGTGCCCGGACACTACCCCAAAACGGCGGCGCGCCTCGTCGCTGTCGCGTGACGCCGAGCGCCGAGCCTACCAATGGTGCCGGGAGTACTTG\n",
      ">chr22:51021477-51021754(-)\n",
      "ACCCACGCTCAGGACGGACGCGCGCTGGACGGCTCTTCCTTGTCGGAGCGCCCCAGGGGTCGGGGAAGAGGGCCCGGCAAGGGAGCCCTCGCGCCGGAGCTGCAGCTGCAGCCGCCGCCCCGCCGCCCCGCCGGCTCCCACGGGGCAGAGACGCAGCTCCTCTCCGGTCTTCCCGTACGCTACCGCGCCCGGGCAGTTCCTCGCCCGCGCACGCGCCGCTCCGCCAACTGATTGGCCTCCGGCGCCTCGGATTGGCCCAGGCCGTCCAACAGCAGCC\n",
      ">chr22:51021039-51021316(+)\n",
      "CAAGTACTCCCGGCACCATTGGTAGGCTCGGCGCTCGGCGTCACGCGACAGCGACGAGGCGCGCCGCCGTTTTGGGGTAGTGTCCGGGCACTTAGACTGCTGCAAGCCGTCTTTGGCCAGGCAGCCGCCAACAGCCCCGCTTCCGGCCACAGCTGTCGCCTCGGCCGCCATGGCGCGGGCTCGACCGGGCCCCAGGCCAGGCTGCGCTCCGCTCCCTTCGGACGGGCTCGGTTCCTTCCGGCCGCGCTCGGCTCCTCTTCCGGCCGGCCTGGGCTTC\n",
      "\n"
     ]
    }
   ],
   "source": [
    "print(exercise5)"
   ]
  },
  {
   "cell_type": "code",
   "execution_count": 89,
   "metadata": {
    "collapsed": true
   },
   "outputs": [],
   "source": [
    "#Exercise 6: Computational \"validation\" of binding sites"
   ]
  },
  {
   "cell_type": "code",
   "execution_count": null,
   "metadata": {
    "collapsed": false
   },
   "outputs": [
    {
     "name": "stdout",
     "output_type": "stream",
     "text": [
      "\u001b7\u001b[?47h\u001b[?1h\u001b=\r",
      ">chr22:17565762-17565843(+)\r\n",
      "GCAAGGAGGAACGGGGGGAGGGCCCTGTCTCACCCTAAACCCCTCCCCGTCCCAGACTAAACTCCTCCCCTCGGCCCGGC\r\n",
      ">chr22:17565762-17565848(+)\r\n",
      "GCAAGGAGGAACGGGGGGAGGGCCCTGTCTCACCCTAAACCCCTCCCCGTCCCAGACTAAACTCCTCCCCTCGGCCCGGC\r\n",
      ">chr22:17565762-17565946(+)\r\n",
      "GCAAGGAGGAACGGGGGGAGGGCCCTGTCTCACCCTAAACCCCTCCCCGTCCCAGACTAAACTCCTCCCCTCGGCCCGGC\r\n",
      ">chr22:17700266-17700502(-)\r\n",
      "TGAACATGCGCACAAGCCCCCCACATCAAACTCAGATGCACACAGCAAGCATGCATGTAAGCCACACACTTGCCACTCTG\r\n",
      ">chr22:17701961-17702266(-)\r\n",
      "AACCAACATGGCACAGGTATACCTATGTATCAAACCTGCACATTGTGCACATGTACCCTAGAACTTAAAGTATAAAAAAA\r\n",
      ">chr22:17700325-17700502(-)\r\n",
      "TGAACATGCGCACAAGCCCCCCACATCAAACTCAGATGCACACAGCAAGCATGCATGTAAGCCACACACTTGCCACTCTG\r\n",
      ">chr22:17701961-17702278(-)\r\n",
      "ATGGGTGCAGCAAACCAACATGGCACAGGTATACCTATGTATCAAACCTGCACATTGTGCACATGTACCCTAGAACTTAA\r\n",
      ">chr22:18111761-18112038(-)\r\n",
      "ACACTTTATTCAGGTAATCAAGGTTGACATGAATAGTCAGAAATCATGTATCCCCCTTTTTTTTTTCTTTTGGTAGAGAC\r\n",
      ">chr22:18111761-18112038(-)\r\n",
      "ACACTTTATTCAGGTAATCAAGGTTGACATGAATAGTCAGAAATCATGTATCCCCCTTTTTTTTTTCTTTTGGTAGAGAC\r\n",
      ">chr22:18111761-18112038(-)\r\n",
      "ACACTTTATTCAGGTAATCAAGGTTGACATGAATAGTCAGAAATCATGTATCCCCCTTTTTTTTTTCTTTTGGTAGAGAC\r\n",
      ">chr22:18111761-18112038(-)\r\n",
      "ACACTTTATTCAGGTAATCAAGGTTGACATGAATAGTCAGAAATCATGTATCCCCCTTTTTTTTTTCTTTTGGTAGAGAC\r\n",
      ">chr22:18111761-18112038(-)\r\n",
      "\u001b[7mgencode.v19.annotation.chr22.transcript.promoter.nfkb.fasta \u001b[m\u001b[K"
     ]
    }
   ],
   "source": [
    "!less -S gencode.v19.annotation.chr22.transcript.promoter.nfkb.fasta"
   ]
  },
  {
   "cell_type": "code",
   "execution_count": null,
   "metadata": {
    "collapsed": true
   },
   "outputs": [],
   "source": []
  }
 ],
 "metadata": {
  "kernelspec": {
   "display_name": "Python 2",
   "language": "python",
   "name": "python2"
  },
  "language_info": {
   "codemirror_mode": {
    "name": "ipython",
    "version": 2
   },
   "file_extension": ".py",
   "mimetype": "text/x-python",
   "name": "python",
   "nbconvert_exporter": "python",
   "pygments_lexer": "ipython2",
   "version": "2.7.10"
  }
 },
 "nbformat": 4,
 "nbformat_minor": 0
}
