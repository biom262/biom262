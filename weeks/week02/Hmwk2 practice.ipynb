{
 "cells": [
  {
   "cell_type": "code",
   "execution_count": 1,
   "metadata": {
    "collapsed": false
   },
   "outputs": [
    {
     "data": {
      "text/html": [
       "<table>\n",
       "<thead><tr><th></th><th scope=col>growth</th><th scope=col>tannin</th></tr></thead>\n",
       "<tbody>\n",
       "\t<tr><th scope=row>1</th><td>12</td><td>0</td></tr>\n",
       "\t<tr><th scope=row>2</th><td>10</td><td>1</td></tr>\n",
       "\t<tr><th scope=row>3</th><td>8</td><td>2</td></tr>\n",
       "\t<tr><th scope=row>4</th><td>11</td><td>3</td></tr>\n",
       "\t<tr><th scope=row>5</th><td>6</td><td>4</td></tr>\n",
       "\t<tr><th scope=row>6</th><td>7</td><td>5</td></tr>\n",
       "\t<tr><th scope=row>7</th><td>2</td><td>6</td></tr>\n",
       "\t<tr><th scope=row>8</th><td>3</td><td>7</td></tr>\n",
       "\t<tr><th scope=row>9</th><td>3</td><td>8</td></tr>\n",
       "</tbody>\n",
       "</table>\n"
      ],
      "text/latex": [
       "\\begin{tabular}{r|ll}\n",
       "  & growth & tannin\\\\\n",
       "\\hline\n",
       "\t1 & 12 & 0\\\\\n",
       "\t2 & 10 & 1\\\\\n",
       "\t3 & 8 & 2\\\\\n",
       "\t4 & 11 & 3\\\\\n",
       "\t5 & 6 & 4\\\\\n",
       "\t6 & 7 & 5\\\\\n",
       "\t7 & 2 & 6\\\\\n",
       "\t8 & 3 & 7\\\\\n",
       "\t9 & 3 & 8\\\\\n",
       "\\end{tabular}\n"
      ],
      "text/plain": [
       "  growth tannin\n",
       "1     12      0\n",
       "2     10      1\n",
       "3      8      2\n",
       "4     11      3\n",
       "5      6      4\n",
       "6      7      5\n",
       "7      2      6\n",
       "8      3      7\n",
       "9      3      8"
      ]
     },
     "execution_count": 1,
     "metadata": {},
     "output_type": "execute_result"
    }
   ],
   "source": [
    "reg.data<-read.csv('shinyexample/tannin.csv')\n",
    "reg.data"
   ]
  },
  {
   "cell_type": "code",
   "execution_count": null,
   "metadata": {
    "collapsed": true
   },
   "outputs": [],
   "source": []
  }
 ],
 "metadata": {
  "kernelspec": {
   "display_name": "R",
   "language": "R",
   "name": "ir"
  },
  "language_info": {
   "codemirror_mode": "r",
   "file_extension": ".r",
   "mimetype": "text/x-r-source",
   "name": "R",
   "pygments_lexer": "r",
   "version": "3.2.2"
  }
 },
 "nbformat": 4,
 "nbformat_minor": 0
}
