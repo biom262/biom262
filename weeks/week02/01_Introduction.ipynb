{
 "cells": [
  {
   "cell_type": "markdown",
   "metadata": {},
   "source": [
    "# Statistics: Logic of Testing Hypotheses and Estimation\n",
    "**Prof. Scott Rifkin**  \n",
    "**Winter 2016**\n",
    "\n",
    "* * *\n",
    "\n",
    "## Day One (1/12/2016)\n",
    "\n",
    "### Getting Started \n",
    "\n",
    "#### 1. [Distribution Examples](http://lock5stat.com/statkey/)\n",
    "\n",
    "#### 2. [Sampling from a Normally Distributed Population](http://www.zoology.ubc.ca/~whitlock/kingfisher/SamplingNormal.htm)\n",
    "\n",
    "#### 3. [Confidence Intervals](http://www.zoology.ubc.ca/~whitlock/kingfisher/CIMean.htm)"
   ]
  },
  {
   "cell_type": "markdown",
   "metadata": {},
   "source": [
    "* * *\n",
    "\n",
    "### R (and IRKernel2) Set Up\n",
    "\n",
    "You should have already installed R during the [homework 1 assignment](https://github.com/biom262/biom262-2016/blob/master/weeks/week01/4_jupyter_setup.ipynb) (along with the R Kernel for Jupyter notebook) using command  \n",
    "> `conda install --channel r r r-irkernel seaborn`.\n",
    "  \n",
    "The methods decribed in class will utilize Shiny (a web application for R development.  \n",
    "  \n",
    "(*optional*) If you would like to use a different user interface for development using R on your local machine, we recommend downloading [RStudio IDE](https://www.rstudio.com/products/RStudio/).\n",
    "\n",
    "* * *\n",
    "\n",
    "### Shiny Power Applet Set Up\n",
    "\n",
    "**Start R on TSCC (or start RStudio on your local machine):**\n",
    "> `R`  \n",
    "\n",
    "**Or start RStudio on your local machine**\n",
    "\n",
    "**(From the R prompt) Install shiny:**\n",
    "> `install.packages(\"shiny\", repos='http://cran.us.r-project.org')`"
   ]
  },
  {
   "cell_type": "markdown",
   "metadata": {},
   "source": [
    "## [Next Section: One Sided Hypothesis Testing]([**Return to Week 2 Index**](https://github.com/biom262/biom262-2016/blob/master/weeks/week02/02_R_One_Sided_Hypothesis_Testing.ipynb)\n",
    "\n",
    "[**Return to Week 2 Index**](https://github.com/biom262/biom262-2016/blob/master/weeks/week02)  \n",
    "[**Return to Course Index**](https://github.com/biom262/biom262-2016/blob/master/weeks/)"
   ]
  }
 ],
 "metadata": {
  "kernelspec": {
   "display_name": "Python 2",
   "language": "python",
   "name": "python2"
  },
  "language_info": {
   "codemirror_mode": {
    "name": "ipython",
    "version": 2
   },
   "file_extension": ".py",
   "mimetype": "text/x-python",
   "name": "python",
   "nbconvert_exporter": "python",
   "pygments_lexer": "ipython2",
   "version": "2.7.11"
  }
 },
 "nbformat": 4,
 "nbformat_minor": 0
}
