{
 "cells": [
  {
   "cell_type": "markdown",
   "metadata": {},
   "source": [
    "# One-Sided Hypothesis Tests with R"
   ]
  },
  {
   "cell_type": "code",
   "execution_count": null,
   "metadata": {
    "collapsed": false
   },
   "outputs": [],
   "source": [
    "install.packages(\"shiny\", repos='http://cran.us.r-project.org')\n",
    "library(shiny)\n",
    "runApp('/Users/apple/Desktop/BIOM262/week02/shinyexample')"
   ]
  },
  {
   "cell_type": "markdown",
   "metadata": {},
   "source": [
    "# R code not working in browser?\n",
    "\n",
    "[**Visit the app hosted on a ShinyIO hosted by UCSD Biostats here.**](https://ucsdbiostats.shinyapps.io/Lab_3_F2014/)  \n",
    "**OR**  \n",
    "**Run the methods above in the R shell.**  \n",
    "  \n",
    "* * *\n",
    "  \n",
    "# Instructions\n",
    "\n",
    "This applet demonstrates a one-sided test.  The <font style=\"background-color: #A292FE\">purple</font> distribution is the null distribution, and the <font style=\"background-color: #F49816\">orange</font> distribution is the hypothesized alternative distribution (in reality we don't know what the actual parameter value is). The solid colors represent the regions where the inference matches reality.  The dotted regions represent the regions of error. The dashed <font style=\"background-color: #00CC33\">green</font> line marks the p&#770; cutoff value that gives the specified <font style=\"background-color: #DDD7FC\">significance level (or false alarm/type I error rate)</font>.<br/><br/>\n",
    "There are 4 possible outcomes when doing a hypothesis test:<br/><br/>\n",
    "<font style=\"background-color: #A292FE\">\n",
    "<b>GOOD</b>: The null hypothesis could be true and you decide that your data is consistent/agrees with it - you fail to reject it. This rate is known as the true negative rate.  This is the fraction of the null distribution that is solid purple</font><br/><br/>\n",
    "<font style=\"background-color: #DDD7FC\">\n",
    "<b>FALSE ALARM</b>: Null hypothesis is true but you decide that your data disagrees with it and you reject it. This is also called the Type I error rate or the false positive rate.  This is the fraction of the null distribution that is dotted purple.</font><br/><br/>\n",
    "<font style=\"background-color: #F49816\"> \n",
    "<b>GOOD</b>: Alternative hypothesis is true and you reject the null hypothesis. The fraction of the alternative distribution that is solid orange is called the <b>power</b> of the hypothesis test (also the true positive rate).</font><br/><br/>\n",
    "<font style=\"background-color: #FFD38A\"> \n",
    "<b>MISSED OPPORTUNITY</b>: The alternative hypothesis is true but you decide that your data is consistent/agrees with the null hypothesis, so you fail to reject the null. This is also called the Type II error rate or the false negative rate. This is the fraction of the alternative distribution that is dotted orange.</font><br/><br/>\n",
    "  \n",
    "- Move the sliders around to see how the rates of error change depending on where you set your significance level cutoff, your sample size, and what the actual (but, in reality, unknown!) real parameter value is (the slider called \"Alternative &pi;\"). <br/>- If you press the triangles, the applet will animate that slider.<br/>\n",
    "<br/><br/>\n",
    "<h8>This applet is based on a java applet that can be found <a href =\"http://intuitor.com/statistics/T1T2Errors.html\" target=\"_blank\">here</a></h8>\n",
    "\n"
   ]
  }
 ],
 "metadata": {
  "kernelspec": {
   "display_name": "R",
   "language": "R",
   "name": "ir"
  },
  "language_info": {
   "codemirror_mode": "r",
   "file_extension": ".r",
   "mimetype": "text/x-r-source",
   "name": "R",
   "pygments_lexer": "r",
   "version": "3.2.2"
  }
 },
 "nbformat": 4,
 "nbformat_minor": 0
}
