{
 "cells": [
  {
   "cell_type": "code",
   "execution_count": 9,
   "metadata": {
    "collapsed": false
   },
   "outputs": [
    {
     "name": "stderr",
     "output_type": "stream",
     "text": [
      "The following objects are masked from hot (pos = 3):\n",
      "\n",
      "    animal, athermal, bathwater, coldshower, hotsix, lukewarm, mild1,\n",
      "    pair, tepid\n",
      "\n",
      "The following objects are masked from hot (pos = 4):\n",
      "\n",
      "    animal, athermal, bathwater, coldshower, hotsix, lukewarm, mild1,\n",
      "    pair, tepid\n",
      "\n"
     ]
    },
    {
     "data": {
      "text/plain": [
       "\n",
       "\tShapiro-Wilk normality test\n",
       "\n",
       "data:  lukewarm[hotsix == \"+\"] - lukewarm[hotsix == \"-\"]\n",
       "W = 0.93038, p-value = 0.4147\n"
      ]
     },
     "execution_count": 9,
     "metadata": {},
     "output_type": "execute_result"
    },
    {
     "data": {
      "text/plain": [
       "\n",
       "\tShapiro-Wilk normality test\n",
       "\n",
       "data:  tepid[hotsix == \"+\"] - tepid[hotsix == \"-\"]\n",
       "W = 0.95915, p-value = 0.7611\n"
      ]
     },
     "execution_count": 9,
     "metadata": {},
     "output_type": "execute_result"
    },
    {
     "data": {
      "text/plain": [
       "\n",
       "\tShapiro-Wilk normality test\n",
       "\n",
       "data:  mild1[hotsix == \"+\"] - mild1[hotsix == \"-\"]\n",
       "W = 0.86416, p-value = 0.06518\n"
      ]
     },
     "execution_count": 9,
     "metadata": {},
     "output_type": "execute_result"
    },
    {
     "data": {
      "text/plain": [
       "\n",
       "\tShapiro-Wilk normality test\n",
       "\n",
       "data:  athermal[hotsix == \"+\"] - athermal[hotsix == \"-\"]\n",
       "W = 0.81042, p-value = 0.0129\n"
      ]
     },
     "execution_count": 9,
     "metadata": {},
     "output_type": "execute_result"
    },
    {
     "data": {
      "text/plain": [
       "\n",
       "\tShapiro-Wilk normality test\n",
       "\n",
       "data:  bathwater[hotsix == \"+\"] - bathwater[hotsix == \"-\"]\n",
       "W = 0.97651, p-value = 0.9437\n"
      ]
     },
     "execution_count": 9,
     "metadata": {},
     "output_type": "execute_result"
    },
    {
     "data": {
      "text/plain": [
       "\n",
       "\tShapiro-Wilk normality test\n",
       "\n",
       "data:  coldshower[hotsix == \"+\"] - coldshower[hotsix == \"-\"]\n",
       "W = 0.92912, p-value = 0.402\n"
      ]
     },
     "execution_count": 9,
     "metadata": {},
     "output_type": "execute_result"
    }
   ],
   "source": [
    "hot=read.table(\"~/code/biom262-2016/weeks/week03/hot.txt\", header=T)\n",
    "attach(hot)\n",
    "\n",
    "#checking if differences are normally distributed\n",
    "shapiro.test(lukewarm[hotsix=='+']-lukewarm[hotsix=='-'])\n",
    "shapiro.test(tepid[hotsix=='+']-tepid[hotsix=='-'])\n",
    "shapiro.test(mild1[hotsix=='+']-mild1[hotsix=='-'])\n",
    "shapiro.test(athermal[hotsix=='+']-athermal[hotsix=='-'])\n",
    "shapiro.test(bathwater[hotsix=='+']-bathwater[hotsix=='-'])\n",
    "shapiro.test(coldshower[hotsix=='+']-coldshower[hotsix=='-'])"
   ]
  },
  {
   "cell_type": "code",
   "execution_count": 11,
   "metadata": {
    "collapsed": false
   },
   "outputs": [
    {
     "data": {
      "text/plain": [
       "\n",
       "\tF test to compare two variances\n",
       "\n",
       "data:  tepid[hotsix == \"+\"] and tepid[hotsix == \"-\"]\n",
       "F = 2.1475, num df = 10, denom df = 10, p-value = 0.2439\n",
       "alternative hypothesis: true ratio of variances is not equal to 1\n",
       "95 percent confidence interval:\n",
       " 0.5777957 7.9819832\n",
       "sample estimates:\n",
       "ratio of variances \n",
       "          2.147546 \n"
      ]
     },
     "execution_count": 11,
     "metadata": {},
     "output_type": "execute_result"
    }
   ],
   "source": [
    "#checking variance-> equal variances mean normally distributed\n",
    "var.test(tepid[hotsix=='+'],tepid[hotsix=='-'])"
   ]
  },
  {
   "cell_type": "code",
   "execution_count": 14,
   "metadata": {
    "collapsed": false
   },
   "outputs": [
    {
     "data": {
      "text/plain": [
       "\n",
       "\tPaired t-test\n",
       "\n",
       "data:  lukewarm by hotsix\n",
       "t = -2.983, df = 10, p-value = 0.006868\n",
       "alternative hypothesis: true difference in means is less than 0\n",
       "95 percent confidence interval:\n",
       "        -Inf -0.03481709\n",
       "sample estimates:\n",
       "mean of the differences \n",
       "            -0.08872727 \n"
      ]
     },
     "execution_count": 14,
     "metadata": {},
     "output_type": "execute_result"
    },
    {
     "data": {
      "text/plain": [
       "\n",
       "\tPaired t-test\n",
       "\n",
       "data:  tepid by hotsix\n",
       "t = -2.7562, df = 10, p-value = 0.01013\n",
       "alternative hypothesis: true difference in means is less than 0\n",
       "95 percent confidence interval:\n",
       "        -Inf -0.03782581\n",
       "sample estimates:\n",
       "mean of the differences \n",
       "             -0.1104727 \n"
      ]
     },
     "execution_count": 14,
     "metadata": {},
     "output_type": "execute_result"
    },
    {
     "data": {
      "text/plain": [
       "\n",
       "\tPaired t-test\n",
       "\n",
       "data:  mild1 by hotsix\n",
       "t = -1.4748, df = 10, p-value = 0.08552\n",
       "alternative hypothesis: true difference in means is less than 0\n",
       "95 percent confidence interval:\n",
       "       -Inf 0.01367922\n",
       "sample estimates:\n",
       "mean of the differences \n",
       "            -0.05974545 \n"
      ]
     },
     "execution_count": 14,
     "metadata": {},
     "output_type": "execute_result"
    },
    {
     "data": {
      "text/plain": [
       "\n",
       "\tPaired t-test\n",
       "\n",
       "data:  athermal by hotsix\n",
       "t = -2.0338, df = 10, p-value = 0.03468\n",
       "alternative hypothesis: true difference in means is less than 0\n",
       "95 percent confidence interval:\n",
       "        -Inf -0.01383605\n",
       "sample estimates:\n",
       "mean of the differences \n",
       "             -0.1271273 \n"
      ]
     },
     "execution_count": 14,
     "metadata": {},
     "output_type": "execute_result"
    },
    {
     "data": {
      "text/plain": [
       "\n",
       "\tPaired t-test\n",
       "\n",
       "data:  bathwater by hotsix\n",
       "t = -2.7552, df = 10, p-value = 0.01015\n",
       "alternative hypothesis: true difference in means is less than 0\n",
       "95 percent confidence interval:\n",
       "        -Inf -0.02169678\n",
       "sample estimates:\n",
       "mean of the differences \n",
       "            -0.06340909 \n"
      ]
     },
     "execution_count": 14,
     "metadata": {},
     "output_type": "execute_result"
    },
    {
     "data": {
      "text/plain": [
       "\n",
       "\tPaired t-test\n",
       "\n",
       "data:  coldshower by hotsix\n",
       "t = -8.8405, df = 10, p-value = 2.429e-06\n",
       "alternative hypothesis: true difference in means is less than 0\n",
       "95 percent confidence interval:\n",
       "        -Inf -0.07364416\n",
       "sample estimates:\n",
       "mean of the differences \n",
       "            -0.09263636 \n"
      ]
     },
     "execution_count": 14,
     "metadata": {},
     "output_type": "execute_result"
    }
   ],
   "source": [
    "#paired t-test\n",
    "t.test(lukewarm~hotsix, paired=T, alternative=\"less\") #lukewarm as a function of hotsix\n",
    "t.test(tepid~hotsix, paired=T, alternative=\"less\")\n",
    "t.test(mild1~hotsix, paired=T, alternative=\"less\")\n",
    "t.test(athermal~hotsix, paired=T, alternative=\"less\")\n",
    "t.test(bathwater~hotsix, paired=T, alternative=\"less\")\n",
    "t.test(coldshower~hotsix, paired=T, alternative=\"less\")"
   ]
  },
  {
   "cell_type": "code",
   "execution_count": 18,
   "metadata": {
    "collapsed": false
   },
   "outputs": [
    {
     "data": {
      "text/html": [
       "<ol class=list-inline>\n",
       "\t<li>0.020604</li>\n",
       "\t<li>0.03039</li>\n",
       "\t<li>0.08552</li>\n",
       "\t<li>0.06936</li>\n",
       "\t<li>0.03045</li>\n",
       "\t<li>1.4574e-05</li>\n",
       "</ol>\n"
      ],
      "text/latex": [
       "\\begin{enumerate*}\n",
       "\\item 0.020604\n",
       "\\item 0.03039\n",
       "\\item 0.08552\n",
       "\\item 0.06936\n",
       "\\item 0.03045\n",
       "\\item 1.4574e-05\n",
       "\\end{enumerate*}\n"
      ],
      "text/markdown": [
       "1. 0.020604\n",
       "2. 0.03039\n",
       "3. 0.08552\n",
       "4. 0.06936\n",
       "5. 0.03045\n",
       "6. 1.4574e-05\n",
       "\n",
       "\n"
      ],
      "text/plain": [
       "[1] 2.0604e-02 3.0390e-02 8.5520e-02 6.9360e-02 3.0450e-02 1.4574e-05"
      ]
     },
     "execution_count": 18,
     "metadata": {},
     "output_type": "execute_result"
    }
   ],
   "source": [
    "#adjusting P-values\n",
    "pt<-c(0.006868,0.01013,0.08552,0.03468,0.01015,2.429e-06) #creating a list of all the p-values\n",
    "#?p.adjust\n",
    "p.adjust(pt, method=\"hommel\",6) #correcting P-values\n",
    "\n"
   ]
  },
  {
   "cell_type": "code",
   "execution_count": null,
   "metadata": {
    "collapsed": true
   },
   "outputs": [],
   "source": []
  }
 ],
 "metadata": {
  "kernelspec": {
   "display_name": "R",
   "language": "R",
   "name": "ir"
  },
  "language_info": {
   "codemirror_mode": "r",
   "file_extension": ".r",
   "mimetype": "text/x-r-source",
   "name": "R",
   "pygments_lexer": "r",
   "version": "3.2.2"
  }
 },
 "nbformat": 4,
 "nbformat_minor": 0
}
