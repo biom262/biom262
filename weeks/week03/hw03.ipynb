{
 "cells": [
  {
   "cell_type": "raw",
   "metadata": {},
   "source": [
    "Answer 1: From previous data, we have evidence that the “C” allele of Nxf1 allowed a higher level of target gene RNA expression than the “B” allele in 6 out of 7 cases. In order to check if this correlation holds true for the 8th gen as well, we need to perform a one-sided test such that the null hypothesis would be- There is no correlation between Nxf1 allele and expression of 8th gene and alternate hypothesis would be- \"C\" allele of Nxf1 is correlated with higher expression of 8th gene as compared to \"B\" allele."
   ]
  },
  {
   "cell_type": "raw",
   "metadata": {},
   "source": [
    "Answer 2: I would use the mean of expression level of gene with \"B\" allele of Nxf1 (Ub) and \"C\" allele of Nxf1 (Uc) as my test-statistic for this test. This is because the overall increase or decrease in expression can be represented by increase or decrease in  mean in the presence of a particular allele of Nxf1.\n",
    "\n",
    "Null Hypothesis: Ub=Uc or Ub-Uc=0\n",
    "Alternate hypothesis: Ub<Uc or Ub-Uc<0"
   ]
  },
  {
   "cell_type": "code",
   "execution_count": 1,
   "metadata": {
    "collapsed": false
   },
   "outputs": [
    {
     "data": {
      "text/html": [
       "<ol class=list-inline>\n",
       "\t<li>'id'</li>\n",
       "\t<li>'nxf1'</li>\n",
       "\t<li>'raw'</li>\n",
       "\t<li>'normal'</li>\n",
       "\t<li>'cohort'</li>\n",
       "</ol>\n"
      ],
      "text/latex": [
       "\\begin{enumerate*}\n",
       "\\item 'id'\n",
       "\\item 'nxf1'\n",
       "\\item 'raw'\n",
       "\\item 'normal'\n",
       "\\item 'cohort'\n",
       "\\end{enumerate*}\n"
      ],
      "text/markdown": [
       "1. 'id'\n",
       "2. 'nxf1'\n",
       "3. 'raw'\n",
       "4. 'normal'\n",
       "5. 'cohort'\n",
       "\n",
       "\n"
      ],
      "text/plain": [
       "[1] \"id\"     \"nxf1\"   \"raw\"    \"normal\" \"cohort\""
      ]
     },
     "execution_count": 1,
     "metadata": {},
     "output_type": "execute_result"
    },
    {
     "data": {
      "text/plain": [
       "\n",
       "\tShapiro-Wilk normality test\n",
       "\n",
       "data:  raw[nxf1 == \"C\"] - raw[nxf1 == \"B\"]\n",
       "W = 0.97567, p-value = 0.9281\n"
      ]
     },
     "execution_count": 1,
     "metadata": {},
     "output_type": "execute_result"
    },
    {
     "data": {
      "text/plain": [
       "\n",
       "\tOne Sample t-test\n",
       "\n",
       "data:  raw[nxf1 == \"C\"] - raw[nxf1 == \"B\"]\n",
       "t = 1.2215, df = 5, p-value = 0.1382\n",
       "alternative hypothesis: true mean is greater than 0\n",
       "95 percent confidence interval:\n",
       " -0.004934902          Inf\n",
       "sample estimates:\n",
       "  mean of x \n",
       "0.007596776 \n"
      ]
     },
     "execution_count": 1,
     "metadata": {},
     "output_type": "execute_result"
    }
   ],
   "source": [
    "b6<-read.table(\"adamts_B6.txt\", header=T)\n",
    "attach(b6)\n",
    "names(b6)\n",
    "shapiro.test(raw[nxf1=='C']-raw[nxf1=='B']) \n",
    "t.test(raw[nxf1=='C']-raw[nxf1=='B'], y=NULL, alternative=\"greater\", mu=0)\n"
   ]
  },
  {
   "cell_type": "raw",
   "metadata": {},
   "source": [
    "Shapiro-test gave a p-value of 0.9281 which support the null hypothesis that the data Uc-Ub is normally distributed. A t-test on (Uc-Ub) was done which supported the null hypothesis (Uc-Ub=0) with a p-value of 0.1382 (>0.05)"
   ]
  },
  {
   "cell_type": "raw",
   "metadata": {},
   "source": [
    "Answer 3: My first bet would be to use mean of expression levels in Nxf1 B (Ub) and C (Uc) alleles as the test statistic. But we need to check if the data is normally distributed before we can pick a test-statistic."
   ]
  },
  {
   "cell_type": "code",
   "execution_count": 4,
   "metadata": {
    "collapsed": false
   },
   "outputs": [
    {
     "name": "stderr",
     "output_type": "stream",
     "text": [
      "The following objects are masked from f2 (pos = 3):\n",
      "\n",
      "    cohort.f2, id.f2, normal.f2, nxf1.f2, raw.f2\n",
      "\n",
      "The following objects are masked from f2 (pos = 4):\n",
      "\n",
      "    cohort.f2, id.f2, normal.f2, nxf1.f2, raw.f2\n",
      "\n"
     ]
    },
    {
     "data": {
      "text/html": [
       "<ol class=list-inline>\n",
       "\t<li>'id.f2'</li>\n",
       "\t<li>'nxf1.f2'</li>\n",
       "\t<li>'raw.f2'</li>\n",
       "\t<li>'normal.f2'</li>\n",
       "\t<li>'cohort.f2'</li>\n",
       "</ol>\n"
      ],
      "text/latex": [
       "\\begin{enumerate*}\n",
       "\\item 'id.f2'\n",
       "\\item 'nxf1.f2'\n",
       "\\item 'raw.f2'\n",
       "\\item 'normal.f2'\n",
       "\\item 'cohort.f2'\n",
       "\\end{enumerate*}\n"
      ],
      "text/markdown": [
       "1. 'id.f2'\n",
       "2. 'nxf1.f2'\n",
       "3. 'raw.f2'\n",
       "4. 'normal.f2'\n",
       "5. 'cohort.f2'\n",
       "\n",
       "\n"
      ],
      "text/plain": [
       "[1] \"id.f2\"     \"nxf1.f2\"   \"raw.f2\"    \"normal.f2\" \"cohort.f2\""
      ]
     },
     "execution_count": 4,
     "metadata": {},
     "output_type": "execute_result"
    },
    {
     "name": "stderr",
     "output_type": "stream",
     "text": [
      "Warning message:\n",
      "In raw.f2[nxf1.f2 == \"C\"] - raw.f2[nxf1.f2 == \"B\"]: longer object length is not a multiple of shorter object length"
     ]
    },
    {
     "data": {
      "text/plain": [
       "\n",
       "\tShapiro-Wilk normality test\n",
       "\n",
       "data:  raw.f2[nxf1.f2 == \"C\"] - raw.f2[nxf1.f2 == \"B\"]\n",
       "W = 0.7293, p-value = 0.0001786\n"
      ]
     },
     "execution_count": 4,
     "metadata": {},
     "output_type": "execute_result"
    }
   ],
   "source": [
    "f2= read.table(\"adamts_balbF2.txt\", header=T)\n",
    "attach(f2)\n",
    "names(f2)\n",
    "f2[31,2]=\"C\" #making heterozygous as \"C\" allele\n",
    "shapiro.test(raw.f2[nxf1.f2=='C']-raw.f2[nxf1.f2=='B']) #normal distribution check\n"
   ]
  },
  {
   "cell_type": "raw",
   "metadata": {},
   "source": [
    "Since the p-value (<0.05) supports alternate hypothesis that the data isn't normally distributed, we cannot do a t-test. We would do a Wilcoxon two sample test a.k.a. Mann-Whitney test. In Mann-Whitney test, median of data is the most suitable test-statistic. \n",
    "I would test the hypotheses that-\n",
    "H0: The median of expression of gene with both B and C alleles of Nxf1 is the same\n",
    "H1: The median expression of gene with C allele of Nxf1 is more than that in B allele"
   ]
  },
  {
   "cell_type": "code",
   "execution_count": 5,
   "metadata": {
    "collapsed": false
   },
   "outputs": [
    {
     "data": {
      "text/plain": [
       "\n",
       "\tWilcoxon rank sum test\n",
       "\n",
       "data:  raw.f2[nxf1.f2 == \"C\"] and raw.f2[nxf1.f2 == \"B\"]\n",
       "W = 159, p-value = 0.01548\n",
       "alternative hypothesis: true location shift is greater than 0\n"
      ]
     },
     "execution_count": 5,
     "metadata": {},
     "output_type": "execute_result"
    }
   ],
   "source": [
    "wilcox.test(raw.f2[nxf1.f2=='C'], raw.f2[nxf1.f2=='B'], alternative=\"greater\")"
   ]
  },
  {
   "cell_type": "raw",
   "metadata": {},
   "source": [
    "Since, p-value comes out to be less than 0.05, our alternate hypothesis is supported. Which means, according to Mann-Whitney test, expression of gene 8 with C allele is higher than that with B allele. "
   ]
  },
  {
   "cell_type": "code",
   "execution_count": 8,
   "metadata": {
    "collapsed": false
   },
   "outputs": [
    {
     "name": "stderr",
     "output_type": "stream",
     "text": [
      "The following objects are masked from f2 (pos = 3):\n",
      "\n",
      "    cohort.f2, id.f2, normal.f2, nxf1.f2, raw.f2\n",
      "\n",
      "The following objects are masked from f2 (pos = 4):\n",
      "\n",
      "    cohort.f2, id.f2, normal.f2, nxf1.f2, raw.f2\n",
      "\n"
     ]
    },
    {
     "data": {
      "text/html": [
       "<ol class=list-inline>\n",
       "\t<li>'id.f2'</li>\n",
       "\t<li>'nxf1.f2'</li>\n",
       "\t<li>'raw.f2'</li>\n",
       "\t<li>'normal.f2'</li>\n",
       "\t<li>'cohort.f2'</li>\n",
       "</ol>\n"
      ],
      "text/latex": [
       "\\begin{enumerate*}\n",
       "\\item 'id.f2'\n",
       "\\item 'nxf1.f2'\n",
       "\\item 'raw.f2'\n",
       "\\item 'normal.f2'\n",
       "\\item 'cohort.f2'\n",
       "\\end{enumerate*}\n"
      ],
      "text/markdown": [
       "1. 'id.f2'\n",
       "2. 'nxf1.f2'\n",
       "3. 'raw.f2'\n",
       "4. 'normal.f2'\n",
       "5. 'cohort.f2'\n",
       "\n",
       "\n"
      ],
      "text/plain": [
       "[1] \"id.f2\"     \"nxf1.f2\"   \"raw.f2\"    \"normal.f2\" \"cohort.f2\""
      ]
     },
     "execution_count": 8,
     "metadata": {},
     "output_type": "execute_result"
    },
    {
     "name": "stderr",
     "output_type": "stream",
     "text": [
      "Warning message:\n",
      "In raw.f2[nxf1.f2 == \"C\"] - raw.f2[nxf1.f2 == \"B\"]: longer object length is not a multiple of shorter object length"
     ]
    },
    {
     "data": {
      "text/plain": [
       "\n",
       "\tShapiro-Wilk normality test\n",
       "\n",
       "data:  raw.f2[nxf1.f2 == \"C\"] - raw.f2[nxf1.f2 == \"B\"]\n",
       "W = 0.7293, p-value = 0.0001786\n"
      ]
     },
     "execution_count": 8,
     "metadata": {},
     "output_type": "execute_result"
    },
    {
     "data": {
      "text/plain": [
       "\n",
       "\tWilcoxon rank sum test\n",
       "\n",
       "data:  raw.f2[nxf1.f2 == \"C\"] and raw.f2[nxf1.f2 == \"B\"]\n",
       "W = 159, p-value = 0.01548\n",
       "alternative hypothesis: true location shift is greater than 0\n"
      ]
     },
     "execution_count": 8,
     "metadata": {},
     "output_type": "execute_result"
    }
   ],
   "source": [
    "#If we remove the heterozygous sample, our result is as follows: \n",
    "f3=f2[-31,]\n",
    "detach(f2)\n",
    "attach(f3)\n",
    "names(f3)\n",
    "shapiro.test(raw.f2[nxf1.f2=='C']-raw.f2[nxf1.f2=='B']) #normal distribution check\n",
    "wilcox.test(raw.f2[nxf1.f2=='C'], raw.f2[nxf1.f2=='B'], alternative=\"greater\")"
   ]
  },
  {
   "cell_type": "raw",
   "metadata": {},
   "source": [
    "There was no change in the answers with or without the heterozygous entry."
   ]
  }
 ],
 "metadata": {
  "kernelspec": {
   "display_name": "R",
   "language": "R",
   "name": "ir"
  },
  "language_info": {
   "codemirror_mode": "r",
   "file_extension": ".r",
   "mimetype": "text/x-r-source",
   "name": "R",
   "pygments_lexer": "r",
   "version": "3.2.2"
  }
 },
 "nbformat": 4,
 "nbformat_minor": 0
}
