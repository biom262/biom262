{
 "cells": [
  {
   "cell_type": "markdown",
   "metadata": {},
   "source": [
    "# 2016-01-19  \n",
    "## week03 -Tuesday\n",
    "### R scrip\n",
    "lm<-read.table(\"littermates.txt\",head=T)  \n",
    "attach(lm)  \n",
    "names(lm)  \n",
    "median(ctl)  \n",
    "?median  \n",
    "??read  \n",
    "plot(mut~ctl)  \n",
    "plot(mut~ctl,ylim=c(0,0.6),xlim=c(0,0.6))  \n",
    " abline(0,1,lty=2,col=\"salmon”)   \n",
    "var.test(mut,ctl)  \n",
    "#Ftest  \n",
    "shapiro.test(ctl-mut)  \n",
    "t.test(ctl,mut)  \n",
    "t.test(ctl,mut,paired=T)  \n",
    "detach(lm)  "
   ]
  },
  {
   "cell_type": "code",
   "execution_count": 18,
   "metadata": {
    "collapsed": false
   },
   "outputs": [
    {
     "data": {
      "text/html": [
       "<table>\n",
       "<thead><tr><th></th><th scope=col>litter</th><th scope=col>mut</th><th scope=col>ctl</th></tr></thead>\n",
       "<tbody>\n",
       "\t<tr><th scope=row>1</th><td>1</td><td>0.16884</td><td>0.24318</td></tr>\n",
       "\t<tr><th scope=row>2</th><td>2</td><td>0.48621</td><td>0.54004</td></tr>\n",
       "\t<tr><th scope=row>3</th><td>3</td><td>0.20224</td><td>0.30089</td></tr>\n",
       "\t<tr><th scope=row>4</th><td>4</td><td>0.29179</td><td>0.37839</td></tr>\n",
       "\t<tr><th scope=row>5</th><td>5</td><td>0.30845</td><td>0.40304</td></tr>\n",
       "\t<tr><th scope=row>6</th><td>6</td><td>0.14509</td><td>0.1874</td></tr>\n",
       "\t<tr><th scope=row>7</th><td>7</td><td>0.16128</td><td>0.29518</td></tr>\n",
       "\t<tr><th scope=row>8</th><td>8</td><td>0.17617</td><td>0.25835</td></tr>\n",
       "\t<tr><th scope=row>9</th><td>9</td><td>0.39746</td><td>0.46366</td></tr>\n",
       "\t<tr><th scope=row>10</th><td>10</td><td>0.36536</td><td>0.50916</td></tr>\n",
       "\t<tr><th scope=row>11</th><td>11</td><td>0.26722</td><td>0.40981</td></tr>\n",
       "</tbody>\n",
       "</table>\n"
      ],
      "text/latex": [
       "\\begin{tabular}{r|lll}\n",
       "  & litter & mut & ctl\\\\\n",
       "\\hline\n",
       "\t1 & 1 & 0.16884 & 0.24318\\\\\n",
       "\t2 & 2 & 0.48621 & 0.54004\\\\\n",
       "\t3 & 3 & 0.20224 & 0.30089\\\\\n",
       "\t4 & 4 & 0.29179 & 0.37839\\\\\n",
       "\t5 & 5 & 0.30845 & 0.40304\\\\\n",
       "\t6 & 6 & 0.14509 & 0.1874\\\\\n",
       "\t7 & 7 & 0.16128 & 0.29518\\\\\n",
       "\t8 & 8 & 0.17617 & 0.25835\\\\\n",
       "\t9 & 9 & 0.39746 & 0.46366\\\\\n",
       "\t10 & 10 & 0.36536 & 0.50916\\\\\n",
       "\t11 & 11 & 0.26722 & 0.40981\\\\\n",
       "\\end{tabular}\n"
      ],
      "text/plain": [
       "   litter     mut     ctl\n",
       "1       1 0.16884 0.24318\n",
       "2       2 0.48621 0.54004\n",
       "3       3 0.20224 0.30089\n",
       "4       4 0.29179 0.37839\n",
       "5       5 0.30845 0.40304\n",
       "6       6 0.14509 0.18740\n",
       "7       7 0.16128 0.29518\n",
       "8       8 0.17617 0.25835\n",
       "9       9 0.39746 0.46366\n",
       "10     10 0.36536 0.50916\n",
       "11     11 0.26722 0.40981"
      ]
     },
     "execution_count": 18,
     "metadata": {},
     "output_type": "execute_result"
    }
   ],
   "source": [
    "lm<-read.table(\"littermates.txt\",head=T)\n",
    "lm\n",
    "attach(lm)"
   ]
  },
  {
   "cell_type": "code",
   "execution_count": 22,
   "metadata": {
    "collapsed": false
   },
   "outputs": [
    {
     "data": {
      "text/html": [
       "<ol class=list-inline>\n",
       "\t<li>'litter'</li>\n",
       "\t<li>'mut'</li>\n",
       "\t<li>'ctl'</li>\n",
       "</ol>\n"
      ],
      "text/latex": [
       "\\begin{enumerate*}\n",
       "\\item 'litter'\n",
       "\\item 'mut'\n",
       "\\item 'ctl'\n",
       "\\end{enumerate*}\n"
      ],
      "text/markdown": [
       "1. 'litter'\n",
       "2. 'mut'\n",
       "3. 'ctl'\n",
       "\n",
       "\n"
      ],
      "text/plain": [
       "[1] \"litter\" \"mut\"    \"ctl\"   "
      ]
     },
     "execution_count": 22,
     "metadata": {},
     "output_type": "execute_result"
    },
    {
     "data": {
      "text/html": [
       "0.37839"
      ],
      "text/latex": [
       "0.37839"
      ],
      "text/markdown": [
       "0.37839"
      ],
      "text/plain": [
       "[1] 0.37839"
      ]
     },
     "execution_count": 22,
     "metadata": {},
     "output_type": "execute_result"
    }
   ],
   "source": [
    "names(lm)\n",
    "median(ctl)\n"
   ]
  },
  {
   "cell_type": "code",
   "execution_count": 30,
   "metadata": {
    "collapsed": false
   },
   "outputs": [],
   "source": [
    "#plot(mut~ctl)\n",
    "#plot(mut~ctl,ylim=c(0,0.6),xlim=c(0,0.6))\n",
    "#abline(0,1,lty=2,col='salmon')"
   ]
  },
  {
   "cell_type": "code",
   "execution_count": 11,
   "metadata": {
    "collapsed": false
   },
   "outputs": [
    {
     "data": {
      "text/html": [
       "<table>\n",
       "<thead><tr><th></th><th scope=col>animal</th><th scope=col>pair</th><th scope=col>hotsix</th><th scope=col>lukewarm</th><th scope=col>tepid</th><th scope=col>mild1</th><th scope=col>athermal</th><th scope=col>bathwater</th><th scope=col>coldshower</th></tr></thead>\n",
       "<tbody>\n",
       "\t<tr><th scope=row>1</th><td>3011</td><td>1</td><td>-</td><td>0.4202</td><td>1.075</td><td>0.3974</td><td>0.9355</td><td>0.4695</td><td>0.1688</td></tr>\n",
       "\t<tr><th scope=row>2</th><td>3022</td><td>2</td><td>-</td><td>0.4718</td><td>1.0288</td><td>1.2747</td><td>0.6859</td><td>0.5616</td><td>0.4862</td></tr>\n",
       "\t<tr><th scope=row>3</th><td>3026</td><td>3</td><td>-</td><td>0.5351</td><td>0.9428</td><td>1.0208</td><td>0.5423</td><td>0.1972</td><td>0.2022</td></tr>\n",
       "\t<tr><th scope=row>4</th><td>3045</td><td>4</td><td>-</td><td>0.4955</td><td>0.7869</td><td>0.9073</td><td>0.6276</td><td>0.1854</td><td>0.2918</td></tr>\n",
       "\t<tr><th scope=row>5</th><td>3052</td><td>5</td><td>-</td><td>0.4299</td><td>0.9417</td><td>1.3223</td><td>0.8431</td><td>0.3982</td><td>0.3084</td></tr>\n",
       "\t<tr><th scope=row>6</th><td>3059</td><td>6</td><td>-</td><td>0.5609</td><td>1.232</td><td>0.4473</td><td>1.5524</td><td>0.2859</td><td>0.1451</td></tr>\n",
       "\t<tr><th scope=row>7</th><td>3066</td><td>7</td><td>-</td><td>1.4554</td><td>1.0419</td><td>0.6562</td><td>1.4554</td><td>0.4248</td><td>0.1613</td></tr>\n",
       "\t<tr><th scope=row>8</th><td>3080</td><td>8</td><td>-</td><td>0.8959</td><td>0.7659</td><td>0.4807</td><td>1.1754</td><td>0.2734</td><td>0.1762</td></tr>\n",
       "\t<tr><th scope=row>9</th><td>3082</td><td>9</td><td>-</td><td>0.3992</td><td>0.7921</td><td>1.4045</td><td>0.9383</td><td>0.472</td><td>0.3975</td></tr>\n",
       "\t<tr><th scope=row>10</th><td>3110</td><td>10</td><td>-</td><td>0.3526</td><td>0.7998</td><td>1.2606</td><td>0.8413</td><td>0.4511</td><td>0.3654</td></tr>\n",
       "\t<tr><th scope=row>11</th><td>3118</td><td>11</td><td>-</td><td>0.4693</td><td>1.0066</td><td>1.1801</td><td>1.0622</td><td>0.4872</td><td>0.2672</td></tr>\n",
       "\t<tr><th scope=row>12</th><td>3012</td><td>1</td><td>+</td><td>0.444</td><td>1.4432</td><td>0.4406</td><td>1.6114</td><td>0.4515</td><td>0.2432</td></tr>\n",
       "\t<tr><th scope=row>13</th><td>3020</td><td>2</td><td>+</td><td>0.6421</td><td>1.0284</td><td>1.3161</td><td>0.8921</td><td>0.6262</td><td>0.54</td></tr>\n",
       "\t<tr><th scope=row>14</th><td>3023</td><td>3</td><td>+</td><td>0.476</td><td>0.7981</td><td>1</td><td>0.5934</td><td>0.231</td><td>0.3009</td></tr>\n",
       "\t<tr><th scope=row>15</th><td>3040</td><td>4</td><td>+</td><td>0.6719</td><td>0.8398</td><td>1.274</td><td>0.7259</td><td>0.2996</td><td>0.3784</td></tr>\n",
       "\t<tr><th scope=row>16</th><td>3049</td><td>5</td><td>+</td><td>0.5112</td><td>0.9713</td><td>1.3513</td><td>0.7823</td><td>0.3387</td><td>0.403</td></tr>\n",
       "\t<tr><th scope=row>17</th><td>3056</td><td>6</td><td>+</td><td>0.6103</td><td>1.3715</td><td>0.51</td><td>1.7307</td><td>0.3617</td><td>0.1874</td></tr>\n",
       "\t<tr><th scope=row>18</th><td>3079</td><td>7</td><td>+</td><td>1.6036</td><td>1.1495</td><td>0.7285</td><td>1.3375</td><td>0.4124</td><td>0.2952</td></tr>\n",
       "\t<tr><th scope=row>19</th><td>3081</td><td>8</td><td>+</td><td>1.1222</td><td>0.8942</td><td>0.513</td><td>1.2949</td><td>0.4346</td><td>0.2583</td></tr>\n",
       "\t<tr><th scope=row>20</th><td>3085</td><td>9</td><td>+</td><td>0.4161</td><td>0.9395</td><td>1.1992</td><td>0.9451</td><td>0.6665</td><td>0.4637</td></tr>\n",
       "\t<tr><th scope=row>21</th><td>3107</td><td>10</td><td>+</td><td>0.5402</td><td>0.9351</td><td>1.3654</td><td>1.0016</td><td>0.5347</td><td>0.5092</td></tr>\n",
       "\t<tr><th scope=row>22</th><td>3121</td><td>11</td><td>+</td><td>0.4242</td><td>1.2581</td><td>1.311</td><td>1.1429</td><td>0.5469</td><td>0.4098</td></tr>\n",
       "</tbody>\n",
       "</table>\n"
      ],
      "text/latex": [
       "\\begin{tabular}{r|lllllllll}\n",
       "  & animal & pair & hotsix & lukewarm & tepid & mild1 & athermal & bathwater & coldshower\\\\\n",
       "\\hline\n",
       "\t1 & 3011 & 1 & - & 0.4202 & 1.075 & 0.3974 & 0.9355 & 0.4695 & 0.1688\\\\\n",
       "\t2 & 3022 & 2 & - & 0.4718 & 1.0288 & 1.2747 & 0.6859 & 0.5616 & 0.4862\\\\\n",
       "\t3 & 3026 & 3 & - & 0.5351 & 0.9428 & 1.0208 & 0.5423 & 0.1972 & 0.2022\\\\\n",
       "\t4 & 3045 & 4 & - & 0.4955 & 0.7869 & 0.9073 & 0.6276 & 0.1854 & 0.2918\\\\\n",
       "\t5 & 3052 & 5 & - & 0.4299 & 0.9417 & 1.3223 & 0.8431 & 0.3982 & 0.3084\\\\\n",
       "\t6 & 3059 & 6 & - & 0.5609 & 1.232 & 0.4473 & 1.5524 & 0.2859 & 0.1451\\\\\n",
       "\t7 & 3066 & 7 & - & 1.4554 & 1.0419 & 0.6562 & 1.4554 & 0.4248 & 0.1613\\\\\n",
       "\t8 & 3080 & 8 & - & 0.8959 & 0.7659 & 0.4807 & 1.1754 & 0.2734 & 0.1762\\\\\n",
       "\t9 & 3082 & 9 & - & 0.3992 & 0.7921 & 1.4045 & 0.9383 & 0.472 & 0.3975\\\\\n",
       "\t10 & 3110 & 10 & - & 0.3526 & 0.7998 & 1.2606 & 0.8413 & 0.4511 & 0.3654\\\\\n",
       "\t11 & 3118 & 11 & - & 0.4693 & 1.0066 & 1.1801 & 1.0622 & 0.4872 & 0.2672\\\\\n",
       "\t12 & 3012 & 1 & + & 0.444 & 1.4432 & 0.4406 & 1.6114 & 0.4515 & 0.2432\\\\\n",
       "\t13 & 3020 & 2 & + & 0.6421 & 1.0284 & 1.3161 & 0.8921 & 0.6262 & 0.54\\\\\n",
       "\t14 & 3023 & 3 & + & 0.476 & 0.7981 & 1 & 0.5934 & 0.231 & 0.3009\\\\\n",
       "\t15 & 3040 & 4 & + & 0.6719 & 0.8398 & 1.274 & 0.7259 & 0.2996 & 0.3784\\\\\n",
       "\t16 & 3049 & 5 & + & 0.5112 & 0.9713 & 1.3513 & 0.7823 & 0.3387 & 0.403\\\\\n",
       "\t17 & 3056 & 6 & + & 0.6103 & 1.3715 & 0.51 & 1.7307 & 0.3617 & 0.1874\\\\\n",
       "\t18 & 3079 & 7 & + & 1.6036 & 1.1495 & 0.7285 & 1.3375 & 0.4124 & 0.2952\\\\\n",
       "\t19 & 3081 & 8 & + & 1.1222 & 0.8942 & 0.513 & 1.2949 & 0.4346 & 0.2583\\\\\n",
       "\t20 & 3085 & 9 & + & 0.4161 & 0.9395 & 1.1992 & 0.9451 & 0.6665 & 0.4637\\\\\n",
       "\t21 & 3107 & 10 & + & 0.5402 & 0.9351 & 1.3654 & 1.0016 & 0.5347 & 0.5092\\\\\n",
       "\t22 & 3121 & 11 & + & 0.4242 & 1.2581 & 1.311 & 1.1429 & 0.5469 & 0.4098\\\\\n",
       "\\end{tabular}\n"
      ],
      "text/plain": [
       "   animal pair hotsix lukewarm  tepid  mild1 athermal bathwater coldshower\n",
       "1    3011    1      -   0.4202 1.0750 0.3974   0.9355    0.4695     0.1688\n",
       "2    3022    2      -   0.4718 1.0288 1.2747   0.6859    0.5616     0.4862\n",
       "3    3026    3      -   0.5351 0.9428 1.0208   0.5423    0.1972     0.2022\n",
       "4    3045    4      -   0.4955 0.7869 0.9073   0.6276    0.1854     0.2918\n",
       "5    3052    5      -   0.4299 0.9417 1.3223   0.8431    0.3982     0.3084\n",
       "6    3059    6      -   0.5609 1.2320 0.4473   1.5524    0.2859     0.1451\n",
       "7    3066    7      -   1.4554 1.0419 0.6562   1.4554    0.4248     0.1613\n",
       "8    3080    8      -   0.8959 0.7659 0.4807   1.1754    0.2734     0.1762\n",
       "9    3082    9      -   0.3992 0.7921 1.4045   0.9383    0.4720     0.3975\n",
       "10   3110   10      -   0.3526 0.7998 1.2606   0.8413    0.4511     0.3654\n",
       "11   3118   11      -   0.4693 1.0066 1.1801   1.0622    0.4872     0.2672\n",
       "12   3012    1      +   0.4440 1.4432 0.4406   1.6114    0.4515     0.2432\n",
       "13   3020    2      +   0.6421 1.0284 1.3161   0.8921    0.6262     0.5400\n",
       "14   3023    3      +   0.4760 0.7981 1.0000   0.5934    0.2310     0.3009\n",
       "15   3040    4      +   0.6719 0.8398 1.2740   0.7259    0.2996     0.3784\n",
       "16   3049    5      +   0.5112 0.9713 1.3513   0.7823    0.3387     0.4030\n",
       "17   3056    6      +   0.6103 1.3715 0.5100   1.7307    0.3617     0.1874\n",
       "18   3079    7      +   1.6036 1.1495 0.7285   1.3375    0.4124     0.2952\n",
       "19   3081    8      +   1.1222 0.8942 0.5130   1.2949    0.4346     0.2583\n",
       "20   3085    9      +   0.4161 0.9395 1.1992   0.9451    0.6665     0.4637\n",
       "21   3107   10      +   0.5402 0.9351 1.3654   1.0016    0.5347     0.5092\n",
       "22   3121   11      +   0.4242 1.2581 1.3110   1.1429    0.5469     0.4098"
      ]
     },
     "execution_count": 11,
     "metadata": {},
     "output_type": "execute_result"
    }
   ],
   "source": [
    "hot<-read.table(\"hot.txt\", header=T)\n",
    "hot"
   ]
  },
  {
   "cell_type": "code",
   "execution_count": 5,
   "metadata": {
    "collapsed": false
   },
   "outputs": [],
   "source": [
    "attach(hot)"
   ]
  },
  {
   "cell_type": "code",
   "execution_count": 12,
   "metadata": {
    "collapsed": false
   },
   "outputs": [
    {
     "data": {
      "text/plain": [
       "\n",
       "\tShapiro-Wilk normality test\n",
       "\n",
       "data:  lukewarm[hotsix == \"+\"] - lukewarm[hotsix == \"-\"]\n",
       "W = 0.93038, p-value = 0.4147\n"
      ]
     },
     "execution_count": 12,
     "metadata": {},
     "output_type": "execute_result"
    }
   ],
   "source": [
    "shapiro.test(lukewarm[hotsix=='+']-lukewarm[hotsix=='-'])\n",
    "#The Shapiro–Wilk test utilizes the null hypothesis principle to check whether a sample x1, ..., xn came from a normally distributed population. "
   ]
  },
  {
   "cell_type": "code",
   "execution_count": 10,
   "metadata": {
    "collapsed": false
   },
   "outputs": [
    {
     "data": {
      "text/plain": [
       "\n",
       "\tShapiro-Wilk normality test\n",
       "\n",
       "data:  lukewarm[hotsix == \"+\"] - tepid[hotsix == \"-\"]\n",
       "W = 0.82619, p-value = 0.0208\n"
      ]
     },
     "execution_count": 10,
     "metadata": {},
     "output_type": "execute_result"
    }
   ],
   "source": [
    "shapiro.test(lukewarm[hotsix=='+']-tepid[hotsix=='-'])"
   ]
  },
  {
   "cell_type": "code",
   "execution_count": 14,
   "metadata": {
    "collapsed": false
   },
   "outputs": [
    {
     "data": {
      "text/plain": [
       "\n",
       "\tF test to compare two variances\n",
       "\n",
       "data:  tepid[hotsix == \"+\"] and tepid[hotsix == \"-\"]\n",
       "F = 2.1475, num df = 10, denom df = 10, p-value = 0.2439\n",
       "alternative hypothesis: true ratio of variances is not equal to 1\n",
       "95 percent confidence interval:\n",
       " 0.5777957 7.9819832\n",
       "sample estimates:\n",
       "ratio of variances \n",
       "          2.147546 \n"
      ]
     },
     "execution_count": 14,
     "metadata": {},
     "output_type": "execute_result"
    }
   ],
   "source": [
    "var.test(tepid[hotsix=='+'],tepid[hotsix=='-'])"
   ]
  },
  {
   "cell_type": "code",
   "execution_count": 27,
   "metadata": {
    "collapsed": false
   },
   "outputs": [
    {
     "data": {
      "text/plain": [
       "\n",
       "\tPaired t-test\n",
       "\n",
       "data:  lukewarm by hotsix\n",
       "t = -2.983, df = 10, p-value = 0.006868\n",
       "alternative hypothesis: true difference in means is less than 0\n",
       "95 percent confidence interval:\n",
       "        -Inf -0.03481709\n",
       "sample estimates:\n",
       "mean of the differences \n",
       "            -0.08872727 \n"
      ]
     },
     "execution_count": 27,
     "metadata": {},
     "output_type": "execute_result"
    }
   ],
   "source": [
    "t.test(lukewarm~hotsix,paired=T,alternative ='less')"
   ]
  },
  {
   "cell_type": "markdown",
   "metadata": {},
   "source": [
    "# Bonferroni correction\n",
    "Statistical inference logic is based on rejecting the null hypotheses if the likelihood of the observed data under the null hypotheses is low. The problem of multiplicity arises from the fact that as we increase the number of hypotheses being tested, we also increase the likelihood of a rare event, and therefore, the likelihood of incorrectly rejecting a null hypothesis (i.e., make a Type I error).\n",
    "\n",
    "The Bonferroni correction is based on the idea that if an experimenter is testing m hypotheses, then one way of maintaining the familywise error rate (FWER) is to test each individual hypothesis at a statistical significance level of 1/m times the desired maximum overall level.\n",
    "\n",
    "So, if the desired significance level for the whole family of tests is \\alpha, then the Bonferroni correction would test each individual hypothesis at a significance level of \\alpha/m. For example, if a trial is testing m = 8 hypotheses with a desired \\alpha = 0.05, then the Bonferroni correction would test each individual hypothesis at \\alpha = 0.05/8 = 0.00625.\n",
    "\n",
    "Statistically significant simply means that a given result is unlikely to occur if the null hypothesis is true (i.e., no difference among groups, no effect of treatment, no relation among variables)."
   ]
  },
  {
   "cell_type": "code",
   "execution_count": 29,
   "metadata": {
    "collapsed": false
   },
   "outputs": [
    {
     "data": {
      "text/html": [
       "<ol class=list-inline>\n",
       "\t<li>0.027472</li>\n",
       "\t<li>0.1013</li>\n",
       "\t<li>0.1013</li>\n",
       "\t<li>0.1013</li>\n",
       "\t<li>0.0406</li>\n",
       "\t<li>1.4574e-05</li>\n",
       "</ol>\n"
      ],
      "text/latex": [
       "\\begin{enumerate*}\n",
       "\\item 0.027472\n",
       "\\item 0.1013\n",
       "\\item 0.1013\n",
       "\\item 0.1013\n",
       "\\item 0.0406\n",
       "\\item 1.4574e-05\n",
       "\\end{enumerate*}\n"
      ],
      "text/markdown": [
       "1. 0.027472\n",
       "2. 0.1013\n",
       "3. 0.1013\n",
       "4. 0.1013\n",
       "5. 0.0406\n",
       "6. 1.4574e-05\n",
       "\n",
       "\n"
      ],
      "text/plain": [
       "[1] 2.7472e-02 1.0130e-01 1.0130e-01 1.0130e-01 4.0600e-02 1.4574e-05"
      ]
     },
     "execution_count": 29,
     "metadata": {},
     "output_type": "execute_result"
    }
   ],
   "source": [
    "pt<-c(0.0068680,0.1013,0.08552,0.03489,0.01015,2.429e-06)\n",
    "p.adjust(pt,method =\"hommel\",6)"
   ]
  },
  {
   "cell_type": "code",
   "execution_count": null,
   "metadata": {
    "collapsed": true
   },
   "outputs": [],
   "source": []
  }
 ],
 "metadata": {
  "kernelspec": {
   "display_name": "R",
   "language": "R",
   "name": "ir"
  },
  "language_info": {
   "codemirror_mode": "r",
   "file_extension": ".r",
   "mimetype": "text/x-r-source",
   "name": "R",
   "pygments_lexer": "r",
   "version": "3.2.2"
  }
 },
 "nbformat": 4,
 "nbformat_minor": 0
}
