{
 "cells": [
  {
   "cell_type": "code",
   "execution_count": 11,
   "metadata": {
    "collapsed": false
   },
   "outputs": [
    {
     "name": "stderr",
     "output_type": "stream",
     "text": [
      "The following objects are masked from hot (pos = 3):\n",
      "\n",
      "    animal, athermal, bathwater, coldshower, hotsix, lukewarm, mild1,\n",
      "    pair, tepid\n",
      "\n",
      "The following objects are masked from hot (pos = 4):\n",
      "\n",
      "    animal, athermal, bathwater, coldshower, hotsix, lukewarm, mild1,\n",
      "    pair, tepid\n",
      "\n",
      "The following objects are masked from hot (pos = 5):\n",
      "\n",
      "    animal, athermal, bathwater, coldshower, hotsix, lukewarm, mild1,\n",
      "    pair, tepid\n",
      "\n",
      "The following objects are masked from hot (pos = 6):\n",
      "\n",
      "    animal, athermal, bathwater, coldshower, hotsix, lukewarm, mild1,\n",
      "    pair, tepid\n",
      "\n",
      "The following objects are masked from hot (pos = 7):\n",
      "\n",
      "    animal, athermal, bathwater, coldshower, hotsix, lukewarm, mild1,\n",
      "    pair, tepid\n",
      "\n",
      "The following objects are masked from hot (pos = 8):\n",
      "\n",
      "    animal, athermal, bathwater, coldshower, hotsix, lukewarm, mild1,\n",
      "    pair, tepid\n",
      "\n"
     ]
    },
    {
     "data": {
      "text/plain": [
       "\n",
       "\tShapiro-Wilk normality test\n",
       "\n",
       "data:  lukewarm[hotsix == \"+\"] - lukewarm[hotsix == \"-\"]\n",
       "W = 0.93038, p-value = 0.4147\n"
      ]
     },
     "execution_count": 11,
     "metadata": {},
     "output_type": "execute_result"
    }
   ],
   "source": [
    "hot<-read.table(\"hot.txt\",head=T)\n",
    "attach(hot)\n",
    "shapiro.test(lukewarm[hotsix=='+']-lukewarm[hotsix=='-'])"
   ]
  },
  {
   "cell_type": "code",
   "execution_count": null,
   "metadata": {
    "collapsed": false
   },
   "outputs": [],
   "source": []
  },
  {
   "cell_type": "code",
   "execution_count": null,
   "metadata": {
    "collapsed": false
   },
   "outputs": [],
   "source": []
  },
  {
   "cell_type": "code",
   "execution_count": null,
   "metadata": {
    "collapsed": true
   },
   "outputs": [],
   "source": []
  }
 ],
 "metadata": {
  "kernelspec": {
   "display_name": "R",
   "language": "R",
   "name": "ir"
  },
  "language_info": {
   "codemirror_mode": "r",
   "file_extension": ".r",
   "mimetype": "text/x-r-source",
   "name": "R",
   "pygments_lexer": "r",
   "version": "3.2.2"
  }
 },
 "nbformat": 4,
 "nbformat_minor": 0
}
