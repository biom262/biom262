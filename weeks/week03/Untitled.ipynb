{
 "cells": [
  {
   "cell_type": "markdown",
   "metadata": {
    "collapsed": true
   },
   "source": [
    "QUESTION 1\n",
    "This is a one-sided test. From previous experiments we know that the Nxf1 C-allele allows for higher expression of target genes, compared to the the B-allele (true for 6/7 exp, 1/7 exp. no difference between B and C). Therefore we have reason to hypothesise that will be the case also for the 8th target gene, that has the same class of retrotransoposon as the others."
   ]
  },
  {
   "cell_type": "code",
   "execution_count": 8,
   "metadata": {
    "collapsed": false
   },
   "outputs": [],
   "source": [
    "setwd(\"/home/ucsd-train05/biom262-2016/weeks/week03/R_files\")"
   ]
  },
  {
   "cell_type": "code",
   "execution_count": 9,
   "metadata": {
    "collapsed": false
   },
   "outputs": [
    {
     "data": {
      "text/html": [
       "'/home/ucsd-train05/biom262-2016/weeks/week03/R_files'"
      ],
      "text/latex": [
       "'/home/ucsd-train05/biom262-2016/weeks/week03/R_files'"
      ],
      "text/markdown": [
       "'/home/ucsd-train05/biom262-2016/weeks/week03/R_files'"
      ],
      "text/plain": [
       "[1] \"/home/ucsd-train05/biom262-2016/weeks/week03/R_files\""
      ]
     },
     "execution_count": 9,
     "metadata": {},
     "output_type": "execute_result"
    }
   ],
   "source": [
    "getwd()"
   ]
  },
  {
   "cell_type": "markdown",
   "metadata": {
    "collapsed": true
   },
   "source": [
    "QUESTION 2a\n",
    "The t-test assumes that the two samples are normally distributed, and have equal variance. Before choosing to do a t-test, I will plot the data and test these assumptions. (All code below)\n",
    "a) Plot shows that B-samples have an outlier and C-samples have a lot of variability compared to B.\n",
    "b) Shapiro-Wilk normality test indicates that group B is NOT normal (p=0.0085), and that group C is normal (p=0.1805).\n",
    "c) Variance test (p-value = 0.4201) tells us that there is insufficient evidence to reject the null hypothesis of equal variance.\n",
    "\n",
    "Group C is normally distributed and the groups have similar variance, but group B is not normally distributed and I belive the mean will be skewed by the outlier - therefore I chose to do a Wilcoxon rank sum test."
   ]
  },
  {
   "cell_type": "code",
   "execution_count": 33,
   "metadata": {
    "collapsed": false,
    "scrolled": true
   },
   "outputs": [
    {
     "data": {
      "text/html": [
       "<table>\n",
       "<thead><tr><th></th><th scope=col>id</th><th scope=col>nxf1</th><th scope=col>raw</th><th scope=col>normal</th><th scope=col>cohort</th></tr></thead>\n",
       "<tbody>\n",
       "\t<tr><th scope=row>1</th><td>N30F4.192</td><td>B</td><td>0.005473881</td><td>0.002223781</td><td>B6</td></tr>\n",
       "\t<tr><th scope=row>2</th><td>N30F4.196</td><td>B</td><td>0.005268219</td><td>0.00214023</td><td>B6</td></tr>\n",
       "\t<tr><th scope=row>3</th><td>N30F4.202</td><td>B</td><td>0.0219772</td><td>0.008928305</td><td>B6</td></tr>\n",
       "\t<tr><th scope=row>4</th><td>N30F4.207</td><td>B</td><td>0.002978839</td><td>0.001210162</td><td>B6</td></tr>\n",
       "\t<tr><th scope=row>5</th><td>N30F4.217</td><td>B</td><td>0.003176875</td><td>0.001290615</td><td>B6</td></tr>\n",
       "\t<tr><th scope=row>6</th><td>N30F4.218</td><td>B</td><td>0.003622804</td><td>0.001471775</td><td>B6</td></tr>\n",
       "\t<tr><th scope=row>7</th><td>N30F4.199</td><td>C</td><td>0.02649444</td><td>0.01076345</td><td>B6</td></tr>\n",
       "\t<tr><th scope=row>8</th><td>N30F4.210</td><td>C</td><td>0.004281812</td><td>0.001739499</td><td>B6</td></tr>\n",
       "\t<tr><th scope=row>9</th><td>N30F4.215</td><td>C</td><td>0.006276129</td><td>0.002549696</td><td>B6</td></tr>\n",
       "\t<tr><th scope=row>10</th><td>N30F4.216</td><td>C</td><td>0.007962358</td><td>0.003234732</td><td>B6</td></tr>\n",
       "\t<tr><th scope=row>11</th><td>N30F4.220</td><td>C</td><td>0.02951941</td><td>0.01199235</td><td>B6</td></tr>\n",
       "\t<tr><th scope=row>12</th><td>N30F4.222</td><td>C</td><td>0.01354432</td><td>0.005502421</td><td>B6</td></tr>\n",
       "</tbody>\n",
       "</table>\n"
      ],
      "text/latex": [
       "\\begin{tabular}{r|lllll}\n",
       "  & id & nxf1 & raw & normal & cohort\\\\\n",
       "\\hline\n",
       "\t1 & N30F4.192 & B & 0.005473881 & 0.002223781 & B6\\\\\n",
       "\t2 & N30F4.196 & B & 0.005268219 & 0.00214023 & B6\\\\\n",
       "\t3 & N30F4.202 & B & 0.0219772 & 0.008928305 & B6\\\\\n",
       "\t4 & N30F4.207 & B & 0.002978839 & 0.001210162 & B6\\\\\n",
       "\t5 & N30F4.217 & B & 0.003176875 & 0.001290615 & B6\\\\\n",
       "\t6 & N30F4.218 & B & 0.003622804 & 0.001471775 & B6\\\\\n",
       "\t7 & N30F4.199 & C & 0.02649444 & 0.01076345 & B6\\\\\n",
       "\t8 & N30F4.210 & C & 0.004281812 & 0.001739499 & B6\\\\\n",
       "\t9 & N30F4.215 & C & 0.006276129 & 0.002549696 & B6\\\\\n",
       "\t10 & N30F4.216 & C & 0.007962358 & 0.003234732 & B6\\\\\n",
       "\t11 & N30F4.220 & C & 0.02951941 & 0.01199235 & B6\\\\\n",
       "\t12 & N30F4.222 & C & 0.01354432 & 0.005502421 & B6\\\\\n",
       "\\end{tabular}\n"
      ],
      "text/plain": [
       "          id nxf1         raw      normal cohort\n",
       "1  N30F4.192    B 0.005473881 0.002223781     B6\n",
       "2  N30F4.196    B 0.005268219 0.002140230     B6\n",
       "3  N30F4.202    B 0.021977200 0.008928305     B6\n",
       "4  N30F4.207    B 0.002978839 0.001210162     B6\n",
       "5  N30F4.217    B 0.003176875 0.001290615     B6\n",
       "6  N30F4.218    B 0.003622804 0.001471775     B6\n",
       "7  N30F4.199    C 0.026494443 0.010763448     B6\n",
       "8  N30F4.210    C 0.004281812 0.001739499     B6\n",
       "9  N30F4.215    C 0.006276129 0.002549696     B6\n",
       "10 N30F4.216    C 0.007962358 0.003234732     B6\n",
       "11 N30F4.220    C 0.029519412 0.011992351     B6\n",
       "12 N30F4.222    C 0.013544320 0.005502421     B6"
      ]
     },
     "execution_count": 33,
     "metadata": {},
     "output_type": "execute_result"
    },
    {
     "name": "stderr",
     "output_type": "stream",
     "text": [
      "The following objects are masked from B6 (pos = 7):\n",
      "\n",
      "    cohort, id, normal, nxf1, raw\n",
      "\n",
      "The following objects are masked from B6 (pos = 8):\n",
      "\n",
      "    cohort, id, normal, nxf1, raw\n",
      "\n"
     ]
    },
    {
     "data": {
      "image/png": "[encoded data removed]",
      "image/svg+xml": [
       "<?xml version=\"1.0\" encoding=\"UTF-8\"?>\n",
       "<svg xmlns=\"http://www.w3.org/2000/svg\" xmlns:xlink=\"http://www.w3.org/1999/xlink\" width=\"504pt\" height=\"504pt\" viewBox=\"0 0 504 504\" version=\"1.1\">\n",
       "<defs>\n",
       "<g>\n",
       "<symbol overflow=\"visible\" id=\"glyph0-0\">\n",
       "<path style=\"stroke:none;\" d=\"\"/>\n",
       "</symbol>\n",
       "<symbol overflow=\"visible\" id=\"glyph0-1\">\n",
       "<path style=\"stroke:none;\" d=\"M 3.109375 -6.0625 L 3.109375 0 L 4.15625 0 L 4.15625 -8.515625 L 3.46875 -8.515625 C 3.09375 -7.203125 2.859375 -7.015625 1.21875 -6.8125 L 1.21875 -6.0625 Z \"/>\n",
       "</symbol>\n",
       "<symbol overflow=\"visible\" id=\"glyph0-2\">\n",
       "<path style=\"stroke:none;\" d=\"M 6.078125 -1.046875 L 1.59375 -1.046875 C 1.703125 -1.734375 2.09375 -2.1875 3.125 -2.796875 L 4.328125 -3.4375 C 5.515625 -4.09375 6.125 -4.96875 6.125 -6.015625 C 6.125 -6.71875 5.84375 -7.375 5.34375 -7.84375 C 4.84375 -8.296875 4.21875 -8.515625 3.40625 -8.515625 C 2.328125 -8.515625 1.53125 -8.125 1.0625 -7.40625 C 0.75 -6.953125 0.625 -6.421875 0.59375 -5.5625 L 1.65625 -5.5625 C 1.6875 -6.125 1.765625 -6.484375 1.90625 -6.75 C 2.1875 -7.265625 2.734375 -7.578125 3.375 -7.578125 C 4.328125 -7.578125 5.046875 -6.90625 5.046875 -5.984375 C 5.046875 -5.3125 4.65625 -4.734375 3.90625 -4.3125 L 2.796875 -3.6875 C 1.015625 -2.671875 0.5 -1.875 0.40625 0 L 6.078125 0 Z \"/>\n",
       "</symbol>\n",
       "<symbol overflow=\"visible\" id=\"glyph1-0\">\n",
       "<path style=\"stroke:none;\" d=\"\"/>\n",
       "</symbol>\n",
       "<symbol overflow=\"visible\" id=\"glyph1-1\">\n",
       "<path style=\"stroke:none;\" d=\"M -8.515625 -3.296875 C -8.515625 -2.515625 -8.15625 -1.78125 -7.578125 -1.34375 C -6.828125 -0.796875 -5.6875 -0.515625 -4.109375 -0.515625 C -1.25 -0.515625 0.28125 -1.46875 0.28125 -3.296875 C 0.28125 -5.09375 -1.25 -6.078125 -4.046875 -6.078125 C -5.703125 -6.078125 -6.796875 -5.8125 -7.578125 -5.25 C -8.171875 -4.8125 -8.515625 -4.109375 -8.515625 -3.296875 Z M -7.578125 -3.296875 C -7.578125 -4.4375 -6.421875 -5 -4.140625 -5 C -1.734375 -5 -0.59375 -4.453125 -0.59375 -3.28125 C -0.59375 -2.15625 -1.78125 -1.59375 -4.109375 -1.59375 C -6.4375 -1.59375 -7.578125 -2.15625 -7.578125 -3.296875 Z \"/>\n",
       "</symbol>\n",
       "<symbol overflow=\"visible\" id=\"glyph1-2\">\n",
       "<path style=\"stroke:none;\" d=\"M -1.25 -2.296875 L -1.25 -1.046875 L 0 -1.046875 L 0 -2.296875 Z \"/>\n",
       "</symbol>\n",
       "<symbol overflow=\"visible\" id=\"glyph1-3\">\n",
       "<path style=\"stroke:none;\" d=\"M -1.046875 -6.078125 L -1.046875 -1.59375 C -1.734375 -1.703125 -2.1875 -2.09375 -2.796875 -3.125 L -3.4375 -4.328125 C -4.09375 -5.515625 -4.96875 -6.125 -6.015625 -6.125 C -6.71875 -6.125 -7.375 -5.84375 -7.84375 -5.34375 C -8.296875 -4.84375 -8.515625 -4.21875 -8.515625 -3.40625 C -8.515625 -2.328125 -8.125 -1.53125 -7.40625 -1.0625 C -6.953125 -0.75 -6.421875 -0.625 -5.5625 -0.59375 L -5.5625 -1.65625 C -6.125 -1.6875 -6.484375 -1.765625 -6.75 -1.90625 C -7.265625 -2.1875 -7.578125 -2.734375 -7.578125 -3.375 C -7.578125 -4.328125 -6.90625 -5.046875 -5.984375 -5.046875 C -5.3125 -5.046875 -4.734375 -4.65625 -4.3125 -3.90625 L -3.6875 -2.796875 C -2.671875 -1.015625 -1.875 -0.5 0 -0.40625 L 0 -6.078125 Z \"/>\n",
       "</symbol>\n",
       "<symbol overflow=\"visible\" id=\"glyph1-4\">\n",
       "<path style=\"stroke:none;\" d=\"M -2.046875 -3.921875 L 0 -3.921875 L 0 -4.984375 L -2.046875 -4.984375 L -2.046875 -6.234375 L -2.984375 -6.234375 L -2.984375 -4.984375 L -8.515625 -4.984375 L -8.515625 -4.203125 L -3.15625 -0.34375 L -2.046875 -0.34375 Z M -2.984375 -3.921875 L -2.984375 -1.265625 L -6.703125 -3.921875 Z \"/>\n",
       "</symbol>\n",
       "<symbol overflow=\"visible\" id=\"glyph1-5\">\n",
       "<path style=\"stroke:none;\" d=\"M -6.28125 -5.96875 C -7.6875 -5.765625 -8.515625 -4.859375 -8.515625 -3.5625 C -8.515625 -2.625 -8.046875 -1.78125 -7.296875 -1.28125 C -6.46875 -0.75 -5.421875 -0.515625 -3.875 -0.515625 C -2.453125 -0.515625 -1.53125 -0.734375 -0.78125 -1.234375 C -0.09375 -1.6875 0.28125 -2.4375 0.28125 -3.375 C 0.28125 -4.984375 -0.921875 -6.15625 -2.59375 -6.15625 C -4.171875 -6.15625 -5.296875 -5.078125 -5.296875 -3.546875 C -5.296875 -2.71875 -4.96875 -2.046875 -4.34375 -1.59375 C -6.421875 -1.609375 -7.578125 -2.28125 -7.578125 -3.484375 C -7.578125 -4.234375 -7.109375 -4.75 -6.28125 -4.921875 Z M -4.359375 -3.421875 C -4.359375 -4.4375 -3.640625 -5.078125 -2.515625 -5.078125 C -1.4375 -5.078125 -0.65625 -4.359375 -0.65625 -3.390625 C -0.65625 -2.40625 -1.46875 -1.65625 -2.5625 -1.65625 C -3.625 -1.65625 -4.359375 -2.375 -4.359375 -3.421875 Z \"/>\n",
       "</symbol>\n",
       "<symbol overflow=\"visible\" id=\"glyph1-6\">\n",
       "<path style=\"stroke:none;\" d=\"M -4.46875 -4.6875 C -5 -5.5625 -5.4375 -5.859375 -6.234375 -5.859375 C -7.578125 -5.859375 -8.515625 -4.8125 -8.515625 -3.296875 C -8.515625 -1.796875 -7.578125 -0.75 -6.234375 -0.75 C -5.453125 -0.75 -5.015625 -1.03125 -4.46875 -1.890625 C -4.015625 -0.921875 -3.296875 -0.4375 -2.359375 -0.4375 C -0.796875 -0.4375 0.28125 -1.625 0.28125 -3.296875 C 0.28125 -4.984375 -0.796875 -6.15625 -2.359375 -6.15625 C -3.296875 -6.15625 -4.015625 -5.671875 -4.46875 -4.6875 Z M -7.578125 -3.296875 C -7.578125 -4.203125 -7.046875 -4.78125 -6.21875 -4.78125 C -5.421875 -4.78125 -4.890625 -4.1875 -4.890625 -3.296875 C -4.890625 -2.40625 -5.421875 -1.828125 -6.234375 -1.828125 C -7.046875 -1.828125 -7.578125 -2.40625 -7.578125 -3.296875 Z M -4.015625 -3.296875 C -4.015625 -4.359375 -3.34375 -5.078125 -2.34375 -5.078125 C -1.328125 -5.078125 -0.65625 -4.359375 -0.65625 -3.28125 C -0.65625 -2.25 -1.34375 -1.53125 -2.34375 -1.53125 C -3.34375 -1.53125 -4.015625 -2.25 -4.015625 -3.296875 Z \"/>\n",
       "</symbol>\n",
       "<symbol overflow=\"visible\" id=\"glyph1-7\">\n",
       "<path style=\"stroke:none;\" d=\"M -6.0625 -3.109375 L 0 -3.109375 L 0 -4.15625 L -8.515625 -4.15625 L -8.515625 -3.46875 C -7.203125 -3.09375 -7.015625 -2.859375 -6.8125 -1.21875 L -6.0625 -1.21875 Z \"/>\n",
       "</symbol>\n",
       "</g>\n",
       "</defs>\n",
       "<g id=\"surface126\">\n",
       "<rect x=\"0\" y=\"0\" width=\"504\" height=\"504\" style=\"fill:rgb(100%,100%,100%);fill-opacity:1;stroke:none;\"/>\n",
       "<path style=\"fill:none;stroke-width:2.25;stroke-linecap:butt;stroke-linejoin:round;stroke:rgb(0%,0%,0%);stroke-opacity:1;stroke-miterlimit:10;\" d=\"M 93.601562 397.789062 L 247.199219 397.789062 \"/>\n",
       "<path style=\"fill:none;stroke-width:0.75;stroke-linecap:round;stroke-linejoin:round;stroke:rgb(0%,0%,0%);stroke-opacity:1;stroke-dasharray:3,3;stroke-miterlimit:10;\" d=\"M 170.398438 416.800781 L 170.398438 414.234375 \"/>\n",
       "<path style=\"fill:none;stroke-width:0.75;stroke-linecap:round;stroke-linejoin:round;stroke:rgb(0%,0%,0%);stroke-opacity:1;stroke-dasharray:3,3;stroke-miterlimit:10;\" d=\"M 170.398438 384.460938 L 170.398438 384.460938 \"/>\n",
       "<path style=\"fill:none;stroke-width:0.75;stroke-linecap:round;stroke-linejoin:round;stroke:rgb(0%,0%,0%);stroke-opacity:1;stroke-miterlimit:10;\" d=\"M 132 416.800781 L 208.800781 416.800781 \"/>\n",
       "<path style=\"fill:none;stroke-width:0.75;stroke-linecap:round;stroke-linejoin:round;stroke:rgb(0%,0%,0%);stroke-opacity:1;stroke-miterlimit:10;\" d=\"M 132 384.460938 L 208.800781 384.460938 \"/>\n",
       "<path style=\"fill:none;stroke-width:0.75;stroke-linecap:round;stroke-linejoin:round;stroke:rgb(0%,0%,0%);stroke-opacity:1;stroke-miterlimit:10;\" d=\"M 93.601562 414.234375 L 247.199219 414.234375 L 247.199219 384.460938 L 93.601562 384.460938 L 93.601562 414.234375 \"/>\n",
       "<path style=\"fill:none;stroke-width:0.75;stroke-linecap:round;stroke-linejoin:round;stroke:rgb(0%,0%,0%);stroke-opacity:1;stroke-miterlimit:10;\" d=\"M 173.101562 170.558594 C 173.101562 174.15625 167.699219 174.15625 167.699219 170.558594 C 167.699219 166.957031 173.101562 166.957031 173.101562 170.558594 \"/>\n",
       "<path style=\"fill:none;stroke-width:2.25;stroke-linecap:butt;stroke-linejoin:round;stroke:rgb(0%,0%,0%);stroke-opacity:1;stroke-miterlimit:10;\" d=\"M 285.601562 316.03125 L 439.199219 316.03125 \"/>\n",
       "<path style=\"fill:none;stroke-width:0.75;stroke-linecap:round;stroke-linejoin:round;stroke:rgb(0%,0%,0%);stroke-opacity:1;stroke-dasharray:3,3;stroke-miterlimit:10;\" d=\"M 362.398438 399.910156 L 362.398438 374.0625 \"/>\n",
       "<path style=\"fill:none;stroke-width:0.75;stroke-linecap:round;stroke-linejoin:round;stroke:rgb(0%,0%,0%);stroke-opacity:1;stroke-dasharray:3,3;stroke-miterlimit:10;\" d=\"M 362.398438 72.800781 L 362.398438 112.007812 \"/>\n",
       "<path style=\"fill:none;stroke-width:0.75;stroke-linecap:round;stroke-linejoin:round;stroke:rgb(0%,0%,0%);stroke-opacity:1;stroke-miterlimit:10;\" d=\"M 324 399.910156 L 400.800781 399.910156 \"/>\n",
       "<path style=\"fill:none;stroke-width:0.75;stroke-linecap:round;stroke-linejoin:round;stroke:rgb(0%,0%,0%);stroke-opacity:1;stroke-miterlimit:10;\" d=\"M 324 72.800781 L 400.800781 72.800781 \"/>\n",
       "<path style=\"fill:none;stroke-width:0.75;stroke-linecap:round;stroke-linejoin:round;stroke:rgb(0%,0%,0%);stroke-opacity:1;stroke-miterlimit:10;\" d=\"M 285.601562 374.0625 L 439.199219 374.0625 L 439.199219 112.007812 L 285.601562 112.007812 L 285.601562 374.0625 \"/>\n",
       "<path style=\"fill:none;stroke-width:0.75;stroke-linecap:round;stroke-linejoin:round;stroke:rgb(0%,0%,0%);stroke-opacity:1;stroke-miterlimit:10;\" d=\"M 170.398438 430.558594 L 362.398438 430.558594 \"/>\n",
       "<path style=\"fill:none;stroke-width:0.75;stroke-linecap:round;stroke-linejoin:round;stroke:rgb(0%,0%,0%);stroke-opacity:1;stroke-miterlimit:10;\" d=\"M 170.398438 430.558594 L 170.398438 437.761719 \"/>\n",
       "<path style=\"fill:none;stroke-width:0.75;stroke-linecap:round;stroke-linejoin:round;stroke:rgb(0%,0%,0%);stroke-opacity:1;stroke-miterlimit:10;\" d=\"M 362.398438 430.558594 L 362.398438 437.761719 \"/>\n",
       "<g style=\"fill:rgb(0%,0%,0%);fill-opacity:1;\">\n",
       "  <use xlink:href=\"#glyph0-1\" x=\"166.898438\" y=\"455.916016\"/>\n",
       "</g>\n",
       "<g style=\"fill:rgb(0%,0%,0%);fill-opacity:1;\">\n",
       "  <use xlink:href=\"#glyph0-2\" x=\"358.898438\" y=\"455.916016\"/>\n",
       "</g>\n",
       "<path style=\"fill:none;stroke-width:0.75;stroke-linecap:round;stroke-linejoin:round;stroke:rgb(0%,0%,0%);stroke-opacity:1;stroke-miterlimit:10;\" d=\"M 59.039062 391.601562 L 59.039062 72.554688 \"/>\n",
       "<path style=\"fill:none;stroke-width:0.75;stroke-linecap:round;stroke-linejoin:round;stroke:rgb(0%,0%,0%);stroke-opacity:1;stroke-miterlimit:10;\" d=\"M 59.039062 391.601562 L 51.839844 391.601562 \"/>\n",
       "<path style=\"fill:none;stroke-width:0.75;stroke-linecap:round;stroke-linejoin:round;stroke:rgb(0%,0%,0%);stroke-opacity:1;stroke-miterlimit:10;\" d=\"M 59.039062 327.792969 L 51.839844 327.792969 \"/>\n",
       "<path style=\"fill:none;stroke-width:0.75;stroke-linecap:round;stroke-linejoin:round;stroke:rgb(0%,0%,0%);stroke-opacity:1;stroke-miterlimit:10;\" d=\"M 59.039062 263.984375 L 51.839844 263.984375 \"/>\n",
       "<path style=\"fill:none;stroke-width:0.75;stroke-linecap:round;stroke-linejoin:round;stroke:rgb(0%,0%,0%);stroke-opacity:1;stroke-miterlimit:10;\" d=\"M 59.039062 200.175781 L 51.839844 200.175781 \"/>\n",
       "<path style=\"fill:none;stroke-width:0.75;stroke-linecap:round;stroke-linejoin:round;stroke:rgb(0%,0%,0%);stroke-opacity:1;stroke-miterlimit:10;\" d=\"M 59.039062 136.363281 L 51.839844 136.363281 \"/>\n",
       "<path style=\"fill:none;stroke-width:0.75;stroke-linecap:round;stroke-linejoin:round;stroke:rgb(0%,0%,0%);stroke-opacity:1;stroke-miterlimit:10;\" d=\"M 59.039062 72.554688 L 51.839844 72.554688 \"/>\n",
       "<g style=\"fill:rgb(0%,0%,0%);fill-opacity:1;\">\n",
       "  <use xlink:href=\"#glyph1-1\" x=\"41.197266\" y=\"407.101562\"/>\n",
       "  <use xlink:href=\"#glyph1-2\" x=\"41.197266\" y=\"400.429688\"/>\n",
       "  <use xlink:href=\"#glyph1-1\" x=\"41.197266\" y=\"397.09375\"/>\n",
       "  <use xlink:href=\"#glyph1-1\" x=\"41.197266\" y=\"390.421875\"/>\n",
       "  <use xlink:href=\"#glyph1-3\" x=\"41.197266\" y=\"383.75\"/>\n",
       "</g>\n",
       "<g style=\"fill:rgb(0%,0%,0%);fill-opacity:1;\">\n",
       "  <use xlink:href=\"#glyph1-1\" x=\"41.197266\" y=\"343.292969\"/>\n",
       "  <use xlink:href=\"#glyph1-2\" x=\"41.197266\" y=\"336.621094\"/>\n",
       "  <use xlink:href=\"#glyph1-1\" x=\"41.197266\" y=\"333.285156\"/>\n",
       "  <use xlink:href=\"#glyph1-1\" x=\"41.197266\" y=\"326.613281\"/>\n",
       "  <use xlink:href=\"#glyph1-4\" x=\"41.197266\" y=\"319.941406\"/>\n",
       "</g>\n",
       "<g style=\"fill:rgb(0%,0%,0%);fill-opacity:1;\">\n",
       "  <use xlink:href=\"#glyph1-1\" x=\"41.197266\" y=\"279.484375\"/>\n",
       "  <use xlink:href=\"#glyph1-2\" x=\"41.197266\" y=\"272.8125\"/>\n",
       "  <use xlink:href=\"#glyph1-1\" x=\"41.197266\" y=\"269.476562\"/>\n",
       "  <use xlink:href=\"#glyph1-1\" x=\"41.197266\" y=\"262.804688\"/>\n",
       "  <use xlink:href=\"#glyph1-5\" x=\"41.197266\" y=\"256.132812\"/>\n",
       "</g>\n",
       "<g style=\"fill:rgb(0%,0%,0%);fill-opacity:1;\">\n",
       "  <use xlink:href=\"#glyph1-1\" x=\"41.197266\" y=\"215.675781\"/>\n",
       "  <use xlink:href=\"#glyph1-2\" x=\"41.197266\" y=\"209.003906\"/>\n",
       "  <use xlink:href=\"#glyph1-1\" x=\"41.197266\" y=\"205.667969\"/>\n",
       "  <use xlink:href=\"#glyph1-1\" x=\"41.197266\" y=\"198.996094\"/>\n",
       "  <use xlink:href=\"#glyph1-6\" x=\"41.197266\" y=\"192.324219\"/>\n",
       "</g>\n",
       "<g style=\"fill:rgb(0%,0%,0%);fill-opacity:1;\">\n",
       "  <use xlink:href=\"#glyph1-1\" x=\"41.197266\" y=\"151.863281\"/>\n",
       "  <use xlink:href=\"#glyph1-2\" x=\"41.197266\" y=\"145.191406\"/>\n",
       "  <use xlink:href=\"#glyph1-1\" x=\"41.197266\" y=\"141.855469\"/>\n",
       "  <use xlink:href=\"#glyph1-7\" x=\"41.197266\" y=\"135.183594\"/>\n",
       "  <use xlink:href=\"#glyph1-1\" x=\"41.197266\" y=\"128.511719\"/>\n",
       "</g>\n",
       "<g style=\"fill:rgb(0%,0%,0%);fill-opacity:1;\">\n",
       "  <use xlink:href=\"#glyph1-1\" x=\"41.197266\" y=\"88.054688\"/>\n",
       "  <use xlink:href=\"#glyph1-2\" x=\"41.197266\" y=\"81.382812\"/>\n",
       "  <use xlink:href=\"#glyph1-1\" x=\"41.197266\" y=\"78.046875\"/>\n",
       "  <use xlink:href=\"#glyph1-7\" x=\"41.197266\" y=\"71.375\"/>\n",
       "  <use xlink:href=\"#glyph1-3\" x=\"41.197266\" y=\"64.703125\"/>\n",
       "</g>\n",
       "<path style=\"fill:none;stroke-width:0.75;stroke-linecap:round;stroke-linejoin:round;stroke:rgb(0%,0%,0%);stroke-opacity:1;stroke-miterlimit:10;\" d=\"M 59.039062 430.558594 L 473.761719 430.558594 L 473.761719 59.039062 L 59.039062 59.039062 L 59.039062 430.558594 \"/>\n",
       "<path style=\"fill:none;stroke-width:0.75;stroke-linecap:round;stroke-linejoin:round;stroke:rgb(41.568627%,35.294118%,80.392157%);stroke-opacity:1;stroke-miterlimit:10;\" d=\"M 173.101562 384.460938 C 173.101562 388.0625 167.699219 388.0625 167.699219 384.460938 C 167.699219 380.859375 173.101562 380.859375 173.101562 384.460938 \"/>\n",
       "<path style=\"fill:none;stroke-width:0.75;stroke-linecap:round;stroke-linejoin:round;stroke:rgb(41.568627%,35.294118%,80.392157%);stroke-opacity:1;stroke-miterlimit:10;\" d=\"M 173.101562 387.125 C 173.101562 390.726562 167.699219 390.726562 167.699219 387.125 C 167.699219 383.527344 173.101562 383.527344 173.101562 387.125 \"/>\n",
       "<path style=\"fill:none;stroke-width:0.75;stroke-linecap:round;stroke-linejoin:round;stroke:rgb(41.568627%,35.294118%,80.392157%);stroke-opacity:1;stroke-miterlimit:10;\" d=\"M 173.101562 170.558594 C 173.101562 174.15625 167.699219 174.15625 167.699219 170.558594 C 167.699219 166.957031 173.101562 166.957031 173.101562 170.558594 \"/>\n",
       "<path style=\"fill:none;stroke-width:0.75;stroke-linecap:round;stroke-linejoin:round;stroke:rgb(41.568627%,35.294118%,80.392157%);stroke-opacity:1;stroke-miterlimit:10;\" d=\"M 173.101562 416.800781 C 173.101562 420.398438 167.699219 420.398438 167.699219 416.800781 C 167.699219 413.199219 173.101562 413.199219 173.101562 416.800781 \"/>\n",
       "<path style=\"fill:none;stroke-width:0.75;stroke-linecap:round;stroke-linejoin:round;stroke:rgb(41.568627%,35.294118%,80.392157%);stroke-opacity:1;stroke-miterlimit:10;\" d=\"M 173.101562 414.234375 C 173.101562 417.832031 167.699219 417.832031 167.699219 414.234375 C 167.699219 410.632812 173.101562 410.632812 173.101562 414.234375 \"/>\n",
       "<path style=\"fill:none;stroke-width:0.75;stroke-linecap:round;stroke-linejoin:round;stroke:rgb(41.568627%,35.294118%,80.392157%);stroke-opacity:1;stroke-miterlimit:10;\" d=\"M 173.101562 408.453125 C 173.101562 412.054688 167.699219 412.054688 167.699219 408.453125 C 167.699219 404.851562 173.101562 404.851562 173.101562 408.453125 \"/>\n",
       "<path style=\"fill:none;stroke-width:0.75;stroke-linecap:round;stroke-linejoin:round;stroke:rgb(41.568627%,35.294118%,80.392157%);stroke-opacity:1;stroke-miterlimit:10;\" d=\"M 365.101562 112.007812 C 365.101562 115.609375 359.699219 115.609375 359.699219 112.007812 C 359.699219 108.40625 365.101562 108.40625 365.101562 112.007812 \"/>\n",
       "<path style=\"fill:none;stroke-width:0.75;stroke-linecap:round;stroke-linejoin:round;stroke:rgb(41.568627%,35.294118%,80.392157%);stroke-opacity:1;stroke-miterlimit:10;\" d=\"M 365.101562 399.910156 C 365.101562 403.511719 359.699219 403.511719 359.699219 399.910156 C 359.699219 396.3125 365.101562 396.3125 365.101562 399.910156 \"/>\n",
       "<path style=\"fill:none;stroke-width:0.75;stroke-linecap:round;stroke-linejoin:round;stroke:rgb(41.568627%,35.294118%,80.392157%);stroke-opacity:1;stroke-miterlimit:10;\" d=\"M 365.101562 374.0625 C 365.101562 377.664062 359.699219 377.664062 359.699219 374.0625 C 359.699219 370.460938 365.101562 370.460938 365.101562 374.0625 \"/>\n",
       "<path style=\"fill:none;stroke-width:0.75;stroke-linecap:round;stroke-linejoin:round;stroke:rgb(41.568627%,35.294118%,80.392157%);stroke-opacity:1;stroke-miterlimit:10;\" d=\"M 365.101562 352.207031 C 365.101562 355.808594 359.699219 355.808594 359.699219 352.207031 C 359.699219 348.605469 365.101562 348.605469 365.101562 352.207031 \"/>\n",
       "<path style=\"fill:none;stroke-width:0.75;stroke-linecap:round;stroke-linejoin:round;stroke:rgb(41.568627%,35.294118%,80.392157%);stroke-opacity:1;stroke-miterlimit:10;\" d=\"M 365.101562 72.800781 C 365.101562 76.398438 359.699219 76.398438 359.699219 72.800781 C 359.699219 69.199219 365.101562 69.199219 365.101562 72.800781 \"/>\n",
       "<path style=\"fill:none;stroke-width:0.75;stroke-linecap:round;stroke-linejoin:round;stroke:rgb(41.568627%,35.294118%,80.392157%);stroke-opacity:1;stroke-miterlimit:10;\" d=\"M 365.101562 279.859375 C 365.101562 283.457031 359.699219 283.457031 359.699219 279.859375 C 359.699219 276.257812 365.101562 276.257812 365.101562 279.859375 \"/>\n",
       "</g>\n",
       "</svg>\n"
      ],
      "text/plain": [
       "plot without title"
      ]
     },
     "metadata": {
      "image/svg+xml": {
       "isolated": true
      }
     },
     "output_type": "display_data"
    }
   ],
   "source": [
    "setwd(\"/home/ucsd-train05/biom262-2016/weeks/week03/R_files\")\n",
    "B6 <- read.table(\"adamts_B6.txt\", header=T)\n",
    "B6\n",
    "attach(B6)\n",
    "boxplot(normal[nxf1=='B'], normal[nxf1=='C'])\n",
    "points(normal~nxf1, col=\"slateblue\")"
   ]
  },
  {
   "cell_type": "code",
   "execution_count": 13,
   "metadata": {
    "collapsed": false,
    "scrolled": true
   },
   "outputs": [
    {
     "data": {
      "text/plain": [
       "\n",
       "\tShapiro-Wilk normality test\n",
       "\n",
       "data:  normal[nxf1 == \"B\"]\n",
       "W = 0.62231, p-value = 0.0008452\n"
      ]
     },
     "execution_count": 13,
     "metadata": {},
     "output_type": "execute_result"
    },
    {
     "data": {
      "text/plain": [
       "\n",
       "\tShapiro-Wilk normality test\n",
       "\n",
       "data:  normal[nxf1 == \"C\"]\n",
       "W = 0.85741, p-value = 0.1805\n"
      ]
     },
     "execution_count": 13,
     "metadata": {},
     "output_type": "execute_result"
    },
    {
     "data": {
      "text/plain": [
       "\n",
       "\tF test to compare two variances\n",
       "\n",
       "data:  normal[nxf1 == \"B\"] and -normal[nxf1 == \"C\"]\n",
       "F = 0.46464, num df = 5, denom df = 5, p-value = 0.4201\n",
       "alternative hypothesis: true ratio of variances is not equal to 1\n",
       "95 percent confidence interval:\n",
       " 0.06501805 3.32052232\n",
       "sample estimates:\n",
       "ratio of variances \n",
       "         0.4646438 \n"
      ]
     },
     "execution_count": 13,
     "metadata": {},
     "output_type": "execute_result"
    }
   ],
   "source": [
    "shapiro.test(normal[nxf1=='B'])\n",
    "shapiro.test(normal[nxf1=='C'])\n",
    "var.test(normal[nxf1=='B'],-normal[nxf1=='C'])"
   ]
  },
  {
   "cell_type": "markdown",
   "metadata": {},
   "source": [
    "QUESTION 2b\n",
    "If we accept an alpha of 0.05, the p-value = 0.03247 indicates that allele B gives less expression of the target gene compared to allele C. (Code below)."
   ]
  },
  {
   "cell_type": "code",
   "execution_count": 17,
   "metadata": {
    "collapsed": false,
    "scrolled": true
   },
   "outputs": [
    {
     "data": {
      "text/plain": [
       "\n",
       "\tWilcoxon rank sum test\n",
       "\n",
       "data:  normal[nxf1 == \"B\"] and normal[nxf1 == \"C\"]\n",
       "W = 6, p-value = 0.03247\n",
       "alternative hypothesis: true location shift is less than 0\n"
      ]
     },
     "execution_count": 17,
     "metadata": {},
     "output_type": "execute_result"
    }
   ],
   "source": [
    "wilcox.test(normal[nxf1=='B'],normal[nxf1=='C'], paired=F, alternative='less')\n"
   ]
  },
  {
   "cell_type": "markdown",
   "metadata": {},
   "source": [
    "QUESTION 3"
   ]
  },
  {
   "cell_type": "code",
   "execution_count": 35,
   "metadata": {
    "collapsed": false,
    "scrolled": false
   },
   "outputs": [
    {
     "data": {
      "text/html": [
       "<table>\n",
       "<thead><tr><th></th><th scope=col>id.f2</th><th scope=col>nxf1.f2</th><th scope=col>raw.f2</th><th scope=col>normal.f2</th><th scope=col>cohort.f2</th></tr></thead>\n",
       "<tbody>\n",
       "\t<tr><th scope=row>1</th><td>EB026</td><td>B</td><td>7e-05</td><td>0.000740424</td><td>4/3/09</td></tr>\n",
       "\t<tr><th scope=row>2</th><td>EB211</td><td>B</td><td>0.00012</td><td>0.001157392</td><td>4/3/09</td></tr>\n",
       "\t<tr><th scope=row>3</th><td>EB030</td><td>B</td><td>0.00014</td><td>0.001380945</td><td>4/3/09</td></tr>\n",
       "\t<tr><th scope=row>4</th><td>EB034</td><td>B</td><td>0.00022</td><td>0.002208735</td><td>4/3/09</td></tr>\n",
       "\t<tr><th scope=row>5</th><td>EB319</td><td>B</td><td>0.00091</td><td>0.009084916</td><td>4/3/09</td></tr>\n",
       "\t<tr><th scope=row>6</th><td>EB189</td><td>B</td><td>0.00213</td><td>0.001081516</td><td>4/15/09</td></tr>\n",
       "\t<tr><th scope=row>7</th><td>EB237</td><td>B</td><td>0.0031</td><td>0.001573233</td><td>4/15/09</td></tr>\n",
       "\t<tr><th scope=row>8</th><td>EB279</td><td>B</td><td>0.00349</td><td>0.001772814</td><td>4/15/09</td></tr>\n",
       "\t<tr><th scope=row>9</th><td>EB222</td><td>B</td><td>0.00372</td><td>0.001890922</td><td>4/15/09</td></tr>\n",
       "\t<tr><th scope=row>10</th><td>EB342</td><td>B</td><td>0.00214</td><td>0.001334754</td><td>4/16/09</td></tr>\n",
       "\t<tr><th scope=row>11</th><td>EB299</td><td>B</td><td>0.00217</td><td>0.001349456</td><td>4/16/09</td></tr>\n",
       "\t<tr><th scope=row>12</th><td>EB336</td><td>B</td><td>0.00271</td><td>0.001686254</td><td>4/16/09</td></tr>\n",
       "\t<tr><th scope=row>13</th><td>EB326</td><td>B</td><td>0.00289</td><td>0.001800217</td><td>4/16/09</td></tr>\n",
       "\t<tr><th scope=row>14</th><td>EB319</td><td>B</td><td>0.00327</td><td>0.002037232</td><td>4/16/09</td></tr>\n",
       "\t<tr><th scope=row>15</th><td>EB338</td><td>B</td><td>0.00335</td><td>0.002086975</td><td>4/16/09</td></tr>\n",
       "\t<tr><th scope=row>16</th><td>EB362</td><td>B</td><td>0.00657</td><td>0.004091404</td><td>4/16/09</td></tr>\n",
       "\t<tr><th scope=row>17</th><td>EB321</td><td>B</td><td>0.00776</td><td>0.004834029</td><td>4/16/09</td></tr>\n",
       "\t<tr><th scope=row>18</th><td>EB323</td><td>B</td><td>0.01112</td><td>0.006926883</td><td>4/16/09</td></tr>\n",
       "\t<tr><th scope=row>19</th><td>EB032</td><td>C</td><td>0.00037</td><td>0.00369398</td><td>4/3/09</td></tr>\n",
       "\t<tr><th scope=row>20</th><td>EB346</td><td>C</td><td>0.00055</td><td>0.00547956</td><td>4/3/09</td></tr>\n",
       "\t<tr><th scope=row>21</th><td>EB217</td><td>C</td><td>0.00063</td><td>0.006311733</td><td>4/3/09</td></tr>\n",
       "\t<tr><th scope=row>22</th><td>EB297</td><td>C</td><td>0.00445</td><td>0.002261018</td><td>4/15/09</td></tr>\n",
       "\t<tr><th scope=row>23</th><td>EB266</td><td>C</td><td>0.00558</td><td>0.00283316</td><td>4/15/09</td></tr>\n",
       "\t<tr><th scope=row>24</th><td>EB265</td><td>C</td><td>0.00596</td><td>0.003029921</td><td>4/15/09</td></tr>\n",
       "\t<tr><th scope=row>25</th><td>EB241</td><td>C</td><td>0.00627</td><td>0.003188702</td><td>4/15/09</td></tr>\n",
       "\t<tr><th scope=row>26</th><td>EB278</td><td>C</td><td>0.00891</td><td>0.00453021</td><td>4/15/09</td></tr>\n",
       "\t<tr><th scope=row>27</th><td>EB225</td><td>C</td><td>0.01061</td><td>0.005392136</td><td>4/15/09</td></tr>\n",
       "\t<tr><th scope=row>28</th><td>EB294</td><td>C</td><td>0.01089</td><td>0.005533425</td><td>4/15/09</td></tr>\n",
       "\t<tr><th scope=row>29</th><td>EB305</td><td>C</td><td>0.01459</td><td>0.009084457</td><td>4/16/09</td></tr>\n",
       "\t<tr><th scope=row>30</th><td>EB340</td><td>C</td><td>0.03784</td><td>0.02356012</td><td>4/16/09</td></tr>\n",
       "\t<tr><th scope=row>31</th><td>EB216</td><td>H</td><td>0.00022</td><td>0.002160174</td><td>4/3/09</td></tr>\n",
       "</tbody>\n",
       "</table>\n"
      ],
      "text/latex": [
       "\\begin{tabular}{r|lllll}\n",
       "  & id.f2 & nxf1.f2 & raw.f2 & normal.f2 & cohort.f2\\\\\n",
       "\\hline\n",
       "\t1 & EB026 & B & 7e-05 & 0.000740424 & 4/3/09\\\\\n",
       "\t2 & EB211 & B & 0.00012 & 0.001157392 & 4/3/09\\\\\n",
       "\t3 & EB030 & B & 0.00014 & 0.001380945 & 4/3/09\\\\\n",
       "\t4 & EB034 & B & 0.00022 & 0.002208735 & 4/3/09\\\\\n",
       "\t5 & EB319 & B & 0.00091 & 0.009084916 & 4/3/09\\\\\n",
       "\t6 & EB189 & B & 0.00213 & 0.001081516 & 4/15/09\\\\\n",
       "\t7 & EB237 & B & 0.0031 & 0.001573233 & 4/15/09\\\\\n",
       "\t8 & EB279 & B & 0.00349 & 0.001772814 & 4/15/09\\\\\n",
       "\t9 & EB222 & B & 0.00372 & 0.001890922 & 4/15/09\\\\\n",
       "\t10 & EB342 & B & 0.00214 & 0.001334754 & 4/16/09\\\\\n",
       "\t11 & EB299 & B & 0.00217 & 0.001349456 & 4/16/09\\\\\n",
       "\t12 & EB336 & B & 0.00271 & 0.001686254 & 4/16/09\\\\\n",
       "\t13 & EB326 & B & 0.00289 & 0.001800217 & 4/16/09\\\\\n",
       "\t14 & EB319 & B & 0.00327 & 0.002037232 & 4/16/09\\\\\n",
       "\t15 & EB338 & B & 0.00335 & 0.002086975 & 4/16/09\\\\\n",
       "\t16 & EB362 & B & 0.00657 & 0.004091404 & 4/16/09\\\\\n",
       "\t17 & EB321 & B & 0.00776 & 0.004834029 & 4/16/09\\\\\n",
       "\t18 & EB323 & B & 0.01112 & 0.006926883 & 4/16/09\\\\\n",
       "\t19 & EB032 & C & 0.00037 & 0.00369398 & 4/3/09\\\\\n",
       "\t20 & EB346 & C & 0.00055 & 0.00547956 & 4/3/09\\\\\n",
       "\t21 & EB217 & C & 0.00063 & 0.006311733 & 4/3/09\\\\\n",
       "\t22 & EB297 & C & 0.00445 & 0.002261018 & 4/15/09\\\\\n",
       "\t23 & EB266 & C & 0.00558 & 0.00283316 & 4/15/09\\\\\n",
       "\t24 & EB265 & C & 0.00596 & 0.003029921 & 4/15/09\\\\\n",
       "\t25 & EB241 & C & 0.00627 & 0.003188702 & 4/15/09\\\\\n",
       "\t26 & EB278 & C & 0.00891 & 0.00453021 & 4/15/09\\\\\n",
       "\t27 & EB225 & C & 0.01061 & 0.005392136 & 4/15/09\\\\\n",
       "\t28 & EB294 & C & 0.01089 & 0.005533425 & 4/15/09\\\\\n",
       "\t29 & EB305 & C & 0.01459 & 0.009084457 & 4/16/09\\\\\n",
       "\t30 & EB340 & C & 0.03784 & 0.02356012 & 4/16/09\\\\\n",
       "\t31 & EB216 & H & 0.00022 & 0.002160174 & 4/3/09\\\\\n",
       "\\end{tabular}\n"
      ],
      "text/plain": [
       "   id.f2 nxf1.f2  raw.f2   normal.f2 cohort.f2\n",
       "1  EB026       B 0.00007 0.000740424    4/3/09\n",
       "2  EB211       B 0.00012 0.001157392    4/3/09\n",
       "3  EB030       B 0.00014 0.001380945    4/3/09\n",
       "4  EB034       B 0.00022 0.002208735    4/3/09\n",
       "5  EB319       B 0.00091 0.009084916    4/3/09\n",
       "6  EB189       B 0.00213 0.001081516   4/15/09\n",
       "7  EB237       B 0.00310 0.001573233   4/15/09\n",
       "8  EB279       B 0.00349 0.001772814   4/15/09\n",
       "9  EB222       B 0.00372 0.001890922   4/15/09\n",
       "10 EB342       B 0.00214 0.001334754   4/16/09\n",
       "11 EB299       B 0.00217 0.001349456   4/16/09\n",
       "12 EB336       B 0.00271 0.001686254   4/16/09\n",
       "13 EB326       B 0.00289 0.001800217   4/16/09\n",
       "14 EB319       B 0.00327 0.002037232   4/16/09\n",
       "15 EB338       B 0.00335 0.002086975   4/16/09\n",
       "16 EB362       B 0.00657 0.004091404   4/16/09\n",
       "17 EB321       B 0.00776 0.004834029   4/16/09\n",
       "18 EB323       B 0.01112 0.006926883   4/16/09\n",
       "19 EB032       C 0.00037 0.003693980    4/3/09\n",
       "20 EB346       C 0.00055 0.005479560    4/3/09\n",
       "21 EB217       C 0.00063 0.006311733    4/3/09\n",
       "22 EB297       C 0.00445 0.002261018   4/15/09\n",
       "23 EB266       C 0.00558 0.002833160   4/15/09\n",
       "24 EB265       C 0.00596 0.003029921   4/15/09\n",
       "25 EB241       C 0.00627 0.003188702   4/15/09\n",
       "26 EB278       C 0.00891 0.004530210   4/15/09\n",
       "27 EB225       C 0.01061 0.005392136   4/15/09\n",
       "28 EB294       C 0.01089 0.005533425   4/15/09\n",
       "29 EB305       C 0.01459 0.009084457   4/16/09\n",
       "30 EB340       C 0.03784 0.023560116   4/16/09\n",
       "31 EB216       H 0.00022 0.002160174    4/3/09"
      ]
     },
     "execution_count": 35,
     "metadata": {},
     "output_type": "execute_result"
    },
    {
     "name": "stderr",
     "output_type": "stream",
     "text": [
      "The following objects are masked from F2 (pos = 4):\n",
      "\n",
      "    cohort.f2, id.f2, normal.f2, nxf1.f2, raw.f2\n",
      "\n",
      "The following objects are masked from F2 (pos = 5):\n",
      "\n",
      "    cohort.f2, id.f2, normal.f2, nxf1.f2, raw.f2\n",
      "\n",
      "The following objects are masked from F2 (pos = 6):\n",
      "\n",
      "    cohort.f2, id.f2, normal.f2, nxf1.f2, raw.f2\n",
      "\n",
      "The following objects are masked from F2 (pos = 7):\n",
      "\n",
      "    cohort.f2, id.f2, normal.f2, nxf1.f2, raw.f2\n",
      "\n"
     ]
    }
   ],
   "source": [
    "setwd(\"/home/ucsd-train05/biom262-2016/weeks/week03/R_files\")\n",
    "F2 <- read.table(\"adamts_balbF2.txt\", header=T)\n",
    "F2\n",
    "attach(F2)"
   ]
  },
  {
   "cell_type": "code",
   "execution_count": 34,
   "metadata": {
    "collapsed": false
   },
   "outputs": [
    {
     "data": {
      "image/png": "[encoded data removed]",
      "image/svg+xml": [
       "<?xml version=\"1.0\" encoding=\"UTF-8\"?>\n",
       "<svg xmlns=\"http://www.w3.org/2000/svg\" xmlns:xlink=\"http://www.w3.org/1999/xlink\" width=\"504pt\" height=\"504pt\" viewBox=\"0 0 504 504\" version=\"1.1\">\n",
       "<defs>\n",
       "<g>\n",
       "<symbol overflow=\"visible\" id=\"glyph0-0\">\n",
       "<path style=\"stroke:none;\" d=\"\"/>\n",
       "</symbol>\n",
       "<symbol overflow=\"visible\" id=\"glyph0-1\">\n",
       "<path style=\"stroke:none;\" d=\"M 3.109375 -6.0625 L 3.109375 0 L 4.15625 0 L 4.15625 -8.515625 L 3.46875 -8.515625 C 3.09375 -7.203125 2.859375 -7.015625 1.21875 -6.8125 L 1.21875 -6.0625 Z \"/>\n",
       "</symbol>\n",
       "<symbol overflow=\"visible\" id=\"glyph0-2\">\n",
       "<path style=\"stroke:none;\" d=\"M 6.078125 -1.046875 L 1.59375 -1.046875 C 1.703125 -1.734375 2.09375 -2.1875 3.125 -2.796875 L 4.328125 -3.4375 C 5.515625 -4.09375 6.125 -4.96875 6.125 -6.015625 C 6.125 -6.71875 5.84375 -7.375 5.34375 -7.84375 C 4.84375 -8.296875 4.21875 -8.515625 3.40625 -8.515625 C 2.328125 -8.515625 1.53125 -8.125 1.0625 -7.40625 C 0.75 -6.953125 0.625 -6.421875 0.59375 -5.5625 L 1.65625 -5.5625 C 1.6875 -6.125 1.765625 -6.484375 1.90625 -6.75 C 2.1875 -7.265625 2.734375 -7.578125 3.375 -7.578125 C 4.328125 -7.578125 5.046875 -6.90625 5.046875 -5.984375 C 5.046875 -5.3125 4.65625 -4.734375 3.90625 -4.3125 L 2.796875 -3.6875 C 1.015625 -2.671875 0.5 -1.875 0.40625 0 L 6.078125 0 Z \"/>\n",
       "</symbol>\n",
       "<symbol overflow=\"visible\" id=\"glyph0-3\">\n",
       "<path style=\"stroke:none;\" d=\"M 2.65625 -3.90625 L 3.234375 -3.90625 C 4.390625 -3.90625 4.984375 -3.390625 4.984375 -2.359375 C 4.984375 -1.296875 4.328125 -0.65625 3.234375 -0.65625 C 2.078125 -0.65625 1.515625 -1.234375 1.4375 -2.46875 L 0.390625 -2.46875 C 0.4375 -1.78125 0.546875 -1.34375 0.75 -0.953125 C 1.1875 -0.140625 2.03125 0.28125 3.1875 0.28125 C 4.9375 0.28125 6.078125 -0.765625 6.078125 -2.375 C 6.078125 -3.453125 5.65625 -4.0625 4.625 -4.40625 C 5.421875 -4.71875 5.8125 -5.3125 5.8125 -6.171875 C 5.8125 -7.625 4.84375 -8.515625 3.234375 -8.515625 C 1.515625 -8.515625 0.59375 -7.578125 0.5625 -5.765625 L 1.625 -5.765625 C 1.625 -6.28125 1.6875 -6.5625 1.8125 -6.828125 C 2.046875 -7.296875 2.578125 -7.578125 3.234375 -7.578125 C 4.171875 -7.578125 4.734375 -7.03125 4.734375 -6.125 C 4.734375 -5.53125 4.53125 -5.171875 4.0625 -4.984375 C 3.765625 -4.859375 3.390625 -4.8125 2.65625 -4.796875 Z \"/>\n",
       "</symbol>\n",
       "<symbol overflow=\"visible\" id=\"glyph1-0\">\n",
       "<path style=\"stroke:none;\" d=\"\"/>\n",
       "</symbol>\n",
       "<symbol overflow=\"visible\" id=\"glyph1-1\">\n",
       "<path style=\"stroke:none;\" d=\"M -8.515625 -3.296875 C -8.515625 -2.515625 -8.15625 -1.78125 -7.578125 -1.34375 C -6.828125 -0.796875 -5.6875 -0.515625 -4.109375 -0.515625 C -1.25 -0.515625 0.28125 -1.46875 0.28125 -3.296875 C 0.28125 -5.09375 -1.25 -6.078125 -4.046875 -6.078125 C -5.703125 -6.078125 -6.796875 -5.8125 -7.578125 -5.25 C -8.171875 -4.8125 -8.515625 -4.109375 -8.515625 -3.296875 Z M -7.578125 -3.296875 C -7.578125 -4.4375 -6.421875 -5 -4.140625 -5 C -1.734375 -5 -0.59375 -4.453125 -0.59375 -3.28125 C -0.59375 -2.15625 -1.78125 -1.59375 -4.109375 -1.59375 C -6.4375 -1.59375 -7.578125 -2.15625 -7.578125 -3.296875 Z \"/>\n",
       "</symbol>\n",
       "<symbol overflow=\"visible\" id=\"glyph1-2\">\n",
       "<path style=\"stroke:none;\" d=\"M -1.25 -2.296875 L -1.25 -1.046875 L 0 -1.046875 L 0 -2.296875 Z \"/>\n",
       "</symbol>\n",
       "<symbol overflow=\"visible\" id=\"glyph1-3\">\n",
       "<path style=\"stroke:none;\" d=\"M -8.515625 -5.71875 L -8.515625 -1.3125 L -3.875 -0.6875 L -3.875 -1.65625 C -4.46875 -2.140625 -4.671875 -2.5625 -4.671875 -3.21875 C -4.671875 -4.359375 -3.890625 -5.078125 -2.625 -5.078125 C -1.40625 -5.078125 -0.65625 -4.375 -0.65625 -3.21875 C -0.65625 -2.296875 -1.125 -1.734375 -2.09375 -1.46875 L -2.09375 -0.421875 C -1.390625 -0.5625 -1.0625 -0.6875 -0.75 -0.9375 C -0.09375 -1.421875 0.28125 -2.28125 0.28125 -3.234375 C 0.28125 -4.953125 -0.96875 -6.15625 -2.765625 -6.15625 C -4.453125 -6.15625 -5.609375 -5.046875 -5.609375 -3.40625 C -5.609375 -2.8125 -5.453125 -2.328125 -5.09375 -1.84375 L -7.46875 -2.171875 L -7.46875 -5.71875 Z \"/>\n",
       "</symbol>\n",
       "<symbol overflow=\"visible\" id=\"glyph1-4\">\n",
       "<path style=\"stroke:none;\" d=\"M -6.0625 -3.109375 L 0 -3.109375 L 0 -4.15625 L -8.515625 -4.15625 L -8.515625 -3.46875 C -7.203125 -3.09375 -7.015625 -2.859375 -6.8125 -1.21875 L -6.0625 -1.21875 Z \"/>\n",
       "</symbol>\n",
       "<symbol overflow=\"visible\" id=\"glyph1-5\">\n",
       "<path style=\"stroke:none;\" d=\"M -1.046875 -6.078125 L -1.046875 -1.59375 C -1.734375 -1.703125 -2.1875 -2.09375 -2.796875 -3.125 L -3.4375 -4.328125 C -4.09375 -5.515625 -4.96875 -6.125 -6.015625 -6.125 C -6.71875 -6.125 -7.375 -5.84375 -7.84375 -5.34375 C -8.296875 -4.84375 -8.515625 -4.21875 -8.515625 -3.40625 C -8.515625 -2.328125 -8.125 -1.53125 -7.40625 -1.0625 C -6.953125 -0.75 -6.421875 -0.625 -5.5625 -0.59375 L -5.5625 -1.65625 C -6.125 -1.6875 -6.484375 -1.765625 -6.75 -1.90625 C -7.265625 -2.1875 -7.578125 -2.734375 -7.578125 -3.375 C -7.578125 -4.328125 -6.90625 -5.046875 -5.984375 -5.046875 C -5.3125 -5.046875 -4.734375 -4.65625 -4.3125 -3.90625 L -3.6875 -2.796875 C -2.671875 -1.015625 -1.875 -0.5 0 -0.40625 L 0 -6.078125 Z \"/>\n",
       "</symbol>\n",
       "</g>\n",
       "</defs>\n",
       "<g id=\"surface141\">\n",
       "<rect x=\"0\" y=\"0\" width=\"504\" height=\"504\" style=\"fill:rgb(100%,100%,100%);fill-opacity:1;stroke:none;\"/>\n",
       "<path style=\"fill:none;stroke-width:2.25;stroke-linecap:butt;stroke-linejoin:round;stroke:rgb(0%,0%,0%);stroke-opacity:1;stroke-miterlimit:10;\" d=\"M 87.199219 401.03125 L 189.601562 401.03125 \"/>\n",
       "<path style=\"fill:none;stroke-width:0.75;stroke-linecap:round;stroke-linejoin:round;stroke:rgb(0%,0%,0%);stroke-opacity:1;stroke-dasharray:3,3;stroke-miterlimit:10;\" d=\"M 138.398438 416.800781 L 138.398438 407.617188 \"/>\n",
       "<path style=\"fill:none;stroke-width:0.75;stroke-linecap:round;stroke-linejoin:round;stroke:rgb(0%,0%,0%);stroke-opacity:1;stroke-dasharray:3,3;stroke-miterlimit:10;\" d=\"M 138.398438 394.664062 L 138.398438 394.664062 \"/>\n",
       "<path style=\"fill:none;stroke-width:0.75;stroke-linecap:round;stroke-linejoin:round;stroke:rgb(0%,0%,0%);stroke-opacity:1;stroke-miterlimit:10;\" d=\"M 112.800781 416.800781 L 164 416.800781 \"/>\n",
       "<path style=\"fill:none;stroke-width:0.75;stroke-linecap:round;stroke-linejoin:round;stroke:rgb(0%,0%,0%);stroke-opacity:1;stroke-miterlimit:10;\" d=\"M 112.800781 394.664062 L 164 394.664062 \"/>\n",
       "<path style=\"fill:none;stroke-width:0.75;stroke-linecap:round;stroke-linejoin:round;stroke:rgb(0%,0%,0%);stroke-opacity:1;stroke-miterlimit:10;\" d=\"M 87.199219 407.617188 L 189.601562 407.617188 L 189.601562 394.664062 L 87.199219 394.664062 L 87.199219 407.617188 \"/>\n",
       "<path style=\"fill:none;stroke-width:0.75;stroke-linecap:round;stroke-linejoin:round;stroke:rgb(0%,0%,0%);stroke-opacity:1;stroke-miterlimit:10;\" d=\"M 141.101562 291.007812 C 141.101562 294.609375 135.699219 294.609375 135.699219 291.007812 C 135.699219 287.410156 141.101562 287.410156 141.101562 291.007812 \"/>\n",
       "<path style=\"fill:none;stroke-width:0.75;stroke-linecap:round;stroke-linejoin:round;stroke:rgb(0%,0%,0%);stroke-opacity:1;stroke-miterlimit:10;\" d=\"M 141.101562 366.285156 C 141.101562 369.886719 135.699219 369.886719 135.699219 366.285156 C 135.699219 362.683594 141.101562 362.683594 141.101562 366.285156 \"/>\n",
       "<path style=\"fill:none;stroke-width:0.75;stroke-linecap:round;stroke-linejoin:round;stroke:rgb(0%,0%,0%);stroke-opacity:1;stroke-miterlimit:10;\" d=\"M 141.101562 355.089844 C 141.101562 358.691406 135.699219 358.691406 135.699219 355.089844 C 135.699219 351.488281 141.101562 351.488281 141.101562 355.089844 \"/>\n",
       "<path style=\"fill:none;stroke-width:0.75;stroke-linecap:round;stroke-linejoin:round;stroke:rgb(0%,0%,0%);stroke-opacity:1;stroke-miterlimit:10;\" d=\"M 141.101562 323.539062 C 141.101562 327.140625 135.699219 327.140625 135.699219 323.539062 C 135.699219 319.941406 141.101562 319.941406 141.101562 323.539062 \"/>\n",
       "<path style=\"fill:none;stroke-width:2.25;stroke-linecap:butt;stroke-linejoin:round;stroke:rgb(0%,0%,0%);stroke-opacity:1;stroke-miterlimit:10;\" d=\"M 215.199219 353.171875 L 317.601562 353.171875 \"/>\n",
       "<path style=\"fill:none;stroke-width:0.75;stroke-linecap:round;stroke-linejoin:round;stroke:rgb(0%,0%,0%);stroke-opacity:1;stroke-dasharray:3,3;stroke-miterlimit:10;\" d=\"M 266.398438 393.878906 L 266.398438 381.089844 \"/>\n",
       "<path style=\"fill:none;stroke-width:0.75;stroke-linecap:round;stroke-linejoin:round;stroke:rgb(0%,0%,0%);stroke-opacity:1;stroke-dasharray:3,3;stroke-miterlimit:10;\" d=\"M 266.398438 291.015625 L 266.398438 338.679688 \"/>\n",
       "<path style=\"fill:none;stroke-width:0.75;stroke-linecap:round;stroke-linejoin:round;stroke:rgb(0%,0%,0%);stroke-opacity:1;stroke-miterlimit:10;\" d=\"M 240.800781 393.878906 L 292 393.878906 \"/>\n",
       "<path style=\"fill:none;stroke-width:0.75;stroke-linecap:round;stroke-linejoin:round;stroke:rgb(0%,0%,0%);stroke-opacity:1;stroke-miterlimit:10;\" d=\"M 240.800781 291.015625 L 292 291.015625 \"/>\n",
       "<path style=\"fill:none;stroke-width:0.75;stroke-linecap:round;stroke-linejoin:round;stroke:rgb(0%,0%,0%);stroke-opacity:1;stroke-miterlimit:10;\" d=\"M 215.199219 381.089844 L 317.601562 381.089844 L 317.601562 338.679688 L 215.199219 338.679688 L 215.199219 381.089844 \"/>\n",
       "<path style=\"fill:none;stroke-width:0.75;stroke-linecap:round;stroke-linejoin:round;stroke:rgb(0%,0%,0%);stroke-opacity:1;stroke-miterlimit:10;\" d=\"M 269.101562 72.800781 C 269.101562 76.398438 263.699219 76.398438 263.699219 72.800781 C 263.699219 69.199219 269.101562 69.199219 269.101562 72.800781 \"/>\n",
       "<path style=\"fill:none;stroke-width:2.25;stroke-linecap:butt;stroke-linejoin:round;stroke:rgb(0%,0%,0%);stroke-opacity:1;stroke-miterlimit:10;\" d=\"M 343.199219 395.398438 L 445.601562 395.398438 \"/>\n",
       "<path style=\"fill:none;stroke-width:0.75;stroke-linecap:round;stroke-linejoin:round;stroke:rgb(0%,0%,0%);stroke-opacity:1;stroke-dasharray:3,3;stroke-miterlimit:10;\" d=\"M 394.398438 395.398438 L 394.398438 395.398438 \"/>\n",
       "<path style=\"fill:none;stroke-width:0.75;stroke-linecap:round;stroke-linejoin:round;stroke:rgb(0%,0%,0%);stroke-opacity:1;stroke-dasharray:3,3;stroke-miterlimit:10;\" d=\"M 394.398438 395.398438 L 394.398438 395.398438 \"/>\n",
       "<path style=\"fill:none;stroke-width:0.75;stroke-linecap:round;stroke-linejoin:round;stroke:rgb(0%,0%,0%);stroke-opacity:1;stroke-miterlimit:10;\" d=\"M 368.800781 395.398438 L 420 395.398438 \"/>\n",
       "<path style=\"fill:none;stroke-width:0.75;stroke-linecap:round;stroke-linejoin:round;stroke:rgb(0%,0%,0%);stroke-opacity:1;stroke-miterlimit:10;\" d=\"M 368.800781 395.398438 L 420 395.398438 \"/>\n",
       "<path style=\"fill:none;stroke-width:0.75;stroke-linecap:round;stroke-linejoin:round;stroke:rgb(0%,0%,0%);stroke-opacity:1;stroke-miterlimit:10;\" d=\"M 343.199219 395.398438 L 445.601562 395.398438 L 343.199219 395.398438 \"/>\n",
       "<path style=\"fill:none;stroke-width:0.75;stroke-linecap:round;stroke-linejoin:round;stroke:rgb(0%,0%,0%);stroke-opacity:1;stroke-miterlimit:10;\" d=\"M 138.398438 430.558594 L 394.398438 430.558594 \"/>\n",
       "<path style=\"fill:none;stroke-width:0.75;stroke-linecap:round;stroke-linejoin:round;stroke:rgb(0%,0%,0%);stroke-opacity:1;stroke-miterlimit:10;\" d=\"M 138.398438 430.558594 L 138.398438 437.761719 \"/>\n",
       "<path style=\"fill:none;stroke-width:0.75;stroke-linecap:round;stroke-linejoin:round;stroke:rgb(0%,0%,0%);stroke-opacity:1;stroke-miterlimit:10;\" d=\"M 266.398438 430.558594 L 266.398438 437.761719 \"/>\n",
       "<path style=\"fill:none;stroke-width:0.75;stroke-linecap:round;stroke-linejoin:round;stroke:rgb(0%,0%,0%);stroke-opacity:1;stroke-miterlimit:10;\" d=\"M 394.398438 430.558594 L 394.398438 437.761719 \"/>\n",
       "<g style=\"fill:rgb(0%,0%,0%);fill-opacity:1;\">\n",
       "  <use xlink:href=\"#glyph0-1\" x=\"134.898438\" y=\"455.916016\"/>\n",
       "</g>\n",
       "<g style=\"fill:rgb(0%,0%,0%);fill-opacity:1;\">\n",
       "  <use xlink:href=\"#glyph0-2\" x=\"262.898438\" y=\"455.916016\"/>\n",
       "</g>\n",
       "<g style=\"fill:rgb(0%,0%,0%);fill-opacity:1;\">\n",
       "  <use xlink:href=\"#glyph0-3\" x=\"390.898438\" y=\"455.916016\"/>\n",
       "</g>\n",
       "<path style=\"fill:none;stroke-width:0.75;stroke-linecap:round;stroke-linejoin:round;stroke:rgb(0%,0%,0%);stroke-opacity:1;stroke-miterlimit:10;\" d=\"M 59.039062 427.960938 L 59.039062 126.46875 \"/>\n",
       "<path style=\"fill:none;stroke-width:0.75;stroke-linecap:round;stroke-linejoin:round;stroke:rgb(0%,0%,0%);stroke-opacity:1;stroke-miterlimit:10;\" d=\"M 59.039062 427.960938 L 51.839844 427.960938 \"/>\n",
       "<path style=\"fill:none;stroke-width:0.75;stroke-linecap:round;stroke-linejoin:round;stroke:rgb(0%,0%,0%);stroke-opacity:1;stroke-miterlimit:10;\" d=\"M 59.039062 352.589844 L 51.839844 352.589844 \"/>\n",
       "<path style=\"fill:none;stroke-width:0.75;stroke-linecap:round;stroke-linejoin:round;stroke:rgb(0%,0%,0%);stroke-opacity:1;stroke-miterlimit:10;\" d=\"M 59.039062 277.214844 L 51.839844 277.214844 \"/>\n",
       "<path style=\"fill:none;stroke-width:0.75;stroke-linecap:round;stroke-linejoin:round;stroke:rgb(0%,0%,0%);stroke-opacity:1;stroke-miterlimit:10;\" d=\"M 59.039062 201.839844 L 51.839844 201.839844 \"/>\n",
       "<path style=\"fill:none;stroke-width:0.75;stroke-linecap:round;stroke-linejoin:round;stroke:rgb(0%,0%,0%);stroke-opacity:1;stroke-miterlimit:10;\" d=\"M 59.039062 126.46875 L 51.839844 126.46875 \"/>\n",
       "<g style=\"fill:rgb(0%,0%,0%);fill-opacity:1;\">\n",
       "  <use xlink:href=\"#glyph1-1\" x=\"41.197266\" y=\"443.460938\"/>\n",
       "  <use xlink:href=\"#glyph1-2\" x=\"41.197266\" y=\"436.789062\"/>\n",
       "  <use xlink:href=\"#glyph1-1\" x=\"41.197266\" y=\"433.453125\"/>\n",
       "  <use xlink:href=\"#glyph1-1\" x=\"41.197266\" y=\"426.78125\"/>\n",
       "  <use xlink:href=\"#glyph1-1\" x=\"41.197266\" y=\"420.109375\"/>\n",
       "</g>\n",
       "<g style=\"fill:rgb(0%,0%,0%);fill-opacity:1;\">\n",
       "  <use xlink:href=\"#glyph1-1\" x=\"41.197266\" y=\"368.089844\"/>\n",
       "  <use xlink:href=\"#glyph1-2\" x=\"41.197266\" y=\"361.417969\"/>\n",
       "  <use xlink:href=\"#glyph1-1\" x=\"41.197266\" y=\"358.082031\"/>\n",
       "  <use xlink:href=\"#glyph1-1\" x=\"41.197266\" y=\"351.410156\"/>\n",
       "  <use xlink:href=\"#glyph1-3\" x=\"41.197266\" y=\"344.738281\"/>\n",
       "</g>\n",
       "<g style=\"fill:rgb(0%,0%,0%);fill-opacity:1;\">\n",
       "  <use xlink:href=\"#glyph1-1\" x=\"41.197266\" y=\"292.714844\"/>\n",
       "  <use xlink:href=\"#glyph1-2\" x=\"41.197266\" y=\"286.042969\"/>\n",
       "  <use xlink:href=\"#glyph1-1\" x=\"41.197266\" y=\"282.707031\"/>\n",
       "  <use xlink:href=\"#glyph1-4\" x=\"41.197266\" y=\"276.035156\"/>\n",
       "  <use xlink:href=\"#glyph1-1\" x=\"41.197266\" y=\"269.363281\"/>\n",
       "</g>\n",
       "<g style=\"fill:rgb(0%,0%,0%);fill-opacity:1;\">\n",
       "  <use xlink:href=\"#glyph1-1\" x=\"41.197266\" y=\"217.339844\"/>\n",
       "  <use xlink:href=\"#glyph1-2\" x=\"41.197266\" y=\"210.667969\"/>\n",
       "  <use xlink:href=\"#glyph1-1\" x=\"41.197266\" y=\"207.332031\"/>\n",
       "  <use xlink:href=\"#glyph1-4\" x=\"41.197266\" y=\"200.660156\"/>\n",
       "  <use xlink:href=\"#glyph1-3\" x=\"41.197266\" y=\"193.988281\"/>\n",
       "</g>\n",
       "<g style=\"fill:rgb(0%,0%,0%);fill-opacity:1;\">\n",
       "  <use xlink:href=\"#glyph1-1\" x=\"41.197266\" y=\"141.96875\"/>\n",
       "  <use xlink:href=\"#glyph1-2\" x=\"41.197266\" y=\"135.296875\"/>\n",
       "  <use xlink:href=\"#glyph1-1\" x=\"41.197266\" y=\"131.960938\"/>\n",
       "  <use xlink:href=\"#glyph1-5\" x=\"41.197266\" y=\"125.289062\"/>\n",
       "  <use xlink:href=\"#glyph1-1\" x=\"41.197266\" y=\"118.617188\"/>\n",
       "</g>\n",
       "<path style=\"fill:none;stroke-width:0.75;stroke-linecap:round;stroke-linejoin:round;stroke:rgb(0%,0%,0%);stroke-opacity:1;stroke-miterlimit:10;\" d=\"M 59.039062 430.558594 L 473.761719 430.558594 L 473.761719 59.039062 L 59.039062 59.039062 L 59.039062 430.558594 \"/>\n",
       "<path style=\"fill:none;stroke-width:0.75;stroke-linecap:round;stroke-linejoin:round;stroke:rgb(41.568627%,35.294118%,80.392157%);stroke-opacity:1;stroke-miterlimit:10;\" d=\"M 141.101562 416.800781 C 141.101562 420.398438 135.699219 420.398438 135.699219 416.800781 C 135.699219 413.199219 141.101562 413.199219 141.101562 416.800781 \"/>\n",
       "<path style=\"fill:none;stroke-width:0.75;stroke-linecap:round;stroke-linejoin:round;stroke:rgb(41.568627%,35.294118%,80.392157%);stroke-opacity:1;stroke-miterlimit:10;\" d=\"M 141.101562 410.515625 C 141.101562 414.113281 135.699219 414.113281 135.699219 410.515625 C 135.699219 406.914062 141.101562 406.914062 141.101562 410.515625 \"/>\n",
       "<path style=\"fill:none;stroke-width:0.75;stroke-linecap:round;stroke-linejoin:round;stroke:rgb(41.568627%,35.294118%,80.392157%);stroke-opacity:1;stroke-miterlimit:10;\" d=\"M 141.101562 407.144531 C 141.101562 410.746094 135.699219 410.746094 135.699219 407.144531 C 135.699219 403.542969 141.101562 403.542969 141.101562 407.144531 \"/>\n",
       "<path style=\"fill:none;stroke-width:0.75;stroke-linecap:round;stroke-linejoin:round;stroke:rgb(41.568627%,35.294118%,80.392157%);stroke-opacity:1;stroke-miterlimit:10;\" d=\"M 141.101562 394.664062 C 141.101562 398.265625 135.699219 398.265625 135.699219 394.664062 C 135.699219 391.066406 141.101562 391.066406 141.101562 394.664062 \"/>\n",
       "<path style=\"fill:none;stroke-width:0.75;stroke-linecap:round;stroke-linejoin:round;stroke:rgb(41.568627%,35.294118%,80.392157%);stroke-opacity:1;stroke-miterlimit:10;\" d=\"M 141.101562 291.007812 C 141.101562 294.609375 135.699219 294.609375 135.699219 291.007812 C 135.699219 287.410156 141.101562 287.410156 141.101562 291.007812 \"/>\n",
       "<path style=\"fill:none;stroke-width:0.75;stroke-linecap:round;stroke-linejoin:round;stroke:rgb(41.568627%,35.294118%,80.392157%);stroke-opacity:1;stroke-miterlimit:10;\" d=\"M 141.101562 411.65625 C 141.101562 415.257812 135.699219 415.257812 135.699219 411.65625 C 135.699219 408.058594 141.101562 408.058594 141.101562 411.65625 \"/>\n",
       "<path style=\"fill:none;stroke-width:0.75;stroke-linecap:round;stroke-linejoin:round;stroke:rgb(41.568627%,35.294118%,80.392157%);stroke-opacity:1;stroke-miterlimit:10;\" d=\"M 141.101562 404.246094 C 141.101562 407.84375 135.699219 407.84375 135.699219 404.246094 C 135.699219 400.644531 141.101562 400.644531 141.101562 404.246094 \"/>\n",
       "<path style=\"fill:none;stroke-width:0.75;stroke-linecap:round;stroke-linejoin:round;stroke:rgb(41.568627%,35.294118%,80.392157%);stroke-opacity:1;stroke-miterlimit:10;\" d=\"M 141.101562 401.238281 C 141.101562 404.835938 135.699219 404.835938 135.699219 401.238281 C 135.699219 397.636719 141.101562 397.636719 141.101562 401.238281 \"/>\n",
       "<path style=\"fill:none;stroke-width:0.75;stroke-linecap:round;stroke-linejoin:round;stroke:rgb(41.568627%,35.294118%,80.392157%);stroke-opacity:1;stroke-miterlimit:10;\" d=\"M 141.101562 399.457031 C 141.101562 403.054688 135.699219 403.054688 135.699219 399.457031 C 135.699219 395.855469 141.101562 395.855469 141.101562 399.457031 \"/>\n",
       "<path style=\"fill:none;stroke-width:0.75;stroke-linecap:round;stroke-linejoin:round;stroke:rgb(41.568627%,35.294118%,80.392157%);stroke-opacity:1;stroke-miterlimit:10;\" d=\"M 141.101562 407.839844 C 141.101562 411.441406 135.699219 411.441406 135.699219 407.839844 C 135.699219 404.242188 141.101562 404.242188 141.101562 407.839844 \"/>\n",
       "<path style=\"fill:none;stroke-width:0.75;stroke-linecap:round;stroke-linejoin:round;stroke:rgb(41.568627%,35.294118%,80.392157%);stroke-opacity:1;stroke-miterlimit:10;\" d=\"M 141.101562 407.617188 C 141.101562 411.21875 135.699219 411.21875 135.699219 407.617188 C 135.699219 404.019531 141.101562 404.019531 141.101562 407.617188 \"/>\n",
       "<path style=\"fill:none;stroke-width:0.75;stroke-linecap:round;stroke-linejoin:round;stroke:rgb(41.568627%,35.294118%,80.392157%);stroke-opacity:1;stroke-miterlimit:10;\" d=\"M 141.101562 402.542969 C 141.101562 406.140625 135.699219 406.140625 135.699219 402.542969 C 135.699219 398.941406 141.101562 398.941406 141.101562 402.542969 \"/>\n",
       "<path style=\"fill:none;stroke-width:0.75;stroke-linecap:round;stroke-linejoin:round;stroke:rgb(41.568627%,35.294118%,80.392157%);stroke-opacity:1;stroke-miterlimit:10;\" d=\"M 141.101562 400.824219 C 141.101562 404.425781 135.699219 404.425781 135.699219 400.824219 C 135.699219 397.222656 141.101562 397.222656 141.101562 400.824219 \"/>\n",
       "<path style=\"fill:none;stroke-width:0.75;stroke-linecap:round;stroke-linejoin:round;stroke:rgb(41.568627%,35.294118%,80.392157%);stroke-opacity:1;stroke-miterlimit:10;\" d=\"M 141.101562 397.25 C 141.101562 400.851562 135.699219 400.851562 135.699219 397.25 C 135.699219 393.652344 141.101562 393.652344 141.101562 397.25 \"/>\n",
       "<path style=\"fill:none;stroke-width:0.75;stroke-linecap:round;stroke-linejoin:round;stroke:rgb(41.568627%,35.294118%,80.392157%);stroke-opacity:1;stroke-miterlimit:10;\" d=\"M 141.101562 396.5 C 141.101562 400.101562 135.699219 400.101562 135.699219 396.5 C 135.699219 392.902344 141.101562 392.902344 141.101562 396.5 \"/>\n",
       "<path style=\"fill:none;stroke-width:0.75;stroke-linecap:round;stroke-linejoin:round;stroke:rgb(41.568627%,35.294118%,80.392157%);stroke-opacity:1;stroke-miterlimit:10;\" d=\"M 141.101562 366.285156 C 141.101562 369.886719 135.699219 369.886719 135.699219 366.285156 C 135.699219 362.683594 141.101562 362.683594 141.101562 366.285156 \"/>\n",
       "<path style=\"fill:none;stroke-width:0.75;stroke-linecap:round;stroke-linejoin:round;stroke:rgb(41.568627%,35.294118%,80.392157%);stroke-opacity:1;stroke-miterlimit:10;\" d=\"M 141.101562 355.089844 C 141.101562 358.691406 135.699219 358.691406 135.699219 355.089844 C 135.699219 351.488281 141.101562 351.488281 141.101562 355.089844 \"/>\n",
       "<path style=\"fill:none;stroke-width:0.75;stroke-linecap:round;stroke-linejoin:round;stroke:rgb(41.568627%,35.294118%,80.392157%);stroke-opacity:1;stroke-miterlimit:10;\" d=\"M 141.101562 323.539062 C 141.101562 327.140625 135.699219 327.140625 135.699219 323.539062 C 135.699219 319.941406 141.101562 319.941406 141.101562 323.539062 \"/>\n",
       "<path style=\"fill:none;stroke-width:0.75;stroke-linecap:round;stroke-linejoin:round;stroke:rgb(41.568627%,35.294118%,80.392157%);stroke-opacity:1;stroke-miterlimit:10;\" d=\"M 269.101562 372.277344 C 269.101562 375.875 263.699219 375.875 263.699219 372.277344 C 263.699219 368.675781 269.101562 368.675781 269.101562 372.277344 \"/>\n",
       "<path style=\"fill:none;stroke-width:0.75;stroke-linecap:round;stroke-linejoin:round;stroke:rgb(41.568627%,35.294118%,80.392157%);stroke-opacity:1;stroke-miterlimit:10;\" d=\"M 269.101562 345.359375 C 269.101562 348.957031 263.699219 348.957031 263.699219 345.359375 C 263.699219 341.757812 269.101562 341.757812 269.101562 345.359375 \"/>\n",
       "<path style=\"fill:none;stroke-width:0.75;stroke-linecap:round;stroke-linejoin:round;stroke:rgb(41.568627%,35.294118%,80.392157%);stroke-opacity:1;stroke-miterlimit:10;\" d=\"M 269.101562 332.8125 C 269.101562 336.414062 263.699219 336.414062 263.699219 332.8125 C 263.699219 329.214844 269.101562 329.214844 269.101562 332.8125 \"/>\n",
       "<path style=\"fill:none;stroke-width:0.75;stroke-linecap:round;stroke-linejoin:round;stroke:rgb(41.568627%,35.294118%,80.392157%);stroke-opacity:1;stroke-miterlimit:10;\" d=\"M 269.101562 393.878906 C 269.101562 397.476562 263.699219 397.476562 263.699219 393.878906 C 263.699219 390.277344 269.101562 390.277344 269.101562 393.878906 \"/>\n",
       "<path style=\"fill:none;stroke-width:0.75;stroke-linecap:round;stroke-linejoin:round;stroke:rgb(41.568627%,35.294118%,80.392157%);stroke-opacity:1;stroke-miterlimit:10;\" d=\"M 269.101562 385.253906 C 269.101562 388.851562 263.699219 388.851562 263.699219 385.253906 C 263.699219 381.652344 269.101562 381.652344 269.101562 385.253906 \"/>\n",
       "<path style=\"fill:none;stroke-width:0.75;stroke-linecap:round;stroke-linejoin:round;stroke:rgb(41.568627%,35.294118%,80.392157%);stroke-opacity:1;stroke-miterlimit:10;\" d=\"M 269.101562 382.285156 C 269.101562 385.886719 263.699219 385.886719 263.699219 382.285156 C 263.699219 378.6875 269.101562 378.6875 269.101562 382.285156 \"/>\n",
       "<path style=\"fill:none;stroke-width:0.75;stroke-linecap:round;stroke-linejoin:round;stroke:rgb(41.568627%,35.294118%,80.392157%);stroke-opacity:1;stroke-miterlimit:10;\" d=\"M 269.101562 379.894531 C 269.101562 383.492188 263.699219 383.492188 263.699219 379.894531 C 263.699219 376.292969 269.101562 376.292969 269.101562 379.894531 \"/>\n",
       "<path style=\"fill:none;stroke-width:0.75;stroke-linecap:round;stroke-linejoin:round;stroke:rgb(41.568627%,35.294118%,80.392157%);stroke-opacity:1;stroke-miterlimit:10;\" d=\"M 269.101562 359.671875 C 269.101562 363.269531 263.699219 363.269531 263.699219 359.671875 C 263.699219 356.070312 269.101562 356.070312 269.101562 359.671875 \"/>\n",
       "<path style=\"fill:none;stroke-width:0.75;stroke-linecap:round;stroke-linejoin:round;stroke:rgb(41.568627%,35.294118%,80.392157%);stroke-opacity:1;stroke-miterlimit:10;\" d=\"M 269.101562 346.675781 C 269.101562 350.277344 263.699219 350.277344 263.699219 346.675781 C 263.699219 343.078125 269.101562 343.078125 269.101562 346.675781 \"/>\n",
       "<path style=\"fill:none;stroke-width:0.75;stroke-linecap:round;stroke-linejoin:round;stroke:rgb(41.568627%,35.294118%,80.392157%);stroke-opacity:1;stroke-miterlimit:10;\" d=\"M 269.101562 344.546875 C 269.101562 348.148438 263.699219 348.148438 263.699219 344.546875 C 263.699219 340.945312 269.101562 340.945312 269.101562 344.546875 \"/>\n",
       "<path style=\"fill:none;stroke-width:0.75;stroke-linecap:round;stroke-linejoin:round;stroke:rgb(41.568627%,35.294118%,80.392157%);stroke-opacity:1;stroke-miterlimit:10;\" d=\"M 269.101562 291.015625 C 269.101562 294.617188 263.699219 294.617188 263.699219 291.015625 C 263.699219 287.417969 269.101562 287.417969 269.101562 291.015625 \"/>\n",
       "<path style=\"fill:none;stroke-width:0.75;stroke-linecap:round;stroke-linejoin:round;stroke:rgb(41.568627%,35.294118%,80.392157%);stroke-opacity:1;stroke-miterlimit:10;\" d=\"M 269.101562 72.800781 C 269.101562 76.398438 263.699219 76.398438 263.699219 72.800781 C 263.699219 69.199219 269.101562 69.199219 269.101562 72.800781 \"/>\n",
       "<path style=\"fill:none;stroke-width:0.75;stroke-linecap:round;stroke-linejoin:round;stroke:rgb(41.568627%,35.294118%,80.392157%);stroke-opacity:1;stroke-miterlimit:10;\" d=\"M 397.101562 395.398438 C 397.101562 398.996094 391.699219 398.996094 391.699219 395.398438 C 391.699219 391.796875 397.101562 391.796875 397.101562 395.398438 \"/>\n",
       "</g>\n",
       "</svg>\n"
      ],
      "text/plain": [
       "plot without title"
      ]
     },
     "metadata": {
      "image/svg+xml": {
       "isolated": true
      }
     },
     "output_type": "display_data"
    }
   ],
   "source": [
    "#Plot of data separating B, C and the H-individual.\n",
    "boxplot(normal.f2[1:18],normal.f2[19:30], normal.f2[31])\n",
    "points(normal.f2~nxf1.f2, col=\"slateblue\")"
   ]
  },
  {
   "cell_type": "code",
   "execution_count": 25,
   "metadata": {
    "collapsed": false
   },
   "outputs": [
    {
     "data": {
      "text/plain": [
       "\n",
       "\tShapiro-Wilk normality test\n",
       "\n",
       "data:  normal.f2[nxf1.f2 == \"B\"]\n",
       "W = 0.70643, p-value = 9.494e-05\n"
      ]
     },
     "execution_count": 25,
     "metadata": {},
     "output_type": "execute_result"
    },
    {
     "data": {
      "text/plain": [
       "\n",
       "\tShapiro-Wilk normality test\n",
       "\n",
       "data:  normal.f2[nxf1.f2 == \"C\"]\n",
       "W = 0.62012, p-value = 0.0001587\n"
      ]
     },
     "execution_count": 25,
     "metadata": {},
     "output_type": "execute_result"
    },
    {
     "data": {
      "text/plain": [
       "\n",
       "\tF test to compare two variances\n",
       "\n",
       "data:  normal.f2[nxf1.f2 == \"B\"] and -normal.f2[nxf1.f2 == \"C\"]\n",
       "F = 0.15002, num df = 17, denom df = 11, p-value = 0.0005963\n",
       "alternative hypothesis: true ratio of variances is not equal to 1\n",
       "95 percent confidence interval:\n",
       " 0.04571359 0.43049035\n",
       "sample estimates:\n",
       "ratio of variances \n",
       "         0.1500155 \n"
      ]
     },
     "execution_count": 25,
     "metadata": {},
     "output_type": "execute_result"
    }
   ],
   "source": [
    "shapiro.test(normal.f2[nxf1.f2=='B'])\n",
    "shapiro.test(normal.f2[nxf1.f2=='C'])\n",
    "var.test(normal.f2[nxf1.f2=='B'],-normal.f2[nxf1.f2=='C'])"
   ]
  },
  {
   "cell_type": "markdown",
   "metadata": {
    "collapsed": true
   },
   "source": [
    "Shapiro-Wilk test indicates that neither B nor C is normally distributed, and the variance test that the groups do not have equal variance. I will therefore do a Wilcoxon Rank Sum test."
   ]
  },
  {
   "cell_type": "code",
   "execution_count": 29,
   "metadata": {
    "collapsed": false,
    "scrolled": true
   },
   "outputs": [
    {
     "data": {
      "text/plain": [
       "\n",
       "\tWilcoxon rank sum test\n",
       "\n",
       "data:  normal.f2[1:18] and normal.f2[19:30]\n",
       "W = 32, p-value = 0.0003972\n",
       "alternative hypothesis: true location shift is less than 0\n"
      ]
     },
     "execution_count": 29,
     "metadata": {},
     "output_type": "execute_result"
    }
   ],
   "source": [
    "#Wilcox without the H-individual\n",
    "wilcox.test(normal.f2[1:18],normal.f2[19:30],paired=F,alternative=\"less\")"
   ]
  },
  {
   "cell_type": "code",
   "execution_count": 30,
   "metadata": {
    "collapsed": false
   },
   "outputs": [
    {
     "data": {
      "text/plain": [
       "\n",
       "\tWilcoxon rank sum test\n",
       "\n",
       "data:  normal.f2[1:18] and normal.f2[19:31]\n",
       "W = 37, p-value = 0.0004375\n",
       "alternative hypothesis: true location shift is less than 0\n"
      ]
     },
     "execution_count": 30,
     "metadata": {},
     "output_type": "execute_result"
    }
   ],
   "source": [
    "#Wilcox with the H-individual\n",
    "wilcox.test(normal.f2[1:18],normal.f2[19:31],paired=F,alternative=\"less\")"
   ]
  },
  {
   "cell_type": "markdown",
   "metadata": {},
   "source": [
    "QUESTION 4\n",
    "Both data sets show that allele B gives statistically significant less expression than C. This is the case also when the H-individual is included in group C. The p-value for the B6 data set is weak, but still consistent with experiment balb.F2 that has a much stronger p-value. B6 is a much smaller data set. Including results from previous experiments I would be confident that Nfx1 does influence the target genes."
   ]
  },
  {
   "cell_type": "markdown",
   "metadata": {
    "collapsed": true
   },
   "source": [
    "QUESTION 5 \n",
    "Parametric tests are more sensitive to outliers."
   ]
  }
 ],
 "metadata": {
  "kernelspec": {
   "display_name": "R",
   "language": "R",
   "name": "ir"
  },
  "language_info": {
   "codemirror_mode": "r",
   "file_extension": ".r",
   "mimetype": "text/x-r-source",
   "name": "R",
   "pygments_lexer": "r",
   "version": "3.2.2"
  }
 },
 "nbformat": 4,
 "nbformat_minor": 0
}
