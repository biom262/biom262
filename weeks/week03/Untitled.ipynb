{
 "cells": [
  {
   "cell_type": "raw",
   "metadata": {},
   "source": [
    "Answer 1: From previous data, we have evidence that the “C” allele of Nxf1 allowed a higher level of target gene RNA expression than the “B” allele in 6 out of 7 cases. In order to check if this correlation holds true for the 8th gen as well, we need to perform a one-sided test such that the null hypothesis would be- There is no correlation between Nxf1 allele and expression of 8th gene and alternate hypothesis would be- \"C\" allele of Nxf1 is correlated with higher expression of 8th gene as compared to \"B\" allele."
   ]
  },
  {
   "cell_type": "raw",
   "metadata": {},
   "source": [
    "Answer 2: I would use the mean of expression level of gene with \"B\" allele of Nxf1 (Ub) and \"C\" allele of Nxf1 (Uc) as my test-statistic for this test. This is because the overall increase or decrease in expression can be represented by increase or decrease in  mean in the presence of a particular allele of Nxf1.\n",
    "\n",
    "Null Hypothesis: Ub=Uc or Uc-Ub=0\n",
    "Alternate hypothesis: Uc>Ub or Uc-Ub>0 "
   ]
  },
  {
   "cell_type": "code",
   "execution_count": 3,
   "metadata": {
    "collapsed": false
   },
   "outputs": [
    {
     "name": "stderr",
     "output_type": "stream",
     "text": [
      "The following objects are masked from b6 (pos = 3):\n",
      "\n",
      "    cohort, id, normal, nxf1, raw\n",
      "\n",
      "The following objects are masked from b6 (pos = 4):\n",
      "\n",
      "    cohort, id, normal, nxf1, raw\n",
      "\n"
     ]
    },
    {
     "data": {
      "text/html": [
       "<ol class=list-inline>\n",
       "\t<li>'id'</li>\n",
       "\t<li>'nxf1'</li>\n",
       "\t<li>'raw'</li>\n",
       "\t<li>'normal'</li>\n",
       "\t<li>'cohort'</li>\n",
       "</ol>\n"
      ],
      "text/latex": [
       "\\begin{enumerate*}\n",
       "\\item 'id'\n",
       "\\item 'nxf1'\n",
       "\\item 'raw'\n",
       "\\item 'normal'\n",
       "\\item 'cohort'\n",
       "\\end{enumerate*}\n"
      ],
      "text/markdown": [
       "1. 'id'\n",
       "2. 'nxf1'\n",
       "3. 'raw'\n",
       "4. 'normal'\n",
       "5. 'cohort'\n",
       "\n",
       "\n"
      ],
      "text/plain": [
       "[1] \"id\"     \"nxf1\"   \"raw\"    \"normal\" \"cohort\""
      ]
     },
     "execution_count": 3,
     "metadata": {},
     "output_type": "execute_result"
    },
    {
     "data": {
      "text/plain": [
       "\n",
       "\tShapiro-Wilk normality test\n",
       "\n",
       "data:  raw[nxf1 == \"C\"] - raw[nxf1 == \"B\"]\n",
       "W = 0.97567, p-value = 0.9281\n"
      ]
     },
     "execution_count": 3,
     "metadata": {},
     "output_type": "execute_result"
    },
    {
     "data": {
      "text/plain": [
       "\n",
       "\tOne Sample t-test\n",
       "\n",
       "data:  raw[nxf1 == \"C\"] - raw[nxf1 == \"B\"]\n",
       "t = 1.2215, df = 5, p-value = 0.1382\n",
       "alternative hypothesis: true mean is greater than 0\n",
       "95 percent confidence interval:\n",
       " -0.004934902          Inf\n",
       "sample estimates:\n",
       "  mean of x \n",
       "0.007596776 \n"
      ]
     },
     "execution_count": 3,
     "metadata": {},
     "output_type": "execute_result"
    }
   ],
   "source": [
    "b6<-read.table(\"adamts_B6.txt\", header=T)\n",
    "attach(b6)\n",
    "names(b6)\n",
    "shapiro.test(raw[nxf1=='C']-raw[nxf1=='B']) \n",
    "t.test(raw[nxf1=='C']-raw[nxf1=='B'], y=NULL, alternative=\"greater\", mu=0)"
   ]
  },
  {
   "cell_type": "raw",
   "metadata": {},
   "source": [
    "the shapiro-test gace a p-value of 0.9281 which support the null hypothesis that the data Uc-Ub is normally distributed. A t-test on (Uc-Ub) was done which supported the null hypothesis (Uc-Ub=0) with a p-value of 0.1382 (>0.05)"
   ]
  }
 ],
 "metadata": {
  "kernelspec": {
   "display_name": "R",
   "language": "R",
   "name": "ir"
  },
  "language_info": {
   "codemirror_mode": "r",
   "file_extension": ".r",
   "mimetype": "text/x-r-source",
   "name": "R",
   "pygments_lexer": "r",
   "version": "3.2.2"
  }
 },
 "nbformat": 4,
 "nbformat_minor": 0
}
