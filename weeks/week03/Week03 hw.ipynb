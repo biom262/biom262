{
 "cells": [
  {
   "cell_type": "code",
   "execution_count": 7,
   "metadata": {
    "collapsed": false,
    "scrolled": true
   },
   "outputs": [
    {
     "data": {
      "text/html": [
       "<table>\n",
       "<thead><tr><th></th><th scope=col>id</th><th scope=col>nxf1</th><th scope=col>raw</th><th scope=col>normal</th><th scope=col>cohort</th></tr></thead>\n",
       "<tbody>\n",
       "\t<tr><th scope=row>1</th><td>N30F4.192</td><td>B</td><td>0.005473881</td><td>0.002223781</td><td>B6</td></tr>\n",
       "\t<tr><th scope=row>2</th><td>N30F4.196</td><td>B</td><td>0.005268219</td><td>0.00214023</td><td>B6</td></tr>\n",
       "\t<tr><th scope=row>3</th><td>N30F4.202</td><td>B</td><td>0.0219772</td><td>0.008928305</td><td>B6</td></tr>\n",
       "\t<tr><th scope=row>4</th><td>N30F4.207</td><td>B</td><td>0.002978839</td><td>0.001210162</td><td>B6</td></tr>\n",
       "\t<tr><th scope=row>5</th><td>N30F4.217</td><td>B</td><td>0.003176875</td><td>0.001290615</td><td>B6</td></tr>\n",
       "\t<tr><th scope=row>6</th><td>N30F4.218</td><td>B</td><td>0.003622804</td><td>0.001471775</td><td>B6</td></tr>\n",
       "\t<tr><th scope=row>7</th><td>N30F4.199</td><td>C</td><td>0.02649444</td><td>0.01076345</td><td>B6</td></tr>\n",
       "\t<tr><th scope=row>8</th><td>N30F4.210</td><td>C</td><td>0.004281812</td><td>0.001739499</td><td>B6</td></tr>\n",
       "\t<tr><th scope=row>9</th><td>N30F4.215</td><td>C</td><td>0.006276129</td><td>0.002549696</td><td>B6</td></tr>\n",
       "\t<tr><th scope=row>10</th><td>N30F4.216</td><td>C</td><td>0.007962358</td><td>0.003234732</td><td>B6</td></tr>\n",
       "\t<tr><th scope=row>11</th><td>N30F4.220</td><td>C</td><td>0.02951941</td><td>0.01199235</td><td>B6</td></tr>\n",
       "\t<tr><th scope=row>12</th><td>N30F4.222</td><td>C</td><td>0.01354432</td><td>0.005502421</td><td>B6</td></tr>\n",
       "</tbody>\n",
       "</table>\n"
      ],
      "text/latex": [
       "\\begin{tabular}{r|lllll}\n",
       "  & id & nxf1 & raw & normal & cohort\\\\\n",
       "\\hline\n",
       "\t1 & N30F4.192 & B & 0.005473881 & 0.002223781 & B6\\\\\n",
       "\t2 & N30F4.196 & B & 0.005268219 & 0.00214023 & B6\\\\\n",
       "\t3 & N30F4.202 & B & 0.0219772 & 0.008928305 & B6\\\\\n",
       "\t4 & N30F4.207 & B & 0.002978839 & 0.001210162 & B6\\\\\n",
       "\t5 & N30F4.217 & B & 0.003176875 & 0.001290615 & B6\\\\\n",
       "\t6 & N30F4.218 & B & 0.003622804 & 0.001471775 & B6\\\\\n",
       "\t7 & N30F4.199 & C & 0.02649444 & 0.01076345 & B6\\\\\n",
       "\t8 & N30F4.210 & C & 0.004281812 & 0.001739499 & B6\\\\\n",
       "\t9 & N30F4.215 & C & 0.006276129 & 0.002549696 & B6\\\\\n",
       "\t10 & N30F4.216 & C & 0.007962358 & 0.003234732 & B6\\\\\n",
       "\t11 & N30F4.220 & C & 0.02951941 & 0.01199235 & B6\\\\\n",
       "\t12 & N30F4.222 & C & 0.01354432 & 0.005502421 & B6\\\\\n",
       "\\end{tabular}\n"
      ],
      "text/plain": [
       "          id nxf1         raw      normal cohort\n",
       "1  N30F4.192    B 0.005473881 0.002223781     B6\n",
       "2  N30F4.196    B 0.005268219 0.002140230     B6\n",
       "3  N30F4.202    B 0.021977200 0.008928305     B6\n",
       "4  N30F4.207    B 0.002978839 0.001210162     B6\n",
       "5  N30F4.217    B 0.003176875 0.001290615     B6\n",
       "6  N30F4.218    B 0.003622804 0.001471775     B6\n",
       "7  N30F4.199    C 0.026494443 0.010763448     B6\n",
       "8  N30F4.210    C 0.004281812 0.001739499     B6\n",
       "9  N30F4.215    C 0.006276129 0.002549696     B6\n",
       "10 N30F4.216    C 0.007962358 0.003234732     B6\n",
       "11 N30F4.220    C 0.029519412 0.011992351     B6\n",
       "12 N30F4.222    C 0.013544320 0.005502421     B6"
      ]
     },
     "execution_count": 7,
     "metadata": {},
     "output_type": "execute_result"
    }
   ],
   "source": [
    "B6<-read.table(\"adamts_B6.txt\",header=T)\n",
    "B6"
   ]
  },
  {
   "cell_type": "markdown",
   "metadata": {
    "collapsed": true
   },
   "source": [
    "Q1 Is this a one-tailed or two-tailed test? Why?\n",
    "\n",
    "A1 This should be considered a two tailed test. \n",
    "Although a one tailed test can be considered based on the previous data finding a majority of similar genes being dependent on Nxf1 expression.\n",
    "However, in this case we are still measuring whether there is a difference (increased or decreased with respect to allele) and cannot exclude in either direction for either allele C or B, solely based on the previous results."
   ]
  },
  {
   "cell_type": "markdown",
   "metadata": {
    "collapsed": true
   },
   "source": [
    "Q2 What test statistics would be most appropriate to compare data in B6.txt and why?\n",
    "\n",
    "A2Here we are trying to determine whether there is a difference in gene expression for \"gene 8\" based on the presence of either the C and B allele of Nxf1.\n",
    "The data is already normalized, however we must also check for equal variances. If the variances are equal, then we can proceed with the two sample t-test, however if the variances are not equal, then we would implement Welch's approximation.\n"
   ]
  },
  {
   "cell_type": "code",
   "execution_count": 21,
   "metadata": {
    "collapsed": false
   },
   "outputs": [
    {
     "data": {
      "text/plain": [
       "\n",
       "\tF test to compare two variances\n",
       "\n",
       "data:  normal by nxf1\n",
       "F = 0.46464, num df = 5, denom df = 5, p-value = 0.4201\n",
       "alternative hypothesis: true ratio of variances is not equal to 1\n",
       "95 percent confidence interval:\n",
       " 0.06501805 3.32052232\n",
       "sample estimates:\n",
       "ratio of variances \n",
       "         0.4646438 \n"
      ]
     },
     "execution_count": 21,
     "metadata": {},
     "output_type": "execute_result"
    }
   ],
   "source": [
    "var.test(normal~nxf1)"
   ]
  },
  {
   "cell_type": "code",
   "execution_count": 23,
   "metadata": {
    "collapsed": false
   },
   "outputs": [
    {
     "data": {
      "text/plain": [
       "\n",
       "\tTwo Sample t-test\n",
       "\n",
       "data:  normal by nxf1\n",
       "t = -1.4216, df = 10, p-value = 0.1856\n",
       "alternative hypothesis: true difference in means is not equal to 0\n",
       "95 percent confidence interval:\n",
       " -0.007923533  0.001751106\n",
       "sample estimates:\n",
       "mean in group B mean in group C \n",
       "    0.002877478     0.005963691 \n"
      ]
     },
     "execution_count": 23,
     "metadata": {},
     "output_type": "execute_result"
    }
   ],
   "source": [
    "t.test(normal~nxf1, var.equal = TRUE)"
   ]
  },
  {
   "cell_type": "markdown",
   "metadata": {},
   "source": [
    "Q3 What test statistic(s) would be most appropriate to compare data in F2.txt? Perform the test in R. (For this exercise, you may either exclude the heterozygous individual, EB216, or treat as if C; extra credit–does this sample matter to your overall conclusion?)\n",
    "\n",
    "A3 In this dataset we have three different cohorts (4/3/09,4/15/09,4/16/09) and mice from each cohort with either the B or C allele (to avoid a headache, I am opting to exclude the heterozygous individual). "
   ]
  },
  {
   "cell_type": "code",
   "execution_count": 136,
   "metadata": {
    "collapsed": false
   },
   "outputs": [],
   "source": [
    "F2<- read.table(\"adamts_balbF2.txt\", header=T)\n",
    "F2CB<-F2[-c(31),]"
   ]
  },
  {
   "cell_type": "code",
   "execution_count": 150,
   "metadata": {
    "collapsed": false
   },
   "outputs": [
    {
     "data": {
      "text/html": [
       "<table>\n",
       "<thead><tr><th></th><th scope=col>id.f2</th><th scope=col>nxf1.f2</th><th scope=col>raw.f2</th><th scope=col>normal.f2</th><th scope=col>cohort.f2</th></tr></thead>\n",
       "<tbody>\n",
       "\t<tr><th scope=row>1</th><td>EB026</td><td>B</td><td>7e-05</td><td>0.000740424</td><td>4/3/09</td></tr>\n",
       "\t<tr><th scope=row>2</th><td>EB211</td><td>B</td><td>0.00012</td><td>0.001157392</td><td>4/3/09</td></tr>\n",
       "\t<tr><th scope=row>3</th><td>EB030</td><td>B</td><td>0.00014</td><td>0.001380945</td><td>4/3/09</td></tr>\n",
       "\t<tr><th scope=row>4</th><td>EB034</td><td>B</td><td>0.00022</td><td>0.002208735</td><td>4/3/09</td></tr>\n",
       "\t<tr><th scope=row>5</th><td>EB319</td><td>B</td><td>0.00091</td><td>0.009084916</td><td>4/3/09</td></tr>\n",
       "\t<tr><th scope=row>6</th><td>EB189</td><td>B</td><td>0.00213</td><td>0.001081516</td><td>4/15/09</td></tr>\n",
       "\t<tr><th scope=row>7</th><td>EB237</td><td>B</td><td>0.0031</td><td>0.001573233</td><td>4/15/09</td></tr>\n",
       "\t<tr><th scope=row>8</th><td>EB279</td><td>B</td><td>0.00349</td><td>0.001772814</td><td>4/15/09</td></tr>\n",
       "\t<tr><th scope=row>9</th><td>EB222</td><td>B</td><td>0.00372</td><td>0.001890922</td><td>4/15/09</td></tr>\n",
       "\t<tr><th scope=row>10</th><td>EB342</td><td>B</td><td>0.00214</td><td>0.001334754</td><td>4/16/09</td></tr>\n",
       "\t<tr><th scope=row>11</th><td>EB299</td><td>B</td><td>0.00217</td><td>0.001349456</td><td>4/16/09</td></tr>\n",
       "\t<tr><th scope=row>12</th><td>EB336</td><td>B</td><td>0.00271</td><td>0.001686254</td><td>4/16/09</td></tr>\n",
       "\t<tr><th scope=row>13</th><td>EB326</td><td>B</td><td>0.00289</td><td>0.001800217</td><td>4/16/09</td></tr>\n",
       "\t<tr><th scope=row>14</th><td>EB319</td><td>B</td><td>0.00327</td><td>0.002037232</td><td>4/16/09</td></tr>\n",
       "\t<tr><th scope=row>15</th><td>EB338</td><td>B</td><td>0.00335</td><td>0.002086975</td><td>4/16/09</td></tr>\n",
       "\t<tr><th scope=row>16</th><td>EB362</td><td>B</td><td>0.00657</td><td>0.004091404</td><td>4/16/09</td></tr>\n",
       "\t<tr><th scope=row>17</th><td>EB321</td><td>B</td><td>0.00776</td><td>0.004834029</td><td>4/16/09</td></tr>\n",
       "\t<tr><th scope=row>18</th><td>EB323</td><td>B</td><td>0.01112</td><td>0.006926883</td><td>4/16/09</td></tr>\n",
       "\t<tr><th scope=row>19</th><td>EB032</td><td>C</td><td>0.00037</td><td>0.00369398</td><td>4/3/09</td></tr>\n",
       "\t<tr><th scope=row>20</th><td>EB346</td><td>C</td><td>0.00055</td><td>0.00547956</td><td>4/3/09</td></tr>\n",
       "\t<tr><th scope=row>21</th><td>EB217</td><td>C</td><td>0.00063</td><td>0.006311733</td><td>4/3/09</td></tr>\n",
       "\t<tr><th scope=row>22</th><td>EB297</td><td>C</td><td>0.00445</td><td>0.002261018</td><td>4/15/09</td></tr>\n",
       "\t<tr><th scope=row>23</th><td>EB266</td><td>C</td><td>0.00558</td><td>0.00283316</td><td>4/15/09</td></tr>\n",
       "\t<tr><th scope=row>24</th><td>EB265</td><td>C</td><td>0.00596</td><td>0.003029921</td><td>4/15/09</td></tr>\n",
       "\t<tr><th scope=row>25</th><td>EB241</td><td>C</td><td>0.00627</td><td>0.003188702</td><td>4/15/09</td></tr>\n",
       "\t<tr><th scope=row>26</th><td>EB278</td><td>C</td><td>0.00891</td><td>0.00453021</td><td>4/15/09</td></tr>\n",
       "\t<tr><th scope=row>27</th><td>EB225</td><td>C</td><td>0.01061</td><td>0.005392136</td><td>4/15/09</td></tr>\n",
       "\t<tr><th scope=row>28</th><td>EB294</td><td>C</td><td>0.01089</td><td>0.005533425</td><td>4/15/09</td></tr>\n",
       "\t<tr><th scope=row>29</th><td>EB305</td><td>C</td><td>0.01459</td><td>0.009084457</td><td>4/16/09</td></tr>\n",
       "\t<tr><th scope=row>30</th><td>EB340</td><td>C</td><td>0.03784</td><td>0.02356012</td><td>4/16/09</td></tr>\n",
       "</tbody>\n",
       "</table>\n"
      ],
      "text/latex": [
       "\\begin{tabular}{r|lllll}\n",
       "  & id.f2 & nxf1.f2 & raw.f2 & normal.f2 & cohort.f2\\\\\n",
       "\\hline\n",
       "\t1 & EB026 & B & 7e-05 & 0.000740424 & 4/3/09\\\\\n",
       "\t2 & EB211 & B & 0.00012 & 0.001157392 & 4/3/09\\\\\n",
       "\t3 & EB030 & B & 0.00014 & 0.001380945 & 4/3/09\\\\\n",
       "\t4 & EB034 & B & 0.00022 & 0.002208735 & 4/3/09\\\\\n",
       "\t5 & EB319 & B & 0.00091 & 0.009084916 & 4/3/09\\\\\n",
       "\t6 & EB189 & B & 0.00213 & 0.001081516 & 4/15/09\\\\\n",
       "\t7 & EB237 & B & 0.0031 & 0.001573233 & 4/15/09\\\\\n",
       "\t8 & EB279 & B & 0.00349 & 0.001772814 & 4/15/09\\\\\n",
       "\t9 & EB222 & B & 0.00372 & 0.001890922 & 4/15/09\\\\\n",
       "\t10 & EB342 & B & 0.00214 & 0.001334754 & 4/16/09\\\\\n",
       "\t11 & EB299 & B & 0.00217 & 0.001349456 & 4/16/09\\\\\n",
       "\t12 & EB336 & B & 0.00271 & 0.001686254 & 4/16/09\\\\\n",
       "\t13 & EB326 & B & 0.00289 & 0.001800217 & 4/16/09\\\\\n",
       "\t14 & EB319 & B & 0.00327 & 0.002037232 & 4/16/09\\\\\n",
       "\t15 & EB338 & B & 0.00335 & 0.002086975 & 4/16/09\\\\\n",
       "\t16 & EB362 & B & 0.00657 & 0.004091404 & 4/16/09\\\\\n",
       "\t17 & EB321 & B & 0.00776 & 0.004834029 & 4/16/09\\\\\n",
       "\t18 & EB323 & B & 0.01112 & 0.006926883 & 4/16/09\\\\\n",
       "\t19 & EB032 & C & 0.00037 & 0.00369398 & 4/3/09\\\\\n",
       "\t20 & EB346 & C & 0.00055 & 0.00547956 & 4/3/09\\\\\n",
       "\t21 & EB217 & C & 0.00063 & 0.006311733 & 4/3/09\\\\\n",
       "\t22 & EB297 & C & 0.00445 & 0.002261018 & 4/15/09\\\\\n",
       "\t23 & EB266 & C & 0.00558 & 0.00283316 & 4/15/09\\\\\n",
       "\t24 & EB265 & C & 0.00596 & 0.003029921 & 4/15/09\\\\\n",
       "\t25 & EB241 & C & 0.00627 & 0.003188702 & 4/15/09\\\\\n",
       "\t26 & EB278 & C & 0.00891 & 0.00453021 & 4/15/09\\\\\n",
       "\t27 & EB225 & C & 0.01061 & 0.005392136 & 4/15/09\\\\\n",
       "\t28 & EB294 & C & 0.01089 & 0.005533425 & 4/15/09\\\\\n",
       "\t29 & EB305 & C & 0.01459 & 0.009084457 & 4/16/09\\\\\n",
       "\t30 & EB340 & C & 0.03784 & 0.02356012 & 4/16/09\\\\\n",
       "\\end{tabular}\n"
      ],
      "text/plain": [
       "   id.f2 nxf1.f2  raw.f2   normal.f2 cohort.f2\n",
       "1  EB026       B 0.00007 0.000740424    4/3/09\n",
       "2  EB211       B 0.00012 0.001157392    4/3/09\n",
       "3  EB030       B 0.00014 0.001380945    4/3/09\n",
       "4  EB034       B 0.00022 0.002208735    4/3/09\n",
       "5  EB319       B 0.00091 0.009084916    4/3/09\n",
       "6  EB189       B 0.00213 0.001081516   4/15/09\n",
       "7  EB237       B 0.00310 0.001573233   4/15/09\n",
       "8  EB279       B 0.00349 0.001772814   4/15/09\n",
       "9  EB222       B 0.00372 0.001890922   4/15/09\n",
       "10 EB342       B 0.00214 0.001334754   4/16/09\n",
       "11 EB299       B 0.00217 0.001349456   4/16/09\n",
       "12 EB336       B 0.00271 0.001686254   4/16/09\n",
       "13 EB326       B 0.00289 0.001800217   4/16/09\n",
       "14 EB319       B 0.00327 0.002037232   4/16/09\n",
       "15 EB338       B 0.00335 0.002086975   4/16/09\n",
       "16 EB362       B 0.00657 0.004091404   4/16/09\n",
       "17 EB321       B 0.00776 0.004834029   4/16/09\n",
       "18 EB323       B 0.01112 0.006926883   4/16/09\n",
       "19 EB032       C 0.00037 0.003693980    4/3/09\n",
       "20 EB346       C 0.00055 0.005479560    4/3/09\n",
       "21 EB217       C 0.00063 0.006311733    4/3/09\n",
       "22 EB297       C 0.00445 0.002261018   4/15/09\n",
       "23 EB266       C 0.00558 0.002833160   4/15/09\n",
       "24 EB265       C 0.00596 0.003029921   4/15/09\n",
       "25 EB241       C 0.00627 0.003188702   4/15/09\n",
       "26 EB278       C 0.00891 0.004530210   4/15/09\n",
       "27 EB225       C 0.01061 0.005392136   4/15/09\n",
       "28 EB294       C 0.01089 0.005533425   4/15/09\n",
       "29 EB305       C 0.01459 0.009084457   4/16/09\n",
       "30 EB340       C 0.03784 0.023560116   4/16/09"
      ]
     },
     "execution_count": 150,
     "metadata": {},
     "output_type": "execute_result"
    },
    {
     "data": {
      "image/png": "[encoded data removed]",
      "image/svg+xml": [
       "<?xml version=\"1.0\" encoding=\"UTF-8\"?>\n",
       "<svg xmlns=\"http://www.w3.org/2000/svg\" xmlns:xlink=\"http://www.w3.org/1999/xlink\" width=\"504pt\" height=\"504pt\" viewBox=\"0 0 504 504\" version=\"1.1\">\n",
       "<defs>\n",
       "<g>\n",
       "<symbol overflow=\"visible\" id=\"glyph0-0\">\n",
       "<path style=\"stroke:none;\" d=\"\"/>\n",
       "</symbol>\n",
       "<symbol overflow=\"visible\" id=\"glyph0-1\">\n",
       "<path style=\"stroke:none;\" d=\"M 0.953125 0 L 4.890625 0 C 5.71875 0 6.34375 -0.234375 6.796875 -0.734375 C 7.234375 -1.1875 7.46875 -1.8125 7.46875 -2.5 C 7.46875 -3.546875 7 -4.1875 5.875 -4.625 C 6.671875 -4.984375 7.09375 -5.640625 7.09375 -6.53125 C 7.09375 -7.15625 6.859375 -7.734375 6.390625 -8.140625 C 5.9375 -8.5625 5.34375 -8.75 4.5 -8.75 L 0.953125 -8.75 Z M 2.0625 -4.984375 L 2.0625 -7.765625 L 4.21875 -7.765625 C 4.84375 -7.765625 5.203125 -7.6875 5.5 -7.453125 C 5.8125 -7.21875 5.96875 -6.859375 5.96875 -6.375 C 5.96875 -5.90625 5.8125 -5.53125 5.5 -5.296875 C 5.203125 -5.0625 4.84375 -4.984375 4.21875 -4.984375 Z M 2.0625 -0.984375 L 2.0625 -4 L 4.78125 -4 C 5.328125 -4 5.6875 -3.859375 5.953125 -3.578125 C 6.21875 -3.296875 6.359375 -2.921875 6.359375 -2.484375 C 6.359375 -2.0625 6.21875 -1.6875 5.953125 -1.40625 C 5.6875 -1.109375 5.328125 -0.984375 4.78125 -0.984375 Z \"/>\n",
       "</symbol>\n",
       "<symbol overflow=\"visible\" id=\"glyph0-2\">\n",
       "<path style=\"stroke:none;\" d=\"M 2.296875 -1.25 L 1.046875 -1.25 L 1.046875 0 L 2.296875 0 Z \"/>\n",
       "</symbol>\n",
       "<symbol overflow=\"visible\" id=\"glyph0-3\">\n",
       "<path style=\"stroke:none;\" d=\"M 3.921875 -2.046875 L 3.921875 0 L 4.984375 0 L 4.984375 -2.046875 L 6.234375 -2.046875 L 6.234375 -2.984375 L 4.984375 -2.984375 L 4.984375 -8.515625 L 4.203125 -8.515625 L 0.34375 -3.15625 L 0.34375 -2.046875 Z M 3.921875 -2.984375 L 1.265625 -2.984375 L 3.921875 -6.703125 Z \"/>\n",
       "</symbol>\n",
       "<symbol overflow=\"visible\" id=\"glyph0-4\">\n",
       "<path style=\"stroke:none;\" d=\"M 2.75 -8.75 L -0.09375 0.234375 L 0.5625 0.234375 L 3.40625 -8.75 Z \"/>\n",
       "</symbol>\n",
       "<symbol overflow=\"visible\" id=\"glyph0-5\">\n",
       "<path style=\"stroke:none;\" d=\"M 3.109375 -6.0625 L 3.109375 0 L 4.15625 0 L 4.15625 -8.515625 L 3.46875 -8.515625 C 3.09375 -7.203125 2.859375 -7.015625 1.21875 -6.8125 L 1.21875 -6.0625 Z \"/>\n",
       "</symbol>\n",
       "<symbol overflow=\"visible\" id=\"glyph0-6\">\n",
       "<path style=\"stroke:none;\" d=\"M 5.71875 -8.515625 L 1.3125 -8.515625 L 0.6875 -3.875 L 1.65625 -3.875 C 2.140625 -4.46875 2.5625 -4.671875 3.21875 -4.671875 C 4.359375 -4.671875 5.078125 -3.890625 5.078125 -2.625 C 5.078125 -1.40625 4.375 -0.65625 3.21875 -0.65625 C 2.296875 -0.65625 1.734375 -1.125 1.46875 -2.09375 L 0.421875 -2.09375 C 0.5625 -1.390625 0.6875 -1.0625 0.9375 -0.75 C 1.421875 -0.09375 2.28125 0.28125 3.234375 0.28125 C 4.953125 0.28125 6.15625 -0.96875 6.15625 -2.765625 C 6.15625 -4.453125 5.046875 -5.609375 3.40625 -5.609375 C 2.8125 -5.609375 2.328125 -5.453125 1.84375 -5.09375 L 2.171875 -7.46875 L 5.71875 -7.46875 Z \"/>\n",
       "</symbol>\n",
       "<symbol overflow=\"visible\" id=\"glyph0-7\">\n",
       "<path style=\"stroke:none;\" d=\"M 3.296875 -8.515625 C 2.515625 -8.515625 1.78125 -8.15625 1.34375 -7.578125 C 0.796875 -6.828125 0.515625 -5.6875 0.515625 -4.109375 C 0.515625 -1.25 1.46875 0.28125 3.296875 0.28125 C 5.09375 0.28125 6.078125 -1.25 6.078125 -4.046875 C 6.078125 -5.703125 5.8125 -6.796875 5.25 -7.578125 C 4.8125 -8.171875 4.109375 -8.515625 3.296875 -8.515625 Z M 3.296875 -7.578125 C 4.4375 -7.578125 5 -6.421875 5 -4.140625 C 5 -1.734375 4.453125 -0.59375 3.28125 -0.59375 C 2.15625 -0.59375 1.59375 -1.78125 1.59375 -4.109375 C 1.59375 -6.4375 2.15625 -7.578125 3.296875 -7.578125 Z \"/>\n",
       "</symbol>\n",
       "<symbol overflow=\"visible\" id=\"glyph0-8\">\n",
       "<path style=\"stroke:none;\" d=\"M 0.640625 -1.9375 C 0.84375 -0.546875 1.75 0.28125 3.046875 0.28125 C 3.984375 0.28125 4.84375 -0.1875 5.328125 -0.9375 C 5.875 -1.765625 6.109375 -2.8125 6.109375 -4.359375 C 6.109375 -5.78125 5.890625 -6.703125 5.390625 -7.453125 C 4.921875 -8.140625 4.171875 -8.515625 3.234375 -8.515625 C 1.625 -8.515625 0.453125 -7.3125 0.453125 -5.640625 C 0.453125 -4.0625 1.53125 -2.9375 3.078125 -2.9375 C 3.875 -2.9375 4.46875 -3.234375 5.015625 -3.890625 C 5 -1.8125 4.328125 -0.65625 3.125 -0.65625 C 2.375 -0.65625 1.859375 -1.125 1.6875 -1.9375 Z M 3.234375 -7.578125 C 4.21875 -7.578125 4.953125 -6.765625 4.953125 -5.65625 C 4.953125 -4.625 4.21875 -3.875 3.1875 -3.875 C 2.171875 -3.875 1.53125 -4.578125 1.53125 -5.71875 C 1.53125 -6.796875 2.25 -7.578125 3.234375 -7.578125 Z \"/>\n",
       "</symbol>\n",
       "<symbol overflow=\"visible\" id=\"glyph0-9\">\n",
       "<path style=\"stroke:none;\" d=\"M 6.609375 -3.984375 L 6.609375 0 L 7.734375 0 L 7.734375 -8.75 L 6.609375 -8.75 L 6.609375 -4.96875 L 2.109375 -4.96875 L 2.109375 -8.75 L 1 -8.75 L 1 0 L 2.125 0 L 2.125 -3.984375 Z \"/>\n",
       "</symbol>\n",
       "<symbol overflow=\"visible\" id=\"glyph0-10\">\n",
       "<path style=\"stroke:none;\" d=\"M 7.9375 -6.03125 C 7.59375 -7.953125 6.484375 -8.890625 4.578125 -8.890625 C 3.390625 -8.890625 2.453125 -8.515625 1.796875 -7.796875 C 1.015625 -6.9375 0.578125 -5.6875 0.578125 -4.265625 C 0.578125 -2.828125 1.015625 -1.59375 1.84375 -0.75 C 2.515625 -0.046875 3.390625 0.28125 4.53125 0.28125 C 6.65625 0.28125 7.859375 -0.875 8.125 -3.1875 L 6.96875 -3.1875 C 6.875 -2.59375 6.75 -2.1875 6.578125 -1.84375 C 6.21875 -1.109375 5.46875 -0.703125 4.53125 -0.703125 C 2.796875 -0.703125 1.6875 -2.09375 1.6875 -4.28125 C 1.6875 -6.53125 2.75 -7.90625 4.4375 -7.90625 C 5.140625 -7.90625 5.8125 -7.6875 6.171875 -7.359375 C 6.484375 -7.0625 6.671875 -6.6875 6.796875 -6.03125 Z \"/>\n",
       "</symbol>\n",
       "<symbol overflow=\"visible\" id=\"glyph0-11\">\n",
       "<path style=\"stroke:none;\" d=\"M 5.96875 -6.28125 C 5.765625 -7.6875 4.859375 -8.515625 3.5625 -8.515625 C 2.625 -8.515625 1.78125 -8.046875 1.28125 -7.296875 C 0.75 -6.46875 0.515625 -5.421875 0.515625 -3.875 C 0.515625 -2.453125 0.734375 -1.53125 1.234375 -0.78125 C 1.6875 -0.09375 2.4375 0.28125 3.375 0.28125 C 4.984375 0.28125 6.15625 -0.921875 6.15625 -2.59375 C 6.15625 -4.171875 5.078125 -5.296875 3.546875 -5.296875 C 2.71875 -5.296875 2.046875 -4.96875 1.59375 -4.34375 C 1.609375 -6.421875 2.28125 -7.578125 3.484375 -7.578125 C 4.234375 -7.578125 4.75 -7.109375 4.921875 -6.28125 Z M 3.421875 -4.359375 C 4.4375 -4.359375 5.078125 -3.640625 5.078125 -2.515625 C 5.078125 -1.4375 4.359375 -0.65625 3.390625 -0.65625 C 2.40625 -0.65625 1.65625 -1.46875 1.65625 -2.5625 C 1.65625 -3.625 2.375 -4.359375 3.421875 -4.359375 Z \"/>\n",
       "</symbol>\n",
       "<symbol overflow=\"visible\" id=\"glyph0-12\">\n",
       "<path style=\"stroke:none;\" d=\"M 2.65625 -3.90625 L 3.234375 -3.90625 C 4.390625 -3.90625 4.984375 -3.390625 4.984375 -2.359375 C 4.984375 -1.296875 4.328125 -0.65625 3.234375 -0.65625 C 2.078125 -0.65625 1.515625 -1.234375 1.4375 -2.46875 L 0.390625 -2.46875 C 0.4375 -1.78125 0.546875 -1.34375 0.75 -0.953125 C 1.1875 -0.140625 2.03125 0.28125 3.1875 0.28125 C 4.9375 0.28125 6.078125 -0.765625 6.078125 -2.375 C 6.078125 -3.453125 5.65625 -4.0625 4.625 -4.40625 C 5.421875 -4.71875 5.8125 -5.3125 5.8125 -6.171875 C 5.8125 -7.625 4.84375 -8.515625 3.234375 -8.515625 C 1.515625 -8.515625 0.59375 -7.578125 0.5625 -5.765625 L 1.625 -5.765625 C 1.625 -6.28125 1.6875 -6.5625 1.8125 -6.828125 C 2.046875 -7.296875 2.578125 -7.578125 3.234375 -7.578125 C 4.171875 -7.578125 4.734375 -7.03125 4.734375 -6.125 C 4.734375 -5.53125 4.53125 -5.171875 4.0625 -4.984375 C 3.765625 -4.859375 3.390625 -4.8125 2.65625 -4.796875 Z \"/>\n",
       "</symbol>\n",
       "<symbol overflow=\"visible\" id=\"glyph0-13\">\n",
       "<path style=\"stroke:none;\" d=\"M 1.796875 -6.28125 L 0.796875 -6.28125 L 0.796875 0 L 1.796875 0 Z M 1.796875 -8.75 L 0.796875 -8.75 L 0.796875 -7.484375 L 1.796875 -7.484375 Z \"/>\n",
       "</symbol>\n",
       "<symbol overflow=\"visible\" id=\"glyph0-14\">\n",
       "<path style=\"stroke:none;\" d=\"M 0.84375 -6.28125 L 0.84375 0 L 1.84375 0 L 1.84375 -3.46875 C 1.84375 -4.75 2.515625 -5.59375 3.546875 -5.59375 C 4.34375 -5.59375 4.84375 -5.109375 4.84375 -4.359375 L 4.84375 0 L 5.84375 0 L 5.84375 -4.75 C 5.84375 -5.796875 5.0625 -6.46875 3.859375 -6.46875 C 2.921875 -6.46875 2.3125 -6.109375 1.765625 -5.234375 L 1.765625 -6.28125 Z \"/>\n",
       "</symbol>\n",
       "<symbol overflow=\"visible\" id=\"glyph0-15\">\n",
       "<path style=\"stroke:none;\" d=\"M 3.046875 -6.28125 L 2.015625 -6.28125 L 2.015625 -8.015625 L 1.015625 -8.015625 L 1.015625 -6.28125 L 0.171875 -6.28125 L 0.171875 -5.46875 L 1.015625 -5.46875 L 1.015625 -0.71875 C 1.015625 -0.078125 1.453125 0.28125 2.234375 0.28125 C 2.46875 0.28125 2.71875 0.25 3.046875 0.1875 L 3.046875 -0.640625 C 2.921875 -0.609375 2.765625 -0.59375 2.5625 -0.59375 C 2.140625 -0.59375 2.015625 -0.71875 2.015625 -1.15625 L 2.015625 -5.46875 L 3.046875 -5.46875 Z \"/>\n",
       "</symbol>\n",
       "<symbol overflow=\"visible\" id=\"glyph0-16\">\n",
       "<path style=\"stroke:none;\" d=\"M 6.15625 -2.8125 C 6.15625 -3.765625 6.078125 -4.34375 5.90625 -4.8125 C 5.5 -5.84375 4.53125 -6.46875 3.359375 -6.46875 C 1.609375 -6.46875 0.484375 -5.125 0.484375 -3.0625 C 0.484375 -1 1.578125 0.28125 3.34375 0.28125 C 4.78125 0.28125 5.765625 -0.546875 6.03125 -1.90625 L 5.015625 -1.90625 C 4.734375 -1.078125 4.171875 -0.640625 3.375 -0.640625 C 2.734375 -0.640625 2.203125 -0.9375 1.859375 -1.46875 C 1.625 -1.828125 1.53125 -2.1875 1.53125 -2.8125 Z M 1.546875 -3.625 C 1.625 -4.78125 2.34375 -5.546875 3.34375 -5.546875 C 4.328125 -5.546875 5.09375 -4.734375 5.09375 -3.703125 C 5.09375 -3.671875 5.09375 -3.640625 5.078125 -3.625 Z \"/>\n",
       "</symbol>\n",
       "<symbol overflow=\"visible\" id=\"glyph0-17\">\n",
       "<path style=\"stroke:none;\" d=\"M 0.828125 -6.28125 L 0.828125 0 L 1.84375 0 L 1.84375 -3.265625 C 1.84375 -4.15625 2.0625 -4.75 2.546875 -5.09375 C 2.859375 -5.328125 3.15625 -5.40625 3.859375 -5.40625 L 3.859375 -6.4375 C 3.6875 -6.453125 3.59375 -6.46875 3.46875 -6.46875 C 2.8125 -6.46875 2.328125 -6.078125 1.75 -5.140625 L 1.75 -6.28125 Z \"/>\n",
       "</symbol>\n",
       "<symbol overflow=\"visible\" id=\"glyph0-18\">\n",
       "<path style=\"stroke:none;\" d=\"M 6.421875 -0.59375 C 6.3125 -0.5625 6.265625 -0.5625 6.203125 -0.5625 C 5.859375 -0.5625 5.65625 -0.75 5.65625 -1.0625 L 5.65625 -4.75 C 5.65625 -5.875 4.84375 -6.46875 3.296875 -6.46875 C 2.390625 -6.46875 1.625 -6.203125 1.21875 -5.734375 C 0.921875 -5.40625 0.796875 -5.046875 0.78125 -4.421875 L 1.78125 -4.421875 C 1.875 -5.203125 2.328125 -5.546875 3.265625 -5.546875 C 4.15625 -5.546875 4.671875 -5.203125 4.671875 -4.609375 L 4.671875 -4.34375 C 4.671875 -3.921875 4.421875 -3.75 3.625 -3.640625 C 2.203125 -3.46875 1.984375 -3.421875 1.609375 -3.265625 C 0.875 -2.96875 0.5 -2.40625 0.5 -1.578125 C 0.5 -0.4375 1.296875 0.28125 2.5625 0.28125 C 3.359375 0.28125 4 0 4.703125 -0.640625 C 4.78125 -0.015625 5.09375 0.28125 5.734375 0.28125 C 5.9375 0.28125 6.09375 0.25 6.421875 0.171875 Z M 4.671875 -1.984375 C 4.671875 -1.640625 4.578125 -1.4375 4.265625 -1.15625 C 3.859375 -0.796875 3.375 -0.59375 2.78125 -0.59375 C 2 -0.59375 1.546875 -0.96875 1.546875 -1.609375 C 1.546875 -2.265625 1.984375 -2.609375 3.0625 -2.765625 C 4.109375 -2.90625 4.328125 -2.953125 4.671875 -3.109375 Z \"/>\n",
       "</symbol>\n",
       "<symbol overflow=\"visible\" id=\"glyph0-19\">\n",
       "<path style=\"stroke:none;\" d=\"M 5.65625 -4.171875 C 5.609375 -4.78125 5.46875 -5.1875 5.234375 -5.53125 C 4.796875 -6.125 4.046875 -6.46875 3.171875 -6.46875 C 1.46875 -6.46875 0.375 -5.125 0.375 -3.03125 C 0.375 -1.015625 1.453125 0.28125 3.15625 0.28125 C 4.65625 0.28125 5.609375 -0.625 5.71875 -2.15625 L 4.71875 -2.15625 C 4.546875 -1.15625 4.03125 -0.640625 3.1875 -0.640625 C 2.078125 -0.640625 1.421875 -1.546875 1.421875 -3.03125 C 1.421875 -4.609375 2.0625 -5.546875 3.15625 -5.546875 C 4 -5.546875 4.53125 -5.046875 4.640625 -4.171875 Z \"/>\n",
       "</symbol>\n",
       "<symbol overflow=\"visible\" id=\"glyph0-20\">\n",
       "<path style=\"stroke:none;\" d=\"M 3.265625 -6.46875 C 1.5 -6.46875 0.4375 -5.203125 0.4375 -3.09375 C 0.4375 -0.984375 1.484375 0.28125 3.28125 0.28125 C 5.046875 0.28125 6.125 -0.984375 6.125 -3.046875 C 6.125 -5.21875 5.078125 -6.46875 3.265625 -6.46875 Z M 3.28125 -5.546875 C 4.40625 -5.546875 5.078125 -4.625 5.078125 -3.0625 C 5.078125 -1.578125 4.375 -0.640625 3.28125 -0.640625 C 2.15625 -0.640625 1.46875 -1.578125 1.46875 -3.09375 C 1.46875 -4.609375 2.15625 -5.546875 3.28125 -5.546875 Z \"/>\n",
       "</symbol>\n",
       "<symbol overflow=\"visible\" id=\"glyph0-21\">\n",
       "<path style=\"stroke:none;\" d=\"M 2.828125 -8.75 C 1.625 -7.171875 0.875 -4.984375 0.875 -3.109375 C 0.875 -1.21875 1.625 0.96875 2.828125 2.546875 L 3.484375 2.546875 C 2.4375 0.828125 1.84375 -1.1875 1.84375 -3.109375 C 1.84375 -5.015625 2.4375 -7.046875 3.484375 -8.75 Z \"/>\n",
       "</symbol>\n",
       "<symbol overflow=\"visible\" id=\"glyph0-22\">\n",
       "<path style=\"stroke:none;\" d=\"M 3.5 -3.25 L 5.609375 -6.28125 L 4.484375 -6.28125 L 2.96875 -4.015625 L 1.46875 -6.28125 L 0.328125 -6.28125 L 2.421875 -3.203125 L 0.203125 0 L 1.34375 0 L 2.9375 -2.40625 L 4.515625 0 L 5.671875 0 Z \"/>\n",
       "</symbol>\n",
       "<symbol overflow=\"visible\" id=\"glyph0-23\">\n",
       "<path style=\"stroke:none;\" d=\"M 3.09375 -6.28125 L 2.046875 -6.28125 L 2.046875 -7.265625 C 2.046875 -7.6875 2.296875 -7.90625 2.75 -7.90625 C 2.828125 -7.90625 2.875 -7.90625 3.09375 -7.890625 L 3.09375 -8.71875 C 2.875 -8.765625 2.734375 -8.78125 2.53125 -8.78125 C 1.609375 -8.78125 1.0625 -8.25 1.0625 -7.359375 L 1.0625 -6.28125 L 0.21875 -6.28125 L 0.21875 -5.46875 L 1.0625 -5.46875 L 1.0625 0 L 2.046875 0 L 2.046875 -5.46875 L 3.09375 -5.46875 Z \"/>\n",
       "</symbol>\n",
       "<symbol overflow=\"visible\" id=\"glyph0-24\">\n",
       "<path style=\"stroke:none;\" d=\"M 6.078125 -1.046875 L 1.59375 -1.046875 C 1.703125 -1.734375 2.09375 -2.1875 3.125 -2.796875 L 4.328125 -3.4375 C 5.515625 -4.09375 6.125 -4.96875 6.125 -6.015625 C 6.125 -6.71875 5.84375 -7.375 5.34375 -7.84375 C 4.84375 -8.296875 4.21875 -8.515625 3.40625 -8.515625 C 2.328125 -8.515625 1.53125 -8.125 1.0625 -7.40625 C 0.75 -6.953125 0.625 -6.421875 0.59375 -5.5625 L 1.65625 -5.5625 C 1.6875 -6.125 1.765625 -6.484375 1.90625 -6.75 C 2.1875 -7.265625 2.734375 -7.578125 3.375 -7.578125 C 4.328125 -7.578125 5.046875 -6.90625 5.046875 -5.984375 C 5.046875 -5.3125 4.65625 -4.734375 3.90625 -4.3125 L 2.796875 -3.6875 C 1.015625 -2.671875 0.5 -1.875 0.40625 0 L 6.078125 0 Z \"/>\n",
       "</symbol>\n",
       "<symbol overflow=\"visible\" id=\"glyph0-25\">\n",
       "<path style=\"stroke:none;\" d=\"M 1.046875 -1.25 L 1.046875 0 L 1.765625 0 L 1.765625 0.21875 C 1.765625 1.046875 1.609375 1.28125 1.046875 1.3125 L 1.046875 1.765625 C 1.890625 1.765625 2.296875 1.21875 2.296875 0.1875 L 2.296875 -1.25 Z \"/>\n",
       "</symbol>\n",
       "<symbol overflow=\"visible\" id=\"glyph0-26\">\n",
       "<path style=\"stroke:none;\" d=\"\"/>\n",
       "</symbol>\n",
       "<symbol overflow=\"visible\" id=\"glyph0-27\">\n",
       "<path style=\"stroke:none;\" d=\"M 0.84375 -8.75 L 0.84375 0 L 1.84375 0 L 1.84375 -3.46875 C 1.84375 -4.75 2.515625 -5.59375 3.546875 -5.59375 C 3.859375 -5.59375 4.1875 -5.484375 4.421875 -5.296875 C 4.71875 -5.09375 4.84375 -4.796875 4.84375 -4.359375 L 4.84375 0 L 5.828125 0 L 5.828125 -4.75 C 5.828125 -5.8125 5.078125 -6.46875 3.859375 -6.46875 C 2.96875 -6.46875 2.421875 -6.1875 1.84375 -5.421875 L 1.84375 -8.75 Z \"/>\n",
       "</symbol>\n",
       "<symbol overflow=\"visible\" id=\"glyph0-28\">\n",
       "<path style=\"stroke:none;\" d=\"M 1.109375 2.546875 C 2.3125 0.96875 3.078125 -1.21875 3.078125 -3.09375 C 3.078125 -4.984375 2.3125 -7.171875 1.109375 -8.75 L 0.453125 -8.75 C 1.515625 -7.03125 2.09375 -5.015625 2.09375 -3.09375 C 2.09375 -1.1875 1.515625 0.84375 0.453125 2.546875 Z \"/>\n",
       "</symbol>\n",
       "<symbol overflow=\"visible\" id=\"glyph1-0\">\n",
       "<path style=\"stroke:none;\" d=\"\"/>\n",
       "</symbol>\n",
       "<symbol overflow=\"visible\" id=\"glyph1-1\">\n",
       "<path style=\"stroke:none;\" d=\"M -8.515625 -3.296875 C -8.515625 -2.515625 -8.15625 -1.78125 -7.578125 -1.34375 C -6.828125 -0.796875 -5.6875 -0.515625 -4.109375 -0.515625 C -1.25 -0.515625 0.28125 -1.46875 0.28125 -3.296875 C 0.28125 -5.09375 -1.25 -6.078125 -4.046875 -6.078125 C -5.703125 -6.078125 -6.796875 -5.8125 -7.578125 -5.25 C -8.171875 -4.8125 -8.515625 -4.109375 -8.515625 -3.296875 Z M -7.578125 -3.296875 C -7.578125 -4.4375 -6.421875 -5 -4.140625 -5 C -1.734375 -5 -0.59375 -4.453125 -0.59375 -3.28125 C -0.59375 -2.15625 -1.78125 -1.59375 -4.109375 -1.59375 C -6.4375 -1.59375 -7.578125 -2.15625 -7.578125 -3.296875 Z \"/>\n",
       "</symbol>\n",
       "<symbol overflow=\"visible\" id=\"glyph1-2\">\n",
       "<path style=\"stroke:none;\" d=\"M -1.25 -2.296875 L -1.25 -1.046875 L 0 -1.046875 L 0 -2.296875 Z \"/>\n",
       "</symbol>\n",
       "<symbol overflow=\"visible\" id=\"glyph1-3\">\n",
       "<path style=\"stroke:none;\" d=\"M -8.515625 -5.71875 L -8.515625 -1.3125 L -3.875 -0.6875 L -3.875 -1.65625 C -4.46875 -2.140625 -4.671875 -2.5625 -4.671875 -3.21875 C -4.671875 -4.359375 -3.890625 -5.078125 -2.625 -5.078125 C -1.40625 -5.078125 -0.65625 -4.375 -0.65625 -3.21875 C -0.65625 -2.296875 -1.125 -1.734375 -2.09375 -1.46875 L -2.09375 -0.421875 C -1.390625 -0.5625 -1.0625 -0.6875 -0.75 -0.9375 C -0.09375 -1.421875 0.28125 -2.28125 0.28125 -3.234375 C 0.28125 -4.953125 -0.96875 -6.15625 -2.765625 -6.15625 C -4.453125 -6.15625 -5.609375 -5.046875 -5.609375 -3.40625 C -5.609375 -2.8125 -5.453125 -2.328125 -5.09375 -1.84375 L -7.46875 -2.171875 L -7.46875 -5.71875 Z \"/>\n",
       "</symbol>\n",
       "<symbol overflow=\"visible\" id=\"glyph1-4\">\n",
       "<path style=\"stroke:none;\" d=\"M -6.0625 -3.109375 L 0 -3.109375 L 0 -4.15625 L -8.515625 -4.15625 L -8.515625 -3.46875 C -7.203125 -3.09375 -7.015625 -2.859375 -6.8125 -1.21875 L -6.0625 -1.21875 Z \"/>\n",
       "</symbol>\n",
       "<symbol overflow=\"visible\" id=\"glyph1-5\">\n",
       "<path style=\"stroke:none;\" d=\"M -1.046875 -6.078125 L -1.046875 -1.59375 C -1.734375 -1.703125 -2.1875 -2.09375 -2.796875 -3.125 L -3.4375 -4.328125 C -4.09375 -5.515625 -4.96875 -6.125 -6.015625 -6.125 C -6.71875 -6.125 -7.375 -5.84375 -7.84375 -5.34375 C -8.296875 -4.84375 -8.515625 -4.21875 -8.515625 -3.40625 C -8.515625 -2.328125 -8.125 -1.53125 -7.40625 -1.0625 C -6.953125 -0.75 -6.421875 -0.625 -5.5625 -0.59375 L -5.5625 -1.65625 C -6.125 -1.6875 -6.484375 -1.765625 -6.75 -1.90625 C -7.265625 -2.1875 -7.578125 -2.734375 -7.578125 -3.375 C -7.578125 -4.328125 -6.90625 -5.046875 -5.984375 -5.046875 C -5.3125 -5.046875 -4.734375 -4.65625 -4.3125 -3.90625 L -3.6875 -2.796875 C -2.671875 -1.015625 -1.875 -0.5 0 -0.40625 L 0 -6.078125 Z \"/>\n",
       "</symbol>\n",
       "<symbol overflow=\"visible\" id=\"glyph1-6\">\n",
       "<path style=\"stroke:none;\" d=\"M -6.28125 -0.84375 L 0 -0.84375 L 0 -1.84375 L -3.46875 -1.84375 C -4.75 -1.84375 -5.59375 -2.515625 -5.59375 -3.546875 C -5.59375 -4.34375 -5.109375 -4.84375 -4.359375 -4.84375 L 0 -4.84375 L 0 -5.84375 L -4.75 -5.84375 C -5.796875 -5.84375 -6.46875 -5.0625 -6.46875 -3.859375 C -6.46875 -2.921875 -6.109375 -2.3125 -5.234375 -1.765625 L -6.28125 -1.765625 Z \"/>\n",
       "</symbol>\n",
       "<symbol overflow=\"visible\" id=\"glyph1-7\">\n",
       "<path style=\"stroke:none;\" d=\"M -6.46875 -3.265625 C -6.46875 -1.5 -5.203125 -0.4375 -3.09375 -0.4375 C -0.984375 -0.4375 0.28125 -1.484375 0.28125 -3.28125 C 0.28125 -5.046875 -0.984375 -6.125 -3.046875 -6.125 C -5.21875 -6.125 -6.46875 -5.078125 -6.46875 -3.265625 Z M -5.546875 -3.28125 C -5.546875 -4.40625 -4.625 -5.078125 -3.0625 -5.078125 C -1.578125 -5.078125 -0.640625 -4.375 -0.640625 -3.28125 C -0.640625 -2.15625 -1.578125 -1.46875 -3.09375 -1.46875 C -4.609375 -1.46875 -5.546875 -2.15625 -5.546875 -3.28125 Z \"/>\n",
       "</symbol>\n",
       "<symbol overflow=\"visible\" id=\"glyph1-8\">\n",
       "<path style=\"stroke:none;\" d=\"M -6.28125 -0.828125 L 0 -0.828125 L 0 -1.84375 L -3.265625 -1.84375 C -4.15625 -1.84375 -4.75 -2.0625 -5.09375 -2.546875 C -5.328125 -2.859375 -5.40625 -3.15625 -5.40625 -3.859375 L -6.4375 -3.859375 C -6.453125 -3.6875 -6.46875 -3.59375 -6.46875 -3.46875 C -6.46875 -2.8125 -6.078125 -2.328125 -5.140625 -1.75 L -6.28125 -1.75 Z \"/>\n",
       "</symbol>\n",
       "<symbol overflow=\"visible\" id=\"glyph1-9\">\n",
       "<path style=\"stroke:none;\" d=\"M -6.28125 -0.84375 L 0 -0.84375 L 0 -1.84375 L -3.953125 -1.84375 C -4.859375 -1.84375 -5.59375 -2.515625 -5.59375 -3.328125 C -5.59375 -4.0625 -5.140625 -4.484375 -4.328125 -4.484375 L 0 -4.484375 L 0 -5.5 L -3.953125 -5.5 C -4.859375 -5.5 -5.59375 -6.15625 -5.59375 -6.96875 C -5.59375 -7.703125 -5.125 -8.140625 -4.328125 -8.140625 L 0 -8.140625 L 0 -9.140625 L -4.71875 -9.140625 C -5.84375 -9.140625 -6.46875 -8.5 -6.46875 -7.3125 C -6.46875 -6.484375 -6.21875 -5.96875 -5.515625 -5.390625 C -6.1875 -5.015625 -6.46875 -4.515625 -6.46875 -3.703125 C -6.46875 -2.859375 -6.15625 -2.296875 -5.40625 -1.765625 L -6.28125 -1.765625 Z \"/>\n",
       "</symbol>\n",
       "<symbol overflow=\"visible\" id=\"glyph1-10\">\n",
       "<path style=\"stroke:none;\" d=\"M -0.59375 -6.421875 C -0.5625 -6.3125 -0.5625 -6.265625 -0.5625 -6.203125 C -0.5625 -5.859375 -0.75 -5.65625 -1.0625 -5.65625 L -4.75 -5.65625 C -5.875 -5.65625 -6.46875 -4.84375 -6.46875 -3.296875 C -6.46875 -2.390625 -6.203125 -1.625 -5.734375 -1.21875 C -5.40625 -0.921875 -5.046875 -0.796875 -4.421875 -0.78125 L -4.421875 -1.78125 C -5.203125 -1.875 -5.546875 -2.328125 -5.546875 -3.265625 C -5.546875 -4.15625 -5.203125 -4.671875 -4.609375 -4.671875 L -4.34375 -4.671875 C -3.921875 -4.671875 -3.75 -4.421875 -3.640625 -3.625 C -3.46875 -2.203125 -3.421875 -1.984375 -3.265625 -1.609375 C -2.96875 -0.875 -2.40625 -0.5 -1.578125 -0.5 C -0.4375 -0.5 0.28125 -1.296875 0.28125 -2.5625 C 0.28125 -3.359375 0 -4 -0.640625 -4.703125 C -0.015625 -4.78125 0.28125 -5.09375 0.28125 -5.734375 C 0.28125 -5.9375 0.25 -6.09375 0.171875 -6.421875 Z M -1.984375 -4.671875 C -1.640625 -4.671875 -1.4375 -4.578125 -1.15625 -4.265625 C -0.796875 -3.859375 -0.59375 -3.375 -0.59375 -2.78125 C -0.59375 -2 -0.96875 -1.546875 -1.609375 -1.546875 C -2.265625 -1.546875 -2.609375 -1.984375 -2.765625 -3.0625 C -2.90625 -4.109375 -2.953125 -4.328125 -3.109375 -4.671875 Z \"/>\n",
       "</symbol>\n",
       "<symbol overflow=\"visible\" id=\"glyph1-11\">\n",
       "<path style=\"stroke:none;\" d=\"M -8.75 -1.828125 L -8.75 -0.8125 L 0 -0.8125 L 0 -1.828125 Z \"/>\n",
       "</symbol>\n",
       "<symbol overflow=\"visible\" id=\"glyph1-12\">\n",
       "<path style=\"stroke:none;\" d=\"M -6.28125 -3.09375 L -6.28125 -2.046875 L -7.265625 -2.046875 C -7.6875 -2.046875 -7.90625 -2.296875 -7.90625 -2.75 C -7.90625 -2.828125 -7.90625 -2.875 -7.890625 -3.09375 L -8.71875 -3.09375 C -8.765625 -2.875 -8.78125 -2.734375 -8.78125 -2.53125 C -8.78125 -1.609375 -8.25 -1.0625 -7.359375 -1.0625 L -6.28125 -1.0625 L -6.28125 -0.21875 L -5.46875 -0.21875 L -5.46875 -1.0625 L 0 -1.0625 L 0 -2.046875 L -5.46875 -2.046875 L -5.46875 -3.09375 Z \"/>\n",
       "</symbol>\n",
       "</g>\n",
       "</defs>\n",
       "<g id=\"surface600\">\n",
       "<rect x=\"0\" y=\"0\" width=\"504\" height=\"504\" style=\"fill:rgb(100%,100%,100%);fill-opacity:1;stroke:none;\"/>\n",
       "<path style=\"fill:none;stroke-width:2.25;stroke-linecap:butt;stroke-linejoin:round;stroke:rgb(0%,0%,0%);stroke-opacity:1;stroke-miterlimit:10;\" d=\"M 78.667969 402.742188 L 112.800781 402.742188 \"/>\n",
       "<path style=\"fill:none;stroke-width:0.75;stroke-linecap:round;stroke-linejoin:round;stroke:rgb(0%,0%,0%);stroke-opacity:1;stroke-dasharray:3,3;stroke-miterlimit:10;\" d=\"M 95.734375 411.65625 L 95.734375 407.953125 \"/>\n",
       "<path style=\"fill:none;stroke-width:0.75;stroke-linecap:round;stroke-linejoin:round;stroke:rgb(0%,0%,0%);stroke-opacity:1;stroke-dasharray:3,3;stroke-miterlimit:10;\" d=\"M 95.734375 399.457031 L 95.734375 400.347656 \"/>\n",
       "<path style=\"fill:none;stroke-width:0.75;stroke-linecap:round;stroke-linejoin:round;stroke:rgb(0%,0%,0%);stroke-opacity:1;stroke-miterlimit:10;\" d=\"M 87.199219 411.65625 L 104.265625 411.65625 \"/>\n",
       "<path style=\"fill:none;stroke-width:0.75;stroke-linecap:round;stroke-linejoin:round;stroke:rgb(0%,0%,0%);stroke-opacity:1;stroke-miterlimit:10;\" d=\"M 87.199219 399.457031 L 104.265625 399.457031 \"/>\n",
       "<path style=\"fill:none;stroke-width:0.75;stroke-linecap:round;stroke-linejoin:round;stroke:rgb(0%,0%,0%);stroke-opacity:1;stroke-miterlimit:10;\" d=\"M 78.667969 407.953125 L 112.800781 407.953125 L 112.800781 400.347656 L 78.667969 400.347656 L 78.667969 407.953125 \"/>\n",
       "<path style=\"fill:none;stroke-width:2.25;stroke-linecap:butt;stroke-linejoin:round;stroke:rgb(0%,0%,0%);stroke-opacity:1;stroke-miterlimit:10;\" d=\"M 121.332031 379.894531 L 155.464844 379.894531 \"/>\n",
       "<path style=\"fill:none;stroke-width:0.75;stroke-linecap:round;stroke-linejoin:round;stroke:rgb(0%,0%,0%);stroke-opacity:1;stroke-dasharray:3,3;stroke-miterlimit:10;\" d=\"M 138.398438 393.878906 L 138.398438 383.769531 \"/>\n",
       "<path style=\"fill:none;stroke-width:0.75;stroke-linecap:round;stroke-linejoin:round;stroke:rgb(0%,0%,0%);stroke-opacity:1;stroke-dasharray:3,3;stroke-miterlimit:10;\" d=\"M 138.398438 344.546875 L 138.398438 353.171875 \"/>\n",
       "<path style=\"fill:none;stroke-width:0.75;stroke-linecap:round;stroke-linejoin:round;stroke:rgb(0%,0%,0%);stroke-opacity:1;stroke-miterlimit:10;\" d=\"M 129.867188 393.878906 L 146.933594 393.878906 \"/>\n",
       "<path style=\"fill:none;stroke-width:0.75;stroke-linecap:round;stroke-linejoin:round;stroke:rgb(0%,0%,0%);stroke-opacity:1;stroke-miterlimit:10;\" d=\"M 129.867188 344.546875 L 146.933594 344.546875 \"/>\n",
       "<path style=\"fill:none;stroke-width:0.75;stroke-linecap:round;stroke-linejoin:round;stroke:rgb(0%,0%,0%);stroke-opacity:1;stroke-miterlimit:10;\" d=\"M 121.332031 383.769531 L 155.464844 383.769531 L 155.464844 353.171875 L 121.332031 353.171875 L 121.332031 383.769531 \"/>\n",
       "<path style=\"fill:none;stroke-width:2.25;stroke-linecap:butt;stroke-linejoin:round;stroke:rgb(0%,0%,0%);stroke-opacity:1;stroke-miterlimit:10;\" d=\"M 206.667969 397.25 L 240.800781 397.25 \"/>\n",
       "<path style=\"fill:none;stroke-width:0.75;stroke-linecap:round;stroke-linejoin:round;stroke:rgb(0%,0%,0%);stroke-opacity:1;stroke-dasharray:3,3;stroke-miterlimit:10;\" d=\"M 223.734375 407.839844 L 223.734375 402.542969 \"/>\n",
       "<path style=\"fill:none;stroke-width:0.75;stroke-linecap:round;stroke-linejoin:round;stroke:rgb(0%,0%,0%);stroke-opacity:1;stroke-dasharray:3,3;stroke-miterlimit:10;\" d=\"M 223.734375 323.539062 L 223.734375 366.285156 \"/>\n",
       "<path style=\"fill:none;stroke-width:0.75;stroke-linecap:round;stroke-linejoin:round;stroke:rgb(0%,0%,0%);stroke-opacity:1;stroke-miterlimit:10;\" d=\"M 215.199219 407.839844 L 232.265625 407.839844 \"/>\n",
       "<path style=\"fill:none;stroke-width:0.75;stroke-linecap:round;stroke-linejoin:round;stroke:rgb(0%,0%,0%);stroke-opacity:1;stroke-miterlimit:10;\" d=\"M 215.199219 323.539062 L 232.265625 323.539062 \"/>\n",
       "<path style=\"fill:none;stroke-width:0.75;stroke-linecap:round;stroke-linejoin:round;stroke:rgb(0%,0%,0%);stroke-opacity:1;stroke-miterlimit:10;\" d=\"M 206.667969 402.542969 L 240.800781 402.542969 L 240.800781 366.285156 L 206.667969 366.285156 L 206.667969 402.542969 \"/>\n",
       "<path style=\"fill:none;stroke-width:2.25;stroke-linecap:butt;stroke-linejoin:round;stroke:rgb(0%,0%,0%);stroke-opacity:1;stroke-miterlimit:10;\" d=\"M 249.332031 181.90625 L 283.464844 181.90625 \"/>\n",
       "<path style=\"fill:none;stroke-width:0.75;stroke-linecap:round;stroke-linejoin:round;stroke:rgb(0%,0%,0%);stroke-opacity:1;stroke-dasharray:3,3;stroke-miterlimit:10;\" d=\"M 266.398438 291.015625 L 266.398438 291.015625 \"/>\n",
       "<path style=\"fill:none;stroke-width:0.75;stroke-linecap:round;stroke-linejoin:round;stroke:rgb(0%,0%,0%);stroke-opacity:1;stroke-dasharray:3,3;stroke-miterlimit:10;\" d=\"M 266.398438 72.800781 L 266.398438 72.800781 \"/>\n",
       "<path style=\"fill:none;stroke-width:0.75;stroke-linecap:round;stroke-linejoin:round;stroke:rgb(0%,0%,0%);stroke-opacity:1;stroke-miterlimit:10;\" d=\"M 257.867188 291.015625 L 274.933594 291.015625 \"/>\n",
       "<path style=\"fill:none;stroke-width:0.75;stroke-linecap:round;stroke-linejoin:round;stroke:rgb(0%,0%,0%);stroke-opacity:1;stroke-miterlimit:10;\" d=\"M 257.867188 72.800781 L 274.933594 72.800781 \"/>\n",
       "<path style=\"fill:none;stroke-width:0.75;stroke-linecap:round;stroke-linejoin:round;stroke:rgb(0%,0%,0%);stroke-opacity:1;stroke-miterlimit:10;\" d=\"M 249.332031 291.015625 L 283.464844 291.015625 L 283.464844 72.800781 L 249.332031 72.800781 L 249.332031 291.015625 \"/>\n",
       "<path style=\"fill:none;stroke-width:2.25;stroke-linecap:butt;stroke-linejoin:round;stroke:rgb(0%,0%,0%);stroke-opacity:1;stroke-miterlimit:10;\" d=\"M 334.667969 407.144531 L 368.800781 407.144531 \"/>\n",
       "<path style=\"fill:none;stroke-width:0.75;stroke-linecap:round;stroke-linejoin:round;stroke:rgb(0%,0%,0%);stroke-opacity:1;stroke-dasharray:3,3;stroke-miterlimit:10;\" d=\"M 351.734375 416.800781 L 351.734375 410.515625 \"/>\n",
       "<path style=\"fill:none;stroke-width:0.75;stroke-linecap:round;stroke-linejoin:round;stroke:rgb(0%,0%,0%);stroke-opacity:1;stroke-dasharray:3,3;stroke-miterlimit:10;\" d=\"M 351.734375 394.664062 L 351.734375 394.664062 \"/>\n",
       "<path style=\"fill:none;stroke-width:0.75;stroke-linecap:round;stroke-linejoin:round;stroke:rgb(0%,0%,0%);stroke-opacity:1;stroke-miterlimit:10;\" d=\"M 343.199219 416.800781 L 360.265625 416.800781 \"/>\n",
       "<path style=\"fill:none;stroke-width:0.75;stroke-linecap:round;stroke-linejoin:round;stroke:rgb(0%,0%,0%);stroke-opacity:1;stroke-miterlimit:10;\" d=\"M 343.199219 394.664062 L 360.265625 394.664062 \"/>\n",
       "<path style=\"fill:none;stroke-width:0.75;stroke-linecap:round;stroke-linejoin:round;stroke:rgb(0%,0%,0%);stroke-opacity:1;stroke-miterlimit:10;\" d=\"M 334.667969 410.515625 L 368.800781 410.515625 L 368.800781 394.664062 L 334.667969 394.664062 L 334.667969 410.515625 \"/>\n",
       "<path style=\"fill:none;stroke-width:0.75;stroke-linecap:round;stroke-linejoin:round;stroke:rgb(0%,0%,0%);stroke-opacity:1;stroke-miterlimit:10;\" d=\"M 354.433594 291.007812 C 354.433594 294.609375 349.035156 294.609375 349.035156 291.007812 C 349.035156 287.410156 354.433594 287.410156 354.433594 291.007812 \"/>\n",
       "<path style=\"fill:none;stroke-width:2.25;stroke-linecap:butt;stroke-linejoin:round;stroke:rgb(0%,0%,0%);stroke-opacity:1;stroke-miterlimit:10;\" d=\"M 377.332031 345.359375 L 411.464844 345.359375 \"/>\n",
       "<path style=\"fill:none;stroke-width:0.75;stroke-linecap:round;stroke-linejoin:round;stroke:rgb(0%,0%,0%);stroke-opacity:1;stroke-dasharray:3,3;stroke-miterlimit:10;\" d=\"M 394.398438 372.277344 L 394.398438 358.816406 \"/>\n",
       "<path style=\"fill:none;stroke-width:0.75;stroke-linecap:round;stroke-linejoin:round;stroke:rgb(0%,0%,0%);stroke-opacity:1;stroke-dasharray:3,3;stroke-miterlimit:10;\" d=\"M 394.398438 332.8125 L 394.398438 339.085938 \"/>\n",
       "<path style=\"fill:none;stroke-width:0.75;stroke-linecap:round;stroke-linejoin:round;stroke:rgb(0%,0%,0%);stroke-opacity:1;stroke-miterlimit:10;\" d=\"M 385.867188 372.277344 L 402.933594 372.277344 \"/>\n",
       "<path style=\"fill:none;stroke-width:0.75;stroke-linecap:round;stroke-linejoin:round;stroke:rgb(0%,0%,0%);stroke-opacity:1;stroke-miterlimit:10;\" d=\"M 385.867188 332.8125 L 402.933594 332.8125 \"/>\n",
       "<path style=\"fill:none;stroke-width:0.75;stroke-linecap:round;stroke-linejoin:round;stroke:rgb(0%,0%,0%);stroke-opacity:1;stroke-miterlimit:10;\" d=\"M 377.332031 358.816406 L 411.464844 358.816406 L 411.464844 339.085938 L 377.332031 339.085938 L 377.332031 358.816406 \"/>\n",
       "<path style=\"fill:none;stroke-width:0.75;stroke-linecap:round;stroke-linejoin:round;stroke:rgb(0%,0%,0%);stroke-opacity:1;stroke-miterlimit:10;\" d=\"M 95.734375 430.558594 L 437.066406 430.558594 \"/>\n",
       "<path style=\"fill:none;stroke-width:0.75;stroke-linecap:round;stroke-linejoin:round;stroke:rgb(0%,0%,0%);stroke-opacity:1;stroke-miterlimit:10;\" d=\"M 95.734375 430.558594 L 95.734375 437.761719 \"/>\n",
       "<path style=\"fill:none;stroke-width:0.75;stroke-linecap:round;stroke-linejoin:round;stroke:rgb(0%,0%,0%);stroke-opacity:1;stroke-miterlimit:10;\" d=\"M 138.398438 430.558594 L 138.398438 437.761719 \"/>\n",
       "<path style=\"fill:none;stroke-width:0.75;stroke-linecap:round;stroke-linejoin:round;stroke:rgb(0%,0%,0%);stroke-opacity:1;stroke-miterlimit:10;\" d=\"M 181.066406 430.558594 L 181.066406 437.761719 \"/>\n",
       "<path style=\"fill:none;stroke-width:0.75;stroke-linecap:round;stroke-linejoin:round;stroke:rgb(0%,0%,0%);stroke-opacity:1;stroke-miterlimit:10;\" d=\"M 223.734375 430.558594 L 223.734375 437.761719 \"/>\n",
       "<path style=\"fill:none;stroke-width:0.75;stroke-linecap:round;stroke-linejoin:round;stroke:rgb(0%,0%,0%);stroke-opacity:1;stroke-miterlimit:10;\" d=\"M 266.398438 430.558594 L 266.398438 437.761719 \"/>\n",
       "<path style=\"fill:none;stroke-width:0.75;stroke-linecap:round;stroke-linejoin:round;stroke:rgb(0%,0%,0%);stroke-opacity:1;stroke-miterlimit:10;\" d=\"M 309.066406 430.558594 L 309.066406 437.761719 \"/>\n",
       "<path style=\"fill:none;stroke-width:0.75;stroke-linecap:round;stroke-linejoin:round;stroke:rgb(0%,0%,0%);stroke-opacity:1;stroke-miterlimit:10;\" d=\"M 351.734375 430.558594 L 351.734375 437.761719 \"/>\n",
       "<path style=\"fill:none;stroke-width:0.75;stroke-linecap:round;stroke-linejoin:round;stroke:rgb(0%,0%,0%);stroke-opacity:1;stroke-miterlimit:10;\" d=\"M 394.398438 430.558594 L 394.398438 437.761719 \"/>\n",
       "<path style=\"fill:none;stroke-width:0.75;stroke-linecap:round;stroke-linejoin:round;stroke:rgb(0%,0%,0%);stroke-opacity:1;stroke-miterlimit:10;\" d=\"M 437.066406 430.558594 L 437.066406 437.761719 \"/>\n",
       "<g style=\"fill:rgb(0%,0%,0%);fill-opacity:1;\">\n",
       "  <use xlink:href=\"#glyph0-1\" x=\"69.734375\" y=\"455.916016\"/>\n",
       "  <use xlink:href=\"#glyph0-2\" x=\"77.738281\" y=\"455.916016\"/>\n",
       "  <use xlink:href=\"#glyph0-3\" x=\"81.074219\" y=\"455.916016\"/>\n",
       "  <use xlink:href=\"#glyph0-4\" x=\"87.746094\" y=\"455.916016\"/>\n",
       "  <use xlink:href=\"#glyph0-5\" x=\"91.082031\" y=\"455.916016\"/>\n",
       "  <use xlink:href=\"#glyph0-6\" x=\"97.753906\" y=\"455.916016\"/>\n",
       "  <use xlink:href=\"#glyph0-4\" x=\"104.425781\" y=\"455.916016\"/>\n",
       "  <use xlink:href=\"#glyph0-7\" x=\"107.761719\" y=\"455.916016\"/>\n",
       "  <use xlink:href=\"#glyph0-8\" x=\"114.433594\" y=\"455.916016\"/>\n",
       "</g>\n",
       "<g style=\"fill:rgb(0%,0%,0%);fill-opacity:1;\">\n",
       "  <use xlink:href=\"#glyph0-9\" x=\"154.566406\" y=\"455.916016\"/>\n",
       "  <use xlink:href=\"#glyph0-2\" x=\"163.230469\" y=\"455.916016\"/>\n",
       "  <use xlink:href=\"#glyph0-3\" x=\"166.566406\" y=\"455.916016\"/>\n",
       "  <use xlink:href=\"#glyph0-4\" x=\"173.238281\" y=\"455.916016\"/>\n",
       "  <use xlink:href=\"#glyph0-5\" x=\"176.574219\" y=\"455.916016\"/>\n",
       "  <use xlink:href=\"#glyph0-6\" x=\"183.246094\" y=\"455.916016\"/>\n",
       "  <use xlink:href=\"#glyph0-4\" x=\"189.917969\" y=\"455.916016\"/>\n",
       "  <use xlink:href=\"#glyph0-7\" x=\"193.253906\" y=\"455.916016\"/>\n",
       "  <use xlink:href=\"#glyph0-8\" x=\"199.925781\" y=\"455.916016\"/>\n",
       "</g>\n",
       "<g style=\"fill:rgb(0%,0%,0%);fill-opacity:1;\">\n",
       "  <use xlink:href=\"#glyph0-10\" x=\"239.898438\" y=\"455.916016\"/>\n",
       "  <use xlink:href=\"#glyph0-2\" x=\"248.5625\" y=\"455.916016\"/>\n",
       "  <use xlink:href=\"#glyph0-3\" x=\"251.898438\" y=\"455.916016\"/>\n",
       "  <use xlink:href=\"#glyph0-4\" x=\"258.570312\" y=\"455.916016\"/>\n",
       "  <use xlink:href=\"#glyph0-5\" x=\"261.90625\" y=\"455.916016\"/>\n",
       "  <use xlink:href=\"#glyph0-11\" x=\"268.578125\" y=\"455.916016\"/>\n",
       "  <use xlink:href=\"#glyph0-4\" x=\"275.25\" y=\"455.916016\"/>\n",
       "  <use xlink:href=\"#glyph0-7\" x=\"278.585938\" y=\"455.916016\"/>\n",
       "  <use xlink:href=\"#glyph0-8\" x=\"285.257812\" y=\"455.916016\"/>\n",
       "</g>\n",
       "<g style=\"fill:rgb(0%,0%,0%);fill-opacity:1;\">\n",
       "  <use xlink:href=\"#glyph0-1\" x=\"329.234375\" y=\"455.916016\"/>\n",
       "  <use xlink:href=\"#glyph0-2\" x=\"337.238281\" y=\"455.916016\"/>\n",
       "  <use xlink:href=\"#glyph0-3\" x=\"340.574219\" y=\"455.916016\"/>\n",
       "  <use xlink:href=\"#glyph0-4\" x=\"347.246094\" y=\"455.916016\"/>\n",
       "  <use xlink:href=\"#glyph0-12\" x=\"350.582031\" y=\"455.916016\"/>\n",
       "  <use xlink:href=\"#glyph0-4\" x=\"357.253906\" y=\"455.916016\"/>\n",
       "  <use xlink:href=\"#glyph0-7\" x=\"360.589844\" y=\"455.916016\"/>\n",
       "  <use xlink:href=\"#glyph0-8\" x=\"367.261719\" y=\"455.916016\"/>\n",
       "</g>\n",
       "<g style=\"fill:rgb(0%,0%,0%);fill-opacity:1;\">\n",
       "  <use xlink:href=\"#glyph0-9\" x=\"414.066406\" y=\"455.916016\"/>\n",
       "  <use xlink:href=\"#glyph0-2\" x=\"422.730469\" y=\"455.916016\"/>\n",
       "  <use xlink:href=\"#glyph0-3\" x=\"426.066406\" y=\"455.916016\"/>\n",
       "  <use xlink:href=\"#glyph0-4\" x=\"432.738281\" y=\"455.916016\"/>\n",
       "  <use xlink:href=\"#glyph0-12\" x=\"436.074219\" y=\"455.916016\"/>\n",
       "  <use xlink:href=\"#glyph0-4\" x=\"442.746094\" y=\"455.916016\"/>\n",
       "  <use xlink:href=\"#glyph0-7\" x=\"446.082031\" y=\"455.916016\"/>\n",
       "  <use xlink:href=\"#glyph0-8\" x=\"452.753906\" y=\"455.916016\"/>\n",
       "</g>\n",
       "<path style=\"fill:none;stroke-width:0.75;stroke-linecap:round;stroke-linejoin:round;stroke:rgb(0%,0%,0%);stroke-opacity:1;stroke-miterlimit:10;\" d=\"M 59.039062 427.960938 L 59.039062 126.46875 \"/>\n",
       "<path style=\"fill:none;stroke-width:0.75;stroke-linecap:round;stroke-linejoin:round;stroke:rgb(0%,0%,0%);stroke-opacity:1;stroke-miterlimit:10;\" d=\"M 59.039062 427.960938 L 51.839844 427.960938 \"/>\n",
       "<path style=\"fill:none;stroke-width:0.75;stroke-linecap:round;stroke-linejoin:round;stroke:rgb(0%,0%,0%);stroke-opacity:1;stroke-miterlimit:10;\" d=\"M 59.039062 352.589844 L 51.839844 352.589844 \"/>\n",
       "<path style=\"fill:none;stroke-width:0.75;stroke-linecap:round;stroke-linejoin:round;stroke:rgb(0%,0%,0%);stroke-opacity:1;stroke-miterlimit:10;\" d=\"M 59.039062 277.214844 L 51.839844 277.214844 \"/>\n",
       "<path style=\"fill:none;stroke-width:0.75;stroke-linecap:round;stroke-linejoin:round;stroke:rgb(0%,0%,0%);stroke-opacity:1;stroke-miterlimit:10;\" d=\"M 59.039062 201.839844 L 51.839844 201.839844 \"/>\n",
       "<path style=\"fill:none;stroke-width:0.75;stroke-linecap:round;stroke-linejoin:round;stroke:rgb(0%,0%,0%);stroke-opacity:1;stroke-miterlimit:10;\" d=\"M 59.039062 126.46875 L 51.839844 126.46875 \"/>\n",
       "<g style=\"fill:rgb(0%,0%,0%);fill-opacity:1;\">\n",
       "  <use xlink:href=\"#glyph1-1\" x=\"41.197266\" y=\"443.460938\"/>\n",
       "  <use xlink:href=\"#glyph1-2\" x=\"41.197266\" y=\"436.789062\"/>\n",
       "  <use xlink:href=\"#glyph1-1\" x=\"41.197266\" y=\"433.453125\"/>\n",
       "  <use xlink:href=\"#glyph1-1\" x=\"41.197266\" y=\"426.78125\"/>\n",
       "  <use xlink:href=\"#glyph1-1\" x=\"41.197266\" y=\"420.109375\"/>\n",
       "</g>\n",
       "<g style=\"fill:rgb(0%,0%,0%);fill-opacity:1;\">\n",
       "  <use xlink:href=\"#glyph1-1\" x=\"41.197266\" y=\"368.089844\"/>\n",
       "  <use xlink:href=\"#glyph1-2\" x=\"41.197266\" y=\"361.417969\"/>\n",
       "  <use xlink:href=\"#glyph1-1\" x=\"41.197266\" y=\"358.082031\"/>\n",
       "  <use xlink:href=\"#glyph1-1\" x=\"41.197266\" y=\"351.410156\"/>\n",
       "  <use xlink:href=\"#glyph1-3\" x=\"41.197266\" y=\"344.738281\"/>\n",
       "</g>\n",
       "<g style=\"fill:rgb(0%,0%,0%);fill-opacity:1;\">\n",
       "  <use xlink:href=\"#glyph1-1\" x=\"41.197266\" y=\"292.714844\"/>\n",
       "  <use xlink:href=\"#glyph1-2\" x=\"41.197266\" y=\"286.042969\"/>\n",
       "  <use xlink:href=\"#glyph1-1\" x=\"41.197266\" y=\"282.707031\"/>\n",
       "  <use xlink:href=\"#glyph1-4\" x=\"41.197266\" y=\"276.035156\"/>\n",
       "  <use xlink:href=\"#glyph1-1\" x=\"41.197266\" y=\"269.363281\"/>\n",
       "</g>\n",
       "<g style=\"fill:rgb(0%,0%,0%);fill-opacity:1;\">\n",
       "  <use xlink:href=\"#glyph1-1\" x=\"41.197266\" y=\"217.339844\"/>\n",
       "  <use xlink:href=\"#glyph1-2\" x=\"41.197266\" y=\"210.667969\"/>\n",
       "  <use xlink:href=\"#glyph1-1\" x=\"41.197266\" y=\"207.332031\"/>\n",
       "  <use xlink:href=\"#glyph1-4\" x=\"41.197266\" y=\"200.660156\"/>\n",
       "  <use xlink:href=\"#glyph1-3\" x=\"41.197266\" y=\"193.988281\"/>\n",
       "</g>\n",
       "<g style=\"fill:rgb(0%,0%,0%);fill-opacity:1;\">\n",
       "  <use xlink:href=\"#glyph1-1\" x=\"41.197266\" y=\"141.96875\"/>\n",
       "  <use xlink:href=\"#glyph1-2\" x=\"41.197266\" y=\"135.296875\"/>\n",
       "  <use xlink:href=\"#glyph1-1\" x=\"41.197266\" y=\"131.960938\"/>\n",
       "  <use xlink:href=\"#glyph1-5\" x=\"41.197266\" y=\"125.289062\"/>\n",
       "  <use xlink:href=\"#glyph1-1\" x=\"41.197266\" y=\"118.617188\"/>\n",
       "</g>\n",
       "<g style=\"fill:rgb(0%,0%,0%);fill-opacity:1;\">\n",
       "  <use xlink:href=\"#glyph0-13\" x=\"189.898438\" y=\"484.716797\"/>\n",
       "  <use xlink:href=\"#glyph0-14\" x=\"192.5625\" y=\"484.716797\"/>\n",
       "  <use xlink:href=\"#glyph0-15\" x=\"199.234375\" y=\"484.716797\"/>\n",
       "  <use xlink:href=\"#glyph0-16\" x=\"202.570312\" y=\"484.716797\"/>\n",
       "  <use xlink:href=\"#glyph0-17\" x=\"209.242188\" y=\"484.716797\"/>\n",
       "  <use xlink:href=\"#glyph0-18\" x=\"213.238281\" y=\"484.716797\"/>\n",
       "  <use xlink:href=\"#glyph0-19\" x=\"219.910156\" y=\"484.716797\"/>\n",
       "  <use xlink:href=\"#glyph0-15\" x=\"225.910156\" y=\"484.716797\"/>\n",
       "  <use xlink:href=\"#glyph0-13\" x=\"229.246094\" y=\"484.716797\"/>\n",
       "  <use xlink:href=\"#glyph0-20\" x=\"231.910156\" y=\"484.716797\"/>\n",
       "  <use xlink:href=\"#glyph0-14\" x=\"238.582031\" y=\"484.716797\"/>\n",
       "  <use xlink:href=\"#glyph0-21\" x=\"245.253906\" y=\"484.716797\"/>\n",
       "  <use xlink:href=\"#glyph0-14\" x=\"249.25\" y=\"484.716797\"/>\n",
       "  <use xlink:href=\"#glyph0-22\" x=\"255.921875\" y=\"484.716797\"/>\n",
       "  <use xlink:href=\"#glyph0-23\" x=\"261.921875\" y=\"484.716797\"/>\n",
       "  <use xlink:href=\"#glyph0-5\" x=\"265.257812\" y=\"484.716797\"/>\n",
       "  <use xlink:href=\"#glyph0-2\" x=\"271.929688\" y=\"484.716797\"/>\n",
       "  <use xlink:href=\"#glyph0-23\" x=\"275.265625\" y=\"484.716797\"/>\n",
       "  <use xlink:href=\"#glyph0-24\" x=\"278.601562\" y=\"484.716797\"/>\n",
       "  <use xlink:href=\"#glyph0-25\" x=\"285.273438\" y=\"484.716797\"/>\n",
       "  <use xlink:href=\"#glyph0-26\" x=\"288.609375\" y=\"484.716797\"/>\n",
       "  <use xlink:href=\"#glyph0-19\" x=\"291.945312\" y=\"484.716797\"/>\n",
       "  <use xlink:href=\"#glyph0-20\" x=\"297.945312\" y=\"484.716797\"/>\n",
       "  <use xlink:href=\"#glyph0-27\" x=\"304.617188\" y=\"484.716797\"/>\n",
       "  <use xlink:href=\"#glyph0-20\" x=\"311.289062\" y=\"484.716797\"/>\n",
       "  <use xlink:href=\"#glyph0-17\" x=\"317.960938\" y=\"484.716797\"/>\n",
       "  <use xlink:href=\"#glyph0-15\" x=\"321.957031\" y=\"484.716797\"/>\n",
       "  <use xlink:href=\"#glyph0-2\" x=\"325.292969\" y=\"484.716797\"/>\n",
       "  <use xlink:href=\"#glyph0-23\" x=\"328.628906\" y=\"484.716797\"/>\n",
       "  <use xlink:href=\"#glyph0-24\" x=\"331.964844\" y=\"484.716797\"/>\n",
       "  <use xlink:href=\"#glyph0-28\" x=\"338.636719\" y=\"484.716797\"/>\n",
       "</g>\n",
       "<g style=\"fill:rgb(0%,0%,0%);fill-opacity:1;\">\n",
       "  <use xlink:href=\"#glyph1-6\" x=\"12.396484\" y=\"270.300781\"/>\n",
       "  <use xlink:href=\"#glyph1-7\" x=\"12.396484\" y=\"263.628906\"/>\n",
       "  <use xlink:href=\"#glyph1-8\" x=\"12.396484\" y=\"256.957031\"/>\n",
       "  <use xlink:href=\"#glyph1-9\" x=\"12.396484\" y=\"252.960938\"/>\n",
       "  <use xlink:href=\"#glyph1-10\" x=\"12.396484\" y=\"242.964844\"/>\n",
       "  <use xlink:href=\"#glyph1-11\" x=\"12.396484\" y=\"236.292969\"/>\n",
       "  <use xlink:href=\"#glyph1-2\" x=\"12.396484\" y=\"233.628906\"/>\n",
       "  <use xlink:href=\"#glyph1-12\" x=\"12.396484\" y=\"230.292969\"/>\n",
       "  <use xlink:href=\"#glyph1-5\" x=\"12.396484\" y=\"226.957031\"/>\n",
       "</g>\n",
       "<path style=\"fill:none;stroke-width:0.75;stroke-linecap:round;stroke-linejoin:round;stroke:rgb(0%,0%,0%);stroke-opacity:1;stroke-miterlimit:10;\" d=\"M 59.039062 430.558594 L 473.761719 430.558594 L 473.761719 59.039062 L 59.039062 59.039062 L 59.039062 430.558594 \"/>\n",
       "</g>\n",
       "</svg>\n"
      ],
      "text/plain": [
       "plot without title"
      ]
     },
     "metadata": {
      "image/svg+xml": {
       "isolated": true
      }
     },
     "output_type": "display_data"
    }
   ],
   "source": [
    "F2CB\n",
    "plot(normal.f2~interaction(nxf1.f2,cohort.f2), data= F2CB)\n",
    "                 "
   ]
  },
  {
   "cell_type": "markdown",
   "metadata": {},
   "source": [
    "A3: First I will look at how the variation compares for each cohort for each allele. The boxplot above shows the normalized gene expression for \"gene 8\" by alleles B, C and the heterozygote(which does not contain a boxplot as the value was removed from our data, but still weirdly shows up on our boxplot...) and further separated by cohort date. \n",
    "\n",
    "We can see above that the variances do not appear to be equal for all groups, therefore we cannot lump all of the cohort dates together, and instead will separate them. "
   ]
  },
  {
   "cell_type": "code",
   "execution_count": 161,
   "metadata": {
    "collapsed": false
   },
   "outputs": [
    {
     "data": {
      "text/html": [
       "<table>\n",
       "<thead><tr><th></th><th scope=col>id.f2</th><th scope=col>nxf1.f2</th><th scope=col>raw.f2</th><th scope=col>normal.f2</th><th scope=col>cohort.f2</th></tr></thead>\n",
       "<tbody>\n",
       "\t<tr><th scope=row>1</th><td>EB026</td><td>B</td><td>7e-05</td><td>0.000740424</td><td>4/3/09</td></tr>\n",
       "\t<tr><th scope=row>2</th><td>EB211</td><td>B</td><td>0.00012</td><td>0.001157392</td><td>4/3/09</td></tr>\n",
       "\t<tr><th scope=row>3</th><td>EB030</td><td>B</td><td>0.00014</td><td>0.001380945</td><td>4/3/09</td></tr>\n",
       "\t<tr><th scope=row>4</th><td>EB034</td><td>B</td><td>0.00022</td><td>0.002208735</td><td>4/3/09</td></tr>\n",
       "\t<tr><th scope=row>5</th><td>EB319</td><td>B</td><td>0.00091</td><td>0.009084916</td><td>4/3/09</td></tr>\n",
       "\t<tr><th scope=row>6</th><td>EB032</td><td>C</td><td>0.00037</td><td>0.00369398</td><td>4/3/09</td></tr>\n",
       "\t<tr><th scope=row>7</th><td>EB346</td><td>C</td><td>0.00055</td><td>0.00547956</td><td>4/3/09</td></tr>\n",
       "\t<tr><th scope=row>8</th><td>EB217</td><td>C</td><td>0.00063</td><td>0.006311733</td><td>4/3/09</td></tr>\n",
       "</tbody>\n",
       "</table>\n"
      ],
      "text/latex": [
       "\\begin{tabular}{r|lllll}\n",
       "  & id.f2 & nxf1.f2 & raw.f2 & normal.f2 & cohort.f2\\\\\n",
       "\\hline\n",
       "\t1 & EB026 & B & 7e-05 & 0.000740424 & 4/3/09\\\\\n",
       "\t2 & EB211 & B & 0.00012 & 0.001157392 & 4/3/09\\\\\n",
       "\t3 & EB030 & B & 0.00014 & 0.001380945 & 4/3/09\\\\\n",
       "\t4 & EB034 & B & 0.00022 & 0.002208735 & 4/3/09\\\\\n",
       "\t5 & EB319 & B & 0.00091 & 0.009084916 & 4/3/09\\\\\n",
       "\t6 & EB032 & C & 0.00037 & 0.00369398 & 4/3/09\\\\\n",
       "\t7 & EB346 & C & 0.00055 & 0.00547956 & 4/3/09\\\\\n",
       "\t8 & EB217 & C & 0.00063 & 0.006311733 & 4/3/09\\\\\n",
       "\\end{tabular}\n"
      ],
      "text/plain": [
       "  id.f2 nxf1.f2  raw.f2   normal.f2 cohort.f2\n",
       "1 EB026       B 0.00007 0.000740424    4/3/09\n",
       "2 EB211       B 0.00012 0.001157392    4/3/09\n",
       "3 EB030       B 0.00014 0.001380945    4/3/09\n",
       "4 EB034       B 0.00022 0.002208735    4/3/09\n",
       "5 EB319       B 0.00091 0.009084916    4/3/09\n",
       "6 EB032       C 0.00037 0.003693980    4/3/09\n",
       "7 EB346       C 0.00055 0.005479560    4/3/09\n",
       "8 EB217       C 0.00063 0.006311733    4/3/09"
      ]
     },
     "execution_count": 161,
     "metadata": {},
     "output_type": "execute_result"
    },
    {
     "data": {
      "text/html": [
       "<table>\n",
       "<thead><tr><th></th><th scope=col>id.f2</th><th scope=col>nxf1.f2</th><th scope=col>raw.f2</th><th scope=col>normal.f2</th><th scope=col>cohort.f2</th></tr></thead>\n",
       "<tbody>\n",
       "\t<tr><th scope=row>1</th><td>EB189</td><td>B</td><td>0.00213</td><td>0.001081516</td><td>4/15/09</td></tr>\n",
       "\t<tr><th scope=row>2</th><td>EB237</td><td>B</td><td>0.0031</td><td>0.001573233</td><td>4/15/09</td></tr>\n",
       "\t<tr><th scope=row>3</th><td>EB279</td><td>B</td><td>0.00349</td><td>0.001772814</td><td>4/15/09</td></tr>\n",
       "\t<tr><th scope=row>4</th><td>EB222</td><td>B</td><td>0.00372</td><td>0.001890922</td><td>4/15/09</td></tr>\n",
       "\t<tr><th scope=row>5</th><td>EB297</td><td>C</td><td>0.00445</td><td>0.002261018</td><td>4/15/09</td></tr>\n",
       "\t<tr><th scope=row>6</th><td>EB266</td><td>C</td><td>0.00558</td><td>0.00283316</td><td>4/15/09</td></tr>\n",
       "\t<tr><th scope=row>7</th><td>EB265</td><td>C</td><td>0.00596</td><td>0.003029921</td><td>4/15/09</td></tr>\n",
       "\t<tr><th scope=row>8</th><td>EB241</td><td>C</td><td>0.00627</td><td>0.003188702</td><td>4/15/09</td></tr>\n",
       "\t<tr><th scope=row>9</th><td>EB278</td><td>C</td><td>0.00891</td><td>0.00453021</td><td>4/15/09</td></tr>\n",
       "\t<tr><th scope=row>10</th><td>EB225</td><td>C</td><td>0.01061</td><td>0.005392136</td><td>4/15/09</td></tr>\n",
       "\t<tr><th scope=row>11</th><td>EB294</td><td>C</td><td>0.01089</td><td>0.005533425</td><td>4/15/09</td></tr>\n",
       "</tbody>\n",
       "</table>\n"
      ],
      "text/latex": [
       "\\begin{tabular}{r|lllll}\n",
       "  & id.f2 & nxf1.f2 & raw.f2 & normal.f2 & cohort.f2\\\\\n",
       "\\hline\n",
       "\t1 & EB189 & B & 0.00213 & 0.001081516 & 4/15/09\\\\\n",
       "\t2 & EB237 & B & 0.0031 & 0.001573233 & 4/15/09\\\\\n",
       "\t3 & EB279 & B & 0.00349 & 0.001772814 & 4/15/09\\\\\n",
       "\t4 & EB222 & B & 0.00372 & 0.001890922 & 4/15/09\\\\\n",
       "\t5 & EB297 & C & 0.00445 & 0.002261018 & 4/15/09\\\\\n",
       "\t6 & EB266 & C & 0.00558 & 0.00283316 & 4/15/09\\\\\n",
       "\t7 & EB265 & C & 0.00596 & 0.003029921 & 4/15/09\\\\\n",
       "\t8 & EB241 & C & 0.00627 & 0.003188702 & 4/15/09\\\\\n",
       "\t9 & EB278 & C & 0.00891 & 0.00453021 & 4/15/09\\\\\n",
       "\t10 & EB225 & C & 0.01061 & 0.005392136 & 4/15/09\\\\\n",
       "\t11 & EB294 & C & 0.01089 & 0.005533425 & 4/15/09\\\\\n",
       "\\end{tabular}\n"
      ],
      "text/plain": [
       "   id.f2 nxf1.f2  raw.f2   normal.f2 cohort.f2\n",
       "1  EB189       B 0.00213 0.001081516   4/15/09\n",
       "2  EB237       B 0.00310 0.001573233   4/15/09\n",
       "3  EB279       B 0.00349 0.001772814   4/15/09\n",
       "4  EB222       B 0.00372 0.001890922   4/15/09\n",
       "5  EB297       C 0.00445 0.002261018   4/15/09\n",
       "6  EB266       C 0.00558 0.002833160   4/15/09\n",
       "7  EB265       C 0.00596 0.003029921   4/15/09\n",
       "8  EB241       C 0.00627 0.003188702   4/15/09\n",
       "9  EB278       C 0.00891 0.004530210   4/15/09\n",
       "10 EB225       C 0.01061 0.005392136   4/15/09\n",
       "11 EB294       C 0.01089 0.005533425   4/15/09"
      ]
     },
     "execution_count": 161,
     "metadata": {},
     "output_type": "execute_result"
    },
    {
     "data": {
      "text/html": [
       "<table>\n",
       "<thead><tr><th></th><th scope=col>id.f2</th><th scope=col>nxf1.f2</th><th scope=col>raw.f2</th><th scope=col>normal.f2</th><th scope=col>cohort.f2</th></tr></thead>\n",
       "<tbody>\n",
       "\t<tr><th scope=row>1</th><td>EB342</td><td>B</td><td>0.00214</td><td>0.001334754</td><td>4/16/09</td></tr>\n",
       "\t<tr><th scope=row>2</th><td>EB299</td><td>B</td><td>0.00217</td><td>0.001349456</td><td>4/16/09</td></tr>\n",
       "\t<tr><th scope=row>3</th><td>EB336</td><td>B</td><td>0.00271</td><td>0.001686254</td><td>4/16/09</td></tr>\n",
       "\t<tr><th scope=row>4</th><td>EB326</td><td>B</td><td>0.00289</td><td>0.001800217</td><td>4/16/09</td></tr>\n",
       "\t<tr><th scope=row>5</th><td>EB319</td><td>B</td><td>0.00327</td><td>0.002037232</td><td>4/16/09</td></tr>\n",
       "\t<tr><th scope=row>6</th><td>EB338</td><td>B</td><td>0.00335</td><td>0.002086975</td><td>4/16/09</td></tr>\n",
       "\t<tr><th scope=row>7</th><td>EB362</td><td>B</td><td>0.00657</td><td>0.004091404</td><td>4/16/09</td></tr>\n",
       "\t<tr><th scope=row>8</th><td>EB321</td><td>B</td><td>0.00776</td><td>0.004834029</td><td>4/16/09</td></tr>\n",
       "\t<tr><th scope=row>9</th><td>EB323</td><td>B</td><td>0.01112</td><td>0.006926883</td><td>4/16/09</td></tr>\n",
       "\t<tr><th scope=row>10</th><td>EB305</td><td>C</td><td>0.01459</td><td>0.009084457</td><td>4/16/09</td></tr>\n",
       "\t<tr><th scope=row>11</th><td>EB340</td><td>C</td><td>0.03784</td><td>0.02356012</td><td>4/16/09</td></tr>\n",
       "</tbody>\n",
       "</table>\n"
      ],
      "text/latex": [
       "\\begin{tabular}{r|lllll}\n",
       "  & id.f2 & nxf1.f2 & raw.f2 & normal.f2 & cohort.f2\\\\\n",
       "\\hline\n",
       "\t1 & EB342 & B & 0.00214 & 0.001334754 & 4/16/09\\\\\n",
       "\t2 & EB299 & B & 0.00217 & 0.001349456 & 4/16/09\\\\\n",
       "\t3 & EB336 & B & 0.00271 & 0.001686254 & 4/16/09\\\\\n",
       "\t4 & EB326 & B & 0.00289 & 0.001800217 & 4/16/09\\\\\n",
       "\t5 & EB319 & B & 0.00327 & 0.002037232 & 4/16/09\\\\\n",
       "\t6 & EB338 & B & 0.00335 & 0.002086975 & 4/16/09\\\\\n",
       "\t7 & EB362 & B & 0.00657 & 0.004091404 & 4/16/09\\\\\n",
       "\t8 & EB321 & B & 0.00776 & 0.004834029 & 4/16/09\\\\\n",
       "\t9 & EB323 & B & 0.01112 & 0.006926883 & 4/16/09\\\\\n",
       "\t10 & EB305 & C & 0.01459 & 0.009084457 & 4/16/09\\\\\n",
       "\t11 & EB340 & C & 0.03784 & 0.02356012 & 4/16/09\\\\\n",
       "\\end{tabular}\n"
      ],
      "text/plain": [
       "   id.f2 nxf1.f2  raw.f2   normal.f2 cohort.f2\n",
       "1  EB342       B 0.00214 0.001334754   4/16/09\n",
       "2  EB299       B 0.00217 0.001349456   4/16/09\n",
       "3  EB336       B 0.00271 0.001686254   4/16/09\n",
       "4  EB326       B 0.00289 0.001800217   4/16/09\n",
       "5  EB319       B 0.00327 0.002037232   4/16/09\n",
       "6  EB338       B 0.00335 0.002086975   4/16/09\n",
       "7  EB362       B 0.00657 0.004091404   4/16/09\n",
       "8  EB321       B 0.00776 0.004834029   4/16/09\n",
       "9  EB323       B 0.01112 0.006926883   4/16/09\n",
       "10 EB305       C 0.01459 0.009084457   4/16/09\n",
       "11 EB340       C 0.03784 0.023560116   4/16/09"
      ]
     },
     "execution_count": 161,
     "metadata": {},
     "output_type": "execute_result"
    }
   ],
   "source": [
    "F243 <- read.table(\"F243.txt\", header=T)\n",
    "F243\n",
    "F2415 <- read.table(\"F2415.txt\", header=T)\n",
    "F2415\n",
    "F2416 <- read.table(\"F2416.txt\", header=T)\n",
    "F2416"
   ]
  },
  {
   "cell_type": "markdown",
   "metadata": {
    "collapsed": false
   },
   "source": [
    "A3 Looking at the data, we can also see that we have very small and unequal (B vs C) sample sizes for each cohort group. In this case, it would be better to use a non parametric test, such as the Mann-Whitney U test."
   ]
  },
  {
   "cell_type": "code",
   "execution_count": 167,
   "metadata": {
    "collapsed": false
   },
   "outputs": [
    {
     "data": {
      "text/plain": [
       "\n",
       "\tF test to compare two variances\n",
       "\n",
       "data:  normal.f2 by nxf1.f2\n",
       "F = 6.8111, num df = 4, denom df = 2, p-value = 0.2642\n",
       "alternative hypothesis: true ratio of variances is not equal to 1\n",
       "95 percent confidence interval:\n",
       "  0.1735392 72.5325761\n",
       "sample estimates:\n",
       "ratio of variances \n",
       "          6.811139 \n"
      ]
     },
     "execution_count": 167,
     "metadata": {},
     "output_type": "execute_result"
    },
    {
     "data": {
      "text/plain": [
       "\n",
       "\tF test to compare two variances\n",
       "\n",
       "data:  normal.f2 by nxf1.f2\n",
       "F = 0.07397, num df = 3, denom df = 6, p-value = 0.05645\n",
       "alternative hypothesis: true ratio of variances is not equal to 1\n",
       "95 percent confidence interval:\n",
       " 0.01120968 1.08993357\n",
       "sample estimates:\n",
       "ratio of variances \n",
       "        0.07397044 \n"
      ]
     },
     "execution_count": 167,
     "metadata": {},
     "output_type": "execute_result"
    },
    {
     "data": {
      "text/plain": [
       "\n",
       "\tF test to compare two variances\n",
       "\n",
       "data:  normal.f2 by nxf1.f2\n",
       "F = 0.036171, num df = 8, denom df = 1, p-value = 0.001533\n",
       "alternative hypothesis: true ratio of variances is not equal to 1\n",
       "95 percent confidence interval:\n",
       " 3.780975e-05 2.738459e-01\n",
       "sample estimates:\n",
       "ratio of variances \n",
       "        0.03617094 \n"
      ]
     },
     "execution_count": 167,
     "metadata": {},
     "output_type": "execute_result"
    },
    {
     "data": {
      "text/plain": [
       "\n",
       "\tWilcoxon rank sum test\n",
       "\n",
       "data:  normal.f2 by nxf1.f2\n",
       "W = 3, p-value = 0.25\n",
       "alternative hypothesis: true location shift is not equal to 0\n"
      ]
     },
     "execution_count": 167,
     "metadata": {},
     "output_type": "execute_result"
    },
    {
     "data": {
      "text/plain": [
       "\n",
       "\tWilcoxon rank sum test\n",
       "\n",
       "data:  normal.f2 by nxf1.f2\n",
       "W = 0, p-value = 0.006061\n",
       "alternative hypothesis: true location shift is not equal to 0\n"
      ]
     },
     "execution_count": 167,
     "metadata": {},
     "output_type": "execute_result"
    },
    {
     "data": {
      "text/plain": [
       "\n",
       "\tWilcoxon rank sum test\n",
       "\n",
       "data:  normal.f2 by nxf1.f2\n",
       "W = 0, p-value = 0.03636\n",
       "alternative hypothesis: true location shift is not equal to 0\n"
      ]
     },
     "execution_count": 167,
     "metadata": {},
     "output_type": "execute_result"
    }
   ],
   "source": [
    "var.test(normal.f2~nxf1.f2, data=F243)\n",
    "var.test(normal.f2~nxf1.f2, data=F2415)\n",
    "var.test(normal.f2~nxf1.f2, data=F2416)\n",
    "wilcox.test(normal.f2~nxf1.f2 ,paired=F, data=F243)\n",
    "wilcox.test(normal.f2~nxf1.f2 ,paired=F, data=F2415)\n",
    "wilcox.test(normal.f2~nxf1.f2 ,paired=F, data=F2416)"
   ]
  },
  {
   "cell_type": "markdown",
   "metadata": {},
   "source": [
    "Q4 What do you conclude about the influence of Nxf1 on gene 8? How strong is the evidence overall?\n",
    "\n",
    "A4 Nxf1 does not appear to have an effect on gene expression on gene 8. The data from the \"B6\" data set suggested that there is no difference in gene expression in the presence of allele B or C, p-value = 0.1856. Additionally, when using the Mann-Whitney U test for each cohort date in the \"F2\" data set, two returned a p-value of greater than .05 and cohort date 4.16  returned a p-value of .03, which is still relatively high. However, cohort date 4.16 had only two samples with the C allele and 9 samples of the B allele. With these data combined, there is strong evidence that Nxf1 has little effect on the expression of gene 8."
   ]
  },
  {
   "cell_type": "markdown",
   "metadata": {},
   "source": [
    "Q5 Are parametric or non-parametric test more sensitive to outliers values?\n",
    "\n",
    "A5 Parametric tests such as the t-test, compare sample means, whereas nonparametric tests such as the Mann-Whitney U test, compares medians. Therefore parametric tests are more sensitive to outlier values. "
   ]
  }
 ],
 "metadata": {
  "kernelspec": {
   "display_name": "R",
   "language": "R",
   "name": "ir"
  },
  "language_info": {
   "codemirror_mode": "r",
   "file_extension": ".r",
   "mimetype": "text/x-r-source",
   "name": "R",
   "pygments_lexer": "r",
   "version": "3.2.2"
  }
 },
 "nbformat": 4,
 "nbformat_minor": 0
}
