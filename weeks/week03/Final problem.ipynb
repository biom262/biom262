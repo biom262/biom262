{
 "cells": [
  {
   "cell_type": "code",
   "execution_count": 11,
   "metadata": {
    "collapsed": false
   },
   "outputs": [
    {
     "name": "stderr",
     "output_type": "stream",
     "text": [
      "The following objects are masked from Yfg (pos = 3):\n",
      "\n",
      "    litter, mut, WT\n",
      "\n",
      "The following objects are masked from Yfg (pos = 4):\n",
      "\n",
      "    litter, mut, WT\n",
      "\n",
      "The following objects are masked from Yfg (pos = 5):\n",
      "\n",
      "    litter, mut, WT\n",
      "\n"
     ]
    },
    {
     "data": {
      "text/plain": [
       "\n",
       "\tShapiro-Wilk normality test\n",
       "\n",
       "data:  WT[1:11]\n",
       "W = 0.90941, p-value = 0.24\n"
      ]
     },
     "execution_count": 11,
     "metadata": {},
     "output_type": "execute_result"
    },
    {
     "data": {
      "text/plain": [
       "\n",
       "\tShapiro-Wilk normality test\n",
       "\n",
       "data:  mut[1:11]\n",
       "W = 0.86489, p-value = 0.06661\n"
      ]
     },
     "execution_count": 11,
     "metadata": {},
     "output_type": "execute_result"
    }
   ],
   "source": [
    "#Call file and headers\n",
    "Yfg<-read.table(\"Yfg.txt\",header=T)\n",
    "attach(Yfg)\n",
    "#Determine if normally distributed\n",
    "shapiro.test(WT[1:11])\n",
    "shapiro.test(mut[1:11])"
   ]
  },
  {
   "cell_type": "code",
   "execution_count": 7,
   "metadata": {
    "collapsed": false
   },
   "outputs": [
    {
     "data": {
      "text/plain": [
       "\n",
       "\tPaired t-test\n",
       "\n",
       "data:  WT and mut\n",
       "t = -3.267, df = 10, p-value = 0.008473\n",
       "alternative hypothesis: true difference in means is not equal to 0\n",
       "95 percent confidence interval:\n",
       " -0.31375579 -0.05931694\n",
       "sample estimates:\n",
       "mean of the differences \n",
       "             -0.1865364 \n"
      ]
     },
     "execution_count": 7,
     "metadata": {},
     "output_type": "execute_result"
    }
   ],
   "source": [
    "#Both sets of data fail to reject the null that they are normally distributed\n",
    "#Data file is paired by litter\n",
    "#Therefore use parametric paired comparison test\n",
    "t.test(WT,mut, paired=T)"
   ]
  },
  {
   "cell_type": "markdown",
   "metadata": {
    "collapsed": true
   },
   "source": [
    "Since p-value < 0.05, then we reject the null that the difference between the paired data sets is equal to 0. This can be interpreted to mean that mutant transcription factor has an effect on the transcription of target gene Yfg."
   ]
  },
  {
   "cell_type": "code",
   "execution_count": null,
   "metadata": {
    "collapsed": true
   },
   "outputs": [],
   "source": []
  }
 ],
 "metadata": {
  "kernelspec": {
   "display_name": "R",
   "language": "R",
   "name": "ir"
  },
  "language_info": {
   "codemirror_mode": "r",
   "file_extension": ".r",
   "mimetype": "text/x-r-source",
   "name": "R",
   "pygments_lexer": "r",
   "version": "3.2.2"
  }
 },
 "nbformat": 4,
 "nbformat_minor": 0
}
