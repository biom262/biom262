{
 "cells": [
  {
   "cell_type": "markdown",
   "metadata": {},
   "source": [
    "# Gene Expression\n",
    "\n",
    "([**Return to Week 3 index.**](http://localhost:8890/tree/Desktop/BIOM262/week03#))\n",
    "\n",
    "\n",
    "## Table of Contents (Problems)\n",
    "[**A.**](#A.)  \n",
    "[**B.**](#B.)  \n",
    "[**C.**](#C.)  \n",
    "[**D.**](#D.)\n",
    "\n",
    "* * *\n",
    "\n",
    "## Data Set\n",
    "\n",
    "Expression of six clustered genes is proposed to be up-regulated by transcription of an adjacent lncRNA, hotsix. Below are relative quantity measures for each of the six gene  from explicitly paired samples of animals that have or do not have hotsix."
   ]
  },
  {
   "cell_type": "code",
   "execution_count": 38,
   "metadata": {
    "collapsed": false
   },
   "outputs": [
    {
     "data": {
      "text/html": [
       "<table>\n",
       "<thead><tr><th></th><th scope=col>animal</th><th scope=col>pair</th><th scope=col>hotsix</th><th scope=col>lukewarm</th><th scope=col>tepid</th><th scope=col>mild1</th><th scope=col>athermal</th><th scope=col>bathwater</th><th scope=col>coldshower</th></tr></thead>\n",
       "<tbody>\n",
       "\t<tr><th scope=row>1</th><td>3011</td><td>1</td><td>-</td><td>0.4202</td><td>1.075</td><td>0.3974</td><td>0.9355</td><td>0.4695</td><td>0.1688</td></tr>\n",
       "\t<tr><th scope=row>2</th><td>3022</td><td>2</td><td>-</td><td>0.4718</td><td>1.0288</td><td>1.2747</td><td>0.6859</td><td>0.5616</td><td>0.4862</td></tr>\n",
       "\t<tr><th scope=row>3</th><td>3026</td><td>3</td><td>-</td><td>0.5351</td><td>0.9428</td><td>1.0208</td><td>0.5423</td><td>0.1972</td><td>0.2022</td></tr>\n",
       "\t<tr><th scope=row>4</th><td>3045</td><td>4</td><td>-</td><td>0.4955</td><td>0.7869</td><td>0.9073</td><td>0.6276</td><td>0.1854</td><td>0.2918</td></tr>\n",
       "\t<tr><th scope=row>5</th><td>3052</td><td>5</td><td>-</td><td>0.4299</td><td>0.9417</td><td>1.3223</td><td>0.8431</td><td>0.3982</td><td>0.3084</td></tr>\n",
       "\t<tr><th scope=row>6</th><td>3059</td><td>6</td><td>-</td><td>0.5609</td><td>1.232</td><td>0.4473</td><td>1.5524</td><td>0.2859</td><td>0.1451</td></tr>\n",
       "\t<tr><th scope=row>7</th><td>3066</td><td>7</td><td>-</td><td>1.4554</td><td>1.0419</td><td>0.6562</td><td>1.4554</td><td>0.4248</td><td>0.1613</td></tr>\n",
       "\t<tr><th scope=row>8</th><td>3080</td><td>8</td><td>-</td><td>0.8959</td><td>0.7659</td><td>0.4807</td><td>1.1754</td><td>0.2734</td><td>0.1762</td></tr>\n",
       "\t<tr><th scope=row>9</th><td>3082</td><td>9</td><td>-</td><td>0.3992</td><td>0.7921</td><td>1.4045</td><td>0.9383</td><td>0.472</td><td>0.3975</td></tr>\n",
       "\t<tr><th scope=row>10</th><td>3110</td><td>10</td><td>-</td><td>0.3526</td><td>0.7998</td><td>1.2606</td><td>0.8413</td><td>0.4511</td><td>0.3654</td></tr>\n",
       "\t<tr><th scope=row>11</th><td>3118</td><td>11</td><td>-</td><td>0.4693</td><td>1.0066</td><td>1.1801</td><td>1.0622</td><td>0.4872</td><td>0.2672</td></tr>\n",
       "\t<tr><th scope=row>12</th><td>3012</td><td>1</td><td>+</td><td>0.444</td><td>1.4432</td><td>0.4406</td><td>1.6114</td><td>0.4515</td><td>0.2432</td></tr>\n",
       "\t<tr><th scope=row>13</th><td>3020</td><td>2</td><td>+</td><td>0.6421</td><td>1.0284</td><td>1.3161</td><td>0.8921</td><td>0.6262</td><td>0.54</td></tr>\n",
       "\t<tr><th scope=row>14</th><td>3023</td><td>3</td><td>+</td><td>0.476</td><td>0.7981</td><td>1</td><td>0.5934</td><td>0.231</td><td>0.3009</td></tr>\n",
       "\t<tr><th scope=row>15</th><td>3040</td><td>4</td><td>+</td><td>0.6719</td><td>0.8398</td><td>1.274</td><td>0.7259</td><td>0.2996</td><td>0.3784</td></tr>\n",
       "\t<tr><th scope=row>16</th><td>3049</td><td>5</td><td>+</td><td>0.5112</td><td>0.9713</td><td>1.3513</td><td>0.7823</td><td>0.3387</td><td>0.403</td></tr>\n",
       "\t<tr><th scope=row>17</th><td>3056</td><td>6</td><td>+</td><td>0.6103</td><td>1.3715</td><td>0.51</td><td>1.7307</td><td>0.3617</td><td>0.1874</td></tr>\n",
       "\t<tr><th scope=row>18</th><td>3079</td><td>7</td><td>+</td><td>1.6036</td><td>1.1495</td><td>0.7285</td><td>1.3375</td><td>0.4124</td><td>0.2952</td></tr>\n",
       "\t<tr><th scope=row>19</th><td>3081</td><td>8</td><td>+</td><td>1.1222</td><td>0.8942</td><td>0.513</td><td>1.2949</td><td>0.4346</td><td>0.2583</td></tr>\n",
       "\t<tr><th scope=row>20</th><td>3085</td><td>9</td><td>+</td><td>0.4161</td><td>0.9395</td><td>1.1992</td><td>0.9451</td><td>0.6665</td><td>0.4637</td></tr>\n",
       "\t<tr><th scope=row>21</th><td>3107</td><td>10</td><td>+</td><td>0.5402</td><td>0.9351</td><td>1.3654</td><td>1.0016</td><td>0.5347</td><td>0.5092</td></tr>\n",
       "\t<tr><th scope=row>22</th><td>3121</td><td>11</td><td>+</td><td>0.4242</td><td>1.2581</td><td>1.311</td><td>1.1429</td><td>0.5469</td><td>0.4098</td></tr>\n",
       "</tbody>\n",
       "</table>\n"
      ],
      "text/latex": [
       "\\begin{tabular}{r|lllllllll}\n",
       "  & animal & pair & hotsix & lukewarm & tepid & mild1 & athermal & bathwater & coldshower\\\\\n",
       "\\hline\n",
       "\t1 & 3011 & 1 & - & 0.4202 & 1.075 & 0.3974 & 0.9355 & 0.4695 & 0.1688\\\\\n",
       "\t2 & 3022 & 2 & - & 0.4718 & 1.0288 & 1.2747 & 0.6859 & 0.5616 & 0.4862\\\\\n",
       "\t3 & 3026 & 3 & - & 0.5351 & 0.9428 & 1.0208 & 0.5423 & 0.1972 & 0.2022\\\\\n",
       "\t4 & 3045 & 4 & - & 0.4955 & 0.7869 & 0.9073 & 0.6276 & 0.1854 & 0.2918\\\\\n",
       "\t5 & 3052 & 5 & - & 0.4299 & 0.9417 & 1.3223 & 0.8431 & 0.3982 & 0.3084\\\\\n",
       "\t6 & 3059 & 6 & - & 0.5609 & 1.232 & 0.4473 & 1.5524 & 0.2859 & 0.1451\\\\\n",
       "\t7 & 3066 & 7 & - & 1.4554 & 1.0419 & 0.6562 & 1.4554 & 0.4248 & 0.1613\\\\\n",
       "\t8 & 3080 & 8 & - & 0.8959 & 0.7659 & 0.4807 & 1.1754 & 0.2734 & 0.1762\\\\\n",
       "\t9 & 3082 & 9 & - & 0.3992 & 0.7921 & 1.4045 & 0.9383 & 0.472 & 0.3975\\\\\n",
       "\t10 & 3110 & 10 & - & 0.3526 & 0.7998 & 1.2606 & 0.8413 & 0.4511 & 0.3654\\\\\n",
       "\t11 & 3118 & 11 & - & 0.4693 & 1.0066 & 1.1801 & 1.0622 & 0.4872 & 0.2672\\\\\n",
       "\t12 & 3012 & 1 & + & 0.444 & 1.4432 & 0.4406 & 1.6114 & 0.4515 & 0.2432\\\\\n",
       "\t13 & 3020 & 2 & + & 0.6421 & 1.0284 & 1.3161 & 0.8921 & 0.6262 & 0.54\\\\\n",
       "\t14 & 3023 & 3 & + & 0.476 & 0.7981 & 1 & 0.5934 & 0.231 & 0.3009\\\\\n",
       "\t15 & 3040 & 4 & + & 0.6719 & 0.8398 & 1.274 & 0.7259 & 0.2996 & 0.3784\\\\\n",
       "\t16 & 3049 & 5 & + & 0.5112 & 0.9713 & 1.3513 & 0.7823 & 0.3387 & 0.403\\\\\n",
       "\t17 & 3056 & 6 & + & 0.6103 & 1.3715 & 0.51 & 1.7307 & 0.3617 & 0.1874\\\\\n",
       "\t18 & 3079 & 7 & + & 1.6036 & 1.1495 & 0.7285 & 1.3375 & 0.4124 & 0.2952\\\\\n",
       "\t19 & 3081 & 8 & + & 1.1222 & 0.8942 & 0.513 & 1.2949 & 0.4346 & 0.2583\\\\\n",
       "\t20 & 3085 & 9 & + & 0.4161 & 0.9395 & 1.1992 & 0.9451 & 0.6665 & 0.4637\\\\\n",
       "\t21 & 3107 & 10 & + & 0.5402 & 0.9351 & 1.3654 & 1.0016 & 0.5347 & 0.5092\\\\\n",
       "\t22 & 3121 & 11 & + & 0.4242 & 1.2581 & 1.311 & 1.1429 & 0.5469 & 0.4098\\\\\n",
       "\\end{tabular}\n"
      ],
      "text/plain": [
       "   animal pair hotsix lukewarm  tepid  mild1 athermal bathwater coldshower\n",
       "1    3011    1      -   0.4202 1.0750 0.3974   0.9355    0.4695     0.1688\n",
       "2    3022    2      -   0.4718 1.0288 1.2747   0.6859    0.5616     0.4862\n",
       "3    3026    3      -   0.5351 0.9428 1.0208   0.5423    0.1972     0.2022\n",
       "4    3045    4      -   0.4955 0.7869 0.9073   0.6276    0.1854     0.2918\n",
       "5    3052    5      -   0.4299 0.9417 1.3223   0.8431    0.3982     0.3084\n",
       "6    3059    6      -   0.5609 1.2320 0.4473   1.5524    0.2859     0.1451\n",
       "7    3066    7      -   1.4554 1.0419 0.6562   1.4554    0.4248     0.1613\n",
       "8    3080    8      -   0.8959 0.7659 0.4807   1.1754    0.2734     0.1762\n",
       "9    3082    9      -   0.3992 0.7921 1.4045   0.9383    0.4720     0.3975\n",
       "10   3110   10      -   0.3526 0.7998 1.2606   0.8413    0.4511     0.3654\n",
       "11   3118   11      -   0.4693 1.0066 1.1801   1.0622    0.4872     0.2672\n",
       "12   3012    1      +   0.4440 1.4432 0.4406   1.6114    0.4515     0.2432\n",
       "13   3020    2      +   0.6421 1.0284 1.3161   0.8921    0.6262     0.5400\n",
       "14   3023    3      +   0.4760 0.7981 1.0000   0.5934    0.2310     0.3009\n",
       "15   3040    4      +   0.6719 0.8398 1.2740   0.7259    0.2996     0.3784\n",
       "16   3049    5      +   0.5112 0.9713 1.3513   0.7823    0.3387     0.4030\n",
       "17   3056    6      +   0.6103 1.3715 0.5100   1.7307    0.3617     0.1874\n",
       "18   3079    7      +   1.6036 1.1495 0.7285   1.3375    0.4124     0.2952\n",
       "19   3081    8      +   1.1222 0.8942 0.5130   1.2949    0.4346     0.2583\n",
       "20   3085    9      +   0.4161 0.9395 1.1992   0.9451    0.6665     0.4637\n",
       "21   3107   10      +   0.5402 0.9351 1.3654   1.0016    0.5347     0.5092\n",
       "22   3121   11      +   0.4242 1.2581 1.3110   1.1429    0.5469     0.4098"
      ]
     },
     "execution_count": 38,
     "metadata": {},
     "output_type": "execute_result"
    }
   ],
   "source": [
    "hot<-read.table(\"hot.txt\",head=T)\n",
    "hot"
   ]
  },
  {
   "cell_type": "markdown",
   "metadata": {},
   "source": [
    "# A. \n",
    "\n",
    "How would you analyze the data to test the hypothesis that hotsix + animals express a higher level than hotsix - for each of these thermally-named genes?  \n",
    "  \n",
    "#### Perform this analysis in R and report appropriate p-values for each gene."
   ]
  },
  {
   "cell_type": "code",
   "execution_count": 39,
   "metadata": {
    "collapsed": false
   },
   "outputs": [
    {
     "name": "stderr",
     "output_type": "stream",
     "text": [
      "The following objects are masked from hot (pos = 3):\n",
      "\n",
      "    animal, athermal, bathwater, coldshower, hotsix, lukewarm, mild1,\n",
      "    pair, tepid\n",
      "\n"
     ]
    }
   ],
   "source": [
    "hot<-read.table(\"hot.txt\",head=T)\n",
    "attach(hot)"
   ]
  },
  {
   "cell_type": "markdown",
   "metadata": {},
   "source": [
    "Since the samples are explicitly paired, the normality that matters for the t test is the difference between samples, e.g.: "
   ]
  },
  {
   "cell_type": "code",
   "execution_count": 40,
   "metadata": {
    "collapsed": false
   },
   "outputs": [
    {
     "data": {
      "text/html": [
       "<table>\n",
       "<thead><tr><th scope=col>lm</th><th scope=col>lp</th></tr></thead>\n",
       "<tbody>\n",
       "\t<tr><td>0.4202</td><td>0.4440</td></tr>\n",
       "\t<tr><td>0.4718</td><td>0.6421</td></tr>\n",
       "\t<tr><td>0.5351</td><td>0.4760</td></tr>\n",
       "\t<tr><td>0.4955</td><td>0.6719</td></tr>\n",
       "\t<tr><td>0.4299</td><td>0.5112</td></tr>\n",
       "\t<tr><td>0.5609</td><td>0.6103</td></tr>\n",
       "\t<tr><td>1.4554</td><td>1.6036</td></tr>\n",
       "\t<tr><td>0.8959</td><td>1.1222</td></tr>\n",
       "\t<tr><td>0.3992</td><td>0.4161</td></tr>\n",
       "\t<tr><td>0.3526</td><td>0.5402</td></tr>\n",
       "\t<tr><td>0.4693</td><td>0.4242</td></tr>\n",
       "</tbody>\n",
       "</table>\n"
      ],
      "text/latex": [
       "\\begin{tabular}{ll}\n",
       " lm & lp\\\\\n",
       "\\hline\n",
       "\t 0.4202 & 0.4440\\\\\n",
       "\t 0.4718 & 0.6421\\\\\n",
       "\t 0.5351 & 0.4760\\\\\n",
       "\t 0.4955 & 0.6719\\\\\n",
       "\t 0.4299 & 0.5112\\\\\n",
       "\t 0.5609 & 0.6103\\\\\n",
       "\t 1.4554 & 1.6036\\\\\n",
       "\t 0.8959 & 1.1222\\\\\n",
       "\t 0.3992 & 0.4161\\\\\n",
       "\t 0.3526 & 0.5402\\\\\n",
       "\t 0.4693 & 0.4242\\\\\n",
       "\\end{tabular}\n"
      ],
      "text/markdown": [
       "1. 0.4202\n",
       "2. 0.4718\n",
       "3. 0.5351\n",
       "4. 0.4955\n",
       "5. 0.4299\n",
       "6. 0.5609\n",
       "7. 1.4554\n",
       "8. 0.8959\n",
       "9. 0.3992\n",
       "10. 0.3526\n",
       "11. 0.4693\n",
       "12. 0.444\n",
       "13. 0.6421\n",
       "14. 0.476\n",
       "15. 0.6719\n",
       "16. 0.5112\n",
       "17. 0.6103\n",
       "18. 1.6036\n",
       "19. 1.1222\n",
       "20. 0.4161\n",
       "21. 0.5402\n",
       "22. 0.4242\n",
       "\n",
       "\n"
      ],
      "text/plain": [
       "          lm     lp\n",
       " [1,] 0.4202 0.4440\n",
       " [2,] 0.4718 0.6421\n",
       " [3,] 0.5351 0.4760\n",
       " [4,] 0.4955 0.6719\n",
       " [5,] 0.4299 0.5112\n",
       " [6,] 0.5609 0.6103\n",
       " [7,] 1.4554 1.6036\n",
       " [8,] 0.8959 1.1222\n",
       " [9,] 0.3992 0.4161\n",
       "[10,] 0.3526 0.5402\n",
       "[11,] 0.4693 0.4242"
      ]
     },
     "execution_count": 40,
     "metadata": {},
     "output_type": "execute_result"
    }
   ],
   "source": [
    "lm<-lukewarm[1:11]\n",
    "lp<-lukewarm[12:22]\n",
    "luke<-cbind(lm,lp)\n",
    "luke"
   ]
  },
  {
   "cell_type": "code",
   "execution_count": 41,
   "metadata": {
    "collapsed": false
   },
   "outputs": [
    {
     "data": {
      "text/html": [
       "<ol class=list-inline>\n",
       "\t<li>-0.0238</li>\n",
       "\t<li>-0.1703</li>\n",
       "\t<li>0.0591</li>\n",
       "\t<li>-0.1764</li>\n",
       "\t<li>-0.0813</li>\n",
       "\t<li>-0.0494</li>\n",
       "\t<li>-0.1482</li>\n",
       "\t<li>-0.2263</li>\n",
       "\t<li>-0.0169</li>\n",
       "\t<li>-0.1876</li>\n",
       "\t<li>0.0451</li>\n",
       "</ol>\n"
      ],
      "text/latex": [
       "\\begin{enumerate*}\n",
       "\\item -0.0238\n",
       "\\item -0.1703\n",
       "\\item 0.0591\n",
       "\\item -0.1764\n",
       "\\item -0.0813\n",
       "\\item -0.0494\n",
       "\\item -0.1482\n",
       "\\item -0.2263\n",
       "\\item -0.0169\n",
       "\\item -0.1876\n",
       "\\item 0.0451\n",
       "\\end{enumerate*}\n"
      ],
      "text/markdown": [
       "1. -0.0238\n",
       "2. -0.1703\n",
       "3. 0.0591\n",
       "4. -0.1764\n",
       "5. -0.0813\n",
       "6. -0.0494\n",
       "7. -0.1482\n",
       "8. -0.2263\n",
       "9. -0.0169\n",
       "10. -0.1876\n",
       "11. 0.0451\n",
       "\n",
       "\n"
      ],
      "text/plain": [
       " [1] -0.0238 -0.1703  0.0591 -0.1764 -0.0813 -0.0494 -0.1482 -0.2263 -0.0169\n",
       "[10] -0.1876  0.0451"
      ]
     },
     "execution_count": 41,
     "metadata": {},
     "output_type": "execute_result"
    }
   ],
   "source": [
    "lm-lp"
   ]
  },
  {
   "cell_type": "markdown",
   "metadata": {},
   "source": [
    "#### Test normality of the difference between hotsix+ and hotsix- for each pair"
   ]
  },
  {
   "cell_type": "code",
   "execution_count": 42,
   "metadata": {
    "collapsed": false
   },
   "outputs": [
    {
     "data": {
      "text/plain": [
       "\n",
       "\tShapiro-Wilk normality test\n",
       "\n",
       "data:  lp - lm\n",
       "W = 0.93038, p-value = 0.4147\n"
      ]
     },
     "execution_count": 42,
     "metadata": {},
     "output_type": "execute_result"
    }
   ],
   "source": [
    "shapiro.test(lp-lm)"
   ]
  },
  {
   "cell_type": "markdown",
   "metadata": {},
   "source": [
    "#### and equality of variance: "
   ]
  },
  {
   "cell_type": "code",
   "execution_count": 43,
   "metadata": {
    "collapsed": false
   },
   "outputs": [
    {
     "data": {
      "text/plain": [
       "\n",
       "\tF test to compare two variances\n",
       "\n",
       "data:  lm and lp\n",
       "F = 0.77213, num df = 10, denom df = 10, p-value = 0.6904\n",
       "alternative hypothesis: true ratio of variances is not equal to 1\n",
       "95 percent confidence interval:\n",
       " 0.2077404 2.8698384\n",
       "sample estimates:\n",
       "ratio of variances \n",
       "         0.7721278 \n"
      ]
     },
     "execution_count": 43,
     "metadata": {},
     "output_type": "execute_result"
    }
   ],
   "source": [
    "var.test(lm,lp)"
   ]
  },
  {
   "cell_type": "markdown",
   "metadata": {},
   "source": [
    "* * *\n",
    "\n",
    "|   | lukewarm | tepid | mild1 | athermal | bathwater | coldshower |  \n",
    " | -------- |------ | ----- | -------- | --------- | ---------- |\n",
    " | Shapiro.test | 0.4147 | 0.7611 | 0.06518 | 0.0129 | 0.9437 | 0.402 |  \n",
    " | var.test | 0.6904 | 0.2439 | 0.9675 | 0.7063 | 0.8103 | 0.939 |  \n",
    " \n",
    "Depending on what one believes about the evidence for/against normality in mild1 and athermal one could argue for either a parametric approach on the grounds that the lone “significant” departure is no more than one would expect by chance in 6 assays, or one may argue that at least two genes are not persuasively normal and a non-parametric approach should be more conservative and not too much less powerful.  \n",
    "  \n",
    "Each test provides evidence against the null hypothesis given certain assumptions and one may explain uncertainty in the assumptions and present both approaches, provided the rationale for doing so is clear and specified in advance. I would also accept an argument that, for this data structure, one might expect skewing of the distribution to be a specific function of the gene or assay and thus use t for most, but use the non-parametric test for athermal and possibly mild1.  \n",
    "  \n",
    "However one chooses to view it, the test or tests must be specified before performing either – one should even specify how possible outcomes of the normality and equality of variance tests will lead to the analysis before testing the data distributions. Any test must be paired-sample as this is explicit in the data collection. \n",
    "\n",
    "#### The question also specifies a directional hypothesis, so one tail is appropriate; e.g.:"
   ]
  },
  {
   "cell_type": "code",
   "execution_count": 44,
   "metadata": {
    "collapsed": false
   },
   "outputs": [
    {
     "data": {
      "text/plain": [
       "\n",
       "\tPaired t-test\n",
       "\n",
       "data:  lukewarm by hotsix\n",
       "t = -2.983, df = 10, p-value = 0.006868\n",
       "alternative hypothesis: true difference in means is less than 0\n",
       "95 percent confidence interval:\n",
       "        -Inf -0.03481709\n",
       "sample estimates:\n",
       "mean of the differences \n",
       "            -0.08872727 \n"
      ]
     },
     "execution_count": 44,
     "metadata": {},
     "output_type": "execute_result"
    }
   ],
   "source": [
    "t.test(lukewarm~hotsix, paired=T, alternative=\"less\")"
   ]
  },
  {
   "cell_type": "markdown",
   "metadata": {},
   "source": [
    "#### Possible nominal p-values:\n",
    "\n",
    "|  | lukewarm | tepid | mild1 | athermal | bathwater | coldshower |\n",
    " | -------- |------ | ----- | -------- | --------- | ---------- |\n",
    "| paired t | 0.006868 | 0.01013 | 0.08552 | 0.03468 | 0.01015 | 2.429e-06 |\n",
    "| Wilcoxon signed rank | 0.01221 | 0.01611 | 0.02686 | 0.01611 | 0.009277 | 0.0004883 |\n",
    "| Mixed by normality | 0.006868 | 0.01013 | 0.02686 | 0.01611 | 0.01015 | 2.429e-06 |\n"
   ]
  },
  {
   "cell_type": "markdown",
   "metadata": {},
   "source": [
    "* * *\n",
    "\n",
    "\n",
    "# B. \n",
    "To quantify the support for the independent hypotheses at each gene, one should control for type I error.  Adjust the p-values from A using Hommel’s method."
   ]
  },
  {
   "cell_type": "code",
   "execution_count": 45,
   "metadata": {
    "collapsed": true
   },
   "outputs": [],
   "source": [
    "pt<-c(0.006868, 0.01013, 0.08552,\t0.03468, 0.01015, 2.429e-06)"
   ]
  },
  {
   "cell_type": "code",
   "execution_count": 46,
   "metadata": {
    "collapsed": false
   },
   "outputs": [
    {
     "data": {
      "text/html": [
       "<ol class=list-inline>\n",
       "\t<li>0.020604</li>\n",
       "\t<li>0.03039</li>\n",
       "\t<li>0.08552</li>\n",
       "\t<li>0.06936</li>\n",
       "\t<li>0.03045</li>\n",
       "\t<li>1.4574e-05</li>\n",
       "</ol>\n"
      ],
      "text/latex": [
       "\\begin{enumerate*}\n",
       "\\item 0.020604\n",
       "\\item 0.03039\n",
       "\\item 0.08552\n",
       "\\item 0.06936\n",
       "\\item 0.03045\n",
       "\\item 1.4574e-05\n",
       "\\end{enumerate*}\n"
      ],
      "text/markdown": [
       "1. 0.020604\n",
       "2. 0.03039\n",
       "3. 0.08552\n",
       "4. 0.06936\n",
       "5. 0.03045\n",
       "6. 1.4574e-05\n",
       "\n",
       "\n"
      ],
      "text/plain": [
       "[1] 2.0604e-02 3.0390e-02 8.5520e-02 6.9360e-02 3.0450e-02 1.4574e-05"
      ]
     },
     "execution_count": 46,
     "metadata": {},
     "output_type": "execute_result"
    }
   ],
   "source": [
    "p.adjust(pt,method=\"hommel\",6)"
   ]
  },
  {
   "cell_type": "markdown",
   "metadata": {},
   "source": [
    "#### Possible adjusted p-values:\n",
    "\n",
    "|  | lukewarm | tepid | mild1 | athermal | bathwater | coldshower |\n",
    " | -------- |------ | ----- | -------- | --------- | ---------- |\n",
    "| paired t | 2.060e-02 | 3.039e-02 | 8.552e-02 | 6.936e-02 | 3.045e-02 | 1.457e-05 |  \n",
    "| Wilcoxon signed rank | 0.02442 | 0.02686 | 0.02686 | 0.02686 | 0.02416 | 0.00293 |  \n",
    "| Mixed by normality | 2.060e-02 | 2.417e-02 | 2.686e-02 | 2.686e-02 | 2.417e-02 | 1.457e-05 |  "
   ]
  },
  {
   "cell_type": "markdown",
   "metadata": {},
   "source": [
    "* * *\n",
    "\n",
    "# C.\n",
    "\n",
    "How would you use this data to test the hypothesis that hotsix has the predicted effect on expression of these six genes as a group?  \n",
    "\n",
    "#### Perform the test in R and report an appropriate p-value.\n",
    "\n",
    "I show two possible approaches, others approaches were also acceptable for full credit if they were explained and fit the data structure.\n",
    ".\n",
    "##### 1. Simple, back-of-the-envelope approach using methods shown in class: pool data for single test.\n",
    "hotsix- samples retain header lm and hotsix+ lp, from luke"
   ]
  },
  {
   "cell_type": "code",
   "execution_count": 47,
   "metadata": {
    "collapsed": false
   },
   "outputs": [
    {
     "ename": "ERROR",
     "evalue": "Error in rbind(luke, tep, mil, ath, bat, cold): object 'tep' not found\n",
     "output_type": "error",
     "traceback": [
      "Error in rbind(luke, tep, mil, ath, bat, cold): object 'tep' not found\n"
     ]
    },
    {
     "data": {
      "text/plain": [
       "\n",
       "\tShapiro-Wilk normality test\n",
       "\n",
       "data:  lm - lp\n",
       "W = 0.93038, p-value = 0.4147\n"
      ]
     },
     "execution_count": 47,
     "metadata": {},
     "output_type": "execute_result"
    }
   ],
   "source": [
    "detach(hot)\n",
    "pool<-rbind(luke,tep,mil,ath,bat,cold)\n",
    "shapiro.test(lm-lp)"
   ]
  },
  {
   "cell_type": "code",
   "execution_count": 48,
   "metadata": {
    "collapsed": false
   },
   "outputs": [
    {
     "data": {
      "text/plain": [
       "\n",
       "\tF test to compare two variances\n",
       "\n",
       "data:  lm and lp\n",
       "F = 0.77213, num df = 10, denom df = 10, p-value = 0.6904\n",
       "alternative hypothesis: true ratio of variances is not equal to 1\n",
       "95 percent confidence interval:\n",
       " 0.2077404 2.8698384\n",
       "sample estimates:\n",
       "ratio of variances \n",
       "         0.7721278 \n"
      ]
     },
     "execution_count": 48,
     "metadata": {},
     "output_type": "execute_result"
    }
   ],
   "source": [
    "var.test(lm,lp)"
   ]
  },
  {
   "cell_type": "code",
   "execution_count": 49,
   "metadata": {
    "collapsed": false
   },
   "outputs": [
    {
     "data": {
      "text/plain": [
       "\n",
       "\tWilcoxon signed rank test\n",
       "\n",
       "data:  lm and lp\n",
       "V = 8, p-value = 0.01221\n",
       "alternative hypothesis: true location shift is less than 0\n"
      ]
     },
     "execution_count": 49,
     "metadata": {},
     "output_type": "execute_result"
    }
   ],
   "source": [
    "wilcox.test(lm,lp,paired=T,alternative=\"less\")"
   ]
  },
  {
   "cell_type": "markdown",
   "metadata": {},
   "source": [
    "##### 2. Meta-analysis, which you would have had to find on your own. \n",
    "\n",
    "(Here is one example, using Fisher’s classic test):"
   ]
  },
  {
   "cell_type": "code",
   "execution_count": 50,
   "metadata": {
    "collapsed": false
   },
   "outputs": [
    {
     "ename": "ERROR",
     "evalue": "Error in parse(text = x, srcfile = src): <text>:5:3: unexpected '}'\n4: + return(c(Xsq=Xsq,p.value=p.val))\n5: + }\n     ^\n",
     "output_type": "error",
     "traceback": [
      "Error in parse(text = x, srcfile = src): <text>:5:3: unexpected '}'\n4: + return(c(Xsq=Xsq,p.value=p.val))\n5: + }\n     ^\n"
     ]
    }
   ],
   "source": [
    "Fisher.test<-function(p){\n",
    "+ Xsq<- -2*sum(log(p))\n",
    "+ p.val<-pchisq(Xsq, df=2*length(p),lower.tail=FALSE)\n",
    "+ return(c(Xsq=Xsq,p.value=p.val))\n",
    "+ }"
   ]
  },
  {
   "cell_type": "markdown",
   "metadata": {},
   "source": [
    "#### Meta-analysis based on paired t-tests"
   ]
  },
  {
   "cell_type": "code",
   "execution_count": 57,
   "metadata": {
    "collapsed": false
   },
   "outputs": [
    {
     "ename": "ERROR",
     "evalue": "Error in eval(expr, envir, enclos): could not find function \"Fisher.test\"\n",
     "output_type": "error",
     "traceback": [
      "Error in eval(expr, envir, enclos): could not find function \"Fisher.test\"\n"
     ]
    }
   ],
   "source": [
    "Fisher.test(p=pt)"
   ]
  },
  {
   "cell_type": "markdown",
   "metadata": {},
   "source": [
    "#### Meta-analysis based on Wilcoxon rank sum tests"
   ]
  },
  {
   "cell_type": "code",
   "execution_count": 58,
   "metadata": {
    "collapsed": false
   },
   "outputs": [
    {
     "ename": "ERROR",
     "evalue": "Error in eval(expr, envir, enclos): could not find function \"Fisher.test\"\n",
     "output_type": "error",
     "traceback": [
      "Error in eval(expr, envir, enclos): could not find function \"Fisher.test\"\n"
     ]
    }
   ],
   "source": [
    "Fisher.test(p=pw) "
   ]
  },
  {
   "cell_type": "markdown",
   "metadata": {},
   "source": [
    "#### Meta-analysis based on assay-specific tests"
   ]
  },
  {
   "cell_type": "code",
   "execution_count": 56,
   "metadata": {
    "collapsed": false
   },
   "outputs": [
    {
     "ename": "ERROR",
     "evalue": "Error in eval(expr, envir, enclos): could not find function \"Fisher.test\"\n",
     "output_type": "error",
     "traceback": [
      "Error in eval(expr, envir, enclos): could not find function \"Fisher.test\"\n"
     ]
    }
   ],
   "source": [
    "Fisher.test(p=pm)"
   ]
  },
  {
   "cell_type": "markdown",
   "metadata": {},
   "source": [
    "For either/any approach, since each gene was individually significant, one should expect support for the broader statement about the group to have substantially stronger statistical support."
   ]
  },
  {
   "cell_type": "markdown",
   "metadata": {},
   "source": [
    "# D.\n",
    "\n",
    "#### What do you conclude about the effect of hotsix on these six genes?\n",
    "\n",
    "The data provide strong evidence that loss of hotsix results in lower expression of these six genes."
   ]
  },
  {
   "cell_type": "markdown",
   "metadata": {},
   "source": [
    "* * *\n",
    "\n",
    "([Return to top.](#Mann-Whitney))\n",
    "\n",
    "* * *"
   ]
  }
 ],
 "metadata": {
  "kernelspec": {
   "display_name": "R",
   "language": "R",
   "name": "ir"
  },
  "language_info": {
   "codemirror_mode": "r",
   "file_extension": ".r",
   "mimetype": "text/x-r-source",
   "name": "R",
   "pygments_lexer": "r",
   "version": "3.2.2"
  }
 },
 "nbformat": 4,
 "nbformat_minor": 0
}
