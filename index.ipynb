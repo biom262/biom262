{
 "cells": [
  {
   "cell_type": "markdown",
   "metadata": {},
   "source": [
    "# Module 1 : Unix Basics, Data Access\n",
    "\n",
    "## Class Resources\n",
    "* [Course website](https://biom262.github.io) \n",
    "* Lead Instructor [Dr. Gene Yeo](mailto:geneyeo@ucsd.edu \"Gene Yeo\")  \n",
    "* Teaching Assistants [Olga Botvinnik](mailto:obotvinn@ucsd.edu) and [Jamison McCorrison](mailto:jmccorri@eng.ucsd.edu)  \n",
    "\n",
    "## Table of Contents\n",
    "* [**Day 1: January 5, 2016**]\n",
    "    * [Unix Basics](1_unix.ipynb#Unix-Basics)\n",
    "* [**Day 2: January 7, 2016**]\n",
    "    * [TSCC User Guide (UCSD Server Access)](2_tscc_setup.ipynb#TSCC-User-Guide)\n",
    "    * [Jupyter Notebook Demo](5_jupyter_demo.ipynb)\n",
    "* **Homework**\n",
    "    1. [Git and Github](3_gitgoing.ipynb#) \n",
    "        - To turn in: Nothing, but you have to do it to proceed\n",
    "    2. [Jupyter Notebook Setup](4_jupyter_setup.ipynb) \n",
    "        - To turn in: Nothing, but you have to do it to proceed\n",
    "        - This has you clone the github repo for the class which is necessary for the next steps\n",
    "    3. [Fork and clone the BIOM262 GitHub repository](5_fork_clone_biom262-2016_repo.ipynb)\n",
    "        - To turn in: Nothing, but you have to do it to proceed\n",
    "    4. [Which promoters does NFKB bind in the genome?](7_tf_binding_promoters.ipynb)\n",
    "        - To turn in: Jupyter notebook of `7_tf_binding_promoters.ipynb` submitted as a Pull Request (PR) to the `biom262/biom262-2016` repository.\n",
    "    5. [Bringing it all together](8_bringing_it_all_together.ipynb)\n",
    "        - To turn in: Link to a GitHub repository\n",
    "* * *\n",
    "\n",
    "## Setup tips and tricks\n",
    "\n",
    "* Add color to your terminal output\n",
    "    * [Mac](http://osxdaily.com/2013/02/05/improve-terminal-appearance-mac-os-x/)\n",
    "        * [Other Mac](http://osxdaily.com/2012/02/21/add-color-to-the-terminal-in-mac-os-x/) (has options for light terminal themes)\n",
    "    * TSCC and Linux. Copy this `.dircolors` file to your home directory (remember that `cd` by itself takes you to your home directory, specifically `/home/ucsd-train##/` on TSCC)\n",
    "        * `cd ; wget https://raw.githubusercontent.com/biom262/biom262-2016/master/weeks/week01/helpful_files/.dircolors`\n",
    "        * Add these lines to your `~/.bashrc`:\n",
    "```\n",
    "eval \"`dircolors -b ~/.dircolors_test`\"\n",
    "alias ls='ls --color=auto'\n",
    "alias ll='ls -lh'\n",
    "alias la='ls -lha' \n",
    "alias l='ls -CF' # .bashrc\n",
    "```\n",
    "    * [Windows/Cywin](http://randomartifacts.blogspot.com/2012/10/a-proper-cygwin-environment.html) - Similar To TSCC\n",
    "* Some of the issues people were having during the exercises were because `1` ('one') and `l` (lowercase 'ell') looked alike, or `0` ('zero') and `O` (uppercase \"Oh\") looked too similar. Unfortunately, many default monospace (aka, fixed-width, typewriter-style) fonts aren't designed for writing software and it's hard to tell the difference between these tricky characters. We recommend using a nice monospaced font for your terminal (Terminal on Mac/Linux, Putty/Cygwin for Windows)\n",
    "    * [List of nice monospaced fonts + side by side comparison](http://omarrr.com/top-7-open-source-monospace-fonts-for-developers/)\n",
    "    * We like Anonymous Pro, Source Sans Pro, and Inconsolata.\n",
    "    * Key characters that can be hard to distinguish in poorly designed fonts (at least for developers):\n",
    "        * `1` (\"one\")  and `l` (lowercase \"ell\")\n",
    "        * `0` (\"zero\") and `O` (uppercase \"oh\")\n",
    "* Jamison + Olga recommend [Oh My Zsh](http://ohmyz.sh/) as an alternative shell for your laptop.  (Not authorized for use on TSCC.)\n",
    "    * You can really [trick it out](https://github.com/robbyrussell/oh-my-zsh/wiki/themes) and [go to town](https://github.com/robbyrussell/oh-my-zsh/wiki/External-themes)"
   ]
  }
 ],
 "metadata": {
  "kernelspec": {
   "display_name": "Python 3",
   "language": "python",
   "name": "python3"
  },
  "language_info": {
   "codemirror_mode": {
    "name": "ipython",
    "version": 3
   },
   "file_extension": ".py",
   "mimetype": "text/x-python",
   "name": "python",
   "nbconvert_exporter": "python",
   "pygments_lexer": "ipython3",
   "version": "3.5.1"
  }
 },
 "nbformat": 4,
 "nbformat_minor": 0
}
