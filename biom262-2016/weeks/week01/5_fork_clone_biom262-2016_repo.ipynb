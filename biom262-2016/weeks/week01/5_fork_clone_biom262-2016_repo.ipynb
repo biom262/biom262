{
 "cells": [
  {
   "cell_type": "markdown",
   "metadata": {},
   "source": [
    "# Exercise: Fork and clone the `biom262-2016` Github Repo and start up the week's notebooks\n",
    "\n",
    "You should have a `code` and `notebooks` directory already. If not, create them. Since the `biom262-2016` is essentially a bunch of code, we'll clone this into the `code` directory. Use your newfound knowledge of `git` and UNIX to go into the `code` directory and clone the class repo: \n",
    "\n",
    "1. Go to the https://github.com/biom262/biom262-2016 website and click \"Fork\" to fork the repository to your username\n",
    "2. Clone your forked repo to your \"`~/code`\" directory.\n",
    "3. **Important: Create a branch for this homework** Go into the `biom262-2016` repository and add a branch called `week01`. This will allow you to have all your work for this week's homework in one place, and it won't get touched or deleted, even if you update the local code.\n",
    "\n",
    "When you push code, you'll push to the `week01` branch instead of `master`, e.g.\n",
    "\n",
    "```\n",
    "git push origin week01\n",
    "```\n",
    "\n",
    "Run this command to add the main `biom262-2016` repository as the \"upstream\" repository, so you can always pull changes in.\n",
    "```\n",
    "git remote add upstream https://github.com/biom262/biom262-2016\n",
    "```\n",
    "\n",
    "## What if I already cloned the repo without forking?\n",
    "\n",
    "No worries - you can still get set up properly. Go to the [biom262-2016](https://github.com/biom262/biom262-2016) repo and click \"Fork.\" Then run these commands **Note: you will need to replace `yourgithubusername` with your actual github username**:\n",
    "\n",
    "```\n",
    "git remote set-url origin https://github.com/yourgithubusername/biom262-2016\n",
    "git remote add upstream https://github.com/biom262/biom262-2016\n",
    "```\n",
    "\n",
    "\n",
    "***Note: you will still need to create  a branch***\n",
    "\n",
    "\n",
    "In the Jupyter browser, now navigate to `~/code/biom262-2016/weeks/week01/6_jupyter_demo.ipynb` to follow along for this notebook."
   ]
  }
 ],
 "metadata": {
  "kernelspec": {
   "display_name": "Python 3",
   "language": "python",
   "name": "python3"
  },
  "language_info": {
   "codemirror_mode": {
    "name": "ipython",
    "version": 3
   },
   "file_extension": ".py",
   "mimetype": "text/x-python",
   "name": "python",
   "nbconvert_exporter": "python",
   "pygments_lexer": "ipython3",
   "version": "3.5.1"
  }
 },
 "nbformat": 4,
 "nbformat_minor": 0
}
